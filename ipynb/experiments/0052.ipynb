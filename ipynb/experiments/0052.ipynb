{
 "cells": [
  {
   "cell_type": "markdown",
   "metadata": {},
   "source": [
    "# Step 1: Data and Model Preparation"
   ]
  },
  {
   "cell_type": "code",
   "execution_count": 1,
   "metadata": {},
   "outputs": [],
   "source": [
    "exp_name = 'exp_052'"
   ]
  },
  {
   "cell_type": "code",
   "execution_count": 2,
   "metadata": {},
   "outputs": [],
   "source": [
    "%load_ext autoreload\n",
    "%autoreload 2\n",
    "import sys\n",
    "import os\n",
    "codebase = '../../'\n",
    "sys.path.append(codebase)"
   ]
  },
  {
   "cell_type": "code",
   "execution_count": 3,
   "metadata": {},
   "outputs": [],
   "source": [
    "from src.dataflow.vg_graph_loader_3 import VGGraphLoader\n",
    "from src.dataflow.graph_batcher_2_rpn import GraphBatcher"
   ]
  },
  {
   "cell_type": "code",
   "execution_count": 4,
   "metadata": {},
   "outputs": [
    {
     "name": "stdout",
     "output_type": "stream",
     "text": [
      "\n",
      "WARNING: The TensorFlow contrib module will not be included in TensorFlow 2.0.\n",
      "For more information, please see:\n",
      "  * https://github.com/tensorflow/community/blob/master/rfcs/20180907-contrib-sunset.md\n",
      "  * https://github.com/tensorflow/addons\n",
      "If you depend on functionality not listed there, please file an issue.\n",
      "\n"
     ]
    }
   ],
   "source": [
    "from src.tensorflow.models.vsp_model_002 import Model\n",
    "from src.tensorflow.engine.trainer_3 import Trainer\n",
    "from src.tensorflow.engine.util import deploy, load_params\n",
    "from src.util.util import pickle_save, pickle_load\n",
    "from src.eval.sgg_evaluator_02 import Evaluator"
   ]
  },
  {
   "cell_type": "code",
   "execution_count": 5,
   "metadata": {},
   "outputs": [],
   "source": [
    "import tensorflow as tf\n",
    "import numpy as np\n",
    "tf.set_random_seed(1234)\n",
    "np.random.seed(1235)"
   ]
  },
  {
   "cell_type": "code",
   "execution_count": null,
   "metadata": {},
   "outputs": [],
   "source": []
  },
  {
   "cell_type": "code",
   "execution_count": 8,
   "metadata": {},
   "outputs": [],
   "source": [
    "gl = VGGraphLoader(\n",
    "    os.path.join(codebase, 'metadata', 'VG', 'prep', 'stanford', 'sg_stanford_2.pkl'),\n",
    "    os.path.join(codebase, 'metadata', 'VG', 'prep', 'stanford', 'word_emb_stanford_2.pkl'),\n",
    ")\n"
   ]
  },
  {
   "cell_type": "code",
   "execution_count": 9,
   "metadata": {},
   "outputs": [],
   "source": [
    "img_ids, train_idx, test_idx = pickle_load(os.path.join(codebase, 'metadata', 'VG', 'prep', 'stanford', 'split_stanford.pkl'))\n",
    "misc = pickle_load(os.path.join(codebase, 'metadata', 'VG', 'prep', 'stanford', 'misc_stanford_2.pkl'))\n",
    "img_no_ent = misc['img_no_ent']\n",
    "img_no_pred = misc['img_no_pred']\n",
    "image_size = misc['img_size']"
   ]
  },
  {
   "cell_type": "code",
   "execution_count": 10,
   "metadata": {},
   "outputs": [],
   "source": [
    "train_idx = np.asarray(list(set(train_idx) - set(img_no_ent)))\n",
    "np.random.shuffle(train_idx)\n",
    "val_idx = train_idx[:1000]\n",
    "train_idx = train_idx[1000:]"
   ]
  },
  {
   "cell_type": "code",
   "execution_count": null,
   "metadata": {},
   "outputs": [],
   "source": []
  },
  {
   "cell_type": "code",
   "execution_count": 12,
   "metadata": {},
   "outputs": [],
   "source": [
    "proposals = pickle_load(os.path.join(codebase, 'data', 'VG', 'xfeat_proposals', 'iresnet_oi', 'coords.pkl'))"
   ]
  },
  {
   "cell_type": "code",
   "execution_count": 10,
   "metadata": {},
   "outputs": [],
   "source": [
    "batcher = GraphBatcher(\n",
    "    gl, 32, proposals,\n",
    "    os.path.join(old_codebase, 'data', 'VG', 'xfeat_proposals', 'iresnet_oi', 'xfeat_proposals_inresnet_float32_300x1536.lmdb'), \n",
    "    dim_feats=1536,\n",
    "    seed=1236, \n",
    ")\n",
    "batcher.set_subset(train_idx)\n",
    "batcher.shuffle()"
   ]
  },
  {
   "cell_type": "code",
   "execution_count": 11,
   "metadata": {},
   "outputs": [],
   "source": [
    "batcher_val = GraphBatcher(\n",
    "    gl, 32, proposals,\n",
    "    os.path.join(old_codebase, 'data', 'VG', 'xfeat_proposals', 'iresnet_oi', 'xfeat_proposals_inresnet_float32_300x1536.lmdb'), \n",
    "    dim_feats=1536,\n",
    "    seed=1237, \n",
    ")\n",
    "batcher_val.set_subset(val_idx)"
   ]
  },
  {
   "cell_type": "code",
   "execution_count": null,
   "metadata": {},
   "outputs": [],
   "source": []
  },
  {
   "cell_type": "code",
   "execution_count": 12,
   "metadata": {},
   "outputs": [],
   "source": [
    "tf.reset_default_graph()"
   ]
  },
  {
   "cell_type": "code",
   "execution_count": 13,
   "metadata": {},
   "outputs": [
    {
     "name": "stdout",
     "output_type": "stream",
     "text": [
      "WARNING:tensorflow:From ../../src/tensorflow/models/vsp_model_002.py:94: GRUCell.__init__ (from tensorflow.python.ops.rnn_cell_impl) is deprecated and will be removed in a future version.\n",
      "Instructions for updating:\n",
      "This class is equivalent as tf.keras.layers.GRUCell, and will be replaced by that in Tensorflow 2.0.\n",
      "WARNING:tensorflow:From /home/alireza/home_at_filer2/tools/anaconda3/envs/py3tf2/lib/python3.6/site-packages/tensorflow/python/framework/op_def_library.py:263: colocate_with (from tensorflow.python.framework.ops) is deprecated and will be removed in a future version.\n",
      "Instructions for updating:\n",
      "Colocations handled automatically by placer.\n",
      "WARNING:tensorflow:From ../../src/tensorflow/util/util.py:15: dense (from tensorflow.python.layers.core) is deprecated and will be removed in a future version.\n",
      "Instructions for updating:\n",
      "Use keras.layers.dense instead.\n",
      "WARNING:tensorflow:From ../../src/tensorflow/util/util.py:17: calling dropout (from tensorflow.python.ops.nn_ops) with keep_prob is deprecated and will be removed in a future version.\n",
      "Instructions for updating:\n",
      "Please use `rate` instead of `keep_prob`. Rate should be set to `rate = 1 - keep_prob`.\n",
      "WARNING:tensorflow:From ../../src/tensorflow/models/vsp_model_002.py:513: py_func (from tensorflow.python.ops.script_ops) is deprecated and will be removed in a future version.\n",
      "Instructions for updating:\n",
      "tf.py_func is deprecated in TF V2. Instead, use\n",
      "    tf.py_function, which takes a python function which manipulates tf eager\n",
      "    tensors instead of numpy arrays. It's easy to convert a tf eager tensor to\n",
      "    an ndarray (just call tensor.numpy()) but having access to eager tensors\n",
      "    means `tf.py_function`s can use accelerators such as GPUs as well as\n",
      "    being differentiable using a gradient tape.\n",
      "    \n",
      "WARNING:tensorflow:From /home/alireza/home_at_filer2/tools/anaconda3/envs/py3tf2/lib/python3.6/site-packages/tensorflow/python/ops/math_ops.py:3066: to_int32 (from tensorflow.python.ops.math_ops) is deprecated and will be removed in a future version.\n",
      "Instructions for updating:\n",
      "Use tf.cast instead.\n"
     ]
    }
   ],
   "source": [
    "model = Model(   \n",
    "    dim_att_head_role_ent=[1024, 1024], \n",
    "    dim_att_head_role_pred=[1024, 1024],\n",
    "    role_edge_mode='full_soft',\n",
    "    stop_grad_role_edge=True,\n",
    "    \n",
    "    dim_state_ent=1024,\n",
    "    dim_state_pred=1024,\n",
    "    dim_emb_head_ent=[300],\n",
    "    dim_conf_head_ent=[],\n",
    "    dim_conf_head_pred=[],\n",
    "    dim_emb_head_pred=[300],\n",
    "    dim_init_head_ent=[1024],\n",
    "\n",
    "    dim_message_send_head_pred2ent=[1024, 1024],\n",
    "    dim_message_pool_head_pred2ent=[1024, 1024],\n",
    "    dim_message_receive_head_pred2ent=[1024, 1024],    \n",
    "    dim_message_send_head_ent2pred=[1024, 1024],\n",
    "    dim_message_pool_head_ent2pred=[1024, 1024],\n",
    "    dim_message_receive_head_ent2pred=[1024, 1024],\n",
    "    \n",
    "    num_mp_iter=3,     \n",
    "    num_proposals=None,\n",
    "\n",
    "    heat_role=1.0,\n",
    "    heat_emb_mil=1.0,\n",
    "    null_att_logit=0.0,\n",
    "        \n",
    "    num_align_iter=3,\n",
    "    alignment_order='best',\n",
    "    default_act_fn_name='leaky_relu',\n",
    "    optimizer_type_generator=tf.train.AdamOptimizer,\n",
    "    \n",
    "    max_num_pred=100,\n",
    "    dim_init_head_pred=[],\n",
    "    init_state_type_pred='trainable',\n",
    "    \n",
    "    dim_proposal_feat=1536,\n",
    "    emb_dict_ent=gl.noun_emb_dict,\n",
    "    emb_dict_pred=gl.pred_emb_dict,    \n",
    "    #image_size=448,\n",
    "    #num_channels=3,\n",
    "    debugging=False\n",
    ")\n",
    "\n"
   ]
  },
  {
   "cell_type": "code",
   "execution_count": null,
   "metadata": {},
   "outputs": [],
   "source": []
  },
  {
   "cell_type": "code",
   "execution_count": 14,
   "metadata": {},
   "outputs": [],
   "source": [
    "os.environ[\"CUDA_VISIBLE_DEVICES\"]=\"0\"\n",
    "#sess = tf.Session(config=tf.ConfigProto(gpu_options=tf.GPUOptions(allow_growth=True)))\n",
    "#sess = tf.Session(config=tf.ConfigProto(gpu_options=tf.GPUOptions(per_process_gpu_memory_fraction=0.5)))\n",
    "sess = tf.Session()\n",
    "sess.run(tf.no_op())"
   ]
  },
  {
   "cell_type": "code",
   "execution_count": null,
   "metadata": {},
   "outputs": [],
   "source": []
  },
  {
   "cell_type": "markdown",
   "metadata": {},
   "source": [
    "# Step 2: Training"
   ]
  },
  {
   "cell_type": "code",
   "execution_count": 14,
   "metadata": {},
   "outputs": [],
   "source": [
    "train_evaluator = Evaluator({        \n",
    "    'graph_loader': gl,\n",
    "    'proposals': proposals,\n",
    "    'num_proposals': 300,\n",
    "    'filter_nonoverlap': True,\n",
    "})\n",
    "val_evaluator = Evaluator({        \n",
    "    'graph_loader': gl,\n",
    "    'proposals': proposals,\n",
    "    'num_proposals': 300,\n",
    "    'filter_nonoverlap': True,\n",
    "})\n"
   ]
  },
  {
   "cell_type": "code",
   "execution_count": null,
   "metadata": {},
   "outputs": [],
   "source": []
  },
  {
   "cell_type": "code",
   "execution_count": 15,
   "metadata": {},
   "outputs": [],
   "source": [
    "trainer = Trainer(\n",
    "    model, sess, batcher, batcher_val, train_evaluator, val_evaluator,\n",
    "    logdir=os.path.join(codebase, 'log', 'tfsummary', exp_name), \n",
    "    modeldir=os.path.join(codebase, 'checkpoint', exp_name),\n",
    ")"
   ]
  },
  {
   "cell_type": "code",
   "execution_count": null,
   "metadata": {},
   "outputs": [],
   "source": []
  },
  {
   "cell_type": "code",
   "execution_count": 16,
   "metadata": {},
   "outputs": [
    {
     "name": "stderr",
     "output_type": "stream",
     "text": [
      "../../src/eval/graph_eval_3.py:95: RuntimeWarning: invalid value encountered in true_divide\n",
      "  per_image_pred_recall.append(np.divide(len(gt_matched), len(gt_graph['pred_lbl'][i])))\n",
      "../../src/eval/graph_eval_3.py:219: RuntimeWarning: invalid value encountered in true_divide\n",
      "  per_image_recall.append(np.divide(len(gt_matched), len(gt_graph['pred_lbl'][i])))\n"
     ]
    },
    {
     "name": "stdout",
     "output_type": "stream",
     "text": [
      "Step 1000: loss = 4.120999813079834 (3603.570 sec)\n",
      "Training Batch Evaluation Results: {'PerImagePredMP': 0.198, 'PerImagePredMR': 0.979, 'PerImageOneHopMP_at100_iou_0.5': 0.006, 'PerImageOneHopMR_at100_iou_0.5': 0.076, 'PerImageOneHopMP_at50_iou_0.5': 0.01, 'PerImageOneHopMR_at50_iou_0.5': 0.066}\n",
      "Validation Results: {'PerImagePredMP': 0.203, 'PerImagePredMR': 0.98, 'PerImageOneHopMP_at100_iou_0.5': 0.005, 'PerImageOneHopMR_at100_iou_0.5': 0.073, 'PerImageOneHopMP_at50_iou_0.5': 0.009, 'PerImageOneHopMR_at50_iou_0.5': 0.063}\n",
      "Step 2000: loss = 3.9790000915527344 (7109.952 sec)\n",
      "Training Batch Evaluation Results: {'PerImagePredMP': 0.216, 'PerImagePredMR': 0.981, 'PerImageOneHopMP_at100_iou_0.5': 0.007, 'PerImageOneHopMR_at100_iou_0.5': 0.09, 'PerImageOneHopMP_at50_iou_0.5': 0.012, 'PerImageOneHopMR_at50_iou_0.5': 0.079}\n",
      "Validation Results: {'PerImagePredMP': 0.218, 'PerImagePredMR': 0.984, 'PerImageOneHopMP_at100_iou_0.5': 0.006, 'PerImageOneHopMR_at100_iou_0.5': 0.072, 'PerImageOneHopMP_at50_iou_0.5': 0.011, 'PerImageOneHopMR_at50_iou_0.5': 0.067}\n",
      "Step 3000: loss = 4.431000232696533 (9652.463 sec)\n",
      "Training Batch Evaluation Results: {'PerImagePredMP': 0.223, 'PerImagePredMR': 0.981, 'PerImageOneHopMP_at100_iou_0.5': 0.008, 'PerImageOneHopMR_at100_iou_0.5': 0.084, 'PerImageOneHopMP_at50_iou_0.5': 0.013, 'PerImageOneHopMR_at50_iou_0.5': 0.075}\n",
      "Validation Results: {'PerImagePredMP': 0.224, 'PerImagePredMR': 0.98, 'PerImageOneHopMP_at100_iou_0.5': 0.006, 'PerImageOneHopMR_at100_iou_0.5': 0.084, 'PerImageOneHopMP_at50_iou_0.5': 0.011, 'PerImageOneHopMR_at50_iou_0.5': 0.075}\n",
      "Step 4000: loss = 4.22599983215332 (11868.022 sec)\n",
      "Training Batch Evaluation Results: {'PerImagePredMP': 0.217, 'PerImagePredMR': 0.981, 'PerImageOneHopMP_at100_iou_0.5': 0.008, 'PerImageOneHopMR_at100_iou_0.5': 0.089, 'PerImageOneHopMP_at50_iou_0.5': 0.013, 'PerImageOneHopMR_at50_iou_0.5': 0.079}\n",
      "Validation Results: {'PerImagePredMP': 0.226, 'PerImagePredMR': 0.978, 'PerImageOneHopMP_at100_iou_0.5': 0.007, 'PerImageOneHopMR_at100_iou_0.5': 0.088, 'PerImageOneHopMP_at50_iou_0.5': 0.011, 'PerImageOneHopMR_at50_iou_0.5': 0.075}\n",
      "Step 5000: loss = 4.017000198364258 (14086.125 sec)\n",
      "Training Batch Evaluation Results: {'PerImagePredMP': 0.229, 'PerImagePredMR': 0.983, 'PerImageOneHopMP_at100_iou_0.5': 0.009, 'PerImageOneHopMR_at100_iou_0.5': 0.104, 'PerImageOneHopMP_at50_iou_0.5': 0.016, 'PerImageOneHopMR_at50_iou_0.5': 0.091}\n",
      "Validation Results: {'PerImagePredMP': 0.231, 'PerImagePredMR': 0.981, 'PerImageOneHopMP_at100_iou_0.5': 0.009, 'PerImageOneHopMR_at100_iou_0.5': 0.091, 'PerImageOneHopMP_at50_iou_0.5': 0.015, 'PerImageOneHopMR_at50_iou_0.5': 0.081}\n",
      "Step 6000: loss = 3.684999942779541 (16304.570 sec)\n",
      "Training Batch Evaluation Results: {'PerImagePredMP': 0.227, 'PerImagePredMR': 0.981, 'PerImageOneHopMP_at100_iou_0.5': 0.009, 'PerImageOneHopMR_at100_iou_0.5': 0.102, 'PerImageOneHopMP_at50_iou_0.5': 0.015, 'PerImageOneHopMR_at50_iou_0.5': 0.092}\n",
      "Validation Results: {'PerImagePredMP': 0.227, 'PerImagePredMR': 0.986, 'PerImageOneHopMP_at100_iou_0.5': 0.008, 'PerImageOneHopMR_at100_iou_0.5': 0.091, 'PerImageOneHopMP_at50_iou_0.5': 0.014, 'PerImageOneHopMR_at50_iou_0.5': 0.079}\n",
      "Step 7000: loss = 4.554999828338623 (18520.419 sec)\n",
      "Training Batch Evaluation Results: {'PerImagePredMP': 0.235, 'PerImagePredMR': 0.978, 'PerImageOneHopMP_at100_iou_0.5': 0.009, 'PerImageOneHopMR_at100_iou_0.5': 0.099, 'PerImageOneHopMP_at50_iou_0.5': 0.016, 'PerImageOneHopMR_at50_iou_0.5': 0.09}\n",
      "Validation Results: {'PerImagePredMP': 0.238, 'PerImagePredMR': 0.977, 'PerImageOneHopMP_at100_iou_0.5': 0.008, 'PerImageOneHopMR_at100_iou_0.5': 0.088, 'PerImageOneHopMP_at50_iou_0.5': 0.014, 'PerImageOneHopMR_at50_iou_0.5': 0.08}\n",
      "Step 8000: loss = 4.011000156402588 (20751.154 sec)\n",
      "Training Batch Evaluation Results: {'PerImagePredMP': 0.237, 'PerImagePredMR': 0.98, 'PerImageOneHopMP_at100_iou_0.5': 0.01, 'PerImageOneHopMR_at100_iou_0.5': 0.107, 'PerImageOneHopMP_at50_iou_0.5': 0.016, 'PerImageOneHopMR_at50_iou_0.5': 0.093}\n",
      "Validation Results: {'PerImagePredMP': 0.24, 'PerImagePredMR': 0.983, 'PerImageOneHopMP_at100_iou_0.5': 0.008, 'PerImageOneHopMR_at100_iou_0.5': 0.104, 'PerImageOneHopMP_at50_iou_0.5': 0.015, 'PerImageOneHopMR_at50_iou_0.5': 0.092}\n",
      "Step 9000: loss = 3.5490000247955322 (22980.392 sec)\n",
      "Training Batch Evaluation Results: {'PerImagePredMP': 0.236, 'PerImagePredMR': 0.981, 'PerImageOneHopMP_at100_iou_0.5': 0.009, 'PerImageOneHopMR_at100_iou_0.5': 0.098, 'PerImageOneHopMP_at50_iou_0.5': 0.015, 'PerImageOneHopMR_at50_iou_0.5': 0.085}\n",
      "Validation Results: {'PerImagePredMP': 0.242, 'PerImagePredMR': 0.983, 'PerImageOneHopMP_at100_iou_0.5': 0.009, 'PerImageOneHopMR_at100_iou_0.5': 0.087, 'PerImageOneHopMP_at50_iou_0.5': 0.015, 'PerImageOneHopMR_at50_iou_0.5': 0.079}\n",
      "Step 10000: loss = 3.549999952316284 (25205.932 sec)\n",
      "Training Batch Evaluation Results: {'PerImagePredMP': 0.238, 'PerImagePredMR': 0.981, 'PerImageOneHopMP_at100_iou_0.5': 0.01, 'PerImageOneHopMR_at100_iou_0.5': 0.113, 'PerImageOneHopMP_at50_iou_0.5': 0.017, 'PerImageOneHopMR_at50_iou_0.5': 0.098}\n",
      "Validation Results: {'PerImagePredMP': 0.243, 'PerImagePredMR': 0.983, 'PerImageOneHopMP_at100_iou_0.5': 0.008, 'PerImageOneHopMR_at100_iou_0.5': 0.099, 'PerImageOneHopMP_at50_iou_0.5': 0.015, 'PerImageOneHopMR_at50_iou_0.5': 0.091}\n",
      "Step 11000: loss = 3.822999954223633 (27453.384 sec)\n",
      "Training Batch Evaluation Results: {'PerImagePredMP': 0.254, 'PerImagePredMR': 0.982, 'PerImageOneHopMP_at100_iou_0.5': 0.011, 'PerImageOneHopMR_at100_iou_0.5': 0.112, 'PerImageOneHopMP_at50_iou_0.5': 0.018, 'PerImageOneHopMR_at50_iou_0.5': 0.098}\n",
      "Validation Results: {'PerImagePredMP': 0.251, 'PerImagePredMR': 0.983, 'PerImageOneHopMP_at100_iou_0.5': 0.009, 'PerImageOneHopMR_at100_iou_0.5': 0.095, 'PerImageOneHopMP_at50_iou_0.5': 0.015, 'PerImageOneHopMR_at50_iou_0.5': 0.083}\n",
      "Step 12000: loss = 4.021999835968018 (29698.127 sec)\n",
      "Training Batch Evaluation Results: {'PerImagePredMP': 0.247, 'PerImagePredMR': 0.979, 'PerImageOneHopMP_at100_iou_0.5': 0.01, 'PerImageOneHopMR_at100_iou_0.5': 0.109, 'PerImageOneHopMP_at50_iou_0.5': 0.017, 'PerImageOneHopMR_at50_iou_0.5': 0.093}\n",
      "Validation Results: {'PerImagePredMP': 0.249, 'PerImagePredMR': 0.984, 'PerImageOneHopMP_at100_iou_0.5': 0.01, 'PerImageOneHopMR_at100_iou_0.5': 0.097, 'PerImageOneHopMP_at50_iou_0.5': 0.018, 'PerImageOneHopMR_at50_iou_0.5': 0.089}\n",
      "Step 13000: loss = 3.2920000553131104 (31935.508 sec)\n",
      "Training Batch Evaluation Results: {'PerImagePredMP': 0.244, 'PerImagePredMR': 0.981, 'PerImageOneHopMP_at100_iou_0.5': 0.01, 'PerImageOneHopMR_at100_iou_0.5': 0.108, 'PerImageOneHopMP_at50_iou_0.5': 0.017, 'PerImageOneHopMR_at50_iou_0.5': 0.096}\n",
      "Validation Results: {'PerImagePredMP': 0.252, 'PerImagePredMR': 0.986, 'PerImageOneHopMP_at100_iou_0.5': 0.01, 'PerImageOneHopMR_at100_iou_0.5': 0.101, 'PerImageOneHopMP_at50_iou_0.5': 0.017, 'PerImageOneHopMR_at50_iou_0.5': 0.086}\n",
      "Step 14000: loss = 3.265000104904175 (34162.926 sec)\n",
      "Training Batch Evaluation Results: {'PerImagePredMP': 0.245, 'PerImagePredMR': 0.983, 'PerImageOneHopMP_at100_iou_0.5': 0.011, 'PerImageOneHopMR_at100_iou_0.5': 0.12, 'PerImageOneHopMP_at50_iou_0.5': 0.019, 'PerImageOneHopMR_at50_iou_0.5': 0.108}\n",
      "Validation Results: {'PerImagePredMP': 0.244, 'PerImagePredMR': 0.982, 'PerImageOneHopMP_at100_iou_0.5': 0.01, 'PerImageOneHopMR_at100_iou_0.5': 0.108, 'PerImageOneHopMP_at50_iou_0.5': 0.018, 'PerImageOneHopMR_at50_iou_0.5': 0.096}\n",
      "Step 15000: loss = 3.934999942779541 (36392.708 sec)\n",
      "Training Batch Evaluation Results: {'PerImagePredMP': 0.239, 'PerImagePredMR': 0.983, 'PerImageOneHopMP_at100_iou_0.5': 0.01, 'PerImageOneHopMR_at100_iou_0.5': 0.108, 'PerImageOneHopMP_at50_iou_0.5': 0.018, 'PerImageOneHopMR_at50_iou_0.5': 0.097}\n",
      "Validation Results: {'PerImagePredMP': 0.241, 'PerImagePredMR': 0.983, 'PerImageOneHopMP_at100_iou_0.5': 0.009, 'PerImageOneHopMR_at100_iou_0.5': 0.104, 'PerImageOneHopMP_at50_iou_0.5': 0.016, 'PerImageOneHopMR_at50_iou_0.5': 0.092}\n",
      "Step 16000: loss = 3.9670000076293945 (38660.455 sec)\n",
      "Training Batch Evaluation Results: {'PerImagePredMP': 0.241, 'PerImagePredMR': 0.98, 'PerImageOneHopMP_at100_iou_0.5': 0.01, 'PerImageOneHopMR_at100_iou_0.5': 0.113, 'PerImageOneHopMP_at50_iou_0.5': 0.017, 'PerImageOneHopMR_at50_iou_0.5': 0.1}\n",
      "Validation Results: {'PerImagePredMP': 0.243, 'PerImagePredMR': 0.989, 'PerImageOneHopMP_at100_iou_0.5': 0.009, 'PerImageOneHopMR_at100_iou_0.5': 0.109, 'PerImageOneHopMP_at50_iou_0.5': 0.016, 'PerImageOneHopMR_at50_iou_0.5': 0.101}\n",
      "Step 17000: loss = 3.9660000801086426 (40931.968 sec)\n",
      "Training Batch Evaluation Results: {'PerImagePredMP': 0.246, 'PerImagePredMR': 0.983, 'PerImageOneHopMP_at100_iou_0.5': 0.011, 'PerImageOneHopMR_at100_iou_0.5': 0.115, 'PerImageOneHopMP_at50_iou_0.5': 0.018, 'PerImageOneHopMR_at50_iou_0.5': 0.099}\n",
      "Validation Results: {'PerImagePredMP': 0.246, 'PerImagePredMR': 0.984, 'PerImageOneHopMP_at100_iou_0.5': 0.01, 'PerImageOneHopMR_at100_iou_0.5': 0.101, 'PerImageOneHopMP_at50_iou_0.5': 0.018, 'PerImageOneHopMR_at50_iou_0.5': 0.09}\n",
      "Step 18000: loss = 3.0910000801086426 (43222.636 sec)\n",
      "Training Batch Evaluation Results: {'PerImagePredMP': 0.25, 'PerImagePredMR': 0.98, 'PerImageOneHopMP_at100_iou_0.5': 0.011, 'PerImageOneHopMR_at100_iou_0.5': 0.113, 'PerImageOneHopMP_at50_iou_0.5': 0.019, 'PerImageOneHopMR_at50_iou_0.5': 0.101}\n",
      "Validation Results: {'PerImagePredMP': 0.254, 'PerImagePredMR': 0.984, 'PerImageOneHopMP_at100_iou_0.5': 0.01, 'PerImageOneHopMR_at100_iou_0.5': 0.106, 'PerImageOneHopMP_at50_iou_0.5': 0.016, 'PerImageOneHopMR_at50_iou_0.5': 0.092}\n",
      "Step 19000: loss = 3.371000051498413 (45488.510 sec)\n",
      "Training Batch Evaluation Results: {'PerImagePredMP': 0.255, 'PerImagePredMR': 0.982, 'PerImageOneHopMP_at100_iou_0.5': 0.012, 'PerImageOneHopMR_at100_iou_0.5': 0.122, 'PerImageOneHopMP_at50_iou_0.5': 0.02, 'PerImageOneHopMR_at50_iou_0.5': 0.108}\n",
      "Validation Results: {'PerImagePredMP': 0.261, 'PerImagePredMR': 0.983, 'PerImageOneHopMP_at100_iou_0.5': 0.01, 'PerImageOneHopMR_at100_iou_0.5': 0.102, 'PerImageOneHopMP_at50_iou_0.5': 0.017, 'PerImageOneHopMR_at50_iou_0.5': 0.09}\n",
      "Step 20000: loss = 3.4230000972747803 (47847.239 sec)\n",
      "Training Batch Evaluation Results: {'PerImagePredMP': 0.263, 'PerImagePredMR': 0.979, 'PerImageOneHopMP_at100_iou_0.5': 0.011, 'PerImageOneHopMR_at100_iou_0.5': 0.111, 'PerImageOneHopMP_at50_iou_0.5': 0.018, 'PerImageOneHopMR_at50_iou_0.5': 0.098}\n",
      "Validation Results: {'PerImagePredMP': 0.263, 'PerImagePredMR': 0.982, 'PerImageOneHopMP_at100_iou_0.5': 0.012, 'PerImageOneHopMR_at100_iou_0.5': 0.109, 'PerImageOneHopMP_at50_iou_0.5': 0.02, 'PerImageOneHopMR_at50_iou_0.5': 0.095}\n",
      "Step 21000: loss = 3.5869998931884766 (50167.340 sec)\n",
      "Training Batch Evaluation Results: {'PerImagePredMP': 0.254, 'PerImagePredMR': 0.98, 'PerImageOneHopMP_at100_iou_0.5': 0.012, 'PerImageOneHopMR_at100_iou_0.5': 0.122, 'PerImageOneHopMP_at50_iou_0.5': 0.021, 'PerImageOneHopMR_at50_iou_0.5': 0.11}\n",
      "Validation Results: {'PerImagePredMP': 0.259, 'PerImagePredMR': 0.986, 'PerImageOneHopMP_at100_iou_0.5': 0.01, 'PerImageOneHopMR_at100_iou_0.5': 0.107, 'PerImageOneHopMP_at50_iou_0.5': 0.017, 'PerImageOneHopMR_at50_iou_0.5': 0.098}\n",
      "Step 22000: loss = 2.9779999256134033 (52490.575 sec)\n",
      "Training Batch Evaluation Results: {'PerImagePredMP': 0.257, 'PerImagePredMR': 0.984, 'PerImageOneHopMP_at100_iou_0.5': 0.012, 'PerImageOneHopMR_at100_iou_0.5': 0.118, 'PerImageOneHopMP_at50_iou_0.5': 0.021, 'PerImageOneHopMR_at50_iou_0.5': 0.104}\n",
      "Validation Results: {'PerImagePredMP': 0.256, 'PerImagePredMR': 0.985, 'PerImageOneHopMP_at100_iou_0.5': 0.011, 'PerImageOneHopMR_at100_iou_0.5': 0.105, 'PerImageOneHopMP_at50_iou_0.5': 0.018, 'PerImageOneHopMR_at50_iou_0.5': 0.092}\n",
      "Step 23000: loss = 4.043000221252441 (54761.025 sec)\n",
      "Training Batch Evaluation Results: {'PerImagePredMP': 0.257, 'PerImagePredMR': 0.981, 'PerImageOneHopMP_at100_iou_0.5': 0.011, 'PerImageOneHopMR_at100_iou_0.5': 0.116, 'PerImageOneHopMP_at50_iou_0.5': 0.019, 'PerImageOneHopMR_at50_iou_0.5': 0.101}\n",
      "Validation Results: {'PerImagePredMP': 0.256, 'PerImagePredMR': 0.983, 'PerImageOneHopMP_at100_iou_0.5': 0.01, 'PerImageOneHopMR_at100_iou_0.5': 0.109, 'PerImageOneHopMP_at50_iou_0.5': 0.018, 'PerImageOneHopMR_at50_iou_0.5': 0.096}\n",
      "Step 24000: loss = 3.7790000438690186 (56992.570 sec)\n",
      "Training Batch Evaluation Results: {'PerImagePredMP': 0.255, 'PerImagePredMR': 0.985, 'PerImageOneHopMP_at100_iou_0.5': 0.011, 'PerImageOneHopMR_at100_iou_0.5': 0.115, 'PerImageOneHopMP_at50_iou_0.5': 0.019, 'PerImageOneHopMR_at50_iou_0.5': 0.102}\n",
      "Validation Results: {'PerImagePredMP': 0.26, 'PerImagePredMR': 0.982, 'PerImageOneHopMP_at100_iou_0.5': 0.011, 'PerImageOneHopMR_at100_iou_0.5': 0.111, 'PerImageOneHopMP_at50_iou_0.5': 0.019, 'PerImageOneHopMR_at50_iou_0.5': 0.102}\n",
      "Step 25000: loss = 3.4779999256134033 (59245.960 sec)\n",
      "Training Batch Evaluation Results: {'PerImagePredMP': 0.255, 'PerImagePredMR': 0.984, 'PerImageOneHopMP_at100_iou_0.5': 0.012, 'PerImageOneHopMR_at100_iou_0.5': 0.124, 'PerImageOneHopMP_at50_iou_0.5': 0.02, 'PerImageOneHopMR_at50_iou_0.5': 0.111}\n",
      "Validation Results: {'PerImagePredMP': 0.259, 'PerImagePredMR': 0.983, 'PerImageOneHopMP_at100_iou_0.5': 0.011, 'PerImageOneHopMR_at100_iou_0.5': 0.108, 'PerImageOneHopMP_at50_iou_0.5': 0.019, 'PerImageOneHopMR_at50_iou_0.5': 0.093}\n",
      "Step 26000: loss = 3.1419999599456787 (61537.000 sec)\n",
      "Training Batch Evaluation Results: {'PerImagePredMP': 0.258, 'PerImagePredMR': 0.983, 'PerImageOneHopMP_at100_iou_0.5': 0.012, 'PerImageOneHopMR_at100_iou_0.5': 0.118, 'PerImageOneHopMP_at50_iou_0.5': 0.02, 'PerImageOneHopMR_at50_iou_0.5': 0.104}\n",
      "Validation Results: {'PerImagePredMP': 0.259, 'PerImagePredMR': 0.985, 'PerImageOneHopMP_at100_iou_0.5': 0.011, 'PerImageOneHopMR_at100_iou_0.5': 0.11, 'PerImageOneHopMP_at50_iou_0.5': 0.019, 'PerImageOneHopMR_at50_iou_0.5': 0.098}\n",
      "Step 27000: loss = 3.5360000133514404 (63827.054 sec)\n",
      "Training Batch Evaluation Results: {'PerImagePredMP': 0.253, 'PerImagePredMR': 0.982, 'PerImageOneHopMP_at100_iou_0.5': 0.012, 'PerImageOneHopMR_at100_iou_0.5': 0.121, 'PerImageOneHopMP_at50_iou_0.5': 0.02, 'PerImageOneHopMR_at50_iou_0.5': 0.105}\n",
      "Validation Results: {'PerImagePredMP': 0.258, 'PerImagePredMR': 0.983, 'PerImageOneHopMP_at100_iou_0.5': 0.01, 'PerImageOneHopMR_at100_iou_0.5': 0.105, 'PerImageOneHopMP_at50_iou_0.5': 0.017, 'PerImageOneHopMR_at50_iou_0.5': 0.094}\n",
      "Step 28000: loss = 3.621999979019165 (66071.223 sec)\n",
      "Training Batch Evaluation Results: {'PerImagePredMP': 0.26, 'PerImagePredMR': 0.984, 'PerImageOneHopMP_at100_iou_0.5': 0.012, 'PerImageOneHopMR_at100_iou_0.5': 0.128, 'PerImageOneHopMP_at50_iou_0.5': 0.02, 'PerImageOneHopMR_at50_iou_0.5': 0.11}\n",
      "Validation Results: {'PerImagePredMP': 0.259, 'PerImagePredMR': 0.985, 'PerImageOneHopMP_at100_iou_0.5': 0.012, 'PerImageOneHopMR_at100_iou_0.5': 0.117, 'PerImageOneHopMP_at50_iou_0.5': 0.02, 'PerImageOneHopMR_at50_iou_0.5': 0.104}\n",
      "Step 29000: loss = 4.046000003814697 (68373.751 sec)\n",
      "Training Batch Evaluation Results: {'PerImagePredMP': 0.258, 'PerImagePredMR': 0.983, 'PerImageOneHopMP_at100_iou_0.5': 0.011, 'PerImageOneHopMR_at100_iou_0.5': 0.116, 'PerImageOneHopMP_at50_iou_0.5': 0.019, 'PerImageOneHopMR_at50_iou_0.5': 0.099}\n",
      "Validation Results: {'PerImagePredMP': 0.26, 'PerImagePredMR': 0.987, 'PerImageOneHopMP_at100_iou_0.5': 0.011, 'PerImageOneHopMR_at100_iou_0.5': 0.117, 'PerImageOneHopMP_at50_iou_0.5': 0.019, 'PerImageOneHopMR_at50_iou_0.5': 0.102}\n",
      "Step 30000: loss = 3.5169999599456787 (70652.446 sec)\n",
      "Training Batch Evaluation Results: {'PerImagePredMP': 0.263, 'PerImagePredMR': 0.984, 'PerImageOneHopMP_at100_iou_0.5': 0.013, 'PerImageOneHopMR_at100_iou_0.5': 0.129, 'PerImageOneHopMP_at50_iou_0.5': 0.022, 'PerImageOneHopMR_at50_iou_0.5': 0.114}\n",
      "Validation Results: {'PerImagePredMP': 0.262, 'PerImagePredMR': 0.983, 'PerImageOneHopMP_at100_iou_0.5': 0.012, 'PerImageOneHopMR_at100_iou_0.5': 0.113, 'PerImageOneHopMP_at50_iou_0.5': 0.02, 'PerImageOneHopMR_at50_iou_0.5': 0.098}\n"
     ]
    }
   ],
   "source": [
    "trainer.train (\n",
    "    max_steps=30000,\n",
    "    train_eval_rate=100, \n",
    "    validation_rate=100, \n",
    "    verbose_rate=1000, \n",
    "    summary_rate=100, \n",
    "    checkpoint_rate=10000, \n",
    "    hyperparams = {\n",
    "        'learning_rate_generator': 1e-5 * batcher.batch_size,\n",
    "\n",
    "        'loss_factor_g_mil_ent': 1.0,\n",
    "        'loss_factor_g_mil_ent_conf': 0.0,\n",
    "        'loss_factor_g_mil_pred': 1.0,\n",
    "        'loss_factor_g_mil_pred_conf': 0.0,\n",
    "        'loss_factor_g_mil_role': 10.0,\n",
    "        'loss_factor_g_mil_box': 10.0,\n",
    "        'loss_factor_g_aux_emb_ent': 0.0,\n",
    "        'loss_factor_g_aux_emb_pred': 0.0,\n",
    "\n",
    "        'confidence_weight_on_role': 0.0,\n",
    "        'grad_clipping': 5.0,\n",
    "        'mil_iou_offset': 0.01,\n",
    "        'dropout_rate_g': 0.0,\n",
    "    },\n",
    "    validation_hyperparams = {\n",
    "        'dropout_rate_g': 0.0,\n",
    "        'confidence_weight_on_role': 0.0\n",
    "    },\n",
    ")\n"
   ]
  },
  {
   "cell_type": "code",
   "execution_count": 17,
   "metadata": {},
   "outputs": [
    {
     "name": "stdout",
     "output_type": "stream",
     "text": [
      "Step 31000: loss = 3.3350000381469727 (2270.863 sec)\n",
      "Training Batch Evaluation Results: {'PerImagePredMP': 0.261, 'PerImagePredMR': 0.983, 'PerImageOneHopMP_at100_iou_0.5': 0.014, 'PerImageOneHopMR_at100_iou_0.5': 0.141, 'PerImageOneHopMP_at50_iou_0.5': 0.024, 'PerImageOneHopMR_at50_iou_0.5': 0.121}\n",
      "Validation Results: {'PerImagePredMP': 0.263, 'PerImagePredMR': 0.987, 'PerImageOneHopMP_at100_iou_0.5': 0.013, 'PerImageOneHopMR_at100_iou_0.5': 0.122, 'PerImageOneHopMP_at50_iou_0.5': 0.021, 'PerImageOneHopMR_at50_iou_0.5': 0.108}\n",
      "Step 32000: loss = 2.9519999027252197 (4497.613 sec)\n",
      "Training Batch Evaluation Results: {'PerImagePredMP': 0.264, 'PerImagePredMR': 0.986, 'PerImageOneHopMP_at100_iou_0.5': 0.015, 'PerImageOneHopMR_at100_iou_0.5': 0.15, 'PerImageOneHopMP_at50_iou_0.5': 0.025, 'PerImageOneHopMR_at50_iou_0.5': 0.133}\n",
      "Validation Results: {'PerImagePredMP': 0.265, 'PerImagePredMR': 0.987, 'PerImageOneHopMP_at100_iou_0.5': 0.013, 'PerImageOneHopMR_at100_iou_0.5': 0.127, 'PerImageOneHopMP_at50_iou_0.5': 0.022, 'PerImageOneHopMR_at50_iou_0.5': 0.112}\n",
      "Step 33000: loss = 3.6459999084472656 (6678.935 sec)\n",
      "Training Batch Evaluation Results: {'PerImagePredMP': 0.261, 'PerImagePredMR': 0.986, 'PerImageOneHopMP_at100_iou_0.5': 0.014, 'PerImageOneHopMR_at100_iou_0.5': 0.147, 'PerImageOneHopMP_at50_iou_0.5': 0.024, 'PerImageOneHopMR_at50_iou_0.5': 0.132}\n",
      "Validation Results: {'PerImagePredMP': 0.266, 'PerImagePredMR': 0.987, 'PerImageOneHopMP_at100_iou_0.5': 0.014, 'PerImageOneHopMR_at100_iou_0.5': 0.136, 'PerImageOneHopMP_at50_iou_0.5': 0.023, 'PerImageOneHopMR_at50_iou_0.5': 0.118}\n",
      "Step 34000: loss = 2.88100004196167 (8889.998 sec)\n",
      "Training Batch Evaluation Results: {'PerImagePredMP': 0.259, 'PerImagePredMR': 0.986, 'PerImageOneHopMP_at100_iou_0.5': 0.015, 'PerImageOneHopMR_at100_iou_0.5': 0.154, 'PerImageOneHopMP_at50_iou_0.5': 0.025, 'PerImageOneHopMR_at50_iou_0.5': 0.136}\n",
      "Validation Results: {'PerImagePredMP': 0.264, 'PerImagePredMR': 0.987, 'PerImageOneHopMP_at100_iou_0.5': 0.013, 'PerImageOneHopMR_at100_iou_0.5': 0.129, 'PerImageOneHopMP_at50_iou_0.5': 0.022, 'PerImageOneHopMR_at50_iou_0.5': 0.114}\n",
      "Step 35000: loss = 3.309000015258789 (11072.319 sec)\n",
      "Training Batch Evaluation Results: {'PerImagePredMP': 0.261, 'PerImagePredMR': 0.985, 'PerImageOneHopMP_at100_iou_0.5': 0.014, 'PerImageOneHopMR_at100_iou_0.5': 0.15, 'PerImageOneHopMP_at50_iou_0.5': 0.024, 'PerImageOneHopMR_at50_iou_0.5': 0.133}\n",
      "Validation Results: {'PerImagePredMP': 0.265, 'PerImagePredMR': 0.987, 'PerImageOneHopMP_at100_iou_0.5': 0.013, 'PerImageOneHopMR_at100_iou_0.5': 0.132, 'PerImageOneHopMP_at50_iou_0.5': 0.022, 'PerImageOneHopMR_at50_iou_0.5': 0.115}\n",
      "Step 36000: loss = 3.437000036239624 (13255.536 sec)\n",
      "Training Batch Evaluation Results: {'PerImagePredMP': 0.262, 'PerImagePredMR': 0.986, 'PerImageOneHopMP_at100_iou_0.5': 0.015, 'PerImageOneHopMR_at100_iou_0.5': 0.157, 'PerImageOneHopMP_at50_iou_0.5': 0.025, 'PerImageOneHopMR_at50_iou_0.5': 0.137}\n",
      "Validation Results: {'PerImagePredMP': 0.268, 'PerImagePredMR': 0.987, 'PerImageOneHopMP_at100_iou_0.5': 0.014, 'PerImageOneHopMR_at100_iou_0.5': 0.134, 'PerImageOneHopMP_at50_iou_0.5': 0.023, 'PerImageOneHopMR_at50_iou_0.5': 0.118}\n",
      "Step 37000: loss = 3.427000045776367 (15456.951 sec)\n",
      "Training Batch Evaluation Results: {'PerImagePredMP': 0.265, 'PerImagePredMR': 0.986, 'PerImageOneHopMP_at100_iou_0.5': 0.015, 'PerImageOneHopMR_at100_iou_0.5': 0.148, 'PerImageOneHopMP_at50_iou_0.5': 0.024, 'PerImageOneHopMR_at50_iou_0.5': 0.127}\n",
      "Validation Results: {'PerImagePredMP': 0.265, 'PerImagePredMR': 0.989, 'PerImageOneHopMP_at100_iou_0.5': 0.013, 'PerImageOneHopMR_at100_iou_0.5': 0.134, 'PerImageOneHopMP_at50_iou_0.5': 0.023, 'PerImageOneHopMR_at50_iou_0.5': 0.118}\n",
      "Step 38000: loss = 2.8310000896453857 (17661.855 sec)\n",
      "Training Batch Evaluation Results: {'PerImagePredMP': 0.256, 'PerImagePredMR': 0.985, 'PerImageOneHopMP_at100_iou_0.5': 0.014, 'PerImageOneHopMR_at100_iou_0.5': 0.145, 'PerImageOneHopMP_at50_iou_0.5': 0.024, 'PerImageOneHopMR_at50_iou_0.5': 0.129}\n",
      "Validation Results: {'PerImagePredMP': 0.265, 'PerImagePredMR': 0.987, 'PerImageOneHopMP_at100_iou_0.5': 0.013, 'PerImageOneHopMR_at100_iou_0.5': 0.126, 'PerImageOneHopMP_at50_iou_0.5': 0.021, 'PerImageOneHopMR_at50_iou_0.5': 0.109}\n",
      "Step 39000: loss = 2.88700008392334 (19864.055 sec)\n",
      "Training Batch Evaluation Results: {'PerImagePredMP': 0.268, 'PerImagePredMR': 0.988, 'PerImageOneHopMP_at100_iou_0.5': 0.016, 'PerImageOneHopMR_at100_iou_0.5': 0.161, 'PerImageOneHopMP_at50_iou_0.5': 0.026, 'PerImageOneHopMR_at50_iou_0.5': 0.142}\n",
      "Validation Results: {'PerImagePredMP': 0.267, 'PerImagePredMR': 0.988, 'PerImageOneHopMP_at100_iou_0.5': 0.013, 'PerImageOneHopMR_at100_iou_0.5': 0.13, 'PerImageOneHopMP_at50_iou_0.5': 0.022, 'PerImageOneHopMR_at50_iou_0.5': 0.11}\n",
      "Step 40000: loss = 2.8459999561309814 (22052.612 sec)\n",
      "Training Batch Evaluation Results: {'PerImagePredMP': 0.262, 'PerImagePredMR': 0.985, 'PerImageOneHopMP_at100_iou_0.5': 0.015, 'PerImageOneHopMR_at100_iou_0.5': 0.151, 'PerImageOneHopMP_at50_iou_0.5': 0.025, 'PerImageOneHopMR_at50_iou_0.5': 0.133}\n",
      "Validation Results: {'PerImagePredMP': 0.267, 'PerImagePredMR': 0.988, 'PerImageOneHopMP_at100_iou_0.5': 0.014, 'PerImageOneHopMR_at100_iou_0.5': 0.134, 'PerImageOneHopMP_at50_iou_0.5': 0.023, 'PerImageOneHopMR_at50_iou_0.5': 0.113}\n",
      "Step 41000: loss = 3.0959999561309814 (24238.136 sec)\n",
      "Training Batch Evaluation Results: {'PerImagePredMP': 0.267, 'PerImagePredMR': 0.988, 'PerImageOneHopMP_at100_iou_0.5': 0.016, 'PerImageOneHopMR_at100_iou_0.5': 0.162, 'PerImageOneHopMP_at50_iou_0.5': 0.027, 'PerImageOneHopMR_at50_iou_0.5': 0.142}\n",
      "Validation Results: {'PerImagePredMP': 0.267, 'PerImagePredMR': 0.991, 'PerImageOneHopMP_at100_iou_0.5': 0.014, 'PerImageOneHopMR_at100_iou_0.5': 0.134, 'PerImageOneHopMP_at50_iou_0.5': 0.023, 'PerImageOneHopMR_at50_iou_0.5': 0.118}\n",
      "Step 42000: loss = 2.7249999046325684 (26429.402 sec)\n",
      "Training Batch Evaluation Results: {'PerImagePredMP': 0.263, 'PerImagePredMR': 0.987, 'PerImageOneHopMP_at100_iou_0.5': 0.015, 'PerImageOneHopMR_at100_iou_0.5': 0.163, 'PerImageOneHopMP_at50_iou_0.5': 0.025, 'PerImageOneHopMR_at50_iou_0.5': 0.142}\n",
      "Validation Results: {'PerImagePredMP': 0.265, 'PerImagePredMR': 0.988, 'PerImageOneHopMP_at100_iou_0.5': 0.014, 'PerImageOneHopMR_at100_iou_0.5': 0.135, 'PerImageOneHopMP_at50_iou_0.5': 0.023, 'PerImageOneHopMR_at50_iou_0.5': 0.121}\n",
      "Step 43000: loss = 2.5480000972747803 (28629.941 sec)\n",
      "Training Batch Evaluation Results: {'PerImagePredMP': 0.259, 'PerImagePredMR': 0.986, 'PerImageOneHopMP_at100_iou_0.5': 0.014, 'PerImageOneHopMR_at100_iou_0.5': 0.146, 'PerImageOneHopMP_at50_iou_0.5': 0.023, 'PerImageOneHopMR_at50_iou_0.5': 0.127}\n",
      "Validation Results: {'PerImagePredMP': 0.268, 'PerImagePredMR': 0.987, 'PerImageOneHopMP_at100_iou_0.5': 0.013, 'PerImageOneHopMR_at100_iou_0.5': 0.13, 'PerImageOneHopMP_at50_iou_0.5': 0.022, 'PerImageOneHopMR_at50_iou_0.5': 0.113}\n",
      "Step 44000: loss = 3.2829999923706055 (30815.173 sec)\n",
      "Training Batch Evaluation Results: {'PerImagePredMP': 0.263, 'PerImagePredMR': 0.987, 'PerImageOneHopMP_at100_iou_0.5': 0.015, 'PerImageOneHopMR_at100_iou_0.5': 0.157, 'PerImageOneHopMP_at50_iou_0.5': 0.026, 'PerImageOneHopMR_at50_iou_0.5': 0.138}\n",
      "Validation Results: {'PerImagePredMP': 0.267, 'PerImagePredMR': 0.988, 'PerImageOneHopMP_at100_iou_0.5': 0.014, 'PerImageOneHopMR_at100_iou_0.5': 0.129, 'PerImageOneHopMP_at50_iou_0.5': 0.023, 'PerImageOneHopMR_at50_iou_0.5': 0.115}\n",
      "Step 45000: loss = 2.6630001068115234 (33013.935 sec)\n",
      "Training Batch Evaluation Results: {'PerImagePredMP': 0.267, 'PerImagePredMR': 0.986, 'PerImageOneHopMP_at100_iou_0.5': 0.015, 'PerImageOneHopMR_at100_iou_0.5': 0.159, 'PerImageOneHopMP_at50_iou_0.5': 0.025, 'PerImageOneHopMR_at50_iou_0.5': 0.138}\n",
      "Validation Results: {'PerImagePredMP': 0.267, 'PerImagePredMR': 0.988, 'PerImageOneHopMP_at100_iou_0.5': 0.013, 'PerImageOneHopMR_at100_iou_0.5': 0.128, 'PerImageOneHopMP_at50_iou_0.5': 0.023, 'PerImageOneHopMR_at50_iou_0.5': 0.112}\n",
      "Step 46000: loss = 2.825000047683716 (35200.866 sec)\n",
      "Training Batch Evaluation Results: {'PerImagePredMP': 0.265, 'PerImagePredMR': 0.986, 'PerImageOneHopMP_at100_iou_0.5': 0.015, 'PerImageOneHopMR_at100_iou_0.5': 0.161, 'PerImageOneHopMP_at50_iou_0.5': 0.025, 'PerImageOneHopMR_at50_iou_0.5': 0.14}\n",
      "Validation Results: {'PerImagePredMP': 0.266, 'PerImagePredMR': 0.988, 'PerImageOneHopMP_at100_iou_0.5': 0.013, 'PerImageOneHopMR_at100_iou_0.5': 0.132, 'PerImageOneHopMP_at50_iou_0.5': 0.023, 'PerImageOneHopMR_at50_iou_0.5': 0.113}\n",
      "Step 47000: loss = 2.1449999809265137 (37373.269 sec)\n",
      "Training Batch Evaluation Results: {'PerImagePredMP': 0.264, 'PerImagePredMR': 0.987, 'PerImageOneHopMP_at100_iou_0.5': 0.015, 'PerImageOneHopMR_at100_iou_0.5': 0.15, 'PerImageOneHopMP_at50_iou_0.5': 0.024, 'PerImageOneHopMR_at50_iou_0.5': 0.133}\n",
      "Validation Results: {'PerImagePredMP': 0.267, 'PerImagePredMR': 0.988, 'PerImageOneHopMP_at100_iou_0.5': 0.013, 'PerImageOneHopMR_at100_iou_0.5': 0.131, 'PerImageOneHopMP_at50_iou_0.5': 0.022, 'PerImageOneHopMR_at50_iou_0.5': 0.113}\n",
      "Step 48000: loss = 3.1010000705718994 (39536.949 sec)\n",
      "Training Batch Evaluation Results: {'PerImagePredMP': 0.265, 'PerImagePredMR': 0.986, 'PerImageOneHopMP_at100_iou_0.5': 0.016, 'PerImageOneHopMR_at100_iou_0.5': 0.163, 'PerImageOneHopMP_at50_iou_0.5': 0.026, 'PerImageOneHopMR_at50_iou_0.5': 0.142}\n",
      "Validation Results: {'PerImagePredMP': 0.267, 'PerImagePredMR': 0.988, 'PerImageOneHopMP_at100_iou_0.5': 0.013, 'PerImageOneHopMR_at100_iou_0.5': 0.135, 'PerImageOneHopMP_at50_iou_0.5': 0.022, 'PerImageOneHopMR_at50_iou_0.5': 0.117}\n",
      "Step 49000: loss = 3.1589999198913574 (41713.268 sec)\n",
      "Training Batch Evaluation Results: {'PerImagePredMP': 0.263, 'PerImagePredMR': 0.988, 'PerImageOneHopMP_at100_iou_0.5': 0.015, 'PerImageOneHopMR_at100_iou_0.5': 0.147, 'PerImageOneHopMP_at50_iou_0.5': 0.024, 'PerImageOneHopMR_at50_iou_0.5': 0.127}\n",
      "Validation Results: {'PerImagePredMP': 0.267, 'PerImagePredMR': 0.987, 'PerImageOneHopMP_at100_iou_0.5': 0.013, 'PerImageOneHopMR_at100_iou_0.5': 0.13, 'PerImageOneHopMP_at50_iou_0.5': 0.022, 'PerImageOneHopMR_at50_iou_0.5': 0.114}\n",
      "Step 50000: loss = 2.8510000705718994 (43887.754 sec)\n",
      "Training Batch Evaluation Results: {'PerImagePredMP': 0.266, 'PerImagePredMR': 0.987, 'PerImageOneHopMP_at100_iou_0.5': 0.015, 'PerImageOneHopMR_at100_iou_0.5': 0.162, 'PerImageOneHopMP_at50_iou_0.5': 0.025, 'PerImageOneHopMR_at50_iou_0.5': 0.14}\n",
      "Validation Results: {'PerImagePredMP': 0.269, 'PerImagePredMR': 0.987, 'PerImageOneHopMP_at100_iou_0.5': 0.013, 'PerImageOneHopMR_at100_iou_0.5': 0.128, 'PerImageOneHopMP_at50_iou_0.5': 0.022, 'PerImageOneHopMR_at50_iou_0.5': 0.114}\n"
     ]
    }
   ],
   "source": [
    "trainer.train (\n",
    "    max_steps=20000,\n",
    "    train_eval_rate=100, \n",
    "    validation_rate=100, \n",
    "    verbose_rate=1000, \n",
    "    summary_rate=100, \n",
    "    checkpoint_rate=1000, \n",
    "    hyperparams = {\n",
    "        'learning_rate_generator': 1e-6 * batcher.batch_size,\n",
    "\n",
    "        'loss_factor_g_mil_ent': 1.0,\n",
    "        'loss_factor_g_mil_ent_conf': 0.0,\n",
    "        'loss_factor_g_mil_pred': 1.0,\n",
    "        'loss_factor_g_mil_pred_conf': 0.0,\n",
    "        'loss_factor_g_mil_role': 10.0,\n",
    "        'loss_factor_g_mil_box': 10.0,\n",
    "        'loss_factor_g_aux_emb_ent': 0.0,\n",
    "        'loss_factor_g_aux_emb_pred': 0.0,\n",
    "\n",
    "        'confidence_weight_on_role': 0.0,\n",
    "        'grad_clipping': 5.0,\n",
    "        'mil_iou_offset': 0.01,\n",
    "        'dropout_rate_g': 0.0,\n",
    "    },\n",
    "    validation_hyperparams = {\n",
    "        'dropout_rate_g': 0.0,\n",
    "        'confidence_weight_on_role': 0.0\n",
    "    },\n",
    ")\n"
   ]
  },
  {
   "cell_type": "code",
   "execution_count": 18,
   "metadata": {},
   "outputs": [
    {
     "name": "stdout",
     "output_type": "stream",
     "text": [
      "Step 51000: loss = 3.2269999980926514 (2159.273 sec)\n",
      "Training Batch Evaluation Results: {'PerImagePredMP': 0.268, 'PerImagePredMR': 0.988, 'PerImageOneHopMP_at100_iou_0.5': 0.015, 'PerImageOneHopMR_at100_iou_0.5': 0.158, 'PerImageOneHopMP_at50_iou_0.5': 0.025, 'PerImageOneHopMR_at50_iou_0.5': 0.136}\n",
      "Validation Results: {'PerImagePredMP': 0.268, 'PerImagePredMR': 0.987, 'PerImageOneHopMP_at100_iou_0.5': 0.013, 'PerImageOneHopMR_at100_iou_0.5': 0.132, 'PerImageOneHopMP_at50_iou_0.5': 0.023, 'PerImageOneHopMR_at50_iou_0.5': 0.116}\n",
      "Step 52000: loss = 2.868000030517578 (4318.722 sec)\n",
      "Training Batch Evaluation Results: {'PerImagePredMP': 0.266, 'PerImagePredMR': 0.99, 'PerImageOneHopMP_at100_iou_0.5': 0.015, 'PerImageOneHopMR_at100_iou_0.5': 0.156, 'PerImageOneHopMP_at50_iou_0.5': 0.025, 'PerImageOneHopMR_at50_iou_0.5': 0.136}\n",
      "Validation Results: {'PerImagePredMP': 0.269, 'PerImagePredMR': 0.987, 'PerImageOneHopMP_at100_iou_0.5': 0.013, 'PerImageOneHopMR_at100_iou_0.5': 0.134, 'PerImageOneHopMP_at50_iou_0.5': 0.022, 'PerImageOneHopMR_at50_iou_0.5': 0.117}\n",
      "Step 53000: loss = 2.5969998836517334 (6492.208 sec)\n",
      "Training Batch Evaluation Results: {'PerImagePredMP': 0.269, 'PerImagePredMR': 0.99, 'PerImageOneHopMP_at100_iou_0.5': 0.016, 'PerImageOneHopMR_at100_iou_0.5': 0.171, 'PerImageOneHopMP_at50_iou_0.5': 0.027, 'PerImageOneHopMR_at50_iou_0.5': 0.149}\n",
      "Validation Results: {'PerImagePredMP': 0.27, 'PerImagePredMR': 0.987, 'PerImageOneHopMP_at100_iou_0.5': 0.013, 'PerImageOneHopMR_at100_iou_0.5': 0.134, 'PerImageOneHopMP_at50_iou_0.5': 0.022, 'PerImageOneHopMR_at50_iou_0.5': 0.117}\n",
      "Step 54000: loss = 2.7269999980926514 (8657.720 sec)\n",
      "Training Batch Evaluation Results: {'PerImagePredMP': 0.273, 'PerImagePredMR': 0.987, 'PerImageOneHopMP_at100_iou_0.5': 0.015, 'PerImageOneHopMR_at100_iou_0.5': 0.158, 'PerImageOneHopMP_at50_iou_0.5': 0.026, 'PerImageOneHopMR_at50_iou_0.5': 0.139}\n",
      "Validation Results: {'PerImagePredMP': 0.269, 'PerImagePredMR': 0.987, 'PerImageOneHopMP_at100_iou_0.5': 0.014, 'PerImageOneHopMR_at100_iou_0.5': 0.136, 'PerImageOneHopMP_at50_iou_0.5': 0.023, 'PerImageOneHopMR_at50_iou_0.5': 0.116}\n",
      "Step 55000: loss = 2.628999948501587 (10836.274 sec)\n",
      "Training Batch Evaluation Results: {'PerImagePredMP': 0.264, 'PerImagePredMR': 0.988, 'PerImageOneHopMP_at100_iou_0.5': 0.016, 'PerImageOneHopMR_at100_iou_0.5': 0.164, 'PerImageOneHopMP_at50_iou_0.5': 0.026, 'PerImageOneHopMR_at50_iou_0.5': 0.144}\n",
      "Validation Results: {'PerImagePredMP': 0.269, 'PerImagePredMR': 0.987, 'PerImageOneHopMP_at100_iou_0.5': 0.013, 'PerImageOneHopMR_at100_iou_0.5': 0.132, 'PerImageOneHopMP_at50_iou_0.5': 0.022, 'PerImageOneHopMR_at50_iou_0.5': 0.116}\n"
     ]
    }
   ],
   "source": [
    "trainer.train (\n",
    "    max_steps=5000,\n",
    "    train_eval_rate=100, \n",
    "    validation_rate=100, \n",
    "    verbose_rate=1000, \n",
    "    summary_rate=100, \n",
    "    checkpoint_rate=1000, \n",
    "    hyperparams = {\n",
    "        'learning_rate_generator': 1e-7 * batcher.batch_size,\n",
    "\n",
    "        'loss_factor_g_mil_ent': 1.0,\n",
    "        'loss_factor_g_mil_ent_conf': 0.0,\n",
    "        'loss_factor_g_mil_pred': 1.0,\n",
    "        'loss_factor_g_mil_pred_conf': 0.0,\n",
    "        'loss_factor_g_mil_role': 10.0,\n",
    "        'loss_factor_g_mil_box': 10.0,\n",
    "        'loss_factor_g_aux_emb_ent': 0.0,\n",
    "        'loss_factor_g_aux_emb_pred': 0.0,\n",
    "\n",
    "        'confidence_weight_on_role': 0.0,\n",
    "        'grad_clipping': 5.0,\n",
    "        'mil_iou_offset': 0.01,\n",
    "        'dropout_rate_g': 0.0,\n",
    "    },\n",
    "    validation_hyperparams = {\n",
    "        'dropout_rate_g': 0.0,\n",
    "        'confidence_weight_on_role': 0.0\n",
    "    },\n",
    ")\n"
   ]
  },
  {
   "cell_type": "code",
   "execution_count": 19,
   "metadata": {},
   "outputs": [],
   "source": [
    "trainer.save_model('final_1')"
   ]
  },
  {
   "cell_type": "code",
   "execution_count": null,
   "metadata": {},
   "outputs": [],
   "source": []
  },
  {
   "cell_type": "markdown",
   "metadata": {},
   "source": [
    "# Step 3: Evaluation"
   ]
  },
  {
   "cell_type": "code",
   "execution_count": 15,
   "metadata": {},
   "outputs": [
    {
     "name": "stdout",
     "output_type": "stream",
     "text": [
      "WARNING:tensorflow:From /home/alireza/home_at_filer2/tools/anaconda3/envs/py3tf2/lib/python3.6/site-packages/tensorflow/python/training/saver.py:1266: checkpoint_exists (from tensorflow.python.training.checkpoint_management) is deprecated and will be removed in a future version.\n",
      "Instructions for updating:\n",
      "Use standard file APIs to check for files with this prefix.\n",
      "INFO:tensorflow:Restoring parameters from ../../checkpoint/exp_052/ckpt-55000\n"
     ]
    }
   ],
   "source": [
    "load_params(sess, os.path.join(codebase, 'checkpoint', exp_name, 'ckpt-55000'))"
   ]
  },
  {
   "cell_type": "code",
   "execution_count": null,
   "metadata": {},
   "outputs": [],
   "source": []
  },
  {
   "cell_type": "code",
   "execution_count": 17,
   "metadata": {},
   "outputs": [],
   "source": [
    "gl = VGGraphLoader(\n",
    "    os.path.join(codebase, 'metadata', 'VG', 'prep', 'stanford', 'sg_stanford_with_duplicates.pkl'),\n",
    "    os.path.join(codebase, 'metadata', 'VG', 'prep', 'stanford', 'word_emb_stanford_2.pkl'),\n",
    ")\n"
   ]
  },
  {
   "cell_type": "code",
   "execution_count": 18,
   "metadata": {},
   "outputs": [],
   "source": [
    "test_evaluator = Evaluator({        \n",
    "    'graph_loader': gl,\n",
    "    'proposals': proposals,\n",
    "    'num_proposals': 300,\n",
    "    'filter_nonoverlap': True\n",
    "})\n"
   ]
  },
  {
   "cell_type": "code",
   "execution_count": 19,
   "metadata": {},
   "outputs": [],
   "source": [
    "test_idx = np.asarray(list(set(test_idx) - set(img_no_ent)))"
   ]
  },
  {
   "cell_type": "code",
   "execution_count": 20,
   "metadata": {},
   "outputs": [],
   "source": [
    "batcher_test = GraphBatcher(\n",
    "    gl, 32, proposals,\n",
    "    os.path.join(codebase, 'data', 'VG', 'xfeat_proposals', 'iresnet_oi', 'xfeat_proposals_inresnet_float32_300x1536.lmdb'), \n",
    "    dim_feats=1536,\n",
    "    seed=1237, \n",
    ")\n",
    "batcher_test.set_subset(test_idx)"
   ]
  },
  {
   "cell_type": "code",
   "execution_count": 21,
   "metadata": {},
   "outputs": [
    {
     "name": "stdout",
     "output_type": "stream",
     "text": [
      "Deploying\n",
      "Batch 1/997 done in 2 seconds. Spent time for read=0.31 (avg 0.31), processing=2.18 (avg 2.18), write=0.00 (avg 0.00) seconds.\n",
      "Batch 101/997 done in 33 seconds. Spent time for read=0.08 (avg 0.11), processing=0.19 (avg 0.23), write=0.00 (avg 0.00) seconds.\n",
      "Batch 201/997 done in 65 seconds. Spent time for read=0.13 (avg 0.11), processing=0.20 (avg 0.22), write=0.00 (avg 0.00) seconds.\n",
      "Batch 301/997 done in 96 seconds. Spent time for read=0.09 (avg 0.11), processing=0.20 (avg 0.21), write=0.00 (avg 0.00) seconds.\n",
      "Batch 401/997 done in 129 seconds. Spent time for read=0.09 (avg 0.11), processing=0.20 (avg 0.21), write=0.00 (avg 0.00) seconds.\n",
      "Batch 501/997 done in 160 seconds. Spent time for read=0.12 (avg 0.11), processing=0.21 (avg 0.21), write=0.00 (avg 0.00) seconds.\n",
      "Batch 601/997 done in 191 seconds. Spent time for read=0.10 (avg 0.11), processing=0.21 (avg 0.21), write=0.00 (avg 0.00) seconds.\n",
      "Batch 701/997 done in 226 seconds. Spent time for read=0.12 (avg 0.11), processing=0.21 (avg 0.21), write=0.00 (avg 0.00) seconds.\n",
      "Batch 801/997 done in 257 seconds. Spent time for read=0.10 (avg 0.11), processing=0.21 (avg 0.21), write=0.00 (avg 0.00) seconds.\n",
      "Batch 901/997 done in 287 seconds. Spent time for read=0.13 (avg 0.11), processing=0.22 (avg 0.21), write=0.00 (avg 0.00) seconds.\n",
      "Batch 997/997 done in 317 seconds. Spent time for read=0.01 (avg 0.11), processing=0.04 (avg 0.21), write=0.00 (avg 0.00) seconds.\n",
      "Done in 317 seconds\n"
     ]
    }
   ],
   "source": [
    "#test_evaluator.reset()\n",
    "deploy(sess, model, batcher_test, test_evaluator, model.eval_ops,\n",
    "    hyperparams={\n",
    "        'dropout_rate_g': 0.0,\n",
    "        'confidence_weight_on_role': 0.0\n",
    "    },\n",
    "    ignore_errors=False,\n",
    "    debug_mode=False,\n",
    "    verbose_rate=100\n",
    ")\n"
   ]
  },
  {
   "cell_type": "code",
   "execution_count": 25,
   "metadata": {},
   "outputs": [
    {
     "data": {
      "text/plain": [
       "{'PerImagePredMP': 0.2614449742753169,\n",
       " 'PerImagePredMR': 0.9843629786164853,\n",
       " 'PerImageOneHopMP_at100_iou_0.5': 0.013283975404693189,\n",
       " 'PerImageOneHopMR_at100_iou_0.5': 0.1423840503163806,\n",
       " 'PerImageOneHopMP_at50_iou_0.5': 0.021906763709373823,\n",
       " 'PerImageOneHopMR_at50_iou_0.5': 0.1255273464481997}"
      ]
     },
     "execution_count": 25,
     "metadata": {},
     "output_type": "execute_result"
    }
   ],
   "source": [
    "test_results = test_evaluator.evaluate()\n",
    "test_results"
   ]
  },
  {
   "cell_type": "code",
   "execution_count": null,
   "metadata": {},
   "outputs": [],
   "source": []
  }
 ],
 "metadata": {
  "kernelspec": {
   "display_name": "Py3 w/ Tensorflow 2",
   "language": "python",
   "name": "py3tf2"
  },
  "language_info": {
   "codemirror_mode": {
    "name": "ipython",
    "version": 3
   },
   "file_extension": ".py",
   "mimetype": "text/x-python",
   "name": "python",
   "nbconvert_exporter": "python",
   "pygments_lexer": "ipython3",
   "version": "3.6.8"
  }
 },
 "nbformat": 4,
 "nbformat_minor": 4
}
