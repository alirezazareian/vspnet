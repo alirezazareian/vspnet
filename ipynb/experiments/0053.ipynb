{
 "cells": [
  {
   "cell_type": "markdown",
   "metadata": {},
   "source": [
    "# Step 1: Data and Model Preparation"
   ]
  },
  {
   "cell_type": "code",
   "execution_count": 1,
   "metadata": {},
   "outputs": [],
   "source": [
    "exp_name = 'exp_053'"
   ]
  },
  {
   "cell_type": "code",
   "execution_count": 2,
   "metadata": {},
   "outputs": [],
   "source": [
    "%load_ext autoreload\n",
    "%autoreload 2\n",
    "import sys\n",
    "import os\n",
    "codebase = '../../'\n",
    "sys.path.append(codebase)"
   ]
  },
  {
   "cell_type": "code",
   "execution_count": 3,
   "metadata": {},
   "outputs": [],
   "source": [
    "from src.dataflow.vg_graph_loader_3 import VGGraphLoader\n",
    "from src.dataflow.graph_batcher_2_rpn import GraphBatcher"
   ]
  },
  {
   "cell_type": "code",
   "execution_count": 4,
   "metadata": {},
   "outputs": [
    {
     "name": "stdout",
     "output_type": "stream",
     "text": [
      "\n",
      "WARNING: The TensorFlow contrib module will not be included in TensorFlow 2.0.\n",
      "For more information, please see:\n",
      "  * https://github.com/tensorflow/community/blob/master/rfcs/20180907-contrib-sunset.md\n",
      "  * https://github.com/tensorflow/addons\n",
      "If you depend on functionality not listed there, please file an issue.\n",
      "\n"
     ]
    }
   ],
   "source": [
    "from src.tensorflow.models.vsp_model_002 import Model\n",
    "from src.tensorflow.engine.trainer_3 import Trainer\n",
    "from src.tensorflow.engine.util import deploy, load_params\n",
    "from src.util.util import pickle_save, pickle_load\n",
    "from src.eval.sgg_evaluator_02 import Evaluator"
   ]
  },
  {
   "cell_type": "code",
   "execution_count": 5,
   "metadata": {},
   "outputs": [],
   "source": [
    "import tensorflow as tf\n",
    "import numpy as np\n",
    "tf.set_random_seed(1294)\n",
    "np.random.seed(1295)"
   ]
  },
  {
   "cell_type": "code",
   "execution_count": null,
   "metadata": {},
   "outputs": [],
   "source": []
  },
  {
   "cell_type": "code",
   "execution_count": 6,
   "metadata": {},
   "outputs": [],
   "source": [
    "gl = VGGraphLoader(\n",
    "    os.path.join(codebase, 'metadata', 'VG', 'prep', 'stanford', 'sg_stanford_2.pkl'),\n",
    "    os.path.join(codebase, 'metadata', 'VG', 'prep', 'stanford', 'word_emb_stanford_2.pkl'),\n",
    ")\n"
   ]
  },
  {
   "cell_type": "code",
   "execution_count": 7,
   "metadata": {},
   "outputs": [],
   "source": [
    "img_ids, train_idx, test_idx = pickle_load(os.path.join(codebase, 'metadata', 'VG', 'prep', 'stanford', 'split_stanford.pkl'))\n",
    "misc = pickle_load(os.path.join(codebase, 'metadata', 'VG', 'prep', 'stanford', 'misc_stanford_2.pkl'))\n",
    "img_no_ent = misc['img_no_ent']\n",
    "img_no_pred = misc['img_no_pred']\n",
    "image_size = misc['img_size']"
   ]
  },
  {
   "cell_type": "code",
   "execution_count": 8,
   "metadata": {},
   "outputs": [],
   "source": [
    "train_idx = np.asarray(list(set(train_idx) - set(img_no_ent)))\n",
    "np.random.shuffle(train_idx)\n",
    "val_idx = train_idx[:1000]\n",
    "train_idx = train_idx[1000:]"
   ]
  },
  {
   "cell_type": "code",
   "execution_count": null,
   "metadata": {},
   "outputs": [],
   "source": []
  },
  {
   "cell_type": "code",
   "execution_count": 9,
   "metadata": {},
   "outputs": [],
   "source": [
    "proposals = pickle_load(os.path.join(codebase, 'data', 'VG', 'xfeat_proposals', 'iresnet_oi_lowprop', 'coords.pkl'))"
   ]
  },
  {
   "cell_type": "code",
   "execution_count": 10,
   "metadata": {},
   "outputs": [],
   "source": [
    "batcher = GraphBatcher(\n",
    "    gl, 32, proposals,\n",
    "    os.path.join(codebase, 'data', 'VG', 'xfeat_proposals', 'iresnet_oi_lowprop', 'feats_float32_20x1536.lmdb'), \n",
    "    dim_feats=1536,\n",
    "    seed=1236, \n",
    ")\n",
    "batcher.set_subset(train_idx)\n",
    "batcher.shuffle()"
   ]
  },
  {
   "cell_type": "code",
   "execution_count": 11,
   "metadata": {},
   "outputs": [],
   "source": [
    "batcher_val = GraphBatcher(\n",
    "    gl, 32, proposals,\n",
    "    os.path.join(codebase, 'data', 'VG', 'xfeat_proposals', 'iresnet_oi_lowprop', 'feats_float32_20x1536.lmdb'), \n",
    "    dim_feats=1536,\n",
    "    seed=1237, \n",
    ")\n",
    "batcher_val.set_subset(val_idx)"
   ]
  },
  {
   "cell_type": "code",
   "execution_count": null,
   "metadata": {},
   "outputs": [],
   "source": []
  },
  {
   "cell_type": "code",
   "execution_count": 12,
   "metadata": {},
   "outputs": [],
   "source": [
    "tf.reset_default_graph()"
   ]
  },
  {
   "cell_type": "code",
   "execution_count": 12,
   "metadata": {},
   "outputs": [
    {
     "name": "stdout",
     "output_type": "stream",
     "text": [
      "WARNING:tensorflow:From ../../src/tensorflow/models/vsp_model_002.py:94: GRUCell.__init__ (from tensorflow.python.ops.rnn_cell_impl) is deprecated and will be removed in a future version.\n",
      "Instructions for updating:\n",
      "This class is equivalent as tf.keras.layers.GRUCell, and will be replaced by that in Tensorflow 2.0.\n",
      "WARNING:tensorflow:From /home/alireza/home_at_filer2/tools/anaconda3/envs/py3tf2/lib/python3.6/site-packages/tensorflow/python/framework/op_def_library.py:263: colocate_with (from tensorflow.python.framework.ops) is deprecated and will be removed in a future version.\n",
      "Instructions for updating:\n",
      "Colocations handled automatically by placer.\n",
      "WARNING:tensorflow:From ../../src/tensorflow/util/util.py:15: dense (from tensorflow.python.layers.core) is deprecated and will be removed in a future version.\n",
      "Instructions for updating:\n",
      "Use keras.layers.dense instead.\n",
      "WARNING:tensorflow:From ../../src/tensorflow/util/util.py:17: calling dropout (from tensorflow.python.ops.nn_ops) with keep_prob is deprecated and will be removed in a future version.\n",
      "Instructions for updating:\n",
      "Please use `rate` instead of `keep_prob`. Rate should be set to `rate = 1 - keep_prob`.\n",
      "WARNING:tensorflow:From ../../src/tensorflow/models/vsp_model_002.py:513: py_func (from tensorflow.python.ops.script_ops) is deprecated and will be removed in a future version.\n",
      "Instructions for updating:\n",
      "tf.py_func is deprecated in TF V2. Instead, use\n",
      "    tf.py_function, which takes a python function which manipulates tf eager\n",
      "    tensors instead of numpy arrays. It's easy to convert a tf eager tensor to\n",
      "    an ndarray (just call tensor.numpy()) but having access to eager tensors\n",
      "    means `tf.py_function`s can use accelerators such as GPUs as well as\n",
      "    being differentiable using a gradient tape.\n",
      "    \n",
      "WARNING:tensorflow:From /home/alireza/home_at_filer2/tools/anaconda3/envs/py3tf2/lib/python3.6/site-packages/tensorflow/python/ops/math_ops.py:3066: to_int32 (from tensorflow.python.ops.math_ops) is deprecated and will be removed in a future version.\n",
      "Instructions for updating:\n",
      "Use tf.cast instead.\n"
     ]
    }
   ],
   "source": [
    "model = Model(   \n",
    "    dim_att_head_role_ent=[1024, 1024], \n",
    "    dim_att_head_role_pred=[1024, 1024],\n",
    "    role_edge_mode='full_soft',\n",
    "    stop_grad_role_edge=True,\n",
    "    \n",
    "    dim_state_ent=1024,\n",
    "    dim_state_pred=1024,\n",
    "    dim_emb_head_ent=[300],\n",
    "    dim_conf_head_ent=[],\n",
    "    dim_conf_head_pred=[],\n",
    "    dim_emb_head_pred=[300],\n",
    "    dim_init_head_ent=[1024],\n",
    "\n",
    "    dim_message_send_head_pred2ent=[1024, 1024],\n",
    "    dim_message_pool_head_pred2ent=[1024, 1024],\n",
    "    dim_message_receive_head_pred2ent=[1024, 1024],    \n",
    "    dim_message_send_head_ent2pred=[1024, 1024],\n",
    "    dim_message_pool_head_ent2pred=[1024, 1024],\n",
    "    dim_message_receive_head_ent2pred=[1024, 1024],\n",
    "    \n",
    "    num_mp_iter=3,     \n",
    "    num_proposals=None,\n",
    "\n",
    "    heat_role=1.0,\n",
    "    heat_emb_mil=1.0,\n",
    "    null_att_logit=0.0,\n",
    "        \n",
    "    num_align_iter=3,\n",
    "    alignment_order='best',\n",
    "    default_act_fn_name='leaky_relu',\n",
    "    optimizer_type_generator=tf.train.AdamOptimizer,\n",
    "    \n",
    "    max_num_pred=100,\n",
    "    dim_init_head_pred=[],\n",
    "    init_state_type_pred='trainable',\n",
    "    \n",
    "    dim_proposal_feat=1536,\n",
    "    emb_dict_ent=gl.noun_emb_dict,\n",
    "    emb_dict_pred=gl.pred_emb_dict,    \n",
    "    #image_size=448,\n",
    "    #num_channels=3,\n",
    "    debugging=False\n",
    ")\n",
    "\n"
   ]
  },
  {
   "cell_type": "code",
   "execution_count": null,
   "metadata": {},
   "outputs": [],
   "source": []
  },
  {
   "cell_type": "code",
   "execution_count": 13,
   "metadata": {},
   "outputs": [],
   "source": [
    "os.environ[\"CUDA_VISIBLE_DEVICES\"]=\"0\"\n",
    "#sess = tf.Session(config=tf.ConfigProto(gpu_options=tf.GPUOptions(allow_growth=True)))\n",
    "#sess = tf.Session(config=tf.ConfigProto(gpu_options=tf.GPUOptions(per_process_gpu_memory_fraction=0.5)))\n",
    "sess = tf.Session()\n",
    "sess.run(tf.no_op())"
   ]
  },
  {
   "cell_type": "code",
   "execution_count": null,
   "metadata": {},
   "outputs": [],
   "source": []
  },
  {
   "cell_type": "markdown",
   "metadata": {},
   "source": [
    "# Step 2: Training\n"
   ]
  },
  {
   "cell_type": "code",
   "execution_count": null,
   "metadata": {},
   "outputs": [],
   "source": [
    "train_evaluator = Evaluator({        \n",
    "    'graph_loader': gl,\n",
    "    'proposals': proposals,\n",
    "    'num_proposals': 20,\n",
    "    'filter_nonoverlap': True\n",
    "})\n",
    "val_evaluator = Evaluator({        \n",
    "    'graph_loader': gl,\n",
    "    'proposals': proposals,\n",
    "    'num_proposals': 20,\n",
    "    'filter_nonoverlap': True\n",
    "})\n"
   ]
  },
  {
   "cell_type": "code",
   "execution_count": null,
   "metadata": {},
   "outputs": [],
   "source": []
  },
  {
   "cell_type": "code",
   "execution_count": null,
   "metadata": {},
   "outputs": [],
   "source": [
    "trainer = Trainer(\n",
    "    model, sess, batcher, batcher_val, train_evaluator, val_evaluator,\n",
    "    logdir=os.path.join(codebase, 'log', 'tfsummary', exp_name), \n",
    "    modeldir=os.path.join(codebase, 'checkpoint', exp_name),\n",
    ")"
   ]
  },
  {
   "cell_type": "code",
   "execution_count": null,
   "metadata": {},
   "outputs": [],
   "source": []
  },
  {
   "cell_type": "code",
   "execution_count": null,
   "metadata": {},
   "outputs": [
    {
     "name": "stderr",
     "output_type": "stream",
     "text": [
      "../../src/eval/graph_eval_3.py:95: RuntimeWarning: invalid value encountered in true_divide\n",
      "  per_image_pred_recall.append(np.divide(len(gt_matched), len(gt_graph['pred_lbl'][i])))\n",
      "../../src/eval/graph_eval_3.py:219: RuntimeWarning: invalid value encountered in true_divide\n",
      "  per_image_recall.append(np.divide(len(gt_matched), len(gt_graph['pred_lbl'][i])))\n"
     ]
    },
    {
     "name": "stdout",
     "output_type": "stream",
     "text": [
      "Step 1000: loss = 3.572000026702881 (2621.978 sec)\n",
      "Training Batch Evaluation Results: {'PerImagePredMP': 0.217, 'PerImagePredMR': 0.978, 'PerImageOneHopMP_at100_iou_0.5': 0.002, 'PerImageOneHopMR_at100_iou_0.5': 0.028, 'PerImageOneHopMP_at50_iou_0.5': 0.003, 'PerImageOneHopMR_at50_iou_0.5': 0.023}\n",
      "Validation Results: {'PerImagePredMP': 0.215, 'PerImagePredMR': 0.97, 'PerImageOneHopMP_at100_iou_0.5': 0.002, 'PerImageOneHopMR_at100_iou_0.5': 0.03, 'PerImageOneHopMP_at50_iou_0.5': 0.004, 'PerImageOneHopMR_at50_iou_0.5': 0.027}\n",
      "Step 2000: loss = 3.3929998874664307 (5140.357 sec)\n",
      "Training Batch Evaluation Results: {'PerImagePredMP': 0.262, 'PerImagePredMR': 0.962, 'PerImageOneHopMP_at100_iou_0.5': 0.003, 'PerImageOneHopMR_at100_iou_0.5': 0.033, 'PerImageOneHopMP_at50_iou_0.5': 0.005, 'PerImageOneHopMR_at50_iou_0.5': 0.028}\n",
      "Validation Results: {'PerImagePredMP': 0.249, 'PerImagePredMR': 0.949, 'PerImageOneHopMP_at100_iou_0.5': 0.002, 'PerImageOneHopMR_at100_iou_0.5': 0.03, 'PerImageOneHopMP_at50_iou_0.5': 0.004, 'PerImageOneHopMR_at50_iou_0.5': 0.029}\n",
      "Step 3000: loss = 3.316999912261963 (7769.911 sec)\n",
      "Training Batch Evaluation Results: {'PerImagePredMP': 0.282, 'PerImagePredMR': 0.962, 'PerImageOneHopMP_at100_iou_0.5': 0.003, 'PerImageOneHopMR_at100_iou_0.5': 0.041, 'PerImageOneHopMP_at50_iou_0.5': 0.006, 'PerImageOneHopMR_at50_iou_0.5': 0.037}\n",
      "Validation Results: {'PerImagePredMP': 0.271, 'PerImagePredMR': 0.952, 'PerImageOneHopMP_at100_iou_0.5': 0.003, 'PerImageOneHopMR_at100_iou_0.5': 0.038, 'PerImageOneHopMP_at50_iou_0.5': 0.005, 'PerImageOneHopMR_at50_iou_0.5': 0.034}\n",
      "Step 4000: loss = 2.9760000705718994 (10375.276 sec)\n",
      "Training Batch Evaluation Results: {'PerImagePredMP': 0.289, 'PerImagePredMR': 0.955, 'PerImageOneHopMP_at100_iou_0.5': 0.002, 'PerImageOneHopMR_at100_iou_0.5': 0.034, 'PerImageOneHopMP_at50_iou_0.5': 0.004, 'PerImageOneHopMR_at50_iou_0.5': 0.029}\n",
      "Validation Results: {'PerImagePredMP': 0.278, 'PerImagePredMR': 0.955, 'PerImageOneHopMP_at100_iou_0.5': 0.003, 'PerImageOneHopMR_at100_iou_0.5': 0.042, 'PerImageOneHopMP_at50_iou_0.5': 0.006, 'PerImageOneHopMR_at50_iou_0.5': 0.04}\n",
      "Step 5000: loss = 3.1579999923706055 (12830.308 sec)\n",
      "Training Batch Evaluation Results: {'PerImagePredMP': 0.293, 'PerImagePredMR': 0.952, 'PerImageOneHopMP_at100_iou_0.5': 0.003, 'PerImageOneHopMR_at100_iou_0.5': 0.035, 'PerImageOneHopMP_at50_iou_0.5': 0.005, 'PerImageOneHopMR_at50_iou_0.5': 0.031}\n",
      "Validation Results: {'PerImagePredMP': 0.281, 'PerImagePredMR': 0.944, 'PerImageOneHopMP_at100_iou_0.5': 0.003, 'PerImageOneHopMR_at100_iou_0.5': 0.038, 'PerImageOneHopMP_at50_iou_0.5': 0.004, 'PerImageOneHopMR_at50_iou_0.5': 0.034}\n",
      "Step 6000: loss = 2.5880000591278076 (15271.534 sec)\n",
      "Training Batch Evaluation Results: {'PerImagePredMP': 0.292, 'PerImagePredMR': 0.955, 'PerImageOneHopMP_at100_iou_0.5': 0.003, 'PerImageOneHopMR_at100_iou_0.5': 0.038, 'PerImageOneHopMP_at50_iou_0.5': 0.005, 'PerImageOneHopMR_at50_iou_0.5': 0.033}\n",
      "Validation Results: {'PerImagePredMP': 0.288, 'PerImagePredMR': 0.95, 'PerImageOneHopMP_at100_iou_0.5': 0.003, 'PerImageOneHopMR_at100_iou_0.5': 0.043, 'PerImageOneHopMP_at50_iou_0.5': 0.005, 'PerImageOneHopMR_at50_iou_0.5': 0.036}\n",
      "Step 7000: loss = 2.7839999198913574 (17715.583 sec)\n",
      "Training Batch Evaluation Results: {'PerImagePredMP': 0.31, 'PerImagePredMR': 0.953, 'PerImageOneHopMP_at100_iou_0.5': 0.004, 'PerImageOneHopMR_at100_iou_0.5': 0.042, 'PerImageOneHopMP_at50_iou_0.5': 0.006, 'PerImageOneHopMR_at50_iou_0.5': 0.038}\n",
      "Validation Results: {'PerImagePredMP': 0.311, 'PerImagePredMR': 0.943, 'PerImageOneHopMP_at100_iou_0.5': 0.004, 'PerImageOneHopMR_at100_iou_0.5': 0.045, 'PerImageOneHopMP_at50_iou_0.5': 0.006, 'PerImageOneHopMR_at50_iou_0.5': 0.04}\n",
      "Step 8000: loss = 3.2660000324249268 (20166.616 sec)\n",
      "Training Batch Evaluation Results: {'PerImagePredMP': 0.309, 'PerImagePredMR': 0.945, 'PerImageOneHopMP_at100_iou_0.5': 0.003, 'PerImageOneHopMR_at100_iou_0.5': 0.038, 'PerImageOneHopMP_at50_iou_0.5': 0.006, 'PerImageOneHopMR_at50_iou_0.5': 0.034}\n",
      "Validation Results: {'PerImagePredMP': 0.284, 'PerImagePredMR': 0.948, 'PerImageOneHopMP_at100_iou_0.5': 0.003, 'PerImageOneHopMR_at100_iou_0.5': 0.043, 'PerImageOneHopMP_at50_iou_0.5': 0.006, 'PerImageOneHopMR_at50_iou_0.5': 0.04}\n",
      "Step 9000: loss = 2.427000045776367 (22578.252 sec)\n",
      "Training Batch Evaluation Results: {'PerImagePredMP': 0.3, 'PerImagePredMR': 0.95, 'PerImageOneHopMP_at100_iou_0.5': 0.003, 'PerImageOneHopMR_at100_iou_0.5': 0.043, 'PerImageOneHopMP_at50_iou_0.5': 0.006, 'PerImageOneHopMR_at50_iou_0.5': 0.037}\n",
      "Validation Results: {'PerImagePredMP': 0.296, 'PerImagePredMR': 0.945, 'PerImageOneHopMP_at100_iou_0.5': 0.004, 'PerImageOneHopMR_at100_iou_0.5': 0.043, 'PerImageOneHopMP_at50_iou_0.5': 0.006, 'PerImageOneHopMR_at50_iou_0.5': 0.038}\n",
      "Step 10000: loss = 3.0480000972747803 (25109.749 sec)\n",
      "Training Batch Evaluation Results: {'PerImagePredMP': 0.31, 'PerImagePredMR': 0.952, 'PerImageOneHopMP_at100_iou_0.5': 0.003, 'PerImageOneHopMR_at100_iou_0.5': 0.045, 'PerImageOneHopMP_at50_iou_0.5': 0.006, 'PerImageOneHopMR_at50_iou_0.5': 0.037}\n",
      "Validation Results: {'PerImagePredMP': 0.302, 'PerImagePredMR': 0.949, 'PerImageOneHopMP_at100_iou_0.5': 0.004, 'PerImageOneHopMR_at100_iou_0.5': 0.044, 'PerImageOneHopMP_at50_iou_0.5': 0.006, 'PerImageOneHopMR_at50_iou_0.5': 0.039}\n",
      "Step 11000: loss = 2.5840001106262207 (27521.911 sec)\n",
      "Training Batch Evaluation Results: {'PerImagePredMP': 0.306, 'PerImagePredMR': 0.953, 'PerImageOneHopMP_at100_iou_0.5': 0.004, 'PerImageOneHopMR_at100_iou_0.5': 0.048, 'PerImageOneHopMP_at50_iou_0.5': 0.007, 'PerImageOneHopMR_at50_iou_0.5': 0.042}\n",
      "Validation Results: {'PerImagePredMP': 0.304, 'PerImagePredMR': 0.95, 'PerImageOneHopMP_at100_iou_0.5': 0.004, 'PerImageOneHopMR_at100_iou_0.5': 0.048, 'PerImageOneHopMP_at50_iou_0.5': 0.006, 'PerImageOneHopMR_at50_iou_0.5': 0.042}\n",
      "Step 12000: loss = 2.7769999504089355 (29935.710 sec)\n",
      "Training Batch Evaluation Results: {'PerImagePredMP': 0.301, 'PerImagePredMR': 0.953, 'PerImageOneHopMP_at100_iou_0.5': 0.003, 'PerImageOneHopMR_at100_iou_0.5': 0.047, 'PerImageOneHopMP_at50_iou_0.5': 0.006, 'PerImageOneHopMR_at50_iou_0.5': 0.04}\n",
      "Validation Results: {'PerImagePredMP': 0.302, 'PerImagePredMR': 0.953, 'PerImageOneHopMP_at100_iou_0.5': 0.004, 'PerImageOneHopMR_at100_iou_0.5': 0.047, 'PerImageOneHopMP_at50_iou_0.5': 0.007, 'PerImageOneHopMR_at50_iou_0.5': 0.044}\n",
      "Step 13000: loss = 2.5360000133514404 (32355.391 sec)\n",
      "Training Batch Evaluation Results: {'PerImagePredMP': 0.317, 'PerImagePredMR': 0.952, 'PerImageOneHopMP_at100_iou_0.5': 0.003, 'PerImageOneHopMR_at100_iou_0.5': 0.042, 'PerImageOneHopMP_at50_iou_0.5': 0.005, 'PerImageOneHopMR_at50_iou_0.5': 0.036}\n",
      "Validation Results: {'PerImagePredMP': 0.292, 'PerImagePredMR': 0.949, 'PerImageOneHopMP_at100_iou_0.5': 0.003, 'PerImageOneHopMR_at100_iou_0.5': 0.044, 'PerImageOneHopMP_at50_iou_0.5': 0.006, 'PerImageOneHopMR_at50_iou_0.5': 0.038}\n",
      "Step 14000: loss = 2.871999979019165 (34767.938 sec)\n",
      "Training Batch Evaluation Results: {'PerImagePredMP': 0.311, 'PerImagePredMR': 0.952, 'PerImageOneHopMP_at100_iou_0.5': 0.004, 'PerImageOneHopMR_at100_iou_0.5': 0.047, 'PerImageOneHopMP_at50_iou_0.5': 0.006, 'PerImageOneHopMR_at50_iou_0.5': 0.039}\n",
      "Validation Results: {'PerImagePredMP': 0.292, 'PerImagePredMR': 0.959, 'PerImageOneHopMP_at100_iou_0.5': 0.003, 'PerImageOneHopMR_at100_iou_0.5': 0.045, 'PerImageOneHopMP_at50_iou_0.5': 0.005, 'PerImageOneHopMR_at50_iou_0.5': 0.038}\n"
     ]
    }
   ],
   "source": [
    "trainer.train (\n",
    "    max_steps=20000,\n",
    "    train_eval_rate=100, \n",
    "    validation_rate=100, \n",
    "    verbose_rate=1000, \n",
    "    summary_rate=100, \n",
    "    checkpoint_rate=10000, \n",
    "    hyperparams = {\n",
    "        'learning_rate_generator': 1e-5 * batcher.batch_size,\n",
    "\n",
    "        'loss_factor_g_mil_ent': 1.0,\n",
    "        'loss_factor_g_mil_ent_conf': 0.0,\n",
    "        'loss_factor_g_mil_pred': 1.0,\n",
    "        'loss_factor_g_mil_pred_conf': 0.0,\n",
    "        'loss_factor_g_mil_role': 10.0,\n",
    "        'loss_factor_g_mil_box': 0.0,\n",
    "        'loss_factor_g_aux_emb_ent': 0.0,\n",
    "        'loss_factor_g_aux_emb_pred': 0.0,\n",
    "\n",
    "        'confidence_weight_on_role': 0.0,\n",
    "        'grad_clipping': 5.0,\n",
    "        'mil_iou_offset': 0.01,\n",
    "        'dropout_rate_g': 0.0,\n",
    "    },\n",
    "    validation_hyperparams = {\n",
    "        'dropout_rate_g': 0.0,\n",
    "        'confidence_weight_on_role': 0.0\n",
    "    },\n",
    ")\n"
   ]
  },
  {
   "cell_type": "code",
   "execution_count": null,
   "metadata": {},
   "outputs": [],
   "source": [
    "trainer.train (\n",
    "    max_steps=30000,\n",
    "    train_eval_rate=100, \n",
    "    validation_rate=100, \n",
    "    verbose_rate=1000, \n",
    "    summary_rate=100, \n",
    "    checkpoint_rate=1000, \n",
    "    hyperparams = {\n",
    "        'learning_rate_generator': 1e-6 * batcher.batch_size,\n",
    "\n",
    "        'loss_factor_g_mil_ent': 1.0,\n",
    "        'loss_factor_g_mil_ent_conf': 0.0,\n",
    "        'loss_factor_g_mil_pred': 1.0,\n",
    "        'loss_factor_g_mil_pred_conf': 0.0,\n",
    "        'loss_factor_g_mil_role': 10.0,\n",
    "        'loss_factor_g_mil_box': 0.0,\n",
    "        'loss_factor_g_aux_emb_ent': 0.0,\n",
    "        'loss_factor_g_aux_emb_pred': 0.0,\n",
    "\n",
    "        'confidence_weight_on_role': 0.0,\n",
    "        'grad_clipping': 5.0,\n",
    "        'mil_iou_offset': 0.01,\n",
    "        'dropout_rate_g': 0.0,\n",
    "    },\n",
    "    validation_hyperparams = {\n",
    "        'dropout_rate_g': 0.0,\n",
    "        'confidence_weight_on_role': 0.0\n",
    "    },\n",
    ")\n"
   ]
  },
  {
   "cell_type": "code",
   "execution_count": 28,
   "metadata": {},
   "outputs": [
    {
     "name": "stdout",
     "output_type": "stream",
     "text": [
      "Step 44000: loss = 1.6820000410079956 (2402.352 sec)\n",
      "Training Batch Evaluation Results: {'PerImagePredMP': 0.325, 'PerImagePredMR': 0.965, 'PerImageOneHopMP_at100_iou_0.5': 0.004, 'PerImageOneHopMR_at100_iou_0.5': 0.053, 'PerImageOneHopMP_at50_iou_0.5': 0.007, 'PerImageOneHopMR_at50_iou_0.5': 0.045}\n",
      "Validation Results: {'PerImagePredMP': 0.307, 'PerImagePredMR': 0.953, 'PerImageOneHopMP_at100_iou_0.5': 0.004, 'PerImageOneHopMR_at100_iou_0.5': 0.059, 'PerImageOneHopMP_at50_iou_0.5': 0.007, 'PerImageOneHopMR_at50_iou_0.5': 0.051}\n",
      "Step 45000: loss = 2.1549999713897705 (4778.309 sec)\n",
      "Training Batch Evaluation Results: {'PerImagePredMP': 0.317, 'PerImagePredMR': 0.969, 'PerImageOneHopMP_at100_iou_0.5': 0.004, 'PerImageOneHopMR_at100_iou_0.5': 0.052, 'PerImageOneHopMP_at50_iou_0.5': 0.006, 'PerImageOneHopMR_at50_iou_0.5': 0.044}\n",
      "Validation Results: {'PerImagePredMP': 0.305, 'PerImagePredMR': 0.952, 'PerImageOneHopMP_at100_iou_0.5': 0.004, 'PerImageOneHopMR_at100_iou_0.5': 0.058, 'PerImageOneHopMP_at50_iou_0.5': 0.007, 'PerImageOneHopMR_at50_iou_0.5': 0.051}\n",
      "Step 46000: loss = 1.9919999837875366 (7139.238 sec)\n",
      "Training Batch Evaluation Results: {'PerImagePredMP': 0.325, 'PerImagePredMR': 0.969, 'PerImageOneHopMP_at100_iou_0.5': 0.004, 'PerImageOneHopMR_at100_iou_0.5': 0.056, 'PerImageOneHopMP_at50_iou_0.5': 0.007, 'PerImageOneHopMR_at50_iou_0.5': 0.047}\n",
      "Validation Results: {'PerImagePredMP': 0.308, 'PerImagePredMR': 0.955, 'PerImageOneHopMP_at100_iou_0.5': 0.004, 'PerImageOneHopMR_at100_iou_0.5': 0.059, 'PerImageOneHopMP_at50_iou_0.5': 0.007, 'PerImageOneHopMR_at50_iou_0.5': 0.052}\n",
      "Step 47000: loss = 2.0439999103546143 (9508.937 sec)\n",
      "Training Batch Evaluation Results: {'PerImagePredMP': 0.319, 'PerImagePredMR': 0.97, 'PerImageOneHopMP_at100_iou_0.5': 0.004, 'PerImageOneHopMR_at100_iou_0.5': 0.057, 'PerImageOneHopMP_at50_iou_0.5': 0.007, 'PerImageOneHopMR_at50_iou_0.5': 0.05}\n",
      "Validation Results: {'PerImagePredMP': 0.306, 'PerImagePredMR': 0.953, 'PerImageOneHopMP_at100_iou_0.5': 0.004, 'PerImageOneHopMR_at100_iou_0.5': 0.058, 'PerImageOneHopMP_at50_iou_0.5': 0.007, 'PerImageOneHopMR_at50_iou_0.5': 0.05}\n",
      "Step 48000: loss = 2.2909998893737793 (11865.244 sec)\n",
      "Training Batch Evaluation Results: {'PerImagePredMP': 0.311, 'PerImagePredMR': 0.969, 'PerImageOneHopMP_at100_iou_0.5': 0.004, 'PerImageOneHopMR_at100_iou_0.5': 0.054, 'PerImageOneHopMP_at50_iou_0.5': 0.006, 'PerImageOneHopMR_at50_iou_0.5': 0.045}\n",
      "Validation Results: {'PerImagePredMP': 0.308, 'PerImagePredMR': 0.954, 'PerImageOneHopMP_at100_iou_0.5': 0.004, 'PerImageOneHopMR_at100_iou_0.5': 0.06, 'PerImageOneHopMP_at50_iou_0.5': 0.007, 'PerImageOneHopMR_at50_iou_0.5': 0.055}\n",
      "Step 49000: loss = 2.634999990463257 (14219.935 sec)\n",
      "Training Batch Evaluation Results: {'PerImagePredMP': 0.32, 'PerImagePredMR': 0.969, 'PerImageOneHopMP_at100_iou_0.5': 0.004, 'PerImageOneHopMR_at100_iou_0.5': 0.054, 'PerImageOneHopMP_at50_iou_0.5': 0.007, 'PerImageOneHopMR_at50_iou_0.5': 0.047}\n",
      "Validation Results: {'PerImagePredMP': 0.308, 'PerImagePredMR': 0.952, 'PerImageOneHopMP_at100_iou_0.5': 0.004, 'PerImageOneHopMR_at100_iou_0.5': 0.057, 'PerImageOneHopMP_at50_iou_0.5': 0.007, 'PerImageOneHopMR_at50_iou_0.5': 0.05}\n",
      "Step 50000: loss = 2.0859999656677246 (16592.454 sec)\n",
      "Training Batch Evaluation Results: {'PerImagePredMP': 0.328, 'PerImagePredMR': 0.967, 'PerImageOneHopMP_at100_iou_0.5': 0.004, 'PerImageOneHopMR_at100_iou_0.5': 0.05, 'PerImageOneHopMP_at50_iou_0.5': 0.006, 'PerImageOneHopMR_at50_iou_0.5': 0.044}\n",
      "Validation Results: {'PerImagePredMP': 0.308, 'PerImagePredMR': 0.952, 'PerImageOneHopMP_at100_iou_0.5': 0.004, 'PerImageOneHopMR_at100_iou_0.5': 0.059, 'PerImageOneHopMP_at50_iou_0.5': 0.007, 'PerImageOneHopMR_at50_iou_0.5': 0.053}\n",
      "Step 51000: loss = 2.2760000228881836 (18942.028 sec)\n",
      "Training Batch Evaluation Results: {'PerImagePredMP': 0.324, 'PerImagePredMR': 0.973, 'PerImageOneHopMP_at100_iou_0.5': 0.004, 'PerImageOneHopMR_at100_iou_0.5': 0.055, 'PerImageOneHopMP_at50_iou_0.5': 0.007, 'PerImageOneHopMR_at50_iou_0.5': 0.047}\n",
      "Validation Results: {'PerImagePredMP': 0.307, 'PerImagePredMR': 0.954, 'PerImageOneHopMP_at100_iou_0.5': 0.004, 'PerImageOneHopMR_at100_iou_0.5': 0.057, 'PerImageOneHopMP_at50_iou_0.5': 0.007, 'PerImageOneHopMR_at50_iou_0.5': 0.052}\n",
      "Traceback (most recent call last):\n",
      "  File \"../../src/tensorflow/engine/trainer_3.py\", line 107, in train\n",
      "    results = self.sess.run(ops_to_run, feed_dict=feed_dict)\n",
      "  File \"/home/alireza/home_at_filer2/tools/anaconda3/envs/py3tf2/lib/python3.6/site-packages/tensorflow/python/client/session.py\", line 929, in run\n",
      "    run_metadata_ptr)\n",
      "  File \"/home/alireza/home_at_filer2/tools/anaconda3/envs/py3tf2/lib/python3.6/site-packages/tensorflow/python/client/session.py\", line 1152, in _run\n",
      "    feed_dict_tensor, options, run_metadata)\n",
      "  File \"/home/alireza/home_at_filer2/tools/anaconda3/envs/py3tf2/lib/python3.6/site-packages/tensorflow/python/client/session.py\", line 1328, in _do_run\n",
      "    run_metadata)\n",
      "  File \"/home/alireza/home_at_filer2/tools/anaconda3/envs/py3tf2/lib/python3.6/site-packages/tensorflow/python/client/session.py\", line 1334, in _do_call\n",
      "    return fn(*args)\n",
      "  File \"/home/alireza/home_at_filer2/tools/anaconda3/envs/py3tf2/lib/python3.6/site-packages/tensorflow/python/client/session.py\", line 1319, in _run_fn\n",
      "    options, feed_dict, fetch_list, target_list, run_metadata)\n",
      "  File \"/home/alireza/home_at_filer2/tools/anaconda3/envs/py3tf2/lib/python3.6/site-packages/tensorflow/python/client/session.py\", line 1407, in _call_tf_sessionrun\n",
      "    run_metadata)\n",
      "KeyboardInterrupt\n",
      "\n",
      "Batch 1782/2267\n"
     ]
    },
    {
     "ename": "KeyboardInterrupt",
     "evalue": "",
     "output_type": "error",
     "traceback": [
      "\u001b[0;31m---------------------------------------------------------------------------\u001b[0m",
      "\u001b[0;31mKeyboardInterrupt\u001b[0m                         Traceback (most recent call last)",
      "\u001b[0;32m<ipython-input-28-14081f5251b6>\u001b[0m in \u001b[0;36m<module>\u001b[0;34m\u001b[0m\n\u001b[1;32m     25\u001b[0m     validation_hyperparams = {\n\u001b[1;32m     26\u001b[0m         \u001b[0;34m'dropout_rate_g'\u001b[0m\u001b[0;34m:\u001b[0m \u001b[0;36m0.0\u001b[0m\u001b[0;34m,\u001b[0m\u001b[0;34m\u001b[0m\u001b[0;34m\u001b[0m\u001b[0m\n\u001b[0;32m---> 27\u001b[0;31m         \u001b[0;34m'confidence_weight_on_role'\u001b[0m\u001b[0;34m:\u001b[0m \u001b[0;36m0.0\u001b[0m\u001b[0;34m\u001b[0m\u001b[0;34m\u001b[0m\u001b[0m\n\u001b[0m\u001b[1;32m     28\u001b[0m     },\n\u001b[1;32m     29\u001b[0m )\n",
      "\u001b[0;32m/data/users/alireza/vsp-net/src/tensorflow/engine/trainer_3.py\u001b[0m in \u001b[0;36mtrain\u001b[0;34m(self, max_steps, train_eval_rate, validation_rate, verbose_rate, summary_rate, checkpoint_rate, hyperparams, validation_hyperparams, debug_mode, ignore_errors, save_last_checkpoint, stop_loss_ratio)\u001b[0m\n\u001b[1;32m    105\u001b[0m \u001b[0;34m\u001b[0m\u001b[0m\n\u001b[1;32m    106\u001b[0m                 \u001b[0;31m# running one training step\u001b[0m\u001b[0;34m\u001b[0m\u001b[0;34m\u001b[0m\u001b[0;34m\u001b[0m\u001b[0m\n\u001b[0;32m--> 107\u001b[0;31m                 \u001b[0mresults\u001b[0m \u001b[0;34m=\u001b[0m \u001b[0mself\u001b[0m\u001b[0;34m.\u001b[0m\u001b[0msess\u001b[0m\u001b[0;34m.\u001b[0m\u001b[0mrun\u001b[0m\u001b[0;34m(\u001b[0m\u001b[0mops_to_run\u001b[0m\u001b[0;34m,\u001b[0m \u001b[0mfeed_dict\u001b[0m\u001b[0;34m=\u001b[0m\u001b[0mfeed_dict\u001b[0m\u001b[0;34m)\u001b[0m\u001b[0;34m\u001b[0m\u001b[0;34m\u001b[0m\u001b[0m\n\u001b[0m\u001b[1;32m    108\u001b[0m \u001b[0;34m\u001b[0m\u001b[0m\n\u001b[1;32m    109\u001b[0m                 \u001b[0;31m# accumulating training evaluation results to pass to evaluate() function at once\u001b[0m\u001b[0;34m\u001b[0m\u001b[0;34m\u001b[0m\u001b[0;34m\u001b[0m\u001b[0m\n",
      "\u001b[0;32m~/home_at_filer2/tools/anaconda3/envs/py3tf2/lib/python3.6/site-packages/tensorflow/python/client/session.py\u001b[0m in \u001b[0;36mrun\u001b[0;34m(self, fetches, feed_dict, options, run_metadata)\u001b[0m\n\u001b[1;32m    927\u001b[0m     \u001b[0;32mtry\u001b[0m\u001b[0;34m:\u001b[0m\u001b[0;34m\u001b[0m\u001b[0;34m\u001b[0m\u001b[0m\n\u001b[1;32m    928\u001b[0m       result = self._run(None, fetches, feed_dict, options_ptr,\n\u001b[0;32m--> 929\u001b[0;31m                          run_metadata_ptr)\n\u001b[0m\u001b[1;32m    930\u001b[0m       \u001b[0;32mif\u001b[0m \u001b[0mrun_metadata\u001b[0m\u001b[0;34m:\u001b[0m\u001b[0;34m\u001b[0m\u001b[0;34m\u001b[0m\u001b[0m\n\u001b[1;32m    931\u001b[0m         \u001b[0mproto_data\u001b[0m \u001b[0;34m=\u001b[0m \u001b[0mtf_session\u001b[0m\u001b[0;34m.\u001b[0m\u001b[0mTF_GetBuffer\u001b[0m\u001b[0;34m(\u001b[0m\u001b[0mrun_metadata_ptr\u001b[0m\u001b[0;34m)\u001b[0m\u001b[0;34m\u001b[0m\u001b[0;34m\u001b[0m\u001b[0m\n",
      "\u001b[0;32m~/home_at_filer2/tools/anaconda3/envs/py3tf2/lib/python3.6/site-packages/tensorflow/python/client/session.py\u001b[0m in \u001b[0;36m_run\u001b[0;34m(self, handle, fetches, feed_dict, options, run_metadata)\u001b[0m\n\u001b[1;32m   1150\u001b[0m     \u001b[0;32mif\u001b[0m \u001b[0mfinal_fetches\u001b[0m \u001b[0;32mor\u001b[0m \u001b[0mfinal_targets\u001b[0m \u001b[0;32mor\u001b[0m \u001b[0;34m(\u001b[0m\u001b[0mhandle\u001b[0m \u001b[0;32mand\u001b[0m \u001b[0mfeed_dict_tensor\u001b[0m\u001b[0;34m)\u001b[0m\u001b[0;34m:\u001b[0m\u001b[0;34m\u001b[0m\u001b[0;34m\u001b[0m\u001b[0m\n\u001b[1;32m   1151\u001b[0m       results = self._do_run(handle, final_targets, final_fetches,\n\u001b[0;32m-> 1152\u001b[0;31m                              feed_dict_tensor, options, run_metadata)\n\u001b[0m\u001b[1;32m   1153\u001b[0m     \u001b[0;32melse\u001b[0m\u001b[0;34m:\u001b[0m\u001b[0;34m\u001b[0m\u001b[0;34m\u001b[0m\u001b[0m\n\u001b[1;32m   1154\u001b[0m       \u001b[0mresults\u001b[0m \u001b[0;34m=\u001b[0m \u001b[0;34m[\u001b[0m\u001b[0;34m]\u001b[0m\u001b[0;34m\u001b[0m\u001b[0;34m\u001b[0m\u001b[0m\n",
      "\u001b[0;32m~/home_at_filer2/tools/anaconda3/envs/py3tf2/lib/python3.6/site-packages/tensorflow/python/client/session.py\u001b[0m in \u001b[0;36m_do_run\u001b[0;34m(self, handle, target_list, fetch_list, feed_dict, options, run_metadata)\u001b[0m\n\u001b[1;32m   1326\u001b[0m     \u001b[0;32mif\u001b[0m \u001b[0mhandle\u001b[0m \u001b[0;32mis\u001b[0m \u001b[0;32mNone\u001b[0m\u001b[0;34m:\u001b[0m\u001b[0;34m\u001b[0m\u001b[0;34m\u001b[0m\u001b[0m\n\u001b[1;32m   1327\u001b[0m       return self._do_call(_run_fn, feeds, fetches, targets, options,\n\u001b[0;32m-> 1328\u001b[0;31m                            run_metadata)\n\u001b[0m\u001b[1;32m   1329\u001b[0m     \u001b[0;32melse\u001b[0m\u001b[0;34m:\u001b[0m\u001b[0;34m\u001b[0m\u001b[0;34m\u001b[0m\u001b[0m\n\u001b[1;32m   1330\u001b[0m       \u001b[0;32mreturn\u001b[0m \u001b[0mself\u001b[0m\u001b[0;34m.\u001b[0m\u001b[0m_do_call\u001b[0m\u001b[0;34m(\u001b[0m\u001b[0m_prun_fn\u001b[0m\u001b[0;34m,\u001b[0m \u001b[0mhandle\u001b[0m\u001b[0;34m,\u001b[0m \u001b[0mfeeds\u001b[0m\u001b[0;34m,\u001b[0m \u001b[0mfetches\u001b[0m\u001b[0;34m)\u001b[0m\u001b[0;34m\u001b[0m\u001b[0;34m\u001b[0m\u001b[0m\n",
      "\u001b[0;32m~/home_at_filer2/tools/anaconda3/envs/py3tf2/lib/python3.6/site-packages/tensorflow/python/client/session.py\u001b[0m in \u001b[0;36m_do_call\u001b[0;34m(self, fn, *args)\u001b[0m\n\u001b[1;32m   1332\u001b[0m   \u001b[0;32mdef\u001b[0m \u001b[0m_do_call\u001b[0m\u001b[0;34m(\u001b[0m\u001b[0mself\u001b[0m\u001b[0;34m,\u001b[0m \u001b[0mfn\u001b[0m\u001b[0;34m,\u001b[0m \u001b[0;34m*\u001b[0m\u001b[0margs\u001b[0m\u001b[0;34m)\u001b[0m\u001b[0;34m:\u001b[0m\u001b[0;34m\u001b[0m\u001b[0;34m\u001b[0m\u001b[0m\n\u001b[1;32m   1333\u001b[0m     \u001b[0;32mtry\u001b[0m\u001b[0;34m:\u001b[0m\u001b[0;34m\u001b[0m\u001b[0;34m\u001b[0m\u001b[0m\n\u001b[0;32m-> 1334\u001b[0;31m       \u001b[0;32mreturn\u001b[0m \u001b[0mfn\u001b[0m\u001b[0;34m(\u001b[0m\u001b[0;34m*\u001b[0m\u001b[0margs\u001b[0m\u001b[0;34m)\u001b[0m\u001b[0;34m\u001b[0m\u001b[0;34m\u001b[0m\u001b[0m\n\u001b[0m\u001b[1;32m   1335\u001b[0m     \u001b[0;32mexcept\u001b[0m \u001b[0merrors\u001b[0m\u001b[0;34m.\u001b[0m\u001b[0mOpError\u001b[0m \u001b[0;32mas\u001b[0m \u001b[0me\u001b[0m\u001b[0;34m:\u001b[0m\u001b[0;34m\u001b[0m\u001b[0;34m\u001b[0m\u001b[0m\n\u001b[1;32m   1336\u001b[0m       \u001b[0mmessage\u001b[0m \u001b[0;34m=\u001b[0m \u001b[0mcompat\u001b[0m\u001b[0;34m.\u001b[0m\u001b[0mas_text\u001b[0m\u001b[0;34m(\u001b[0m\u001b[0me\u001b[0m\u001b[0;34m.\u001b[0m\u001b[0mmessage\u001b[0m\u001b[0;34m)\u001b[0m\u001b[0;34m\u001b[0m\u001b[0;34m\u001b[0m\u001b[0m\n",
      "\u001b[0;32m~/home_at_filer2/tools/anaconda3/envs/py3tf2/lib/python3.6/site-packages/tensorflow/python/client/session.py\u001b[0m in \u001b[0;36m_run_fn\u001b[0;34m(feed_dict, fetch_list, target_list, options, run_metadata)\u001b[0m\n\u001b[1;32m   1317\u001b[0m       \u001b[0mself\u001b[0m\u001b[0;34m.\u001b[0m\u001b[0m_extend_graph\u001b[0m\u001b[0;34m(\u001b[0m\u001b[0;34m)\u001b[0m\u001b[0;34m\u001b[0m\u001b[0;34m\u001b[0m\u001b[0m\n\u001b[1;32m   1318\u001b[0m       return self._call_tf_sessionrun(\n\u001b[0;32m-> 1319\u001b[0;31m           options, feed_dict, fetch_list, target_list, run_metadata)\n\u001b[0m\u001b[1;32m   1320\u001b[0m \u001b[0;34m\u001b[0m\u001b[0m\n\u001b[1;32m   1321\u001b[0m     \u001b[0;32mdef\u001b[0m \u001b[0m_prun_fn\u001b[0m\u001b[0;34m(\u001b[0m\u001b[0mhandle\u001b[0m\u001b[0;34m,\u001b[0m \u001b[0mfeed_dict\u001b[0m\u001b[0;34m,\u001b[0m \u001b[0mfetch_list\u001b[0m\u001b[0;34m)\u001b[0m\u001b[0;34m:\u001b[0m\u001b[0;34m\u001b[0m\u001b[0;34m\u001b[0m\u001b[0m\n",
      "\u001b[0;32m~/home_at_filer2/tools/anaconda3/envs/py3tf2/lib/python3.6/site-packages/tensorflow/python/client/session.py\u001b[0m in \u001b[0;36m_call_tf_sessionrun\u001b[0;34m(self, options, feed_dict, fetch_list, target_list, run_metadata)\u001b[0m\n\u001b[1;32m   1405\u001b[0m     return tf_session.TF_SessionRun_wrapper(\n\u001b[1;32m   1406\u001b[0m         \u001b[0mself\u001b[0m\u001b[0;34m.\u001b[0m\u001b[0m_session\u001b[0m\u001b[0;34m,\u001b[0m \u001b[0moptions\u001b[0m\u001b[0;34m,\u001b[0m \u001b[0mfeed_dict\u001b[0m\u001b[0;34m,\u001b[0m \u001b[0mfetch_list\u001b[0m\u001b[0;34m,\u001b[0m \u001b[0mtarget_list\u001b[0m\u001b[0;34m,\u001b[0m\u001b[0;34m\u001b[0m\u001b[0;34m\u001b[0m\u001b[0m\n\u001b[0;32m-> 1407\u001b[0;31m         run_metadata)\n\u001b[0m\u001b[1;32m   1408\u001b[0m \u001b[0;34m\u001b[0m\u001b[0m\n\u001b[1;32m   1409\u001b[0m   \u001b[0;32mdef\u001b[0m \u001b[0m_call_tf_sessionprun\u001b[0m\u001b[0;34m(\u001b[0m\u001b[0mself\u001b[0m\u001b[0;34m,\u001b[0m \u001b[0mhandle\u001b[0m\u001b[0;34m,\u001b[0m \u001b[0mfeed_dict\u001b[0m\u001b[0;34m,\u001b[0m \u001b[0mfetch_list\u001b[0m\u001b[0;34m)\u001b[0m\u001b[0;34m:\u001b[0m\u001b[0;34m\u001b[0m\u001b[0;34m\u001b[0m\u001b[0m\n",
      "\u001b[0;31mKeyboardInterrupt\u001b[0m: "
     ]
    }
   ],
   "source": [
    "trainer.train (\n",
    "    max_steps=10000,\n",
    "    train_eval_rate=100, \n",
    "    validation_rate=100, \n",
    "    verbose_rate=1000, \n",
    "    summary_rate=100, \n",
    "    checkpoint_rate=1000, \n",
    "    hyperparams = {\n",
    "        'learning_rate_generator': 1e-7 * batcher.batch_size,\n",
    "\n",
    "        'loss_factor_g_mil_ent': 1.0,\n",
    "        'loss_factor_g_mil_ent_conf': 0.0,\n",
    "        'loss_factor_g_mil_pred': 1.0,\n",
    "        'loss_factor_g_mil_pred_conf': 0.0,\n",
    "        'loss_factor_g_mil_role': 10.0,\n",
    "        'loss_factor_g_mil_box': 0.0,\n",
    "        'loss_factor_g_aux_emb_ent': 0.0,\n",
    "        'loss_factor_g_aux_emb_pred': 0.0,\n",
    "\n",
    "        'confidence_weight_on_role': 0.0,\n",
    "        'grad_clipping': 5.0,\n",
    "        'mil_iou_offset': 0.01,\n",
    "        'dropout_rate_g': 0.0,\n",
    "    },\n",
    "    validation_hyperparams = {\n",
    "        'dropout_rate_g': 0.0,\n",
    "        'confidence_weight_on_role': 0.0\n",
    "    },\n",
    ")\n"
   ]
  },
  {
   "cell_type": "code",
   "execution_count": null,
   "metadata": {},
   "outputs": [],
   "source": [
    "trainer.save_model('final_1')"
   ]
  },
  {
   "cell_type": "code",
   "execution_count": null,
   "metadata": {},
   "outputs": [],
   "source": []
  },
  {
   "cell_type": "markdown",
   "metadata": {},
   "source": [
    "# Step 3: Evaluation"
   ]
  },
  {
   "cell_type": "code",
   "execution_count": 14,
   "metadata": {},
   "outputs": [
    {
     "name": "stdout",
     "output_type": "stream",
     "text": [
      "WARNING:tensorflow:From /home/alireza/home_at_filer2/tools/anaconda3/envs/py3tf2/lib/python3.6/site-packages/tensorflow/python/training/saver.py:1266: checkpoint_exists (from tensorflow.python.training.checkpoint_management) is deprecated and will be removed in a future version.\n",
      "Instructions for updating:\n",
      "Use standard file APIs to check for files with this prefix.\n",
      "INFO:tensorflow:Restoring parameters from ../../checkpoint/exp_053/ckpt-48000\n"
     ]
    }
   ],
   "source": [
    "load_params(sess, os.path.join(codebase, 'checkpoint', exp_name, 'ckpt-48000'))"
   ]
  },
  {
   "cell_type": "code",
   "execution_count": null,
   "metadata": {},
   "outputs": [],
   "source": []
  },
  {
   "cell_type": "code",
   "execution_count": 15,
   "metadata": {},
   "outputs": [],
   "source": [
    "gl = VGGraphLoader(\n",
    "    os.path.join(codebase, 'metadata', 'VG', 'prep', 'stanford', 'sg_stanford_with_duplicates.pkl'),\n",
    "    os.path.join(codebase, 'metadata', 'VG', 'prep', 'stanford', 'word_emb_stanford_2.pkl'),\n",
    ")\n"
   ]
  },
  {
   "cell_type": "code",
   "execution_count": 16,
   "metadata": {},
   "outputs": [],
   "source": [
    "test_evaluator = Evaluator({        \n",
    "    'graph_loader': gl,\n",
    "    'proposals': proposals,\n",
    "    'num_proposals': 20,\n",
    "    'filter_nonoverlap': True\n",
    "})\n"
   ]
  },
  {
   "cell_type": "code",
   "execution_count": 17,
   "metadata": {},
   "outputs": [],
   "source": [
    "test_idx = np.asarray(list(set(test_idx) - set(img_no_ent)))"
   ]
  },
  {
   "cell_type": "code",
   "execution_count": 18,
   "metadata": {},
   "outputs": [],
   "source": [
    "batcher_test = GraphBatcher(\n",
    "    gl, 32, proposals,\n",
    "    os.path.join(codebase, 'data', 'VG', 'xfeat_proposals', 'iresnet_oi_lowprop', 'feats_float32_20x1536.lmdb'), \n",
    "    dim_feats=1536,\n",
    "    seed=1237, \n",
    ")\n",
    "batcher_test.set_subset(test_idx)"
   ]
  },
  {
   "cell_type": "code",
   "execution_count": 19,
   "metadata": {},
   "outputs": [
    {
     "name": "stdout",
     "output_type": "stream",
     "text": [
      "Deploying\n",
      "Batch 1/997 done in 1 seconds. Spent time for read=0.11 (avg 0.11), processing=1.11 (avg 1.11), write=0.00 (avg 0.00) seconds.\n",
      "Batch 101/997 done in 8 seconds. Spent time for read=0.01 (avg 0.01), processing=0.06 (avg 0.07), write=0.00 (avg 0.00) seconds.\n",
      "Batch 201/997 done in 15 seconds. Spent time for read=0.01 (avg 0.01), processing=0.06 (avg 0.07), write=0.00 (avg 0.00) seconds.\n",
      "Batch 301/997 done in 22 seconds. Spent time for read=0.02 (avg 0.01), processing=0.06 (avg 0.07), write=0.00 (avg 0.00) seconds.\n",
      "Batch 401/997 done in 30 seconds. Spent time for read=0.00 (avg 0.01), processing=0.06 (avg 0.07), write=0.00 (avg 0.00) seconds.\n",
      "Batch 501/997 done in 37 seconds. Spent time for read=0.01 (avg 0.01), processing=0.06 (avg 0.07), write=0.00 (avg 0.00) seconds.\n",
      "Batch 601/997 done in 44 seconds. Spent time for read=0.01 (avg 0.01), processing=0.06 (avg 0.07), write=0.00 (avg 0.00) seconds.\n",
      "Batch 701/997 done in 52 seconds. Spent time for read=0.01 (avg 0.01), processing=0.06 (avg 0.07), write=0.00 (avg 0.00) seconds.\n",
      "Batch 801/997 done in 60 seconds. Spent time for read=0.01 (avg 0.01), processing=0.06 (avg 0.07), write=0.00 (avg 0.00) seconds.\n",
      "Batch 901/997 done in 67 seconds. Spent time for read=0.01 (avg 0.01), processing=0.06 (avg 0.07), write=0.00 (avg 0.00) seconds.\n",
      "Batch 997/997 done in 74 seconds. Spent time for read=0.00 (avg 0.01), processing=0.01 (avg 0.07), write=0.00 (avg 0.00) seconds.\n",
      "Done in 74 seconds\n"
     ]
    }
   ],
   "source": [
    "#test_evaluator.reset()\n",
    "deploy(sess, model, batcher_test, test_evaluator, model.eval_ops,\n",
    "    hyperparams={\n",
    "        'dropout_rate_g': 0.0,\n",
    "        'confidence_weight_on_role': 0.0\n",
    "    },\n",
    "    ignore_errors=False,\n",
    "    debug_mode=False,\n",
    "    verbose_rate=100\n",
    ")\n"
   ]
  },
  {
   "cell_type": "code",
   "execution_count": 35,
   "metadata": {},
   "outputs": [
    {
     "data": {
      "text/plain": [
       "{'PerImagePredMP': 0.31596530304931614,\n",
       " 'PerImagePredMR': 0.9638242496028098,\n",
       " 'PerImageOneHopMP_at100_iou_0.5': 0.0038787802735600454,\n",
       " 'PerImageOneHopMR_at100_iou_0.5': 0.053772982299779296,\n",
       " 'PerImageOneHopMP_at50_iou_0.5': 0.0064173672982808395,\n",
       " 'PerImageOneHopMR_at50_iou_0.5': 0.04664551777924036}"
      ]
     },
     "execution_count": 35,
     "metadata": {},
     "output_type": "execute_result"
    }
   ],
   "source": [
    "test_results = test_evaluator.evaluate()\n",
    "test_results"
   ]
  },
  {
   "cell_type": "code",
   "execution_count": null,
   "metadata": {},
   "outputs": [],
   "source": []
  }
 ],
 "metadata": {
  "kernelspec": {
   "display_name": "Py3 w/ Tensorflow 2",
   "language": "python",
   "name": "py3tf2"
  },
  "language_info": {
   "codemirror_mode": {
    "name": "ipython",
    "version": 3
   },
   "file_extension": ".py",
   "mimetype": "text/x-python",
   "name": "python",
   "nbconvert_exporter": "python",
   "pygments_lexer": "ipython3",
   "version": "3.6.8"
  }
 },
 "nbformat": 4,
 "nbformat_minor": 4
}
