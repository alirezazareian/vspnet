{
 "cells": [
  {
   "cell_type": "markdown",
   "metadata": {},
   "source": [
    "# Step 1: Data and Model Preparation\n"
   ]
  },
  {
   "cell_type": "code",
   "execution_count": 1,
   "metadata": {},
   "outputs": [],
   "source": [
    "exp_name = 'exp_054'"
   ]
  },
  {
   "cell_type": "code",
   "execution_count": 2,
   "metadata": {},
   "outputs": [],
   "source": [
    "%load_ext autoreload\n",
    "%autoreload 2\n",
    "import sys\n",
    "import os\n",
    "codebase = '../../'\n",
    "sys.path.append(codebase)"
   ]
  },
  {
   "cell_type": "code",
   "execution_count": 3,
   "metadata": {},
   "outputs": [],
   "source": [
    "from src.dataflow.vg_graph_loader_3 import VGGraphLoader\n",
    "from src.dataflow.graph_batcher_2_rpn import GraphBatcher"
   ]
  },
  {
   "cell_type": "code",
   "execution_count": 4,
   "metadata": {},
   "outputs": [
    {
     "name": "stdout",
     "output_type": "stream",
     "text": [
      "\n",
      "WARNING: The TensorFlow contrib module will not be included in TensorFlow 2.0.\n",
      "For more information, please see:\n",
      "  * https://github.com/tensorflow/community/blob/master/rfcs/20180907-contrib-sunset.md\n",
      "  * https://github.com/tensorflow/addons\n",
      "If you depend on functionality not listed there, please file an issue.\n",
      "\n"
     ]
    }
   ],
   "source": [
    "from src.tensorflow.models.vsp_model_002 import Model\n",
    "from src.tensorflow.engine.trainer_3 import Trainer\n",
    "from src.tensorflow.engine.util import deploy, load_params\n",
    "from src.util.util import pickle_save, pickle_load\n",
    "from src.eval.sgg_evaluator_03 import Evaluator"
   ]
  },
  {
   "cell_type": "code",
   "execution_count": 5,
   "metadata": {},
   "outputs": [],
   "source": [
    "import tensorflow as tf\n",
    "import numpy as np\n",
    "tf.set_random_seed(1234)\n",
    "np.random.seed(1235)"
   ]
  },
  {
   "cell_type": "code",
   "execution_count": null,
   "metadata": {},
   "outputs": [],
   "source": []
  },
  {
   "cell_type": "code",
   "execution_count": 6,
   "metadata": {},
   "outputs": [],
   "source": [
    "gl = VGGraphLoader(\n",
    "    os.path.join(codebase, 'metadata', 'VG', 'prep', 'hanwang', 'sg.pkl'),\n",
    "    os.path.join(codebase, 'metadata', 'VG', 'prep', 'hanwang', 'class_embs.pkl'),\n",
    ")\n"
   ]
  },
  {
   "cell_type": "code",
   "execution_count": 7,
   "metadata": {},
   "outputs": [],
   "source": [
    "img_ids, train_idx, test_idx = pickle_load(os.path.join(codebase, 'metadata', 'VG', 'prep', 'hanwang', 'split.pkl'))\n"
   ]
  },
  {
   "cell_type": "code",
   "execution_count": 8,
   "metadata": {},
   "outputs": [],
   "source": [
    "np.random.shuffle(train_idx)\n",
    "val_idx = train_idx[:1000]\n",
    "train_idx = train_idx[1000:]"
   ]
  },
  {
   "cell_type": "code",
   "execution_count": null,
   "metadata": {},
   "outputs": [],
   "source": []
  },
  {
   "cell_type": "code",
   "execution_count": 9,
   "metadata": {},
   "outputs": [],
   "source": [
    "proposals = pickle_load(os.path.join(codebase, 'data', 'VG', 'xfeat_proposals', 'iresnet_oi', 'coords.pkl'))"
   ]
  },
  {
   "cell_type": "code",
   "execution_count": 11,
   "metadata": {},
   "outputs": [],
   "source": [
    "batcher = GraphBatcher(\n",
    "    gl, 32, proposals,\n",
    "    os.path.join(codebase, 'data', 'VG', 'xfeat_proposals', 'iresnet_oi', 'xfeat_proposals_inresnet_float32_300x1536.lmdb'), \n",
    "    dim_feats=1536,\n",
    "    seed=1236, \n",
    ")\n",
    "batcher.set_subset(train_idx)\n",
    "batcher.shuffle()"
   ]
  },
  {
   "cell_type": "code",
   "execution_count": 12,
   "metadata": {},
   "outputs": [],
   "source": [
    "batcher_val = GraphBatcher(\n",
    "    gl, 32, proposals,\n",
    "    os.path.join(codebase, 'data', 'VG', 'xfeat_proposals', 'iresnet_oi', 'xfeat_proposals_inresnet_float32_300x1536.lmdb'), \n",
    "    dim_feats=1536,\n",
    "    seed=1237, \n",
    ")\n",
    "batcher_val.set_subset(val_idx)"
   ]
  },
  {
   "cell_type": "code",
   "execution_count": null,
   "metadata": {},
   "outputs": [],
   "source": []
  },
  {
   "cell_type": "code",
   "execution_count": 12,
   "metadata": {},
   "outputs": [],
   "source": [
    "tf.reset_default_graph()"
   ]
  },
  {
   "cell_type": "code",
   "execution_count": 13,
   "metadata": {},
   "outputs": [
    {
     "name": "stdout",
     "output_type": "stream",
     "text": [
      "WARNING:tensorflow:From ../../src/tensorflow/models/vsp_model_002.py:94: GRUCell.__init__ (from tensorflow.python.ops.rnn_cell_impl) is deprecated and will be removed in a future version.\n",
      "Instructions for updating:\n",
      "This class is equivalent as tf.keras.layers.GRUCell, and will be replaced by that in Tensorflow 2.0.\n",
      "WARNING:tensorflow:From /home/alireza/home_at_filer2/tools/anaconda3/envs/py3tf2/lib/python3.6/site-packages/tensorflow/python/framework/op_def_library.py:263: colocate_with (from tensorflow.python.framework.ops) is deprecated and will be removed in a future version.\n",
      "Instructions for updating:\n",
      "Colocations handled automatically by placer.\n",
      "WARNING:tensorflow:From ../../src/tensorflow/util/util.py:15: dense (from tensorflow.python.layers.core) is deprecated and will be removed in a future version.\n",
      "Instructions for updating:\n",
      "Use keras.layers.dense instead.\n",
      "WARNING:tensorflow:From ../../src/tensorflow/util/util.py:17: calling dropout (from tensorflow.python.ops.nn_ops) with keep_prob is deprecated and will be removed in a future version.\n",
      "Instructions for updating:\n",
      "Please use `rate` instead of `keep_prob`. Rate should be set to `rate = 1 - keep_prob`.\n",
      "WARNING:tensorflow:From ../../src/tensorflow/models/vsp_model_002.py:513: py_func (from tensorflow.python.ops.script_ops) is deprecated and will be removed in a future version.\n",
      "Instructions for updating:\n",
      "tf.py_func is deprecated in TF V2. Instead, use\n",
      "    tf.py_function, which takes a python function which manipulates tf eager\n",
      "    tensors instead of numpy arrays. It's easy to convert a tf eager tensor to\n",
      "    an ndarray (just call tensor.numpy()) but having access to eager tensors\n",
      "    means `tf.py_function`s can use accelerators such as GPUs as well as\n",
      "    being differentiable using a gradient tape.\n",
      "    \n",
      "WARNING:tensorflow:From /home/alireza/home_at_filer2/tools/anaconda3/envs/py3tf2/lib/python3.6/site-packages/tensorflow/python/ops/math_ops.py:3066: to_int32 (from tensorflow.python.ops.math_ops) is deprecated and will be removed in a future version.\n",
      "Instructions for updating:\n",
      "Use tf.cast instead.\n"
     ]
    }
   ],
   "source": [
    "model = Model(   \n",
    "    dim_att_head_role_ent=[1024, 1024], \n",
    "    dim_att_head_role_pred=[1024, 1024],\n",
    "    role_edge_mode='full_soft',\n",
    "    stop_grad_role_edge=True,\n",
    "    \n",
    "    dim_state_ent=1024,\n",
    "    dim_state_pred=1024,\n",
    "    dim_emb_head_ent=[300],\n",
    "    dim_conf_head_ent=[],\n",
    "    dim_conf_head_pred=[],\n",
    "    dim_emb_head_pred=[300],\n",
    "    dim_init_head_ent=[1024],\n",
    "\n",
    "    dim_message_send_head_pred2ent=[1024, 1024],\n",
    "    dim_message_pool_head_pred2ent=[1024, 1024],\n",
    "    dim_message_receive_head_pred2ent=[1024, 1024],    \n",
    "    dim_message_send_head_ent2pred=[1024, 1024],\n",
    "    dim_message_pool_head_ent2pred=[1024, 1024],\n",
    "    dim_message_receive_head_ent2pred=[1024, 1024],\n",
    "    \n",
    "    num_mp_iter=3,     \n",
    "    num_proposals=None,\n",
    "\n",
    "    heat_role=1.0,\n",
    "    heat_emb_mil=1.0,\n",
    "    null_att_logit=0.0,\n",
    "        \n",
    "    num_align_iter=3,\n",
    "    alignment_order='best',\n",
    "    default_act_fn_name='leaky_relu',\n",
    "    optimizer_type_generator=tf.train.AdamOptimizer,\n",
    "    \n",
    "    max_num_pred=100,\n",
    "    dim_init_head_pred=[],\n",
    "    init_state_type_pred='trainable',\n",
    "    \n",
    "    dim_proposal_feat=1536,\n",
    "    emb_dict_ent=gl.noun_emb_dict,\n",
    "    emb_dict_pred=gl.pred_emb_dict,    \n",
    "    #image_size=448,\n",
    "    #num_channels=3,\n",
    "    debugging=False\n",
    ")\n",
    "\n"
   ]
  },
  {
   "cell_type": "code",
   "execution_count": null,
   "metadata": {},
   "outputs": [],
   "source": []
  },
  {
   "cell_type": "code",
   "execution_count": 14,
   "metadata": {},
   "outputs": [],
   "source": [
    "os.environ[\"CUDA_VISIBLE_DEVICES\"]=\"0\"\n",
    "#sess = tf.Session(config=tf.ConfigProto(gpu_options=tf.GPUOptions(allow_growth=True)))\n",
    "#sess = tf.Session(config=tf.ConfigProto(gpu_options=tf.GPUOptions(per_process_gpu_memory_fraction=0.5)))\n",
    "sess = tf.Session()\n",
    "sess.run(tf.no_op())"
   ]
  },
  {
   "cell_type": "code",
   "execution_count": null,
   "metadata": {},
   "outputs": [],
   "source": []
  },
  {
   "cell_type": "markdown",
   "metadata": {},
   "source": [
    "# Step 2: Training\n"
   ]
  },
  {
   "cell_type": "code",
   "execution_count": 15,
   "metadata": {},
   "outputs": [],
   "source": [
    "train_evaluator = Evaluator({        \n",
    "    'graph_loader': gl,\n",
    "    'proposals': proposals,\n",
    "    'num_proposals': 300,\n",
    "    'filter_nonoverlap': True\n",
    "})\n",
    "val_evaluator = Evaluator({        \n",
    "    'graph_loader': gl,\n",
    "    'proposals': proposals,\n",
    "    'num_proposals': 300,\n",
    "    'filter_nonoverlap': True\n",
    "})\n"
   ]
  },
  {
   "cell_type": "code",
   "execution_count": null,
   "metadata": {},
   "outputs": [],
   "source": []
  },
  {
   "cell_type": "code",
   "execution_count": null,
   "metadata": {},
   "outputs": [],
   "source": [
    "trainer = Trainer(\n",
    "    model, sess, batcher, batcher_val, train_evaluator, val_evaluator,\n",
    "    logdir=os.path.join(codebase, 'log', 'tfsummary', exp_name), \n",
    "    modeldir=os.path.join(codebase, 'checkpoint', exp_name),\n",
    ")"
   ]
  },
  {
   "cell_type": "code",
   "execution_count": null,
   "metadata": {},
   "outputs": [],
   "source": []
  },
  {
   "cell_type": "code",
   "execution_count": null,
   "metadata": {},
   "outputs": [
    {
     "name": "stdout",
     "output_type": "stream",
     "text": [
      "Step 1000: loss = 6.085000038146973 (6978.693 sec)\n",
      "Training Batch Evaluation Results: {'PerImagePredMP': 0.408, 'PerImagePredMR': 0.928, 'PerImageOneHopMP_at100_iou_0.5': 0.008, 'PerImageOneHopMR_at100_iou_0.5': 0.049, 'PerImageOneHopMP_at50_iou_0.5': 0.014, 'PerImageOneHopMR_at50_iou_0.5': 0.045, 'PerImageOneHopMP_phrase_at100_iou_0.5': 0.027, 'PerImageOneHopMR_phrase_at100_iou_0.5': 0.162, 'PerImageOneHopMP_phrase_at50_iou_0.5': 0.045, 'PerImageOneHopMR_phrase_at50_iou_0.5': 0.139}\n",
      "Validation Results: {'PerImagePredMP': 0.419, 'PerImagePredMR': 0.914, 'PerImageOneHopMP_at100_iou_0.5': 0.008, 'PerImageOneHopMR_at100_iou_0.5': 0.053, 'PerImageOneHopMP_at50_iou_0.5': 0.014, 'PerImageOneHopMR_at50_iou_0.5': 0.048, 'PerImageOneHopMP_phrase_at100_iou_0.5': 0.03, 'PerImageOneHopMR_phrase_at100_iou_0.5': 0.17, 'PerImageOneHopMP_phrase_at50_iou_0.5': 0.049, 'PerImageOneHopMR_phrase_at50_iou_0.5': 0.148}\n",
      "Step 2000: loss = 5.682000160217285 (13966.263 sec)\n",
      "Training Batch Evaluation Results: {'PerImagePredMP': 0.418, 'PerImagePredMR': 0.932, 'PerImageOneHopMP_at100_iou_0.5': 0.009, 'PerImageOneHopMR_at100_iou_0.5': 0.052, 'PerImageOneHopMP_at50_iou_0.5': 0.016, 'PerImageOneHopMR_at50_iou_0.5': 0.048, 'PerImageOneHopMP_phrase_at100_iou_0.5': 0.035, 'PerImageOneHopMR_phrase_at100_iou_0.5': 0.189, 'PerImageOneHopMP_phrase_at50_iou_0.5': 0.057, 'PerImageOneHopMR_phrase_at50_iou_0.5': 0.165}\n",
      "Validation Results: {'PerImagePredMP': 0.41, 'PerImagePredMR': 0.932, 'PerImageOneHopMP_at100_iou_0.5': 0.01, 'PerImageOneHopMR_at100_iou_0.5': 0.062, 'PerImageOneHopMP_at50_iou_0.5': 0.018, 'PerImageOneHopMR_at50_iou_0.5': 0.058, 'PerImageOneHopMP_phrase_at100_iou_0.5': 0.034, 'PerImageOneHopMR_phrase_at100_iou_0.5': 0.191, 'PerImageOneHopMP_phrase_at50_iou_0.5': 0.057, 'PerImageOneHopMR_phrase_at50_iou_0.5': 0.165}\n"
     ]
    }
   ],
   "source": [
    "trainer.train (\n",
    "    max_steps=20000,\n",
    "    train_eval_rate=100, \n",
    "    validation_rate=100, \n",
    "    verbose_rate=1000, \n",
    "    summary_rate=100, \n",
    "    checkpoint_rate=10000, \n",
    "    hyperparams = {\n",
    "        'learning_rate_generator': 1e-5 * batcher.batch_size,\n",
    "\n",
    "        'loss_factor_g_mil_ent': 1.0,\n",
    "        'loss_factor_g_mil_ent_conf': 0.0,\n",
    "        'loss_factor_g_mil_pred': 1.0,\n",
    "        'loss_factor_g_mil_pred_conf': 0.0,\n",
    "        'loss_factor_g_mil_role': 10.0,\n",
    "        'loss_factor_g_mil_box': 10.0,\n",
    "        'loss_factor_g_aux_emb_ent': 0.0,\n",
    "        'loss_factor_g_aux_emb_pred': 0.0,\n",
    "\n",
    "        'confidence_weight_on_role': 0.0,\n",
    "        'grad_clipping': 5.0,\n",
    "        'mil_iou_offset': 0.01,\n",
    "        'dropout_rate_g': 0.0,\n",
    "    },\n",
    "    validation_hyperparams = {\n",
    "        'dropout_rate_g': 0.0,\n",
    "        'confidence_weight_on_role': 0.0\n",
    "    },\n",
    ")\n"
   ]
  },
  {
   "cell_type": "code",
   "execution_count": null,
   "metadata": {},
   "outputs": [],
   "source": [
    "trainer.train (\n",
    "    max_steps=30000,\n",
    "    train_eval_rate=100, \n",
    "    validation_rate=100, \n",
    "    verbose_rate=1000, \n",
    "    summary_rate=100, \n",
    "    checkpoint_rate=1000, \n",
    "    hyperparams = {\n",
    "        'learning_rate_generator': 1e-6 * batcher.batch_size,\n",
    "\n",
    "        'loss_factor_g_mil_ent': 1.0,\n",
    "        'loss_factor_g_mil_ent_conf': 0.0,\n",
    "        'loss_factor_g_mil_pred': 1.0,\n",
    "        'loss_factor_g_mil_pred_conf': 0.0,\n",
    "        'loss_factor_g_mil_role': 10.0,\n",
    "        'loss_factor_g_mil_box': 10.0,\n",
    "        'loss_factor_g_aux_emb_ent': 0.0,\n",
    "        'loss_factor_g_aux_emb_pred': 0.0,\n",
    "\n",
    "        'confidence_weight_on_role': 0.0,\n",
    "        'grad_clipping': 5.0,\n",
    "        'mil_iou_offset': 0.01,\n",
    "        'dropout_rate_g': 0.0,\n",
    "    },\n",
    "    validation_hyperparams = {\n",
    "        'dropout_rate_g': 0.0,\n",
    "        'confidence_weight_on_role': 0.0\n",
    "    },\n",
    ")\n"
   ]
  },
  {
   "cell_type": "code",
   "execution_count": 18,
   "metadata": {},
   "outputs": [
    {
     "name": "stdout",
     "output_type": "stream",
     "text": [
      "Step 51000: loss = 4.5229997634887695 (5972.609 sec)\n",
      "Training Batch Evaluation Results: {'PerImagePredMP': 0.454, 'PerImagePredMR': 0.961, 'PerImageOneHopMP_at100_iou_0.5': 0.021, 'PerImageOneHopMR_at100_iou_0.5': 0.113, 'PerImageOneHopMP_at50_iou_0.5': 0.035, 'PerImageOneHopMR_at50_iou_0.5': 0.101, 'PerImageOneHopMP_phrase_at100_iou_0.5': 0.063, 'PerImageOneHopMR_phrase_at100_iou_0.5': 0.301, 'PerImageOneHopMP_phrase_at50_iou_0.5': 0.094, 'PerImageOneHopMR_phrase_at50_iou_0.5': 0.257}\n",
      "Validation Results: {'PerImagePredMP': 0.447, 'PerImagePredMR': 0.946, 'PerImageOneHopMP_at100_iou_0.5': 0.02, 'PerImageOneHopMR_at100_iou_0.5': 0.104, 'PerImageOneHopMP_at50_iou_0.5': 0.032, 'PerImageOneHopMR_at50_iou_0.5': 0.091, 'PerImageOneHopMP_phrase_at100_iou_0.5': 0.061, 'PerImageOneHopMR_phrase_at100_iou_0.5': 0.28, 'PerImageOneHopMP_phrase_at50_iou_0.5': 0.092, 'PerImageOneHopMR_phrase_at50_iou_0.5': 0.239}\n",
      "Step 52000: loss = 4.455999851226807 (12181.349 sec)\n",
      "Training Batch Evaluation Results: {'PerImagePredMP': 0.455, 'PerImagePredMR': 0.96, 'PerImageOneHopMP_at100_iou_0.5': 0.021, 'PerImageOneHopMR_at100_iou_0.5': 0.114, 'PerImageOneHopMP_at50_iou_0.5': 0.034, 'PerImageOneHopMR_at50_iou_0.5': 0.103, 'PerImageOneHopMP_phrase_at100_iou_0.5': 0.064, 'PerImageOneHopMR_phrase_at100_iou_0.5': 0.302, 'PerImageOneHopMP_phrase_at50_iou_0.5': 0.096, 'PerImageOneHopMR_phrase_at50_iou_0.5': 0.261}\n",
      "Validation Results: {'PerImagePredMP': 0.446, 'PerImagePredMR': 0.946, 'PerImageOneHopMP_at100_iou_0.5': 0.02, 'PerImageOneHopMR_at100_iou_0.5': 0.103, 'PerImageOneHopMP_at50_iou_0.5': 0.032, 'PerImageOneHopMR_at50_iou_0.5': 0.092, 'PerImageOneHopMP_phrase_at100_iou_0.5': 0.062, 'PerImageOneHopMR_phrase_at100_iou_0.5': 0.281, 'PerImageOneHopMP_phrase_at50_iou_0.5': 0.092, 'PerImageOneHopMR_phrase_at50_iou_0.5': 0.24}\n",
      "Step 53000: loss = 5.005000114440918 (19053.862 sec)\n",
      "Training Batch Evaluation Results: {'PerImagePredMP': 0.458, 'PerImagePredMR': 0.959, 'PerImageOneHopMP_at100_iou_0.5': 0.021, 'PerImageOneHopMR_at100_iou_0.5': 0.108, 'PerImageOneHopMP_at50_iou_0.5': 0.036, 'PerImageOneHopMR_at50_iou_0.5': 0.098, 'PerImageOneHopMP_phrase_at100_iou_0.5': 0.064, 'PerImageOneHopMR_phrase_at100_iou_0.5': 0.296, 'PerImageOneHopMP_phrase_at50_iou_0.5': 0.097, 'PerImageOneHopMR_phrase_at50_iou_0.5': 0.253}\n",
      "Validation Results: {'PerImagePredMP': 0.448, 'PerImagePredMR': 0.947, 'PerImageOneHopMP_at100_iou_0.5': 0.02, 'PerImageOneHopMR_at100_iou_0.5': 0.102, 'PerImageOneHopMP_at50_iou_0.5': 0.033, 'PerImageOneHopMR_at50_iou_0.5': 0.092, 'PerImageOneHopMP_phrase_at100_iou_0.5': 0.061, 'PerImageOneHopMR_phrase_at100_iou_0.5': 0.279, 'PerImageOneHopMP_phrase_at50_iou_0.5': 0.092, 'PerImageOneHopMR_phrase_at50_iou_0.5': 0.237}\n",
      "Step 54000: loss = 4.565000057220459 (25177.497 sec)\n",
      "Training Batch Evaluation Results: {'PerImagePredMP': 0.459, 'PerImagePredMR': 0.961, 'PerImageOneHopMP_at100_iou_0.5': 0.021, 'PerImageOneHopMR_at100_iou_0.5': 0.115, 'PerImageOneHopMP_at50_iou_0.5': 0.036, 'PerImageOneHopMR_at50_iou_0.5': 0.105, 'PerImageOneHopMP_phrase_at100_iou_0.5': 0.064, 'PerImageOneHopMR_phrase_at100_iou_0.5': 0.303, 'PerImageOneHopMP_phrase_at50_iou_0.5': 0.097, 'PerImageOneHopMR_phrase_at50_iou_0.5': 0.266}\n",
      "Validation Results: {'PerImagePredMP': 0.448, 'PerImagePredMR': 0.946, 'PerImageOneHopMP_at100_iou_0.5': 0.02, 'PerImageOneHopMR_at100_iou_0.5': 0.104, 'PerImageOneHopMP_at50_iou_0.5': 0.033, 'PerImageOneHopMR_at50_iou_0.5': 0.093, 'PerImageOneHopMP_phrase_at100_iou_0.5': 0.062, 'PerImageOneHopMR_phrase_at100_iou_0.5': 0.279, 'PerImageOneHopMP_phrase_at50_iou_0.5': 0.093, 'PerImageOneHopMR_phrase_at50_iou_0.5': 0.239}\n",
      "Step 55000: loss = 4.26800012588501 (31249.723 sec)\n",
      "Training Batch Evaluation Results: {'PerImagePredMP': 0.453, 'PerImagePredMR': 0.956, 'PerImageOneHopMP_at100_iou_0.5': 0.021, 'PerImageOneHopMR_at100_iou_0.5': 0.111, 'PerImageOneHopMP_at50_iou_0.5': 0.036, 'PerImageOneHopMR_at50_iou_0.5': 0.102, 'PerImageOneHopMP_phrase_at100_iou_0.5': 0.065, 'PerImageOneHopMR_phrase_at100_iou_0.5': 0.307, 'PerImageOneHopMP_phrase_at50_iou_0.5': 0.098, 'PerImageOneHopMR_phrase_at50_iou_0.5': 0.268}\n",
      "Validation Results: {'PerImagePredMP': 0.448, 'PerImagePredMR': 0.945, 'PerImageOneHopMP_at100_iou_0.5': 0.02, 'PerImageOneHopMR_at100_iou_0.5': 0.101, 'PerImageOneHopMP_at50_iou_0.5': 0.033, 'PerImageOneHopMR_at50_iou_0.5': 0.089, 'PerImageOneHopMP_phrase_at100_iou_0.5': 0.061, 'PerImageOneHopMR_phrase_at100_iou_0.5': 0.278, 'PerImageOneHopMP_phrase_at50_iou_0.5': 0.093, 'PerImageOneHopMR_phrase_at50_iou_0.5': 0.235}\n"
     ]
    }
   ],
   "source": [
    "trainer.train (\n",
    "    max_steps=5000,\n",
    "    train_eval_rate=100, \n",
    "    validation_rate=100, \n",
    "    verbose_rate=1000, \n",
    "    summary_rate=100, \n",
    "    checkpoint_rate=1000, \n",
    "    hyperparams = {\n",
    "        'learning_rate_generator': 1e-7 * batcher.batch_size,\n",
    "\n",
    "        'loss_factor_g_mil_ent': 1.0,\n",
    "        'loss_factor_g_mil_ent_conf': 0.0,\n",
    "        'loss_factor_g_mil_pred': 1.0,\n",
    "        'loss_factor_g_mil_pred_conf': 0.0,\n",
    "        'loss_factor_g_mil_role': 10.0,\n",
    "        'loss_factor_g_mil_box': 10.0,\n",
    "        'loss_factor_g_aux_emb_ent': 0.0,\n",
    "        'loss_factor_g_aux_emb_pred': 0.0,\n",
    "\n",
    "        'confidence_weight_on_role': 0.0,\n",
    "        'grad_clipping': 5.0,\n",
    "        'mil_iou_offset': 0.01,\n",
    "        'dropout_rate_g': 0.0,\n",
    "    },\n",
    "    validation_hyperparams = {\n",
    "        'dropout_rate_g': 0.0,\n",
    "        'confidence_weight_on_role': 0.0\n",
    "    },\n",
    ")\n"
   ]
  },
  {
   "cell_type": "code",
   "execution_count": null,
   "metadata": {},
   "outputs": [],
   "source": [
    "trainer.save_model('final_1')"
   ]
  },
  {
   "cell_type": "code",
   "execution_count": null,
   "metadata": {},
   "outputs": [],
   "source": []
  },
  {
   "cell_type": "markdown",
   "metadata": {},
   "source": [
    "# Step 3: Evaluation"
   ]
  },
  {
   "cell_type": "code",
   "execution_count": 16,
   "metadata": {},
   "outputs": [
    {
     "name": "stdout",
     "output_type": "stream",
     "text": [
      "WARNING:tensorflow:From /home/alireza/home_at_filer2/tools/anaconda3/envs/py3tf2/lib/python3.6/site-packages/tensorflow/python/training/saver.py:1266: checkpoint_exists (from tensorflow.python.training.checkpoint_management) is deprecated and will be removed in a future version.\n",
      "Instructions for updating:\n",
      "Use standard file APIs to check for files with this prefix.\n",
      "INFO:tensorflow:Restoring parameters from ../../checkpoint/exp_054/ckpt-54000\n"
     ]
    }
   ],
   "source": [
    "load_params(sess, os.path.join(codebase, 'checkpoint', exp_name, 'ckpt-54000'))"
   ]
  },
  {
   "cell_type": "code",
   "execution_count": null,
   "metadata": {},
   "outputs": [],
   "source": []
  },
  {
   "cell_type": "code",
   "execution_count": 17,
   "metadata": {},
   "outputs": [],
   "source": [
    "test_evaluator = Evaluator({        \n",
    "    'graph_loader': gl,\n",
    "    'proposals': proposals,\n",
    "    'num_proposals': 300,\n",
    "    'filter_nonoverlap': True\n",
    "})\n"
   ]
  },
  {
   "cell_type": "code",
   "execution_count": 18,
   "metadata": {},
   "outputs": [],
   "source": [
    "batcher_test = GraphBatcher(\n",
    "    gl, 32, proposals,\n",
    "    os.path.join(codebase, 'data', 'VG', 'xfeat_proposals', 'iresnet_oi', 'xfeat_proposals_inresnet_float32_300x1536.lmdb'), \n",
    "    dim_feats=1536,\n",
    "    seed=1237, \n",
    ")\n",
    "batcher_test.set_subset(test_idx)"
   ]
  },
  {
   "cell_type": "code",
   "execution_count": 19,
   "metadata": {},
   "outputs": [
    {
     "name": "stdout",
     "output_type": "stream",
     "text": [
      "Deploying\n",
      "Batch 1/808 done in 1 seconds. Spent time for read=0.61 (avg 0.61), processing=1.08 (avg 1.08), write=0.00 (avg 0.00) seconds.\n",
      "Batch 101/808 done in 77 seconds. Spent time for read=0.87 (avg 0.49), processing=0.26 (avg 0.27), write=0.00 (avg 0.00) seconds.\n",
      "Batch 201/808 done in 194 seconds. Spent time for read=1.13 (avg 0.70), processing=0.25 (avg 0.27), write=0.00 (avg 0.00) seconds.\n",
      "Batch 401/808 done in 474 seconds. Spent time for read=1.04 (avg 0.92), processing=0.25 (avg 0.26), write=0.00 (avg 0.00) seconds.\n",
      "Batch 501/808 done in 613 seconds. Spent time for read=1.25 (avg 0.96), processing=0.24 (avg 0.26), write=0.00 (avg 0.00) seconds.\n",
      "Batch 601/808 done in 757 seconds. Spent time for read=1.18 (avg 1.00), processing=0.24 (avg 0.26), write=0.00 (avg 0.00) seconds.\n",
      "Batch 701/808 done in 898 seconds. Spent time for read=1.15 (avg 1.02), processing=0.26 (avg 0.26), write=0.00 (avg 0.00) seconds.\n",
      "Batch 801/808 done in 1026 seconds. Spent time for read=0.38 (avg 1.02), processing=0.25 (avg 0.26), write=0.00 (avg 0.00) seconds.\n",
      "Batch 808/808 done in 1031 seconds. Spent time for read=0.40 (avg 1.01), processing=0.24 (avg 0.26), write=0.00 (avg 0.00) seconds.\n",
      "Done in 1031 seconds\n"
     ]
    }
   ],
   "source": [
    "#test_evaluator.reset()\n",
    "deploy(sess, model, batcher_test, test_evaluator, model.eval_ops,\n",
    "    hyperparams={\n",
    "        'dropout_rate_g': 0.0,\n",
    "        'confidence_weight_on_role': 0.0\n",
    "    },\n",
    "    ignore_errors=False,\n",
    "    debug_mode=False,\n",
    "    verbose_rate=100\n",
    ")\n"
   ]
  },
  {
   "cell_type": "code",
   "execution_count": 23,
   "metadata": {},
   "outputs": [
    {
     "data": {
      "text/plain": [
       "{'PerImagePredMP': 0.4568234384064978,\n",
       " 'PerImagePredMR': 0.9450269302361346,\n",
       " 'PerImageOneHopMP_at100_iou_0.5': 0.019904080448655968,\n",
       " 'PerImageOneHopMR_at100_iou_0.5': 0.09891652765628187,\n",
       " 'PerImageOneHopMP_at50_iou_0.5': 0.033489847224908144,\n",
       " 'PerImageOneHopMR_at50_iou_0.5': 0.08916104262337292,\n",
       " 'PerImageOneHopMP_phrase_at100_iou_0.5': 0.06275652678398763,\n",
       " 'PerImageOneHopMR_phrase_at100_iou_0.5': 0.27834307908487504,\n",
       " 'PerImageOneHopMP_phrase_at50_iou_0.5': 0.09430284277702573,\n",
       " 'PerImageOneHopMR_phrase_at50_iou_0.5': 0.23976225500188314}"
      ]
     },
     "execution_count": 23,
     "metadata": {},
     "output_type": "execute_result"
    }
   ],
   "source": [
    "test_results = test_evaluator.evaluate()\n",
    "test_results"
   ]
  },
  {
   "cell_type": "code",
   "execution_count": null,
   "metadata": {},
   "outputs": [],
   "source": []
  },
  {
   "cell_type": "code",
   "execution_count": null,
   "metadata": {},
   "outputs": [],
   "source": []
  }
 ],
 "metadata": {
  "kernelspec": {
   "display_name": "Py3 w/ Tensorflow 2",
   "language": "python",
   "name": "py3tf2"
  },
  "language_info": {
   "codemirror_mode": {
    "name": "ipython",
    "version": 3
   },
   "file_extension": ".py",
   "mimetype": "text/x-python",
   "name": "python",
   "nbconvert_exporter": "python",
   "pygments_lexer": "ipython3",
   "version": "3.6.8"
  }
 },
 "nbformat": 4,
 "nbformat_minor": 4
}
