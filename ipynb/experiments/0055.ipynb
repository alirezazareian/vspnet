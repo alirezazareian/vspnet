{
 "cells": [
  {
   "cell_type": "markdown",
   "metadata": {},
   "source": [
    "# Step 1: Data and Model Preparation\n"
   ]
  },
  {
   "cell_type": "code",
   "execution_count": 1,
   "metadata": {},
   "outputs": [],
   "source": [
    "exp_name = 'exp_055'"
   ]
  },
  {
   "cell_type": "code",
   "execution_count": 2,
   "metadata": {},
   "outputs": [],
   "source": [
    "%load_ext autoreload\n",
    "%autoreload 2\n",
    "import sys\n",
    "import os\n",
    "codebase = '../../'\n",
    "sys.path.append(codebase)"
   ]
  },
  {
   "cell_type": "code",
   "execution_count": 3,
   "metadata": {},
   "outputs": [],
   "source": [
    "from src.dataflow.vg_graph_loader_3 import VGGraphLoader\n",
    "from src.dataflow.graph_batcher_2_rpn import GraphBatcher"
   ]
  },
  {
   "cell_type": "code",
   "execution_count": 4,
   "metadata": {},
   "outputs": [
    {
     "name": "stdout",
     "output_type": "stream",
     "text": [
      "\n",
      "WARNING: The TensorFlow contrib module will not be included in TensorFlow 2.0.\n",
      "For more information, please see:\n",
      "  * https://github.com/tensorflow/community/blob/master/rfcs/20180907-contrib-sunset.md\n",
      "  * https://github.com/tensorflow/addons\n",
      "If you depend on functionality not listed there, please file an issue.\n",
      "\n"
     ]
    }
   ],
   "source": [
    "from src.tensorflow.models.vsp_model_002 import Model\n",
    "from src.tensorflow.engine.trainer_3 import Trainer\n",
    "from src.tensorflow.engine.util import deploy, load_params\n",
    "from src.util.util import pickle_save, pickle_load\n",
    "from src.eval.sgg_evaluator_03 import Evaluator"
   ]
  },
  {
   "cell_type": "code",
   "execution_count": 5,
   "metadata": {},
   "outputs": [],
   "source": [
    "import tensorflow as tf\n",
    "import numpy as np\n",
    "tf.set_random_seed(1224)\n",
    "np.random.seed(1225)"
   ]
  },
  {
   "cell_type": "code",
   "execution_count": null,
   "metadata": {},
   "outputs": [],
   "source": []
  },
  {
   "cell_type": "code",
   "execution_count": 6,
   "metadata": {},
   "outputs": [],
   "source": [
    "gl = VGGraphLoader(\n",
    "    os.path.join(codebase, 'metadata', 'VG', 'prep', 'hanwang', 'sg.pkl'),\n",
    "    os.path.join(codebase, 'metadata', 'VG', 'prep', 'hanwang', 'class_embs.pkl'),\n",
    ")\n"
   ]
  },
  {
   "cell_type": "code",
   "execution_count": 7,
   "metadata": {},
   "outputs": [],
   "source": [
    "img_ids, train_idx, test_idx = pickle_load(os.path.join(codebase, 'metadata', 'VG', 'prep', 'hanwang', 'split.pkl'))\n"
   ]
  },
  {
   "cell_type": "code",
   "execution_count": 8,
   "metadata": {},
   "outputs": [],
   "source": [
    "np.random.shuffle(train_idx)\n",
    "val_idx = train_idx[:1000]\n",
    "train_idx = train_idx[1000:]"
   ]
  },
  {
   "cell_type": "code",
   "execution_count": null,
   "metadata": {},
   "outputs": [],
   "source": []
  },
  {
   "cell_type": "code",
   "execution_count": 9,
   "metadata": {},
   "outputs": [],
   "source": [
    "proposals = pickle_load(os.path.join(codebase, 'data', 'VG', 'xfeat_proposals', 'iresnet_oi_lowprop', 'coords.pkl'))"
   ]
  },
  {
   "cell_type": "code",
   "execution_count": 10,
   "metadata": {},
   "outputs": [],
   "source": [
    "batcher = GraphBatcher(\n",
    "    gl, 32, proposals,\n",
    "    os.path.join(codebase, 'data', 'VG', 'xfeat_proposals', 'iresnet_oi_lowprop', 'feats_float32_20x1536.lmdb'), \n",
    "    dim_feats=1536,\n",
    "    seed=1236, \n",
    ")\n",
    "batcher.set_subset(train_idx)\n",
    "batcher.shuffle()"
   ]
  },
  {
   "cell_type": "code",
   "execution_count": 11,
   "metadata": {},
   "outputs": [],
   "source": [
    "batcher_val = GraphBatcher(\n",
    "    gl, 32, proposals,\n",
    "    os.path.join(codebase, 'data', 'VG', 'xfeat_proposals', 'iresnet_oi_lowprop', 'feats_float32_20x1536.lmdb'), \n",
    "    dim_feats=1536,\n",
    "    seed=1237, \n",
    ")\n",
    "batcher_val.set_subset(val_idx)"
   ]
  },
  {
   "cell_type": "code",
   "execution_count": null,
   "metadata": {},
   "outputs": [],
   "source": []
  },
  {
   "cell_type": "code",
   "execution_count": 12,
   "metadata": {},
   "outputs": [],
   "source": [
    "tf.reset_default_graph()"
   ]
  },
  {
   "cell_type": "code",
   "execution_count": 12,
   "metadata": {},
   "outputs": [
    {
     "name": "stdout",
     "output_type": "stream",
     "text": [
      "WARNING:tensorflow:From ../../src/tensorflow/models/vsp_model_002.py:94: GRUCell.__init__ (from tensorflow.python.ops.rnn_cell_impl) is deprecated and will be removed in a future version.\n",
      "Instructions for updating:\n",
      "This class is equivalent as tf.keras.layers.GRUCell, and will be replaced by that in Tensorflow 2.0.\n",
      "WARNING:tensorflow:From /home/alireza/home_at_filer2/tools/anaconda3/envs/py3tf2/lib/python3.6/site-packages/tensorflow/python/framework/op_def_library.py:263: colocate_with (from tensorflow.python.framework.ops) is deprecated and will be removed in a future version.\n",
      "Instructions for updating:\n",
      "Colocations handled automatically by placer.\n",
      "WARNING:tensorflow:From ../../src/tensorflow/util/util.py:15: dense (from tensorflow.python.layers.core) is deprecated and will be removed in a future version.\n",
      "Instructions for updating:\n",
      "Use keras.layers.dense instead.\n",
      "WARNING:tensorflow:From ../../src/tensorflow/util/util.py:17: calling dropout (from tensorflow.python.ops.nn_ops) with keep_prob is deprecated and will be removed in a future version.\n",
      "Instructions for updating:\n",
      "Please use `rate` instead of `keep_prob`. Rate should be set to `rate = 1 - keep_prob`.\n",
      "WARNING:tensorflow:From ../../src/tensorflow/models/vsp_model_002.py:513: py_func (from tensorflow.python.ops.script_ops) is deprecated and will be removed in a future version.\n",
      "Instructions for updating:\n",
      "tf.py_func is deprecated in TF V2. Instead, use\n",
      "    tf.py_function, which takes a python function which manipulates tf eager\n",
      "    tensors instead of numpy arrays. It's easy to convert a tf eager tensor to\n",
      "    an ndarray (just call tensor.numpy()) but having access to eager tensors\n",
      "    means `tf.py_function`s can use accelerators such as GPUs as well as\n",
      "    being differentiable using a gradient tape.\n",
      "    \n",
      "WARNING:tensorflow:From /home/alireza/home_at_filer2/tools/anaconda3/envs/py3tf2/lib/python3.6/site-packages/tensorflow/python/ops/math_ops.py:3066: to_int32 (from tensorflow.python.ops.math_ops) is deprecated and will be removed in a future version.\n",
      "Instructions for updating:\n",
      "Use tf.cast instead.\n"
     ]
    }
   ],
   "source": [
    "model = Model(   \n",
    "    dim_att_head_role_ent=[1024, 1024], \n",
    "    dim_att_head_role_pred=[1024, 1024],\n",
    "    role_edge_mode='full_soft',\n",
    "    stop_grad_role_edge=True,\n",
    "    \n",
    "    dim_state_ent=1024,\n",
    "    dim_state_pred=1024,\n",
    "    dim_emb_head_ent=[300],\n",
    "    dim_conf_head_ent=[],\n",
    "    dim_conf_head_pred=[],\n",
    "    dim_emb_head_pred=[300],\n",
    "    dim_init_head_ent=[1024],\n",
    "\n",
    "    dim_message_send_head_pred2ent=[1024, 1024],\n",
    "    dim_message_pool_head_pred2ent=[1024, 1024],\n",
    "    dim_message_receive_head_pred2ent=[1024, 1024],    \n",
    "    dim_message_send_head_ent2pred=[1024, 1024],\n",
    "    dim_message_pool_head_ent2pred=[1024, 1024],\n",
    "    dim_message_receive_head_ent2pred=[1024, 1024],\n",
    "    \n",
    "    num_mp_iter=3,     \n",
    "    num_proposals=None,\n",
    "\n",
    "    heat_role=1.0,\n",
    "    heat_emb_mil=1.0,\n",
    "    null_att_logit=0.0,\n",
    "        \n",
    "    num_align_iter=3,\n",
    "    alignment_order='best',\n",
    "    default_act_fn_name='leaky_relu',\n",
    "    optimizer_type_generator=tf.train.AdamOptimizer,\n",
    "    \n",
    "    max_num_pred=100,\n",
    "    dim_init_head_pred=[],\n",
    "    init_state_type_pred='trainable',\n",
    "    \n",
    "    dim_proposal_feat=1536,\n",
    "    emb_dict_ent=gl.noun_emb_dict,\n",
    "    emb_dict_pred=gl.pred_emb_dict,    \n",
    "    #image_size=448,\n",
    "    #num_channels=3,\n",
    "    debugging=False\n",
    ")\n",
    "\n"
   ]
  },
  {
   "cell_type": "code",
   "execution_count": null,
   "metadata": {},
   "outputs": [],
   "source": []
  },
  {
   "cell_type": "code",
   "execution_count": 13,
   "metadata": {},
   "outputs": [],
   "source": [
    "os.environ[\"CUDA_VISIBLE_DEVICES\"]=\"0\"\n",
    "#sess = tf.Session(config=tf.ConfigProto(gpu_options=tf.GPUOptions(allow_growth=True)))\n",
    "#sess = tf.Session(config=tf.ConfigProto(gpu_options=tf.GPUOptions(per_process_gpu_memory_fraction=0.5)))\n",
    "sess = tf.Session()\n",
    "sess.run(tf.no_op())"
   ]
  },
  {
   "cell_type": "code",
   "execution_count": null,
   "metadata": {},
   "outputs": [],
   "source": []
  },
  {
   "cell_type": "markdown",
   "metadata": {},
   "source": [
    "# Step 2: Training\n"
   ]
  },
  {
   "cell_type": "code",
   "execution_count": 14,
   "metadata": {},
   "outputs": [],
   "source": [
    "train_evaluator = Evaluator({        \n",
    "    'graph_loader': gl,\n",
    "    'proposals': proposals,\n",
    "    'num_proposals': 20,\n",
    "    'filter_nonoverlap': True\n",
    "})\n",
    "val_evaluator = Evaluator({        \n",
    "    'graph_loader': gl,\n",
    "    'proposals': proposals,\n",
    "    'num_proposals': 20,\n",
    "    'filter_nonoverlap': True\n",
    "})\n"
   ]
  },
  {
   "cell_type": "code",
   "execution_count": null,
   "metadata": {},
   "outputs": [],
   "source": []
  },
  {
   "cell_type": "code",
   "execution_count": 15,
   "metadata": {},
   "outputs": [],
   "source": [
    "trainer = Trainer(\n",
    "    model, sess, batcher, batcher_val, train_evaluator, val_evaluator,\n",
    "    logdir=os.path.join(codebase, 'log', 'tfsummary', exp_name), \n",
    "    modeldir=os.path.join(codebase, 'checkpoint', exp_name),\n",
    ")"
   ]
  },
  {
   "cell_type": "code",
   "execution_count": null,
   "metadata": {},
   "outputs": [],
   "source": []
  },
  {
   "cell_type": "code",
   "execution_count": null,
   "metadata": {},
   "outputs": [
    {
     "name": "stdout",
     "output_type": "stream",
     "text": [
      "Step 1000: loss = 5.309999942779541 (4497.245 sec)\n",
      "Training Batch Evaluation Results: {'PerImagePredMP': 0.395, 'PerImagePredMR': 0.94, 'PerImageOneHopMP_at100_iou_0.5': 0.001, 'PerImageOneHopMR_at100_iou_0.5': 0.007, 'PerImageOneHopMP_at50_iou_0.5': 0.002, 'PerImageOneHopMR_at50_iou_0.5': 0.006, 'PerImageOneHopMP_phrase_at100_iou_0.5': 0.013, 'PerImageOneHopMR_phrase_at100_iou_0.5': 0.069, 'PerImageOneHopMP_phrase_at50_iou_0.5': 0.019, 'PerImageOneHopMR_phrase_at50_iou_0.5': 0.057}\n",
      "Validation Results: {'PerImagePredMP': 0.39, 'PerImagePredMR': 0.929, 'PerImageOneHopMP_at100_iou_0.5': 0.001, 'PerImageOneHopMR_at100_iou_0.5': 0.008, 'PerImageOneHopMP_at50_iou_0.5': 0.002, 'PerImageOneHopMR_at50_iou_0.5': 0.008, 'PerImageOneHopMP_phrase_at100_iou_0.5': 0.014, 'PerImageOneHopMR_phrase_at100_iou_0.5': 0.076, 'PerImageOneHopMP_phrase_at50_iou_0.5': 0.021, 'PerImageOneHopMR_phrase_at50_iou_0.5': 0.064}\n",
      "Step 2000: loss = 5.488999843597412 (8873.030 sec)\n",
      "Training Batch Evaluation Results: {'PerImagePredMP': 0.415, 'PerImagePredMR': 0.933, 'PerImageOneHopMP_at100_iou_0.5': 0.002, 'PerImageOneHopMR_at100_iou_0.5': 0.012, 'PerImageOneHopMP_at50_iou_0.5': 0.003, 'PerImageOneHopMR_at50_iou_0.5': 0.01, 'PerImageOneHopMP_phrase_at100_iou_0.5': 0.018, 'PerImageOneHopMR_phrase_at100_iou_0.5': 0.083, 'PerImageOneHopMP_phrase_at50_iou_0.5': 0.026, 'PerImageOneHopMR_phrase_at50_iou_0.5': 0.069}\n",
      "Validation Results: {'PerImagePredMP': 0.405, 'PerImagePredMR': 0.926, 'PerImageOneHopMP_at100_iou_0.5': 0.002, 'PerImageOneHopMR_at100_iou_0.5': 0.012, 'PerImageOneHopMP_at50_iou_0.5': 0.003, 'PerImageOneHopMR_at50_iou_0.5': 0.01, 'PerImageOneHopMP_phrase_at100_iou_0.5': 0.018, 'PerImageOneHopMR_phrase_at100_iou_0.5': 0.1, 'PerImageOneHopMP_phrase_at50_iou_0.5': 0.027, 'PerImageOneHopMR_phrase_at50_iou_0.5': 0.084}\n",
      "Step 3000: loss = 5.132999897003174 (13266.493 sec)\n",
      "Training Batch Evaluation Results: {'PerImagePredMP': 0.446, 'PerImagePredMR': 0.922, 'PerImageOneHopMP_at100_iou_0.5': 0.003, 'PerImageOneHopMR_at100_iou_0.5': 0.018, 'PerImageOneHopMP_at50_iou_0.5': 0.005, 'PerImageOneHopMR_at50_iou_0.5': 0.016, 'PerImageOneHopMP_phrase_at100_iou_0.5': 0.022, 'PerImageOneHopMR_phrase_at100_iou_0.5': 0.114, 'PerImageOneHopMP_phrase_at50_iou_0.5': 0.034, 'PerImageOneHopMR_phrase_at50_iou_0.5': 0.095}\n",
      "Validation Results: {'PerImagePredMP': 0.453, 'PerImagePredMR': 0.921, 'PerImageOneHopMP_at100_iou_0.5': 0.003, 'PerImageOneHopMR_at100_iou_0.5': 0.018, 'PerImageOneHopMP_at50_iou_0.5': 0.005, 'PerImageOneHopMR_at50_iou_0.5': 0.016, 'PerImageOneHopMP_phrase_at100_iou_0.5': 0.021, 'PerImageOneHopMR_phrase_at100_iou_0.5': 0.108, 'PerImageOneHopMP_phrase_at50_iou_0.5': 0.033, 'PerImageOneHopMR_phrase_at50_iou_0.5': 0.095}\n",
      "Step 4000: loss = 4.590000152587891 (17716.141 sec)\n",
      "Training Batch Evaluation Results: {'PerImagePredMP': 0.503, 'PerImagePredMR': 0.89, 'PerImageOneHopMP_at100_iou_0.5': 0.003, 'PerImageOneHopMR_at100_iou_0.5': 0.021, 'PerImageOneHopMP_at50_iou_0.5': 0.006, 'PerImageOneHopMR_at50_iou_0.5': 0.019, 'PerImageOneHopMP_phrase_at100_iou_0.5': 0.021, 'PerImageOneHopMR_phrase_at100_iou_0.5': 0.126, 'PerImageOneHopMP_phrase_at50_iou_0.5': 0.034, 'PerImageOneHopMR_phrase_at50_iou_0.5': 0.107}\n",
      "Validation Results: {'PerImagePredMP': 0.514, 'PerImagePredMR': 0.88, 'PerImageOneHopMP_at100_iou_0.5': 0.003, 'PerImageOneHopMR_at100_iou_0.5': 0.022, 'PerImageOneHopMP_at50_iou_0.5': 0.006, 'PerImageOneHopMR_at50_iou_0.5': 0.019, 'PerImageOneHopMP_phrase_at100_iou_0.5': 0.024, 'PerImageOneHopMR_phrase_at100_iou_0.5': 0.141, 'PerImageOneHopMP_phrase_at50_iou_0.5': 0.039, 'PerImageOneHopMR_phrase_at50_iou_0.5': 0.113}\n"
     ]
    }
   ],
   "source": [
    "trainer.train (\n",
    "    max_steps=30000,\n",
    "    train_eval_rate=100, \n",
    "    validation_rate=100, \n",
    "    verbose_rate=1000, \n",
    "    summary_rate=100, \n",
    "    checkpoint_rate=10000, \n",
    "    hyperparams = {\n",
    "        'learning_rate_generator': 1e-5 * batcher.batch_size,\n",
    "\n",
    "        'loss_factor_g_mil_ent': 1.0,\n",
    "        'loss_factor_g_mil_ent_conf': 0.0,\n",
    "        'loss_factor_g_mil_pred': 1.0,\n",
    "        'loss_factor_g_mil_pred_conf': 0.0,\n",
    "        'loss_factor_g_mil_role': 10.0,\n",
    "        'loss_factor_g_mil_box': 0.0,\n",
    "        'loss_factor_g_aux_emb_ent': 0.0,\n",
    "        'loss_factor_g_aux_emb_pred': 0.0,\n",
    "\n",
    "        'confidence_weight_on_role': 0.0,\n",
    "        'grad_clipping': 5.0,\n",
    "        'mil_iou_offset': 0.01,\n",
    "        'dropout_rate_g': 0.0,\n",
    "    },\n",
    "    validation_hyperparams = {\n",
    "        'dropout_rate_g': 0.0,\n",
    "        'confidence_weight_on_role': 0.0\n",
    "    },\n",
    ")\n"
   ]
  },
  {
   "cell_type": "code",
   "execution_count": null,
   "metadata": {},
   "outputs": [],
   "source": [
    "trainer.train (\n",
    "    max_steps=20000,\n",
    "    train_eval_rate=100, \n",
    "    validation_rate=100, \n",
    "    verbose_rate=1000, \n",
    "    summary_rate=100, \n",
    "    checkpoint_rate=1000, \n",
    "    hyperparams = {\n",
    "        'learning_rate_generator': 1e-6 * batcher.batch_size,\n",
    "\n",
    "        'loss_factor_g_mil_ent': 1.0,\n",
    "        'loss_factor_g_mil_ent_conf': 0.0,\n",
    "        'loss_factor_g_mil_pred': 1.0,\n",
    "        'loss_factor_g_mil_pred_conf': 0.0,\n",
    "        'loss_factor_g_mil_role': 10.0,\n",
    "        'loss_factor_g_mil_box': 0.0,\n",
    "        'loss_factor_g_aux_emb_ent': 0.0,\n",
    "        'loss_factor_g_aux_emb_pred': 0.0,\n",
    "\n",
    "        'confidence_weight_on_role': 0.0,\n",
    "        'grad_clipping': 5.0,\n",
    "        'mil_iou_offset': 0.01,\n",
    "        'dropout_rate_g': 0.0,\n",
    "    },\n",
    "    validation_hyperparams = {\n",
    "        'dropout_rate_g': 0.0,\n",
    "        'confidence_weight_on_role': 0.0\n",
    "    },\n",
    ")\n"
   ]
  },
  {
   "cell_type": "code",
   "execution_count": null,
   "metadata": {},
   "outputs": [
    {
     "name": "stdout",
     "output_type": "stream",
     "text": [
      "Step 34000: loss = 3.6579999923706055 (4458.232 sec)\n",
      "Training Batch Evaluation Results: {'PerImagePredMP': 0.512, 'PerImagePredMR': 0.919, 'PerImageOneHopMP_at100_iou_0.5': 0.005, 'PerImageOneHopMR_at100_iou_0.5': 0.035, 'PerImageOneHopMP_at50_iou_0.5': 0.009, 'PerImageOneHopMR_at50_iou_0.5': 0.031, 'PerImageOneHopMP_phrase_at100_iou_0.5': 0.034, 'PerImageOneHopMR_phrase_at100_iou_0.5': 0.209, 'PerImageOneHopMP_phrase_at50_iou_0.5': 0.055, 'PerImageOneHopMR_phrase_at50_iou_0.5': 0.18}\n",
      "Validation Results: {'PerImagePredMP': 0.512, 'PerImagePredMR': 0.914, 'PerImageOneHopMP_at100_iou_0.5': 0.006, 'PerImageOneHopMR_at100_iou_0.5': 0.043, 'PerImageOneHopMP_at50_iou_0.5': 0.01, 'PerImageOneHopMR_at50_iou_0.5': 0.04, 'PerImageOneHopMP_phrase_at100_iou_0.5': 0.035, 'PerImageOneHopMR_phrase_at100_iou_0.5': 0.218, 'PerImageOneHopMP_phrase_at50_iou_0.5': 0.056, 'PerImageOneHopMR_phrase_at50_iou_0.5': 0.183}\n",
      "Step 35000: loss = 4.123000144958496 (8766.455 sec)\n",
      "Training Batch Evaluation Results: {'PerImagePredMP': 0.514, 'PerImagePredMR': 0.92, 'PerImageOneHopMP_at100_iou_0.5': 0.006, 'PerImageOneHopMR_at100_iou_0.5': 0.038, 'PerImageOneHopMP_at50_iou_0.5': 0.01, 'PerImageOneHopMR_at50_iou_0.5': 0.034, 'PerImageOneHopMP_phrase_at100_iou_0.5': 0.036, 'PerImageOneHopMR_phrase_at100_iou_0.5': 0.219, 'PerImageOneHopMP_phrase_at50_iou_0.5': 0.058, 'PerImageOneHopMR_phrase_at50_iou_0.5': 0.188}\n",
      "Validation Results: {'PerImagePredMP': 0.512, 'PerImagePredMR': 0.912, 'PerImageOneHopMP_at100_iou_0.5': 0.006, 'PerImageOneHopMR_at100_iou_0.5': 0.044, 'PerImageOneHopMP_at50_iou_0.5': 0.01, 'PerImageOneHopMR_at50_iou_0.5': 0.041, 'PerImageOneHopMP_phrase_at100_iou_0.5': 0.036, 'PerImageOneHopMR_phrase_at100_iou_0.5': 0.216, 'PerImageOneHopMP_phrase_at50_iou_0.5': 0.057, 'PerImageOneHopMR_phrase_at50_iou_0.5': 0.183}\n",
      "Step 36000: loss = 3.484999895095825 (13074.860 sec)\n",
      "Training Batch Evaluation Results: {'PerImagePredMP': 0.508, 'PerImagePredMR': 0.924, 'PerImageOneHopMP_at100_iou_0.5': 0.006, 'PerImageOneHopMR_at100_iou_0.5': 0.035, 'PerImageOneHopMP_at50_iou_0.5': 0.01, 'PerImageOneHopMR_at50_iou_0.5': 0.031, 'PerImageOneHopMP_phrase_at100_iou_0.5': 0.035, 'PerImageOneHopMR_phrase_at100_iou_0.5': 0.216, 'PerImageOneHopMP_phrase_at50_iou_0.5': 0.057, 'PerImageOneHopMR_phrase_at50_iou_0.5': 0.186}\n",
      "Validation Results: {'PerImagePredMP': 0.511, 'PerImagePredMR': 0.914, 'PerImageOneHopMP_at100_iou_0.5': 0.006, 'PerImageOneHopMR_at100_iou_0.5': 0.045, 'PerImageOneHopMP_at50_iou_0.5': 0.01, 'PerImageOneHopMR_at50_iou_0.5': 0.041, 'PerImageOneHopMP_phrase_at100_iou_0.5': 0.036, 'PerImageOneHopMR_phrase_at100_iou_0.5': 0.219, 'PerImageOneHopMP_phrase_at50_iou_0.5': 0.057, 'PerImageOneHopMR_phrase_at50_iou_0.5': 0.184}\n"
     ]
    }
   ],
   "source": [
    "trainer.train (\n",
    "    max_steps=5000,\n",
    "    train_eval_rate=100, \n",
    "    validation_rate=100, \n",
    "    verbose_rate=1000, \n",
    "    summary_rate=100, \n",
    "    checkpoint_rate=1000, \n",
    "    hyperparams = {\n",
    "        'learning_rate_generator': 1e-7 * batcher.batch_size,\n",
    "\n",
    "        'loss_factor_g_mil_ent': 1.0,\n",
    "        'loss_factor_g_mil_ent_conf': 0.0,\n",
    "        'loss_factor_g_mil_pred': 1.0,\n",
    "        'loss_factor_g_mil_pred_conf': 0.0,\n",
    "        'loss_factor_g_mil_role': 10.0,\n",
    "        'loss_factor_g_mil_box': 0.0,\n",
    "        'loss_factor_g_aux_emb_ent': 0.0,\n",
    "        'loss_factor_g_aux_emb_pred': 0.0,\n",
    "\n",
    "        'confidence_weight_on_role': 0.0,\n",
    "        'grad_clipping': 5.0,\n",
    "        'mil_iou_offset': 0.01,\n",
    "        'dropout_rate_g': 0.0,\n",
    "    },\n",
    "    validation_hyperparams = {\n",
    "        'dropout_rate_g': 0.0,\n",
    "        'confidence_weight_on_role': 0.0\n",
    "    },\n",
    ")\n"
   ]
  },
  {
   "cell_type": "code",
   "execution_count": null,
   "metadata": {},
   "outputs": [],
   "source": []
  },
  {
   "cell_type": "code",
   "execution_count": 28,
   "metadata": {},
   "outputs": [],
   "source": [
    "trainer.save_model('final_1')"
   ]
  },
  {
   "cell_type": "code",
   "execution_count": null,
   "metadata": {},
   "outputs": [],
   "source": []
  },
  {
   "cell_type": "markdown",
   "metadata": {},
   "source": [
    "# Step 3: Evaluation"
   ]
  },
  {
   "cell_type": "code",
   "execution_count": 16,
   "metadata": {},
   "outputs": [
    {
     "name": "stdout",
     "output_type": "stream",
     "text": [
      "WARNING:tensorflow:From /home/alireza/home_at_filer2/tools/anaconda3/envs/py3tf2/lib/python3.6/site-packages/tensorflow/python/training/saver.py:1266: checkpoint_exists (from tensorflow.python.training.checkpoint_management) is deprecated and will be removed in a future version.\n",
      "Instructions for updating:\n",
      "Use standard file APIs to check for files with this prefix.\n",
      "INFO:tensorflow:Restoring parameters from ../../checkpoint/exp_055/ckpt-38000\n"
     ]
    }
   ],
   "source": [
    "load_params(sess, os.path.join(codebase, 'checkpoint', exp_name, 'ckpt-38000'))"
   ]
  },
  {
   "cell_type": "code",
   "execution_count": null,
   "metadata": {},
   "outputs": [],
   "source": []
  },
  {
   "cell_type": "code",
   "execution_count": 17,
   "metadata": {},
   "outputs": [],
   "source": [
    "test_evaluator = Evaluator({        \n",
    "    'graph_loader': gl,\n",
    "    'proposals': proposals,\n",
    "    'num_proposals': 20,\n",
    "    'filter_nonoverlap': True\n",
    "})\n"
   ]
  },
  {
   "cell_type": "code",
   "execution_count": null,
   "metadata": {},
   "outputs": [],
   "source": []
  },
  {
   "cell_type": "code",
   "execution_count": 18,
   "metadata": {},
   "outputs": [],
   "source": [
    "batcher_test = GraphBatcher(\n",
    "    gl, 32, proposals,\n",
    "    os.path.join(codebase, 'data', 'VG', 'xfeat_proposals', 'iresnet_oi_lowprop', 'feats_float32_20x1536.lmdb'), \n",
    "    dim_feats=1536,\n",
    "    seed=1237, \n",
    ")\n",
    "batcher_test.set_subset(test_idx)"
   ]
  },
  {
   "cell_type": "code",
   "execution_count": 19,
   "metadata": {},
   "outputs": [
    {
     "name": "stdout",
     "output_type": "stream",
     "text": [
      "Deploying\n",
      "Batch 1/808 done in 1 seconds. Spent time for read=0.42 (avg 0.42), processing=0.81 (avg 0.81), write=0.00 (avg 0.00) seconds.\n",
      "Batch 101/808 done in 18 seconds. Spent time for read=0.34 (avg 0.12), processing=0.07 (avg 0.07), write=0.00 (avg 0.00) seconds.\n",
      "Batch 201/808 done in 55 seconds. Spent time for read=0.24 (avg 0.21), processing=0.07 (avg 0.07), write=0.00 (avg 0.00) seconds.\n",
      "Batch 301/808 done in 89 seconds. Spent time for read=0.25 (avg 0.23), processing=0.06 (avg 0.07), write=0.00 (avg 0.00) seconds.\n",
      "Batch 401/808 done in 125 seconds. Spent time for read=0.27 (avg 0.25), processing=0.06 (avg 0.07), write=0.00 (avg 0.00) seconds.\n",
      "Batch 501/808 done in 160 seconds. Spent time for read=0.29 (avg 0.25), processing=0.06 (avg 0.07), write=0.00 (avg 0.00) seconds.\n",
      "Batch 601/808 done in 196 seconds. Spent time for read=0.32 (avg 0.26), processing=0.06 (avg 0.07), write=0.00 (avg 0.00) seconds.\n",
      "Batch 701/808 done in 233 seconds. Spent time for read=0.27 (avg 0.27), processing=0.06 (avg 0.07), write=0.00 (avg 0.00) seconds.\n",
      "Batch 801/808 done in 263 seconds. Spent time for read=0.04 (avg 0.26), processing=0.06 (avg 0.07), write=0.00 (avg 0.00) seconds.\n",
      "Batch 808/808 done in 264 seconds. Spent time for read=0.03 (avg 0.26), processing=0.06 (avg 0.07), write=0.00 (avg 0.00) seconds.\n",
      "Done in 264 seconds\n"
     ]
    }
   ],
   "source": [
    "#test_evaluator.reset()\n",
    "deploy(sess, model, batcher_test, test_evaluator, model.eval_ops,\n",
    "    hyperparams={\n",
    "        'dropout_rate_g': 0.0,\n",
    "        'confidence_weight_on_role': 0.0\n",
    "    },\n",
    "    ignore_errors=False,\n",
    "    debug_mode=False,\n",
    "    verbose_rate=100\n",
    ")\n"
   ]
  },
  {
   "cell_type": "code",
   "execution_count": 20,
   "metadata": {},
   "outputs": [
    {
     "data": {
      "text/plain": [
       "{'PerImagePredMP': 0.5120835428350415,\n",
       " 'PerImagePredMR': 0.9161591743910965,\n",
       " 'PerImageOneHopMP_at100_iou_0.5': 0.005543221813962484,\n",
       " 'PerImageOneHopMR_at100_iou_0.5': 0.03500547361958573,\n",
       " 'PerImageOneHopMP_at50_iou_0.5': 0.009614387932701604,\n",
       " 'PerImageOneHopMR_at50_iou_0.5': 0.03142527915329223,\n",
       " 'PerImageOneHopMP_phrase_at100_iou_0.5': 0.03362251015277509,\n",
       " 'PerImageOneHopMR_phrase_at100_iou_0.5': 0.20383067380923672,\n",
       " 'PerImageOneHopMP_phrase_at50_iou_0.5': 0.05446064590988204,\n",
       " 'PerImageOneHopMR_phrase_at50_iou_0.5': 0.17552264345999488}"
      ]
     },
     "execution_count": 20,
     "metadata": {},
     "output_type": "execute_result"
    }
   ],
   "source": [
    "test_results = test_evaluator.evaluate()\n",
    "test_results"
   ]
  },
  {
   "cell_type": "code",
   "execution_count": null,
   "metadata": {},
   "outputs": [],
   "source": []
  }
 ],
 "metadata": {
  "kernelspec": {
   "display_name": "Py3 w/ Tensorflow 2",
   "language": "python",
   "name": "py3tf2"
  },
  "language_info": {
   "codemirror_mode": {
    "name": "ipython",
    "version": 3
   },
   "file_extension": ".py",
   "mimetype": "text/x-python",
   "name": "python",
   "nbconvert_exporter": "python",
   "pygments_lexer": "ipython3",
   "version": "3.6.8"
  }
 },
 "nbformat": 4,
 "nbformat_minor": 4
}
