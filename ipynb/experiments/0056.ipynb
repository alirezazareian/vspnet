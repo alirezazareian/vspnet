{
 "cells": [
  {
   "cell_type": "markdown",
   "metadata": {},
   "source": [
    "# Step 1: Data and Model Preparation\n"
   ]
  },
  {
   "cell_type": "code",
   "execution_count": 1,
   "metadata": {},
   "outputs": [],
   "source": [
    "exp_name = 'exp_056'"
   ]
  },
  {
   "cell_type": "code",
   "execution_count": 2,
   "metadata": {},
   "outputs": [],
   "source": [
    "%load_ext autoreload\n",
    "%autoreload 2\n",
    "import sys\n",
    "import os\n",
    "codebase = '../../'\n",
    "sys.path.append(codebase)"
   ]
  },
  {
   "cell_type": "code",
   "execution_count": 3,
   "metadata": {},
   "outputs": [],
   "source": [
    "from src.dataflow.vg_graph_loader_3 import VGGraphLoader\n",
    "from src.dataflow.graph_batcher_4_rpn import GraphBatcher"
   ]
  },
  {
   "cell_type": "code",
   "execution_count": 4,
   "metadata": {},
   "outputs": [
    {
     "name": "stdout",
     "output_type": "stream",
     "text": [
      "\n",
      "WARNING: The TensorFlow contrib module will not be included in TensorFlow 2.0.\n",
      "For more information, please see:\n",
      "  * https://github.com/tensorflow/community/blob/master/rfcs/20180907-contrib-sunset.md\n",
      "  * https://github.com/tensorflow/addons\n",
      "If you depend on functionality not listed there, please file an issue.\n",
      "\n"
     ]
    }
   ],
   "source": [
    "from src.tensorflow.models.vsp_model_002_abl_05 import Model\n",
    "from src.tensorflow.engine.trainer_3 import Trainer\n",
    "from src.tensorflow.engine.util import deploy, load_params\n",
    "from src.util.util import pickle_save, pickle_load\n",
    "from src.eval.sgg_evaluator_04 import Evaluator"
   ]
  },
  {
   "cell_type": "code",
   "execution_count": 5,
   "metadata": {},
   "outputs": [],
   "source": [
    "import tensorflow as tf\n",
    "import numpy as np\n",
    "tf.set_random_seed(1234)\n",
    "np.random.seed(1235)"
   ]
  },
  {
   "cell_type": "code",
   "execution_count": null,
   "metadata": {},
   "outputs": [],
   "source": []
  },
  {
   "cell_type": "code",
   "execution_count": 6,
   "metadata": {},
   "outputs": [],
   "source": [
    "gl = VGGraphLoader(\n",
    "    os.path.join(codebase, 'metadata', 'VG', 'prep', 'stanford', 'sg_stanford_2.pkl'),\n",
    "    os.path.join(codebase, 'metadata', 'VG', 'prep', 'stanford', 'word_emb_stanford_2.pkl'),\n",
    ")\n"
   ]
  },
  {
   "cell_type": "code",
   "execution_count": 7,
   "metadata": {},
   "outputs": [],
   "source": [
    "img_ids, train_idx, test_idx = pickle_load(os.path.join(codebase, 'metadata', 'VG', 'prep', 'stanford', 'split_stanford.pkl'))\n",
    "misc = pickle_load(os.path.join(codebase, 'metadata', 'VG', 'prep', 'stanford', 'misc_stanford_2.pkl'))\n",
    "img_no_ent = misc['img_no_ent']\n",
    "img_no_pred = misc['img_no_pred']\n",
    "image_size = misc['img_size']"
   ]
  },
  {
   "cell_type": "code",
   "execution_count": 8,
   "metadata": {},
   "outputs": [],
   "source": [
    "train_idx = np.asarray(list(set(train_idx) - set(img_no_ent)))\n",
    "np.random.shuffle(train_idx)\n",
    "val_idx = train_idx[:1000]\n",
    "train_idx = train_idx[1000:]"
   ]
  },
  {
   "cell_type": "code",
   "execution_count": null,
   "metadata": {},
   "outputs": [],
   "source": []
  },
  {
   "cell_type": "code",
   "execution_count": 9,
   "metadata": {},
   "outputs": [],
   "source": [
    "proposals = pickle_load(os.path.join(codebase, 'data', 'VG', 'xfeat_gtbox', 'iresnet_oi_lowprop', 'coords.pkl'))"
   ]
  },
  {
   "cell_type": "code",
   "execution_count": 10,
   "metadata": {},
   "outputs": [],
   "source": [
    "batcher = GraphBatcher(\n",
    "    gl, 32, proposals,\n",
    "    os.path.join(codebase, 'data', 'VG', 'xfeat_gtbox', 'iresnet_oi_lowprop', 'feats_float32_20x1536.lmdb'), \n",
    "    dim_feats=1536,\n",
    "    seed=1236, \n",
    ")\n",
    "batcher.set_subset(train_idx)\n",
    "batcher.shuffle()"
   ]
  },
  {
   "cell_type": "code",
   "execution_count": 11,
   "metadata": {},
   "outputs": [],
   "source": [
    "batcher_val = GraphBatcher(\n",
    "    gl, 32, proposals,\n",
    "    os.path.join(codebase, 'data', 'VG', 'xfeat_gtbox', 'iresnet_oi_lowprop', 'feats_float32_20x1536.lmdb'), \n",
    "    dim_feats=1536,\n",
    "    seed=1237, \n",
    ")\n",
    "batcher_val.set_subset(val_idx)"
   ]
  },
  {
   "cell_type": "code",
   "execution_count": null,
   "metadata": {},
   "outputs": [],
   "source": []
  },
  {
   "cell_type": "code",
   "execution_count": 12,
   "metadata": {},
   "outputs": [],
   "source": [
    "tf.reset_default_graph()"
   ]
  },
  {
   "cell_type": "code",
   "execution_count": 13,
   "metadata": {},
   "outputs": [
    {
     "name": "stdout",
     "output_type": "stream",
     "text": [
      "WARNING:tensorflow:From ../../src/tensorflow/models/vsp_model_002_abl_05.py:94: GRUCell.__init__ (from tensorflow.python.ops.rnn_cell_impl) is deprecated and will be removed in a future version.\n",
      "Instructions for updating:\n",
      "This class is equivalent as tf.keras.layers.GRUCell, and will be replaced by that in Tensorflow 2.0.\n",
      "WARNING:tensorflow:From /home/alireza/home_at_filer2/tools/anaconda3/envs/py3tf2/lib/python3.6/site-packages/tensorflow/python/framework/op_def_library.py:263: colocate_with (from tensorflow.python.framework.ops) is deprecated and will be removed in a future version.\n",
      "Instructions for updating:\n",
      "Colocations handled automatically by placer.\n",
      "WARNING:tensorflow:From ../../src/tensorflow/util/util.py:15: dense (from tensorflow.python.layers.core) is deprecated and will be removed in a future version.\n",
      "Instructions for updating:\n",
      "Use keras.layers.dense instead.\n",
      "WARNING:tensorflow:From ../../src/tensorflow/util/util.py:17: calling dropout (from tensorflow.python.ops.nn_ops) with keep_prob is deprecated and will be removed in a future version.\n",
      "Instructions for updating:\n",
      "Please use `rate` instead of `keep_prob`. Rate should be set to `rate = 1 - keep_prob`.\n",
      "WARNING:tensorflow:From ../../src/tensorflow/models/vsp_model_002_abl_05.py:523: py_func (from tensorflow.python.ops.script_ops) is deprecated and will be removed in a future version.\n",
      "Instructions for updating:\n",
      "tf.py_func is deprecated in TF V2. Instead, use\n",
      "    tf.py_function, which takes a python function which manipulates tf eager\n",
      "    tensors instead of numpy arrays. It's easy to convert a tf eager tensor to\n",
      "    an ndarray (just call tensor.numpy()) but having access to eager tensors\n",
      "    means `tf.py_function`s can use accelerators such as GPUs as well as\n",
      "    being differentiable using a gradient tape.\n",
      "    \n",
      "WARNING:tensorflow:From /home/alireza/home_at_filer2/tools/anaconda3/envs/py3tf2/lib/python3.6/site-packages/tensorflow/python/ops/math_ops.py:3066: to_int32 (from tensorflow.python.ops.math_ops) is deprecated and will be removed in a future version.\n",
      "Instructions for updating:\n",
      "Use tf.cast instead.\n"
     ]
    }
   ],
   "source": [
    "model = Model(   \n",
    "    dim_att_head_role_ent=[1024, 1024], \n",
    "    dim_att_head_role_pred=[1024, 1024],\n",
    "    role_edge_mode='full_soft',\n",
    "    stop_grad_role_edge=True,\n",
    "    \n",
    "    dim_state_ent=1024,\n",
    "    dim_state_pred=1024,\n",
    "    dim_emb_head_ent=[300],\n",
    "    dim_conf_head_ent=[],\n",
    "    dim_conf_head_pred=[],\n",
    "    dim_emb_head_pred=[300],\n",
    "    dim_init_head_ent=[1024],\n",
    "\n",
    "    dim_message_send_head_pred2ent=[1024, 1024],\n",
    "    dim_message_pool_head_pred2ent=[1024, 1024],\n",
    "    dim_message_receive_head_pred2ent=[1024, 1024],    \n",
    "    dim_message_send_head_ent2pred=[1024, 1024],\n",
    "    dim_message_pool_head_ent2pred=[1024, 1024],\n",
    "    dim_message_receive_head_ent2pred=[1024, 1024],\n",
    "    \n",
    "    num_mp_iter=3,     \n",
    "    num_proposals=None,\n",
    "\n",
    "    heat_role=1.0,\n",
    "    heat_emb_mil=1.0,\n",
    "    null_att_logit=0.0,\n",
    "        \n",
    "    num_align_iter=3,\n",
    "    alignment_order='best',\n",
    "    default_act_fn_name='leaky_relu',\n",
    "    optimizer_type_generator=tf.train.AdamOptimizer,\n",
    "    \n",
    "    max_num_pred=100,\n",
    "    dim_init_head_pred=[],\n",
    "    init_state_type_pred='trainable',\n",
    "    \n",
    "    dim_proposal_feat=1536,\n",
    "    emb_dict_ent=gl.noun_emb_dict,\n",
    "    emb_dict_pred=gl.pred_emb_dict,    \n",
    "    #image_size=448,\n",
    "    #num_channels=3,\n",
    "    debugging=False\n",
    ")\n",
    "\n"
   ]
  },
  {
   "cell_type": "code",
   "execution_count": null,
   "metadata": {},
   "outputs": [],
   "source": []
  },
  {
   "cell_type": "code",
   "execution_count": 14,
   "metadata": {},
   "outputs": [],
   "source": [
    "os.environ[\"CUDA_VISIBLE_DEVICES\"]=\"0\"\n",
    "#sess = tf.Session(config=tf.ConfigProto(gpu_options=tf.GPUOptions(allow_growth=True)))\n",
    "#sess = tf.Session(config=tf.ConfigProto(gpu_options=tf.GPUOptions(per_process_gpu_memory_fraction=0.5)))\n",
    "sess = tf.Session()\n",
    "sess.run(tf.no_op())"
   ]
  },
  {
   "cell_type": "code",
   "execution_count": null,
   "metadata": {},
   "outputs": [],
   "source": []
  },
  {
   "cell_type": "markdown",
   "metadata": {},
   "source": [
    "# Step 2: Training\n"
   ]
  },
  {
   "cell_type": "code",
   "execution_count": 14,
   "metadata": {},
   "outputs": [],
   "source": [
    "train_evaluator = Evaluator({        \n",
    "    'graph_loader': gl,\n",
    "    'proposals': proposals,\n",
    "    'num_proposals': None,\n",
    "    'filter_nonoverlap': True,\n",
    "    'rank_triplet_confidence': False,\n",
    "})\n",
    "val_evaluator = Evaluator({        \n",
    "    'graph_loader': gl,\n",
    "    'proposals': proposals,\n",
    "    'num_proposals': None,\n",
    "    'filter_nonoverlap': True,\n",
    "    'rank_triplet_confidence': False,\n",
    "})\n"
   ]
  },
  {
   "cell_type": "code",
   "execution_count": null,
   "metadata": {},
   "outputs": [],
   "source": []
  },
  {
   "cell_type": "code",
   "execution_count": 15,
   "metadata": {},
   "outputs": [],
   "source": [
    "trainer = Trainer(\n",
    "    model, sess, batcher, batcher_val, train_evaluator, val_evaluator,\n",
    "    logdir=os.path.join(codebase, 'log', 'tfsummary', exp_name), \n",
    "    modeldir=os.path.join(codebase, 'checkpoint', exp_name),\n",
    ")"
   ]
  },
  {
   "cell_type": "code",
   "execution_count": null,
   "metadata": {},
   "outputs": [],
   "source": []
  },
  {
   "cell_type": "code",
   "execution_count": null,
   "metadata": {},
   "outputs": [],
   "source": []
  },
  {
   "cell_type": "code",
   "execution_count": null,
   "metadata": {},
   "outputs": [
    {
     "name": "stderr",
     "output_type": "stream",
     "text": [
      "../../src/eval/eval_utils.py:55: RuntimeWarning: invalid value encountered in true_divide\n",
      "  iou = intsec / (area1[:, np.newaxis] + area2[np.newaxis, :] - intsec)\n",
      "../../src/eval/graph_util_new_02.py:118: RuntimeWarning: invalid value encountered in greater\n",
      "  overlap = (pw_iou(ent_box[i], ent_box[i]) > 0.0).astype(np.float32)\n",
      "../../src/eval/graph_eval_3.py:219: RuntimeWarning: invalid value encountered in true_divide\n",
      "  per_image_recall.append(np.divide(len(gt_matched), len(gt_graph['pred_lbl'][i])))\n",
      "../../src/eval/graph_eval_3.py:300: RuntimeWarning: invalid value encountered in true_divide\n",
      "  per_image_recall.append(np.divide(len(gt_matched), len(gt_graph['pred_lbl'][i])))\n"
     ]
    },
    {
     "name": "stdout",
     "output_type": "stream",
     "text": [
      "Step 1000: loss = 0.8830000162124634 (1469.959 sec)\n",
      "Training Batch Evaluation Results: {'PerImageOneHopMP_at100_iou_0.5': 0.036, 'PerImageOneHopMR_at100_iou_0.5': 0.53, 'PerImageOneHopMP_at50_iou_0.5': 0.061, 'PerImageOneHopMR_at50_iou_0.5': 0.467, 'PerImageLocPredMP_at100_iou_0.5': 0.04, 'PerImageLocPredMR_at100_iou_0.5': 0.561, 'PerImageLocPredMP_at50_iou_0.5': 0.067, 'PerImageLocPredMR_at50_iou_0.5': 0.494}\n",
      "Validation Results: {'PerImageOneHopMP_at100_iou_0.5': 0.034, 'PerImageOneHopMR_at100_iou_0.5': 0.528, 'PerImageOneHopMP_at50_iou_0.5': 0.061, 'PerImageOneHopMR_at50_iou_0.5': 0.484, 'PerImageLocPredMP_at100_iou_0.5': 0.038, 'PerImageLocPredMR_at100_iou_0.5': 0.561, 'PerImageLocPredMP_at50_iou_0.5': 0.067, 'PerImageLocPredMR_at50_iou_0.5': 0.516}\n",
      "Step 2000: loss = 0.8510000109672546 (2857.150 sec)\n",
      "Training Batch Evaluation Results: {'PerImageOneHopMP_at100_iou_0.5': 0.039, 'PerImageOneHopMR_at100_iou_0.5': 0.561, 'PerImageOneHopMP_at50_iou_0.5': 0.068, 'PerImageOneHopMR_at50_iou_0.5': 0.507, 'PerImageLocPredMP_at100_iou_0.5': 0.045, 'PerImageLocPredMR_at100_iou_0.5': 0.592, 'PerImageLocPredMP_at50_iou_0.5': 0.076, 'PerImageLocPredMR_at50_iou_0.5': 0.535}\n",
      "Validation Results: {'PerImageOneHopMP_at100_iou_0.5': 0.043, 'PerImageOneHopMR_at100_iou_0.5': 0.565, 'PerImageOneHopMP_at50_iou_0.5': 0.072, 'PerImageOneHopMR_at50_iou_0.5': 0.514, 'PerImageLocPredMP_at100_iou_0.5': 0.047, 'PerImageLocPredMR_at100_iou_0.5': 0.597, 'PerImageLocPredMP_at50_iou_0.5': 0.079, 'PerImageLocPredMR_at50_iou_0.5': 0.543}\n"
     ]
    }
   ],
   "source": [
    "trainer.train (\n",
    "    max_steps=30000,\n",
    "    train_eval_rate=100, \n",
    "    validation_rate=100, \n",
    "    verbose_rate=1000, \n",
    "    summary_rate=100, \n",
    "    checkpoint_rate=10000, \n",
    "    hyperparams = {\n",
    "        'learning_rate_generator': 1e-5 * batcher.batch_size,\n",
    "\n",
    "        'loss_factor_g_mil_ent': 1.0,\n",
    "        'loss_factor_g_mil_ent_conf': 0.0,\n",
    "        'loss_factor_g_mil_pred': 1.0,\n",
    "        'loss_factor_g_mil_pred_conf': 0.0,\n",
    "        'loss_factor_g_mil_role': 10.0,\n",
    "        'loss_factor_g_mil_box': 10.0,\n",
    "        'loss_factor_g_aux_emb_ent': 0.0,\n",
    "        'loss_factor_g_aux_emb_pred': 0.0,\n",
    "\n",
    "        'confidence_weight_on_role': 0.0,\n",
    "        'grad_clipping': 5.0,\n",
    "        'mil_iou_offset': 0.01,\n",
    "        'dropout_rate_g': 0.0,\n",
    "    },\n",
    "    validation_hyperparams = {\n",
    "        'dropout_rate_g': 0.0,\n",
    "        'confidence_weight_on_role': 0.0\n",
    "    },\n",
    ")\n"
   ]
  },
  {
   "cell_type": "code",
   "execution_count": null,
   "metadata": {},
   "outputs": [],
   "source": [
    "trainer.train (\n",
    "    max_steps=20000,\n",
    "    train_eval_rate=100, \n",
    "    validation_rate=100, \n",
    "    verbose_rate=1000, \n",
    "    summary_rate=100, \n",
    "    checkpoint_rate=1000, \n",
    "    hyperparams = {\n",
    "        'learning_rate_generator': 1e-6 * batcher.batch_size,\n",
    "\n",
    "        'loss_factor_g_mil_ent': 1.0,\n",
    "        'loss_factor_g_mil_ent_conf': 0.0,\n",
    "        'loss_factor_g_mil_pred': 1.0,\n",
    "        'loss_factor_g_mil_pred_conf': 0.0,\n",
    "        'loss_factor_g_mil_role': 10.0,\n",
    "        'loss_factor_g_mil_box': 10.0,\n",
    "        'loss_factor_g_aux_emb_ent': 0.0,\n",
    "        'loss_factor_g_aux_emb_pred': 0.0,\n",
    "\n",
    "        'confidence_weight_on_role': 0.0,\n",
    "        'grad_clipping': 5.0,\n",
    "        'mil_iou_offset': 0.01,\n",
    "        'dropout_rate_g': 0.0,\n",
    "    },\n",
    "    validation_hyperparams = {\n",
    "        'dropout_rate_g': 0.0,\n",
    "        'confidence_weight_on_role': 0.0\n",
    "    },\n",
    ")\n"
   ]
  },
  {
   "cell_type": "code",
   "execution_count": 18,
   "metadata": {},
   "outputs": [
    {
     "name": "stdout",
     "output_type": "stream",
     "text": [
      "Step 51000: loss = 0.3190000057220459 (1198.269 sec)\n",
      "Training Batch Evaluation Results: {'PerImageOneHopMP_at100_iou_0.5': 0.062, 'PerImageOneHopMR_at100_iou_0.5': 0.816, 'PerImageOneHopMP_at50_iou_0.5': 0.104, 'PerImageOneHopMR_at50_iou_0.5': 0.721, 'PerImageLocPredMP_at100_iou_0.5': 0.068, 'PerImageLocPredMR_at100_iou_0.5': 0.835, 'PerImageLocPredMP_at50_iou_0.5': 0.113, 'PerImageLocPredMR_at50_iou_0.5': 0.737}\n",
      "Validation Results: {'PerImageOneHopMP_at100_iou_0.5': 0.058, 'PerImageOneHopMR_at100_iou_0.5': 0.7, 'PerImageOneHopMP_at50_iou_0.5': 0.1, 'PerImageOneHopMR_at50_iou_0.5': 0.638, 'PerImageLocPredMP_at100_iou_0.5': 0.064, 'PerImageLocPredMR_at100_iou_0.5': 0.73, 'PerImageLocPredMP_at50_iou_0.5': 0.109, 'PerImageLocPredMR_at50_iou_0.5': 0.663}\n",
      "Step 52000: loss = 0.2460000067949295 (2461.209 sec)\n",
      "Training Batch Evaluation Results: {'PerImageOneHopMP_at100_iou_0.5': 0.064, 'PerImageOneHopMR_at100_iou_0.5': 0.82, 'PerImageOneHopMP_at50_iou_0.5': 0.107, 'PerImageOneHopMR_at50_iou_0.5': 0.72, 'PerImageLocPredMP_at100_iou_0.5': 0.07, 'PerImageLocPredMR_at100_iou_0.5': 0.837, 'PerImageLocPredMP_at50_iou_0.5': 0.117, 'PerImageLocPredMR_at50_iou_0.5': 0.739}\n",
      "Validation Results: {'PerImageOneHopMP_at100_iou_0.5': 0.058, 'PerImageOneHopMR_at100_iou_0.5': 0.704, 'PerImageOneHopMP_at50_iou_0.5': 0.099, 'PerImageOneHopMR_at50_iou_0.5': 0.638, 'PerImageLocPredMP_at100_iou_0.5': 0.064, 'PerImageLocPredMR_at100_iou_0.5': 0.731, 'PerImageLocPredMP_at50_iou_0.5': 0.107, 'PerImageLocPredMR_at50_iou_0.5': 0.659}\n",
      "Step 53000: loss = 0.24400000274181366 (3814.077 sec)\n",
      "Training Batch Evaluation Results: {'PerImageOneHopMP_at100_iou_0.5': 0.063, 'PerImageOneHopMR_at100_iou_0.5': 0.82, 'PerImageOneHopMP_at50_iou_0.5': 0.106, 'PerImageOneHopMR_at50_iou_0.5': 0.723, 'PerImageLocPredMP_at100_iou_0.5': 0.069, 'PerImageLocPredMR_at100_iou_0.5': 0.835, 'PerImageLocPredMP_at50_iou_0.5': 0.115, 'PerImageLocPredMR_at50_iou_0.5': 0.738}\n",
      "Validation Results: {'PerImageOneHopMP_at100_iou_0.5': 0.059, 'PerImageOneHopMR_at100_iou_0.5': 0.698, 'PerImageOneHopMP_at50_iou_0.5': 0.1, 'PerImageOneHopMR_at50_iou_0.5': 0.636, 'PerImageLocPredMP_at100_iou_0.5': 0.064, 'PerImageLocPredMR_at100_iou_0.5': 0.723, 'PerImageLocPredMP_at50_iou_0.5': 0.108, 'PerImageLocPredMR_at50_iou_0.5': 0.658}\n",
      "Step 54000: loss = 0.21899999678134918 (5166.959 sec)\n",
      "Training Batch Evaluation Results: {'PerImageOneHopMP_at100_iou_0.5': 0.067, 'PerImageOneHopMR_at100_iou_0.5': 0.828, 'PerImageOneHopMP_at50_iou_0.5': 0.112, 'PerImageOneHopMR_at50_iou_0.5': 0.731, 'PerImageLocPredMP_at100_iou_0.5': 0.073, 'PerImageLocPredMR_at100_iou_0.5': 0.844, 'PerImageLocPredMP_at50_iou_0.5': 0.121, 'PerImageLocPredMR_at50_iou_0.5': 0.746}\n",
      "Validation Results: {'PerImageOneHopMP_at100_iou_0.5': 0.059, 'PerImageOneHopMR_at100_iou_0.5': 0.708, 'PerImageOneHopMP_at50_iou_0.5': 0.1, 'PerImageOneHopMR_at50_iou_0.5': 0.646, 'PerImageLocPredMP_at100_iou_0.5': 0.064, 'PerImageLocPredMR_at100_iou_0.5': 0.738, 'PerImageLocPredMP_at50_iou_0.5': 0.108, 'PerImageLocPredMR_at50_iou_0.5': 0.67}\n",
      "Step 55000: loss = 0.15399999916553497 (6513.227 sec)\n",
      "Training Batch Evaluation Results: {'PerImageOneHopMP_at100_iou_0.5': 0.064, 'PerImageOneHopMR_at100_iou_0.5': 0.825, 'PerImageOneHopMP_at50_iou_0.5': 0.107, 'PerImageOneHopMR_at50_iou_0.5': 0.729, 'PerImageLocPredMP_at100_iou_0.5': 0.069, 'PerImageLocPredMR_at100_iou_0.5': 0.842, 'PerImageLocPredMP_at50_iou_0.5': 0.116, 'PerImageLocPredMR_at50_iou_0.5': 0.745}\n",
      "Validation Results: {'PerImageOneHopMP_at100_iou_0.5': 0.059, 'PerImageOneHopMR_at100_iou_0.5': 0.701, 'PerImageOneHopMP_at50_iou_0.5': 0.1, 'PerImageOneHopMR_at50_iou_0.5': 0.641, 'PerImageLocPredMP_at100_iou_0.5': 0.064, 'PerImageLocPredMR_at100_iou_0.5': 0.728, 'PerImageLocPredMP_at50_iou_0.5': 0.109, 'PerImageLocPredMR_at50_iou_0.5': 0.667}\n",
      "Step 56000: loss = 0.2029999941587448 (7874.080 sec)\n",
      "Training Batch Evaluation Results: {'PerImageOneHopMP_at100_iou_0.5': 0.066, 'PerImageOneHopMR_at100_iou_0.5': 0.823, 'PerImageOneHopMP_at50_iou_0.5': 0.111, 'PerImageOneHopMR_at50_iou_0.5': 0.728, 'PerImageLocPredMP_at100_iou_0.5': 0.072, 'PerImageLocPredMR_at100_iou_0.5': 0.837, 'PerImageLocPredMP_at50_iou_0.5': 0.12, 'PerImageLocPredMR_at50_iou_0.5': 0.744}\n",
      "Validation Results: {'PerImageOneHopMP_at100_iou_0.5': 0.06, 'PerImageOneHopMR_at100_iou_0.5': 0.697, 'PerImageOneHopMP_at50_iou_0.5': 0.101, 'PerImageOneHopMR_at50_iou_0.5': 0.634, 'PerImageLocPredMP_at100_iou_0.5': 0.065, 'PerImageLocPredMR_at100_iou_0.5': 0.726, 'PerImageLocPredMP_at50_iou_0.5': 0.109, 'PerImageLocPredMR_at50_iou_0.5': 0.66}\n",
      "Step 57000: loss = 0.22200000286102295 (9194.594 sec)\n",
      "Training Batch Evaluation Results: {'PerImageOneHopMP_at100_iou_0.5': 0.066, 'PerImageOneHopMR_at100_iou_0.5': 0.834, 'PerImageOneHopMP_at50_iou_0.5': 0.109, 'PerImageOneHopMR_at50_iou_0.5': 0.732, 'PerImageLocPredMP_at100_iou_0.5': 0.071, 'PerImageLocPredMR_at100_iou_0.5': 0.849, 'PerImageLocPredMP_at50_iou_0.5': 0.118, 'PerImageLocPredMR_at50_iou_0.5': 0.747}\n",
      "Validation Results: {'PerImageOneHopMP_at100_iou_0.5': 0.059, 'PerImageOneHopMR_at100_iou_0.5': 0.707, 'PerImageOneHopMP_at50_iou_0.5': 0.101, 'PerImageOneHopMR_at50_iou_0.5': 0.644, 'PerImageLocPredMP_at100_iou_0.5': 0.064, 'PerImageLocPredMR_at100_iou_0.5': 0.733, 'PerImageLocPredMP_at50_iou_0.5': 0.109, 'PerImageLocPredMR_at50_iou_0.5': 0.667}\n",
      "Step 58000: loss = 0.2669999897480011 (10425.844 sec)\n",
      "Training Batch Evaluation Results: {'PerImageOneHopMP_at100_iou_0.5': 0.065, 'PerImageOneHopMR_at100_iou_0.5': 0.832, 'PerImageOneHopMP_at50_iou_0.5': 0.108, 'PerImageOneHopMR_at50_iou_0.5': 0.726, 'PerImageLocPredMP_at100_iou_0.5': 0.071, 'PerImageLocPredMR_at100_iou_0.5': 0.849, 'PerImageLocPredMP_at50_iou_0.5': 0.118, 'PerImageLocPredMR_at50_iou_0.5': 0.743}\n",
      "Validation Results: {'PerImageOneHopMP_at100_iou_0.5': 0.061, 'PerImageOneHopMR_at100_iou_0.5': 0.709, 'PerImageOneHopMP_at50_iou_0.5': 0.103, 'PerImageOneHopMR_at50_iou_0.5': 0.644, 'PerImageLocPredMP_at100_iou_0.5': 0.066, 'PerImageLocPredMR_at100_iou_0.5': 0.737, 'PerImageLocPredMP_at50_iou_0.5': 0.111, 'PerImageLocPredMR_at50_iou_0.5': 0.668}\n",
      "Step 59000: loss = 0.17000000178813934 (11609.580 sec)\n",
      "Training Batch Evaluation Results: {'PerImageOneHopMP_at100_iou_0.5': 0.065, 'PerImageOneHopMR_at100_iou_0.5': 0.84, 'PerImageOneHopMP_at50_iou_0.5': 0.108, 'PerImageOneHopMR_at50_iou_0.5': 0.734, 'PerImageLocPredMP_at100_iou_0.5': 0.07, 'PerImageLocPredMR_at100_iou_0.5': 0.856, 'PerImageLocPredMP_at50_iou_0.5': 0.116, 'PerImageLocPredMR_at50_iou_0.5': 0.75}\n",
      "Validation Results: {'PerImageOneHopMP_at100_iou_0.5': 0.058, 'PerImageOneHopMR_at100_iou_0.5': 0.704, 'PerImageOneHopMP_at50_iou_0.5': 0.1, 'PerImageOneHopMR_at50_iou_0.5': 0.641, 'PerImageLocPredMP_at100_iou_0.5': 0.063, 'PerImageLocPredMR_at100_iou_0.5': 0.728, 'PerImageLocPredMP_at50_iou_0.5': 0.108, 'PerImageLocPredMR_at50_iou_0.5': 0.663}\n",
      "Step 60000: loss = 0.2370000034570694 (12794.196 sec)\n",
      "Training Batch Evaluation Results: {'PerImageOneHopMP_at100_iou_0.5': 0.066, 'PerImageOneHopMR_at100_iou_0.5': 0.844, 'PerImageOneHopMP_at50_iou_0.5': 0.109, 'PerImageOneHopMR_at50_iou_0.5': 0.747, 'PerImageLocPredMP_at100_iou_0.5': 0.071, 'PerImageLocPredMR_at100_iou_0.5': 0.858, 'PerImageLocPredMP_at50_iou_0.5': 0.118, 'PerImageLocPredMR_at50_iou_0.5': 0.763}\n",
      "Validation Results: {'PerImageOneHopMP_at100_iou_0.5': 0.059, 'PerImageOneHopMR_at100_iou_0.5': 0.706, 'PerImageOneHopMP_at50_iou_0.5': 0.101, 'PerImageOneHopMR_at50_iou_0.5': 0.646, 'PerImageLocPredMP_at100_iou_0.5': 0.064, 'PerImageLocPredMR_at100_iou_0.5': 0.734, 'PerImageLocPredMP_at50_iou_0.5': 0.109, 'PerImageLocPredMR_at50_iou_0.5': 0.668}\n"
     ]
    }
   ],
   "source": [
    "trainer.train (\n",
    "    max_steps=10000,\n",
    "    train_eval_rate=100, \n",
    "    validation_rate=100, \n",
    "    verbose_rate=1000, \n",
    "    summary_rate=100, \n",
    "    checkpoint_rate=1000, \n",
    "    hyperparams = {\n",
    "        'learning_rate_generator': 1e-6 * batcher.batch_size,\n",
    "\n",
    "        'loss_factor_g_mil_ent': 1.0,\n",
    "        'loss_factor_g_mil_ent_conf': 0.0,\n",
    "        'loss_factor_g_mil_pred': 1.0,\n",
    "        'loss_factor_g_mil_pred_conf': 0.0,\n",
    "        'loss_factor_g_mil_role': 10.0,\n",
    "        'loss_factor_g_mil_box': 10.0,\n",
    "        'loss_factor_g_aux_emb_ent': 0.0,\n",
    "        'loss_factor_g_aux_emb_pred': 0.0,\n",
    "\n",
    "        'confidence_weight_on_role': 0.0,\n",
    "        'grad_clipping': 5.0,\n",
    "        'mil_iou_offset': 0.01,\n",
    "        'dropout_rate_g': 0.0,\n",
    "    },\n",
    "    validation_hyperparams = {\n",
    "        'dropout_rate_g': 0.0,\n",
    "        'confidence_weight_on_role': 0.0\n",
    "    },\n",
    ")\n"
   ]
  },
  {
   "cell_type": "code",
   "execution_count": 19,
   "metadata": {},
   "outputs": [
    {
     "name": "stdout",
     "output_type": "stream",
     "text": [
      "Step 61000: loss = 0.18700000643730164 (1172.990 sec)\n",
      "Training Batch Evaluation Results: {'PerImageOneHopMP_at100_iou_0.5': 0.067, 'PerImageOneHopMR_at100_iou_0.5': 0.844, 'PerImageOneHopMP_at50_iou_0.5': 0.111, 'PerImageOneHopMR_at50_iou_0.5': 0.736, 'PerImageLocPredMP_at100_iou_0.5': 0.073, 'PerImageLocPredMR_at100_iou_0.5': 0.859, 'PerImageLocPredMP_at50_iou_0.5': 0.12, 'PerImageLocPredMR_at50_iou_0.5': 0.752}\n",
      "Validation Results: {'PerImageOneHopMP_at100_iou_0.5': 0.06, 'PerImageOneHopMR_at100_iou_0.5': 0.707, 'PerImageOneHopMP_at50_iou_0.5': 0.102, 'PerImageOneHopMR_at50_iou_0.5': 0.645, 'PerImageLocPredMP_at100_iou_0.5': 0.065, 'PerImageLocPredMR_at100_iou_0.5': 0.734, 'PerImageLocPredMP_at50_iou_0.5': 0.11, 'PerImageLocPredMR_at50_iou_0.5': 0.668}\n",
      "Step 62000: loss = 0.08699999749660492 (2275.504 sec)\n",
      "Training Batch Evaluation Results: {'PerImageOneHopMP_at100_iou_0.5': 0.068, 'PerImageOneHopMR_at100_iou_0.5': 0.867, 'PerImageOneHopMP_at50_iou_0.5': 0.113, 'PerImageOneHopMR_at50_iou_0.5': 0.762, 'PerImageLocPredMP_at100_iou_0.5': 0.075, 'PerImageLocPredMR_at100_iou_0.5': 0.879, 'PerImageLocPredMP_at50_iou_0.5': 0.123, 'PerImageLocPredMR_at50_iou_0.5': 0.776}\n",
      "Validation Results: {'PerImageOneHopMP_at100_iou_0.5': 0.059, 'PerImageOneHopMR_at100_iou_0.5': 0.709, 'PerImageOneHopMP_at50_iou_0.5': 0.1, 'PerImageOneHopMR_at50_iou_0.5': 0.645, 'PerImageLocPredMP_at100_iou_0.5': 0.064, 'PerImageLocPredMR_at100_iou_0.5': 0.735, 'PerImageLocPredMP_at50_iou_0.5': 0.109, 'PerImageLocPredMR_at50_iou_0.5': 0.668}\n",
      "Step 63000: loss = 0.36399999260902405 (3381.182 sec)\n",
      "Training Batch Evaluation Results: {'PerImageOneHopMP_at100_iou_0.5': 0.067, 'PerImageOneHopMR_at100_iou_0.5': 0.848, 'PerImageOneHopMP_at50_iou_0.5': 0.111, 'PerImageOneHopMR_at50_iou_0.5': 0.743, 'PerImageLocPredMP_at100_iou_0.5': 0.073, 'PerImageLocPredMR_at100_iou_0.5': 0.864, 'PerImageLocPredMP_at50_iou_0.5': 0.121, 'PerImageLocPredMR_at50_iou_0.5': 0.76}\n",
      "Validation Results: {'PerImageOneHopMP_at100_iou_0.5': 0.061, 'PerImageOneHopMR_at100_iou_0.5': 0.713, 'PerImageOneHopMP_at50_iou_0.5': 0.102, 'PerImageOneHopMR_at50_iou_0.5': 0.647, 'PerImageLocPredMP_at100_iou_0.5': 0.066, 'PerImageLocPredMR_at100_iou_0.5': 0.739, 'PerImageLocPredMP_at50_iou_0.5': 0.11, 'PerImageLocPredMR_at50_iou_0.5': 0.67}\n",
      "Step 64000: loss = 0.16599999368190765 (4482.266 sec)\n",
      "Training Batch Evaluation Results: {'PerImageOneHopMP_at100_iou_0.5': 0.069, 'PerImageOneHopMR_at100_iou_0.5': 0.861, 'PerImageOneHopMP_at50_iou_0.5': 0.114, 'PerImageOneHopMR_at50_iou_0.5': 0.751, 'PerImageLocPredMP_at100_iou_0.5': 0.075, 'PerImageLocPredMR_at100_iou_0.5': 0.875, 'PerImageLocPredMP_at50_iou_0.5': 0.123, 'PerImageLocPredMR_at50_iou_0.5': 0.766}\n",
      "Validation Results: {'PerImageOneHopMP_at100_iou_0.5': 0.059, 'PerImageOneHopMR_at100_iou_0.5': 0.709, 'PerImageOneHopMP_at50_iou_0.5': 0.1, 'PerImageOneHopMR_at50_iou_0.5': 0.647, 'PerImageLocPredMP_at100_iou_0.5': 0.064, 'PerImageLocPredMR_at100_iou_0.5': 0.738, 'PerImageLocPredMP_at50_iou_0.5': 0.109, 'PerImageLocPredMR_at50_iou_0.5': 0.671}\n",
      "Step 65000: loss = 0.26899999380111694 (5579.326 sec)\n",
      "Training Batch Evaluation Results: {'PerImageOneHopMP_at100_iou_0.5': 0.067, 'PerImageOneHopMR_at100_iou_0.5': 0.851, 'PerImageOneHopMP_at50_iou_0.5': 0.111, 'PerImageOneHopMR_at50_iou_0.5': 0.751, 'PerImageLocPredMP_at100_iou_0.5': 0.073, 'PerImageLocPredMR_at100_iou_0.5': 0.866, 'PerImageLocPredMP_at50_iou_0.5': 0.121, 'PerImageLocPredMR_at50_iou_0.5': 0.769}\n",
      "Validation Results: {'PerImageOneHopMP_at100_iou_0.5': 0.06, 'PerImageOneHopMR_at100_iou_0.5': 0.712, 'PerImageOneHopMP_at50_iou_0.5': 0.102, 'PerImageOneHopMR_at50_iou_0.5': 0.647, 'PerImageLocPredMP_at100_iou_0.5': 0.065, 'PerImageLocPredMR_at100_iou_0.5': 0.738, 'PerImageLocPredMP_at50_iou_0.5': 0.11, 'PerImageLocPredMR_at50_iou_0.5': 0.67}\n",
      "Step 66000: loss = 0.16500000655651093 (6680.435 sec)\n",
      "Training Batch Evaluation Results: {'PerImageOneHopMP_at100_iou_0.5': 0.067, 'PerImageOneHopMR_at100_iou_0.5': 0.856, 'PerImageOneHopMP_at50_iou_0.5': 0.111, 'PerImageOneHopMR_at50_iou_0.5': 0.746, 'PerImageLocPredMP_at100_iou_0.5': 0.073, 'PerImageLocPredMR_at100_iou_0.5': 0.87, 'PerImageLocPredMP_at50_iou_0.5': 0.12, 'PerImageLocPredMR_at50_iou_0.5': 0.761}\n",
      "Validation Results: {'PerImageOneHopMP_at100_iou_0.5': 0.059, 'PerImageOneHopMR_at100_iou_0.5': 0.712, 'PerImageOneHopMP_at50_iou_0.5': 0.1, 'PerImageOneHopMR_at50_iou_0.5': 0.645, 'PerImageLocPredMP_at100_iou_0.5': 0.064, 'PerImageLocPredMR_at100_iou_0.5': 0.739, 'PerImageLocPredMP_at50_iou_0.5': 0.108, 'PerImageLocPredMR_at50_iou_0.5': 0.67}\n",
      "Step 67000: loss = 0.23600000143051147 (7787.214 sec)\n",
      "Training Batch Evaluation Results: {'PerImageOneHopMP_at100_iou_0.5': 0.067, 'PerImageOneHopMR_at100_iou_0.5': 0.857, 'PerImageOneHopMP_at50_iou_0.5': 0.111, 'PerImageOneHopMR_at50_iou_0.5': 0.748, 'PerImageLocPredMP_at100_iou_0.5': 0.073, 'PerImageLocPredMR_at100_iou_0.5': 0.87, 'PerImageLocPredMP_at50_iou_0.5': 0.12, 'PerImageLocPredMR_at50_iou_0.5': 0.763}\n",
      "Validation Results: {'PerImageOneHopMP_at100_iou_0.5': 0.06, 'PerImageOneHopMR_at100_iou_0.5': 0.714, 'PerImageOneHopMP_at50_iou_0.5': 0.102, 'PerImageOneHopMR_at50_iou_0.5': 0.651, 'PerImageLocPredMP_at100_iou_0.5': 0.065, 'PerImageLocPredMR_at100_iou_0.5': 0.742, 'PerImageLocPredMP_at50_iou_0.5': 0.11, 'PerImageLocPredMR_at50_iou_0.5': 0.674}\n",
      "Step 68000: loss = 0.25200000405311584 (8898.938 sec)\n",
      "Training Batch Evaluation Results: {'PerImageOneHopMP_at100_iou_0.5': 0.065, 'PerImageOneHopMR_at100_iou_0.5': 0.867, 'PerImageOneHopMP_at50_iou_0.5': 0.109, 'PerImageOneHopMR_at50_iou_0.5': 0.757, 'PerImageLocPredMP_at100_iou_0.5': 0.071, 'PerImageLocPredMR_at100_iou_0.5': 0.88, 'PerImageLocPredMP_at50_iou_0.5': 0.118, 'PerImageLocPredMR_at50_iou_0.5': 0.771}\n",
      "Validation Results: {'PerImageOneHopMP_at100_iou_0.5': 0.059, 'PerImageOneHopMR_at100_iou_0.5': 0.71, 'PerImageOneHopMP_at50_iou_0.5': 0.1, 'PerImageOneHopMR_at50_iou_0.5': 0.643, 'PerImageLocPredMP_at100_iou_0.5': 0.064, 'PerImageLocPredMR_at100_iou_0.5': 0.737, 'PerImageLocPredMP_at50_iou_0.5': 0.108, 'PerImageLocPredMR_at50_iou_0.5': 0.667}\n",
      "Step 69000: loss = 0.20399999618530273 (10003.781 sec)\n",
      "Training Batch Evaluation Results: {'PerImageOneHopMP_at100_iou_0.5': 0.067, 'PerImageOneHopMR_at100_iou_0.5': 0.871, 'PerImageOneHopMP_at50_iou_0.5': 0.111, 'PerImageOneHopMR_at50_iou_0.5': 0.759, 'PerImageLocPredMP_at100_iou_0.5': 0.073, 'PerImageLocPredMR_at100_iou_0.5': 0.882, 'PerImageLocPredMP_at50_iou_0.5': 0.119, 'PerImageLocPredMR_at50_iou_0.5': 0.773}\n",
      "Validation Results: {'PerImageOneHopMP_at100_iou_0.5': 0.06, 'PerImageOneHopMR_at100_iou_0.5': 0.707, 'PerImageOneHopMP_at50_iou_0.5': 0.101, 'PerImageOneHopMR_at50_iou_0.5': 0.643, 'PerImageLocPredMP_at100_iou_0.5': 0.065, 'PerImageLocPredMR_at100_iou_0.5': 0.733, 'PerImageLocPredMP_at50_iou_0.5': 0.109, 'PerImageLocPredMR_at50_iou_0.5': 0.667}\n",
      "Step 70000: loss = 0.30300000309944153 (11121.075 sec)\n",
      "Training Batch Evaluation Results: {'PerImageOneHopMP_at100_iou_0.5': 0.067, 'PerImageOneHopMR_at100_iou_0.5': 0.854, 'PerImageOneHopMP_at50_iou_0.5': 0.11, 'PerImageOneHopMR_at50_iou_0.5': 0.748, 'PerImageLocPredMP_at100_iou_0.5': 0.073, 'PerImageLocPredMR_at100_iou_0.5': 0.87, 'PerImageLocPredMP_at50_iou_0.5': 0.12, 'PerImageLocPredMR_at50_iou_0.5': 0.763}\n",
      "Validation Results: {'PerImageOneHopMP_at100_iou_0.5': 0.059, 'PerImageOneHopMR_at100_iou_0.5': 0.706, 'PerImageOneHopMP_at50_iou_0.5': 0.101, 'PerImageOneHopMR_at50_iou_0.5': 0.644, 'PerImageLocPredMP_at100_iou_0.5': 0.065, 'PerImageLocPredMR_at100_iou_0.5': 0.736, 'PerImageLocPredMP_at50_iou_0.5': 0.109, 'PerImageLocPredMR_at50_iou_0.5': 0.667}\n"
     ]
    }
   ],
   "source": [
    "trainer.train (\n",
    "    max_steps=10000,\n",
    "    train_eval_rate=100, \n",
    "    validation_rate=100, \n",
    "    verbose_rate=1000, \n",
    "    summary_rate=100, \n",
    "    checkpoint_rate=1000, \n",
    "    hyperparams = {\n",
    "        'learning_rate_generator': 1e-7 * batcher.batch_size,\n",
    "\n",
    "        'loss_factor_g_mil_ent': 1.0,\n",
    "        'loss_factor_g_mil_ent_conf': 0.0,\n",
    "        'loss_factor_g_mil_pred': 1.0,\n",
    "        'loss_factor_g_mil_pred_conf': 0.0,\n",
    "        'loss_factor_g_mil_role': 10.0,\n",
    "        'loss_factor_g_mil_box': 10.0,\n",
    "        'loss_factor_g_aux_emb_ent': 0.0,\n",
    "        'loss_factor_g_aux_emb_pred': 0.0,\n",
    "\n",
    "        'confidence_weight_on_role': 0.0,\n",
    "        'grad_clipping': 5.0,\n",
    "        'mil_iou_offset': 0.01,\n",
    "        'dropout_rate_g': 0.0,\n",
    "    },\n",
    "    validation_hyperparams = {\n",
    "        'dropout_rate_g': 0.0,\n",
    "        'confidence_weight_on_role': 0.0\n",
    "    },\n",
    ")\n"
   ]
  },
  {
   "cell_type": "code",
   "execution_count": 21,
   "metadata": {},
   "outputs": [],
   "source": [
    "trainer.save_model('final_1')"
   ]
  },
  {
   "cell_type": "code",
   "execution_count": null,
   "metadata": {},
   "outputs": [],
   "source": []
  },
  {
   "cell_type": "markdown",
   "metadata": {},
   "source": [
    "# Step 3: Evaluation"
   ]
  },
  {
   "cell_type": "code",
   "execution_count": 15,
   "metadata": {},
   "outputs": [
    {
     "name": "stdout",
     "output_type": "stream",
     "text": [
      "WARNING:tensorflow:From /home/alireza/home_at_filer2/tools/anaconda3/envs/py3tf2/lib/python3.6/site-packages/tensorflow/python/training/saver.py:1266: checkpoint_exists (from tensorflow.python.training.checkpoint_management) is deprecated and will be removed in a future version.\n",
      "Instructions for updating:\n",
      "Use standard file APIs to check for files with this prefix.\n",
      "INFO:tensorflow:Restoring parameters from ../../checkpoint/exp_056/ckpt-70000\n"
     ]
    }
   ],
   "source": [
    "load_params(sess, os.path.join(codebase, 'checkpoint', exp_name, 'ckpt-70000'))"
   ]
  },
  {
   "cell_type": "code",
   "execution_count": null,
   "metadata": {},
   "outputs": [],
   "source": []
  },
  {
   "cell_type": "code",
   "execution_count": 16,
   "metadata": {},
   "outputs": [],
   "source": [
    "gl2 = VGGraphLoader(\n",
    "    os.path.join(codebase, 'metadata', 'VG', 'prep', 'stanford', 'sg_stanford_with_duplicates.pkl'),\n",
    "    os.path.join(codebase, 'metadata', 'VG', 'prep', 'stanford', 'word_emb_stanford_2.pkl'),\n",
    ")\n"
   ]
  },
  {
   "cell_type": "code",
   "execution_count": 17,
   "metadata": {},
   "outputs": [],
   "source": [
    "test_evaluator = Evaluator({        \n",
    "    'graph_loader': gl2,\n",
    "    'proposals': proposals,\n",
    "    'num_proposals': None,\n",
    "    'filter_nonoverlap': True,\n",
    "    'rank_triplet_confidence': False,\n",
    "})\n"
   ]
  },
  {
   "cell_type": "code",
   "execution_count": 18,
   "metadata": {},
   "outputs": [],
   "source": [
    "test_idx = np.asarray(list(set(test_idx) - set(img_no_ent)))"
   ]
  },
  {
   "cell_type": "code",
   "execution_count": 19,
   "metadata": {},
   "outputs": [],
   "source": [
    "batcher_test = GraphBatcher(\n",
    "    gl2, 32, proposals,\n",
    "    os.path.join(codebase, 'data', 'VG', 'xfeat_gtbox', 'iresnet_oi_lowprop', 'feats_float32_20x1536.lmdb'), \n",
    "    dim_feats=1536,\n",
    "    seed=1237, \n",
    ")\n",
    "batcher_test.set_subset(test_idx)"
   ]
  },
  {
   "cell_type": "code",
   "execution_count": 20,
   "metadata": {},
   "outputs": [
    {
     "name": "stdout",
     "output_type": "stream",
     "text": [
      "Deploying\n",
      "Batch 1/997 done in 1 seconds. Spent time for read=0.01 (avg 0.01), processing=1.41 (avg 1.41), write=0.00 (avg 0.00) seconds.\n",
      "Batch 101/997 done in 9 seconds. Spent time for read=0.01 (avg 0.01), processing=0.07 (avg 0.09), write=0.00 (avg 0.00) seconds.\n",
      "Batch 201/997 done in 16 seconds. Spent time for read=0.01 (avg 0.01), processing=0.07 (avg 0.08), write=0.00 (avg 0.00) seconds.\n",
      "Batch 301/997 done in 24 seconds. Spent time for read=0.00 (avg 0.01), processing=0.07 (avg 0.08), write=0.00 (avg 0.00) seconds.\n",
      "Batch 401/997 done in 31 seconds. Spent time for read=0.00 (avg 0.01), processing=0.06 (avg 0.07), write=0.00 (avg 0.00) seconds.\n",
      "Batch 501/997 done in 39 seconds. Spent time for read=0.01 (avg 0.01), processing=0.08 (avg 0.07), write=0.00 (avg 0.00) seconds.\n",
      "Batch 601/997 done in 47 seconds. Spent time for read=0.01 (avg 0.01), processing=0.07 (avg 0.07), write=0.00 (avg 0.00) seconds.\n",
      "Batch 701/997 done in 55 seconds. Spent time for read=0.01 (avg 0.01), processing=0.07 (avg 0.07), write=0.00 (avg 0.00) seconds.\n",
      "Batch 801/997 done in 62 seconds. Spent time for read=0.01 (avg 0.01), processing=0.07 (avg 0.07), write=0.00 (avg 0.00) seconds.\n",
      "Batch 901/997 done in 70 seconds. Spent time for read=0.00 (avg 0.01), processing=0.07 (avg 0.07), write=0.00 (avg 0.00) seconds.\n",
      "Batch 997/997 done in 77 seconds. Spent time for read=0.00 (avg 0.01), processing=0.01 (avg 0.07), write=0.00 (avg 0.00) seconds.\n",
      "Done in 77 seconds\n"
     ]
    }
   ],
   "source": [
    "#test_evaluator.reset()\n",
    "deploy(sess, model, batcher_test, test_evaluator, model.eval_ops,\n",
    "    hyperparams={\n",
    "        'dropout_rate_g': 0.0,\n",
    "        'confidence_weight_on_role': 0.0\n",
    "    },\n",
    "    ignore_errors=False,\n",
    "    debug_mode=False,\n",
    "    verbose_rate=100\n",
    ")\n"
   ]
  },
  {
   "cell_type": "code",
   "execution_count": 27,
   "metadata": {},
   "outputs": [
    {
     "data": {
      "text/plain": [
       "{'PerImageOneHopMP_at100_iou_0.5': 0.05650301167022211,\n",
       " 'PerImageOneHopMR_at100_iou_0.5': 0.7015302766704027,\n",
       " 'PerImageOneHopMP_at50_iou_0.5': 0.0950163132137031,\n",
       " 'PerImageOneHopMR_at50_iou_0.5': 0.6391304248350773,\n",
       " 'PerImageLocPredMP_at100_iou_0.5': 0.06468346091103025,\n",
       " 'PerImageLocPredMR_at100_iou_0.5': 0.737087689779692,\n",
       " 'PerImageLocPredMP_at50_iou_0.5': 0.10801041535951815,\n",
       " 'PerImageLocPredMR_at50_iou_0.5': 0.6735589373513056}"
      ]
     },
     "execution_count": 27,
     "metadata": {},
     "output_type": "execute_result"
    }
   ],
   "source": [
    "test_results = test_evaluator.evaluate()\n",
    "test_results"
   ]
  },
  {
   "cell_type": "code",
   "execution_count": null,
   "metadata": {},
   "outputs": [],
   "source": []
  }
 ],
 "metadata": {
  "kernelspec": {
   "display_name": "Py3 w/ Tensorflow 2",
   "language": "python",
   "name": "py3tf2"
  },
  "language_info": {
   "codemirror_mode": {
    "name": "ipython",
    "version": 3
   },
   "file_extension": ".py",
   "mimetype": "text/x-python",
   "name": "python",
   "nbconvert_exporter": "python",
   "pygments_lexer": "ipython3",
   "version": "3.6.8"
  }
 },
 "nbformat": 4,
 "nbformat_minor": 4
}
