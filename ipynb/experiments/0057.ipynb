{
 "cells": [
  {
   "cell_type": "markdown",
   "metadata": {},
   "source": [
    "# Step 1: Data and Model Preparation\n"
   ]
  },
  {
   "cell_type": "code",
   "execution_count": 1,
   "metadata": {},
   "outputs": [],
   "source": [
    "exp_name = 'exp_057'"
   ]
  },
  {
   "cell_type": "code",
   "execution_count": 2,
   "metadata": {},
   "outputs": [],
   "source": [
    "%load_ext autoreload\n",
    "%autoreload 2\n",
    "import sys\n",
    "import os\n",
    "codebase = '../../'\n",
    "sys.path.append(codebase)"
   ]
  },
  {
   "cell_type": "code",
   "execution_count": 3,
   "metadata": {},
   "outputs": [],
   "source": [
    "from src.dataflow.vg_graph_loader_3 import VGGraphLoader\n",
    "from src.dataflow.graph_batcher_4_rpn import GraphBatcher"
   ]
  },
  {
   "cell_type": "code",
   "execution_count": 4,
   "metadata": {},
   "outputs": [
    {
     "name": "stdout",
     "output_type": "stream",
     "text": [
      "\n",
      "WARNING: The TensorFlow contrib module will not be included in TensorFlow 2.0.\n",
      "For more information, please see:\n",
      "  * https://github.com/tensorflow/community/blob/master/rfcs/20180907-contrib-sunset.md\n",
      "  * https://github.com/tensorflow/addons\n",
      "If you depend on functionality not listed there, please file an issue.\n",
      "\n"
     ]
    }
   ],
   "source": [
    "from src.tensorflow.models.vsp_model_002 import Model\n",
    "from src.tensorflow.engine.trainer_3 import Trainer\n",
    "from src.tensorflow.engine.util import deploy, load_params\n",
    "from src.util.util import pickle_save, pickle_load\n",
    "from src.eval.sgg_evaluator_04 import Evaluator"
   ]
  },
  {
   "cell_type": "code",
   "execution_count": 5,
   "metadata": {},
   "outputs": [],
   "source": [
    "import tensorflow as tf\n",
    "import numpy as np\n",
    "tf.set_random_seed(1234)\n",
    "np.random.seed(1235)"
   ]
  },
  {
   "cell_type": "code",
   "execution_count": null,
   "metadata": {},
   "outputs": [],
   "source": []
  },
  {
   "cell_type": "code",
   "execution_count": 6,
   "metadata": {},
   "outputs": [],
   "source": [
    "gl = VGGraphLoader(\n",
    "    os.path.join(codebase, 'metadata', 'VG', 'prep', 'stanford', 'sg_stanford_2.pkl'),\n",
    "    os.path.join(codebase, 'metadata', 'VG', 'prep', 'stanford', 'word_emb_stanford_2.pkl'),\n",
    ")\n"
   ]
  },
  {
   "cell_type": "code",
   "execution_count": 7,
   "metadata": {},
   "outputs": [],
   "source": [
    "img_ids, train_idx, test_idx = pickle_load(os.path.join(codebase, 'metadata', 'VG', 'prep', 'stanford', 'split_stanford.pkl'))\n",
    "misc = pickle_load(os.path.join(codebase, 'metadata', 'VG', 'prep', 'stanford', 'misc_stanford_2.pkl'))\n",
    "img_no_ent = misc['img_no_ent']\n",
    "img_no_pred = misc['img_no_pred']\n",
    "image_size = misc['img_size']"
   ]
  },
  {
   "cell_type": "code",
   "execution_count": 8,
   "metadata": {},
   "outputs": [],
   "source": [
    "train_idx = np.asarray(list(set(train_idx) - set(img_no_ent)))\n",
    "np.random.shuffle(train_idx)\n",
    "val_idx = train_idx[:1000]\n",
    "train_idx = train_idx[1000:]"
   ]
  },
  {
   "cell_type": "code",
   "execution_count": null,
   "metadata": {},
   "outputs": [],
   "source": []
  },
  {
   "cell_type": "code",
   "execution_count": 9,
   "metadata": {},
   "outputs": [],
   "source": [
    "proposals = pickle_load(os.path.join(codebase, 'data', 'VG', 'xfeat_gtbox', 'iresnet_oi_lowprop', 'coords.pkl'))"
   ]
  },
  {
   "cell_type": "code",
   "execution_count": 10,
   "metadata": {},
   "outputs": [],
   "source": [
    "batcher = GraphBatcher(\n",
    "    gl, 32, proposals,\n",
    "    os.path.join(codebase, 'data', 'VG', 'xfeat_gtbox', 'iresnet_oi_lowprop', 'feats_float32_20x1536.lmdb'), \n",
    "    dim_feats=1536,\n",
    "    seed=1236, \n",
    ")\n",
    "batcher.set_subset(train_idx)\n",
    "batcher.shuffle()"
   ]
  },
  {
   "cell_type": "code",
   "execution_count": 11,
   "metadata": {},
   "outputs": [],
   "source": [
    "batcher_val = GraphBatcher(\n",
    "    gl, 32, proposals,\n",
    "    os.path.join(codebase, 'data', 'VG', 'xfeat_gtbox', 'iresnet_oi_lowprop', 'feats_float32_20x1536.lmdb'), \n",
    "    dim_feats=1536,\n",
    "    seed=1237, \n",
    ")\n",
    "batcher_val.set_subset(val_idx)"
   ]
  },
  {
   "cell_type": "code",
   "execution_count": null,
   "metadata": {},
   "outputs": [],
   "source": []
  },
  {
   "cell_type": "code",
   "execution_count": 12,
   "metadata": {},
   "outputs": [],
   "source": [
    "tf.reset_default_graph()"
   ]
  },
  {
   "cell_type": "code",
   "execution_count": 12,
   "metadata": {},
   "outputs": [
    {
     "name": "stdout",
     "output_type": "stream",
     "text": [
      "WARNING:tensorflow:From ../../src/tensorflow/models/vsp_model_002.py:94: GRUCell.__init__ (from tensorflow.python.ops.rnn_cell_impl) is deprecated and will be removed in a future version.\n",
      "Instructions for updating:\n",
      "This class is equivalent as tf.keras.layers.GRUCell, and will be replaced by that in Tensorflow 2.0.\n",
      "WARNING:tensorflow:From /home/alireza/home_at_filer2/tools/anaconda3/envs/py3tf2/lib/python3.6/site-packages/tensorflow/python/framework/op_def_library.py:263: colocate_with (from tensorflow.python.framework.ops) is deprecated and will be removed in a future version.\n",
      "Instructions for updating:\n",
      "Colocations handled automatically by placer.\n",
      "WARNING:tensorflow:From ../../src/tensorflow/util/util.py:15: dense (from tensorflow.python.layers.core) is deprecated and will be removed in a future version.\n",
      "Instructions for updating:\n",
      "Use keras.layers.dense instead.\n",
      "WARNING:tensorflow:From ../../src/tensorflow/util/util.py:17: calling dropout (from tensorflow.python.ops.nn_ops) with keep_prob is deprecated and will be removed in a future version.\n",
      "Instructions for updating:\n",
      "Please use `rate` instead of `keep_prob`. Rate should be set to `rate = 1 - keep_prob`.\n",
      "WARNING:tensorflow:From ../../src/tensorflow/models/vsp_model_002.py:513: py_func (from tensorflow.python.ops.script_ops) is deprecated and will be removed in a future version.\n",
      "Instructions for updating:\n",
      "tf.py_func is deprecated in TF V2. Instead, use\n",
      "    tf.py_function, which takes a python function which manipulates tf eager\n",
      "    tensors instead of numpy arrays. It's easy to convert a tf eager tensor to\n",
      "    an ndarray (just call tensor.numpy()) but having access to eager tensors\n",
      "    means `tf.py_function`s can use accelerators such as GPUs as well as\n",
      "    being differentiable using a gradient tape.\n",
      "    \n",
      "WARNING:tensorflow:From /home/alireza/home_at_filer2/tools/anaconda3/envs/py3tf2/lib/python3.6/site-packages/tensorflow/python/ops/math_ops.py:3066: to_int32 (from tensorflow.python.ops.math_ops) is deprecated and will be removed in a future version.\n",
      "Instructions for updating:\n",
      "Use tf.cast instead.\n"
     ]
    }
   ],
   "source": [
    "model = Model(   \n",
    "    dim_att_head_role_ent=[1024, 1024], \n",
    "    dim_att_head_role_pred=[1024, 1024],\n",
    "    role_edge_mode='full_soft',\n",
    "    stop_grad_role_edge=True,\n",
    "    \n",
    "    dim_state_ent=1024,\n",
    "    dim_state_pred=1024,\n",
    "    dim_emb_head_ent=[300],\n",
    "    dim_conf_head_ent=[],\n",
    "    dim_conf_head_pred=[],\n",
    "    dim_emb_head_pred=[300],\n",
    "    dim_init_head_ent=[1024],\n",
    "\n",
    "    dim_message_send_head_pred2ent=[1024, 1024],\n",
    "    dim_message_pool_head_pred2ent=[1024, 1024],\n",
    "    dim_message_receive_head_pred2ent=[1024, 1024],    \n",
    "    dim_message_send_head_ent2pred=[1024, 1024],\n",
    "    dim_message_pool_head_ent2pred=[1024, 1024],\n",
    "    dim_message_receive_head_ent2pred=[1024, 1024],\n",
    "    \n",
    "    num_mp_iter=3,     \n",
    "    num_proposals=None,\n",
    "\n",
    "    heat_role=1.0,\n",
    "    heat_emb_mil=1.0,\n",
    "    null_att_logit=0.0,\n",
    "        \n",
    "    num_align_iter=3,\n",
    "    alignment_order='best',\n",
    "    default_act_fn_name='leaky_relu',\n",
    "    optimizer_type_generator=tf.train.AdamOptimizer,\n",
    "    \n",
    "    max_num_pred=100,\n",
    "    dim_init_head_pred=[],\n",
    "    init_state_type_pred='trainable',\n",
    "    \n",
    "    dim_proposal_feat=1536,\n",
    "    emb_dict_ent=gl.noun_emb_dict,\n",
    "    emb_dict_pred=gl.pred_emb_dict,    \n",
    "    #image_size=448,\n",
    "    #num_channels=3,\n",
    "    debugging=False\n",
    ")\n",
    "\n"
   ]
  },
  {
   "cell_type": "code",
   "execution_count": null,
   "metadata": {},
   "outputs": [],
   "source": []
  },
  {
   "cell_type": "code",
   "execution_count": 13,
   "metadata": {},
   "outputs": [],
   "source": [
    "os.environ[\"CUDA_VISIBLE_DEVICES\"]=\"0\"\n",
    "#sess = tf.Session(config=tf.ConfigProto(gpu_options=tf.GPUOptions(allow_growth=True)))\n",
    "#sess = tf.Session(config=tf.ConfigProto(gpu_options=tf.GPUOptions(per_process_gpu_memory_fraction=0.5)))\n",
    "sess = tf.Session()\n",
    "sess.run(tf.no_op())"
   ]
  },
  {
   "cell_type": "code",
   "execution_count": null,
   "metadata": {},
   "outputs": [],
   "source": []
  },
  {
   "cell_type": "markdown",
   "metadata": {},
   "source": [
    "# Step 2: Training\n"
   ]
  },
  {
   "cell_type": "code",
   "execution_count": 14,
   "metadata": {},
   "outputs": [],
   "source": [
    "train_evaluator = Evaluator({        \n",
    "    'graph_loader': gl,\n",
    "    'proposals': proposals,\n",
    "    'num_proposals': None,\n",
    "    'filter_nonoverlap': True,\n",
    "    'rank_triplet_confidence': False,\n",
    "})\n",
    "val_evaluator = Evaluator({        \n",
    "    'graph_loader': gl,\n",
    "    'proposals': proposals,\n",
    "    'num_proposals': None,\n",
    "    'filter_nonoverlap': True,\n",
    "    'rank_triplet_confidence': False,\n",
    "})\n"
   ]
  },
  {
   "cell_type": "code",
   "execution_count": null,
   "metadata": {},
   "outputs": [],
   "source": []
  },
  {
   "cell_type": "code",
   "execution_count": 15,
   "metadata": {},
   "outputs": [],
   "source": [
    "trainer = Trainer(\n",
    "    model, sess, batcher, batcher_val, train_evaluator, val_evaluator,\n",
    "    logdir=os.path.join(codebase, 'log', 'tfsummary', exp_name), \n",
    "    modeldir=os.path.join(codebase, 'checkpoint', exp_name),\n",
    ")"
   ]
  },
  {
   "cell_type": "code",
   "execution_count": null,
   "metadata": {},
   "outputs": [],
   "source": []
  },
  {
   "cell_type": "code",
   "execution_count": null,
   "metadata": {},
   "outputs": [],
   "source": []
  },
  {
   "cell_type": "code",
   "execution_count": null,
   "metadata": {},
   "outputs": [
    {
     "name": "stderr",
     "output_type": "stream",
     "text": [
      "../../src/eval/eval_utils.py:55: RuntimeWarning: invalid value encountered in true_divide\n",
      "  iou = intsec / (area1[:, np.newaxis] + area2[np.newaxis, :] - intsec)\n",
      "../../src/eval/graph_util_new_02.py:118: RuntimeWarning: invalid value encountered in greater\n",
      "  overlap = (pw_iou(ent_box[i], ent_box[i]) > 0.0).astype(np.float32)\n",
      "../../src/eval/graph_eval_3.py:219: RuntimeWarning: invalid value encountered in true_divide\n",
      "  per_image_recall.append(np.divide(len(gt_matched), len(gt_graph['pred_lbl'][i])))\n",
      "../../src/eval/graph_eval_3.py:300: RuntimeWarning: invalid value encountered in true_divide\n",
      "  per_image_recall.append(np.divide(len(gt_matched), len(gt_graph['pred_lbl'][i])))\n"
     ]
    },
    {
     "name": "stdout",
     "output_type": "stream",
     "text": [
      "Step 1000: loss = 2.7730000019073486 (2076.673 sec)\n",
      "Training Batch Evaluation Results: {'PerImageOneHopMP_at100_iou_0.5': 0.014, 'PerImageOneHopMR_at100_iou_0.5': 0.207, 'PerImageOneHopMP_at50_iou_0.5': 0.025, 'PerImageOneHopMR_at50_iou_0.5': 0.187, 'PerImageLocPredMP_at100_iou_0.5': 0.03, 'PerImageLocPredMR_at100_iou_0.5': 0.459, 'PerImageLocPredMP_at50_iou_0.5': 0.052, 'PerImageLocPredMR_at50_iou_0.5': 0.411}\n",
      "Validation Results: {'PerImageOneHopMP_at100_iou_0.5': 0.014, 'PerImageOneHopMR_at100_iou_0.5': 0.196, 'PerImageOneHopMP_at50_iou_0.5': 0.024, 'PerImageOneHopMR_at50_iou_0.5': 0.175, 'PerImageLocPredMP_at100_iou_0.5': 0.032, 'PerImageLocPredMR_at100_iou_0.5': 0.474, 'PerImageLocPredMP_at50_iou_0.5': 0.057, 'PerImageLocPredMR_at50_iou_0.5': 0.424}\n",
      "Step 2000: loss = 2.5369999408721924 (3860.870 sec)\n",
      "Training Batch Evaluation Results: {'PerImageOneHopMP_at100_iou_0.5': 0.016, 'PerImageOneHopMR_at100_iou_0.5': 0.225, 'PerImageOneHopMP_at50_iou_0.5': 0.029, 'PerImageOneHopMR_at50_iou_0.5': 0.205, 'PerImageLocPredMP_at100_iou_0.5': 0.035, 'PerImageLocPredMR_at100_iou_0.5': 0.498, 'PerImageLocPredMP_at50_iou_0.5': 0.061, 'PerImageLocPredMR_at50_iou_0.5': 0.45}\n",
      "Validation Results: {'PerImageOneHopMP_at100_iou_0.5': 0.017, 'PerImageOneHopMR_at100_iou_0.5': 0.236, 'PerImageOneHopMP_at50_iou_0.5': 0.031, 'PerImageOneHopMR_at50_iou_0.5': 0.22, 'PerImageLocPredMP_at100_iou_0.5': 0.038, 'PerImageLocPredMR_at100_iou_0.5': 0.522, 'PerImageLocPredMP_at50_iou_0.5': 0.066, 'PerImageLocPredMR_at50_iou_0.5': 0.475}\n"
     ]
    }
   ],
   "source": [
    "trainer.train (\n",
    "    max_steps=30000,\n",
    "    train_eval_rate=100, \n",
    "    validation_rate=100, \n",
    "    verbose_rate=1000, \n",
    "    summary_rate=100, \n",
    "    checkpoint_rate=10000, \n",
    "    hyperparams = {\n",
    "        'learning_rate_generator': 1e-5 * batcher.batch_size,\n",
    "\n",
    "        'loss_factor_g_mil_ent': 1.0,\n",
    "        'loss_factor_g_mil_ent_conf': 0.0,\n",
    "        'loss_factor_g_mil_pred': 1.0,\n",
    "        'loss_factor_g_mil_pred_conf': 0.0,\n",
    "        'loss_factor_g_mil_role': 10.0,\n",
    "        'loss_factor_g_mil_box': 0.0,\n",
    "        'loss_factor_g_aux_emb_ent': 0.0,\n",
    "        'loss_factor_g_aux_emb_pred': 0.0,\n",
    "\n",
    "        'confidence_weight_on_role': 0.0,\n",
    "        'grad_clipping': 5.0,\n",
    "        'mil_iou_offset': 0.01,\n",
    "        'dropout_rate_g': 0.0,\n",
    "    },\n",
    "    validation_hyperparams = {\n",
    "        'dropout_rate_g': 0.0,\n",
    "        'confidence_weight_on_role': 0.0\n",
    "    },\n",
    ")\n"
   ]
  },
  {
   "cell_type": "code",
   "execution_count": null,
   "metadata": {},
   "outputs": [],
   "source": [
    "trainer.train (\n",
    "    max_steps=10000,\n",
    "    train_eval_rate=100, \n",
    "    validation_rate=100, \n",
    "    verbose_rate=1000, \n",
    "    summary_rate=100, \n",
    "    checkpoint_rate=1000, \n",
    "    hyperparams = {\n",
    "        'learning_rate_generator': 1e-6 * batcher.batch_size,\n",
    "\n",
    "        'loss_factor_g_mil_ent': 1.0,\n",
    "        'loss_factor_g_mil_ent_conf': 0.0,\n",
    "        'loss_factor_g_mil_pred': 1.0,\n",
    "        'loss_factor_g_mil_pred_conf': 0.0,\n",
    "        'loss_factor_g_mil_role': 10.0,\n",
    "        'loss_factor_g_mil_box': 0.0,\n",
    "        'loss_factor_g_aux_emb_ent': 0.0,\n",
    "        'loss_factor_g_aux_emb_pred': 0.0,\n",
    "\n",
    "        'confidence_weight_on_role': 0.0,\n",
    "        'grad_clipping': 5.0,\n",
    "        'mil_iou_offset': 0.01,\n",
    "        'dropout_rate_g': 0.0,\n",
    "    },\n",
    "    validation_hyperparams = {\n",
    "        'dropout_rate_g': 0.0,\n",
    "        'confidence_weight_on_role': 0.0\n",
    "    },\n",
    ")\n"
   ]
  },
  {
   "cell_type": "code",
   "execution_count": 27,
   "metadata": {},
   "outputs": [
    {
     "name": "stderr",
     "output_type": "stream",
     "text": [
      "../../src/eval/eval_utils.py:55: RuntimeWarning: invalid value encountered in true_divide\n",
      "  iou = intsec / (area1[:, np.newaxis] + area2[np.newaxis, :] - intsec)\n",
      "../../src/eval/graph_util_new_02.py:118: RuntimeWarning: invalid value encountered in greater\n",
      "  overlap = (pw_iou(ent_box[i], ent_box[i]) > 0.0).astype(np.float32)\n",
      "../../src/eval/graph_eval_3.py:219: RuntimeWarning: invalid value encountered in true_divide\n",
      "  per_image_recall.append(np.divide(len(gt_matched), len(gt_graph['pred_lbl'][i])))\n",
      "../../src/eval/graph_eval_3.py:300: RuntimeWarning: invalid value encountered in true_divide\n",
      "  per_image_recall.append(np.divide(len(gt_matched), len(gt_graph['pred_lbl'][i])))\n"
     ]
    },
    {
     "name": "stdout",
     "output_type": "stream",
     "text": [
      "Step 41000: loss = 1.4769999980926514 (1699.322 sec)\n",
      "Training Batch Evaluation Results: {'PerImageOneHopMP_at100_iou_0.5': 0.036, 'PerImageOneHopMR_at100_iou_0.5': 0.421, 'PerImageOneHopMP_at50_iou_0.5': 0.062, 'PerImageOneHopMR_at50_iou_0.5': 0.384, 'PerImageLocPredMP_at100_iou_0.5': 0.056, 'PerImageLocPredMR_at100_iou_0.5': 0.666, 'PerImageLocPredMP_at50_iou_0.5': 0.097, 'PerImageLocPredMR_at50_iou_0.5': 0.607}\n",
      "Validation Results: {'PerImageOneHopMP_at100_iou_0.5': 0.028, 'PerImageOneHopMR_at100_iou_0.5': 0.324, 'PerImageOneHopMP_at50_iou_0.5': 0.049, 'PerImageOneHopMR_at50_iou_0.5': 0.302, 'PerImageLocPredMP_at100_iou_0.5': 0.05, 'PerImageLocPredMR_at100_iou_0.5': 0.61, 'PerImageLocPredMP_at50_iou_0.5': 0.089, 'PerImageLocPredMR_at50_iou_0.5': 0.568}\n",
      "Step 42000: loss = 1.0759999752044678 (3480.562 sec)\n",
      "Training Batch Evaluation Results: {'PerImageOneHopMP_at100_iou_0.5': 0.034, 'PerImageOneHopMR_at100_iou_0.5': 0.41, 'PerImageOneHopMP_at50_iou_0.5': 0.059, 'PerImageOneHopMR_at50_iou_0.5': 0.375, 'PerImageLocPredMP_at100_iou_0.5': 0.055, 'PerImageLocPredMR_at100_iou_0.5': 0.668, 'PerImageLocPredMP_at50_iou_0.5': 0.095, 'PerImageLocPredMR_at50_iou_0.5': 0.606}\n",
      "Validation Results: {'PerImageOneHopMP_at100_iou_0.5': 0.027, 'PerImageOneHopMR_at100_iou_0.5': 0.321, 'PerImageOneHopMP_at50_iou_0.5': 0.048, 'PerImageOneHopMR_at50_iou_0.5': 0.3, 'PerImageLocPredMP_at100_iou_0.5': 0.05, 'PerImageLocPredMR_at100_iou_0.5': 0.609, 'PerImageLocPredMP_at50_iou_0.5': 0.088, 'PerImageLocPredMR_at50_iou_0.5': 0.567}\n",
      "Step 43000: loss = 1.6690000295639038 (5270.150 sec)\n",
      "Training Batch Evaluation Results: {'PerImageOneHopMP_at100_iou_0.5': 0.035, 'PerImageOneHopMR_at100_iou_0.5': 0.418, 'PerImageOneHopMP_at50_iou_0.5': 0.06, 'PerImageOneHopMR_at50_iou_0.5': 0.383, 'PerImageLocPredMP_at100_iou_0.5': 0.055, 'PerImageLocPredMR_at100_iou_0.5': 0.661, 'PerImageLocPredMP_at50_iou_0.5': 0.096, 'PerImageLocPredMR_at50_iou_0.5': 0.603}\n",
      "Validation Results: {'PerImageOneHopMP_at100_iou_0.5': 0.027, 'PerImageOneHopMR_at100_iou_0.5': 0.321, 'PerImageOneHopMP_at50_iou_0.5': 0.049, 'PerImageOneHopMR_at50_iou_0.5': 0.298, 'PerImageLocPredMP_at100_iou_0.5': 0.05, 'PerImageLocPredMR_at100_iou_0.5': 0.611, 'PerImageLocPredMP_at50_iou_0.5': 0.088, 'PerImageLocPredMR_at50_iou_0.5': 0.568}\n",
      "Step 44000: loss = 1.3370000123977661 (7067.516 sec)\n",
      "Training Batch Evaluation Results: {'PerImageOneHopMP_at100_iou_0.5': 0.035, 'PerImageOneHopMR_at100_iou_0.5': 0.429, 'PerImageOneHopMP_at50_iou_0.5': 0.061, 'PerImageOneHopMR_at50_iou_0.5': 0.393, 'PerImageLocPredMP_at100_iou_0.5': 0.055, 'PerImageLocPredMR_at100_iou_0.5': 0.668, 'PerImageLocPredMP_at50_iou_0.5': 0.095, 'PerImageLocPredMR_at50_iou_0.5': 0.611}\n",
      "Validation Results: {'PerImageOneHopMP_at100_iou_0.5': 0.027, 'PerImageOneHopMR_at100_iou_0.5': 0.324, 'PerImageOneHopMP_at50_iou_0.5': 0.048, 'PerImageOneHopMR_at50_iou_0.5': 0.3, 'PerImageLocPredMP_at100_iou_0.5': 0.05, 'PerImageLocPredMR_at100_iou_0.5': 0.614, 'PerImageLocPredMP_at50_iou_0.5': 0.088, 'PerImageLocPredMR_at50_iou_0.5': 0.569}\n",
      "Step 45000: loss = 1.1549999713897705 (8795.122 sec)\n",
      "Training Batch Evaluation Results: {'PerImageOneHopMP_at100_iou_0.5': 0.034, 'PerImageOneHopMR_at100_iou_0.5': 0.422, 'PerImageOneHopMP_at50_iou_0.5': 0.059, 'PerImageOneHopMR_at50_iou_0.5': 0.387, 'PerImageLocPredMP_at100_iou_0.5': 0.054, 'PerImageLocPredMR_at100_iou_0.5': 0.669, 'PerImageLocPredMP_at50_iou_0.5': 0.093, 'PerImageLocPredMR_at50_iou_0.5': 0.611}\n",
      "Validation Results: {'PerImageOneHopMP_at100_iou_0.5': 0.027, 'PerImageOneHopMR_at100_iou_0.5': 0.323, 'PerImageOneHopMP_at50_iou_0.5': 0.049, 'PerImageOneHopMR_at50_iou_0.5': 0.303, 'PerImageLocPredMP_at100_iou_0.5': 0.05, 'PerImageLocPredMR_at100_iou_0.5': 0.608, 'PerImageLocPredMP_at50_iou_0.5': 0.089, 'PerImageLocPredMR_at50_iou_0.5': 0.568}\n"
     ]
    }
   ],
   "source": [
    "trainer.train (\n",
    "    max_steps=5000,\n",
    "    train_eval_rate=100, \n",
    "    validation_rate=100, \n",
    "    verbose_rate=1000, \n",
    "    summary_rate=100, \n",
    "    checkpoint_rate=1000, \n",
    "    hyperparams = {\n",
    "        'learning_rate_generator': 1e-7 * batcher.batch_size,\n",
    "\n",
    "        'loss_factor_g_mil_ent': 1.0,\n",
    "        'loss_factor_g_mil_ent_conf': 0.0,\n",
    "        'loss_factor_g_mil_pred': 1.0,\n",
    "        'loss_factor_g_mil_pred_conf': 0.0,\n",
    "        'loss_factor_g_mil_role': 10.0,\n",
    "        'loss_factor_g_mil_box': 0.0,\n",
    "        'loss_factor_g_aux_emb_ent': 0.0,\n",
    "        'loss_factor_g_aux_emb_pred': 0.0,\n",
    "\n",
    "        'confidence_weight_on_role': 0.0,\n",
    "        'grad_clipping': 5.0,\n",
    "        'mil_iou_offset': 0.01,\n",
    "        'dropout_rate_g': 0.0,\n",
    "    },\n",
    "    validation_hyperparams = {\n",
    "        'dropout_rate_g': 0.0,\n",
    "        'confidence_weight_on_role': 0.0\n",
    "    },\n",
    ")\n"
   ]
  },
  {
   "cell_type": "code",
   "execution_count": 21,
   "metadata": {},
   "outputs": [],
   "source": [
    "trainer.save_model('final_1')"
   ]
  },
  {
   "cell_type": "code",
   "execution_count": null,
   "metadata": {},
   "outputs": [],
   "source": []
  },
  {
   "cell_type": "markdown",
   "metadata": {},
   "source": [
    "# Step 3: Evaluation"
   ]
  },
  {
   "cell_type": "code",
   "execution_count": 14,
   "metadata": {},
   "outputs": [
    {
     "name": "stdout",
     "output_type": "stream",
     "text": [
      "WARNING:tensorflow:From /home/alireza/home_at_filer2/tools/anaconda3/envs/py3tf2/lib/python3.6/site-packages/tensorflow/python/training/saver.py:1266: checkpoint_exists (from tensorflow.python.training.checkpoint_management) is deprecated and will be removed in a future version.\n",
      "Instructions for updating:\n",
      "Use standard file APIs to check for files with this prefix.\n",
      "INFO:tensorflow:Restoring parameters from ../../checkpoint/exp_057/ckpt-45000\n"
     ]
    }
   ],
   "source": [
    "load_params(sess, os.path.join(codebase, 'checkpoint', exp_name, 'ckpt-45000'))"
   ]
  },
  {
   "cell_type": "code",
   "execution_count": null,
   "metadata": {},
   "outputs": [],
   "source": []
  },
  {
   "cell_type": "code",
   "execution_count": null,
   "metadata": {},
   "outputs": [],
   "source": []
  },
  {
   "cell_type": "code",
   "execution_count": 15,
   "metadata": {},
   "outputs": [],
   "source": [
    "gl = VGGraphLoader(\n",
    "    os.path.join(codebase, 'metadata', 'VG', 'prep', 'stanford', 'sg_stanford_with_duplicates.pkl'),\n",
    "    os.path.join(codebase, 'metadata', 'VG', 'prep', 'stanford', 'word_emb_stanford_2.pkl'),\n",
    ")\n"
   ]
  },
  {
   "cell_type": "code",
   "execution_count": 16,
   "metadata": {},
   "outputs": [],
   "source": [
    "test_evaluator = Evaluator({        \n",
    "    'graph_loader': gl,\n",
    "    'proposals': proposals,\n",
    "    'num_proposals': None,\n",
    "    'filter_nonoverlap': True,\n",
    "    'rank_triplet_confidence': False,\n",
    "})\n"
   ]
  },
  {
   "cell_type": "code",
   "execution_count": 17,
   "metadata": {},
   "outputs": [],
   "source": [
    "test_idx = np.asarray(list(set(test_idx) - set(img_no_ent)))"
   ]
  },
  {
   "cell_type": "code",
   "execution_count": 18,
   "metadata": {},
   "outputs": [],
   "source": [
    "batcher_test = GraphBatcher(\n",
    "    gl, 32, proposals,\n",
    "    os.path.join(codebase, 'data', 'VG', 'xfeat_gtbox', 'iresnet_oi_lowprop', 'feats_float32_20x1536.lmdb'), \n",
    "    dim_feats=1536,\n",
    "    seed=1237, \n",
    ")\n",
    "batcher_test.set_subset(test_idx)"
   ]
  },
  {
   "cell_type": "code",
   "execution_count": 19,
   "metadata": {},
   "outputs": [
    {
     "name": "stdout",
     "output_type": "stream",
     "text": [
      "Deploying\n",
      "Batch 1/997 done in 0 seconds. Spent time for read=0.01 (avg 0.01), processing=0.89 (avg 0.89), write=0.00 (avg 0.00) seconds.\n",
      "Batch 101/997 done in 8 seconds. Spent time for read=0.01 (avg 0.01), processing=0.07 (avg 0.08), write=0.00 (avg 0.00) seconds.\n",
      "Batch 201/997 done in 16 seconds. Spent time for read=0.01 (avg 0.01), processing=0.08 (avg 0.07), write=0.00 (avg 0.00) seconds.\n",
      "Batch 301/997 done in 24 seconds. Spent time for read=0.01 (avg 0.01), processing=0.07 (avg 0.07), write=0.00 (avg 0.00) seconds.\n",
      "Batch 401/997 done in 31 seconds. Spent time for read=0.01 (avg 0.01), processing=0.06 (avg 0.07), write=0.00 (avg 0.00) seconds.\n",
      "Batch 501/997 done in 39 seconds. Spent time for read=0.01 (avg 0.01), processing=0.08 (avg 0.07), write=0.00 (avg 0.00) seconds.\n",
      "Batch 601/997 done in 47 seconds. Spent time for read=0.01 (avg 0.01), processing=0.07 (avg 0.07), write=0.00 (avg 0.00) seconds.\n",
      "Batch 701/997 done in 55 seconds. Spent time for read=0.01 (avg 0.01), processing=0.07 (avg 0.07), write=0.00 (avg 0.00) seconds.\n",
      "Batch 801/997 done in 63 seconds. Spent time for read=0.01 (avg 0.01), processing=0.07 (avg 0.07), write=0.00 (avg 0.00) seconds.\n",
      "Batch 901/997 done in 71 seconds. Spent time for read=0.00 (avg 0.01), processing=0.07 (avg 0.07), write=0.00 (avg 0.00) seconds.\n",
      "Batch 997/997 done in 78 seconds. Spent time for read=0.00 (avg 0.01), processing=0.01 (avg 0.07), write=0.00 (avg 0.00) seconds.\n",
      "Done in 78 seconds\n"
     ]
    }
   ],
   "source": [
    "#test_evaluator.reset()\n",
    "deploy(sess, model, batcher_test, test_evaluator, model.eval_ops,\n",
    "    hyperparams={\n",
    "        'dropout_rate_g': 0.0,\n",
    "        'confidence_weight_on_role': 0.0\n",
    "    },\n",
    "    ignore_errors=False,\n",
    "    debug_mode=False,\n",
    "    verbose_rate=100\n",
    ")\n"
   ]
  },
  {
   "cell_type": "code",
   "execution_count": null,
   "metadata": {},
   "outputs": [],
   "source": []
  },
  {
   "cell_type": "code",
   "execution_count": 33,
   "metadata": {},
   "outputs": [
    {
     "data": {
      "text/plain": [
       "{'PerImageOneHopMP_at100_iou_0.5': 0.02710001254862593,\n",
       " 'PerImageOneHopMR_at100_iou_0.5': 0.32696312991817844,\n",
       " 'PerImageOneHopMP_at50_iou_0.5': 0.04764901493286486,\n",
       " 'PerImageOneHopMR_at50_iou_0.5': 0.3046227665977843,\n",
       " 'PerImageLocPredMP_at100_iou_0.5': 0.05137376082318987,\n",
       " 'PerImageLocPredMR_at100_iou_0.5': 0.6241792047413405,\n",
       " 'PerImageLocPredMP_at50_iou_0.5': 0.08948236918057473,\n",
       " 'PerImageLocPredMR_at50_iou_0.5': 0.5772884372735699}"
      ]
     },
     "execution_count": 33,
     "metadata": {},
     "output_type": "execute_result"
    }
   ],
   "source": [
    "test_results = test_evaluator.evaluate()\n",
    "test_results"
   ]
  },
  {
   "cell_type": "code",
   "execution_count": null,
   "metadata": {},
   "outputs": [],
   "source": []
  }
 ],
 "metadata": {
  "kernelspec": {
   "display_name": "Py3 w/ Tensorflow 2",
   "language": "python",
   "name": "py3tf2"
  },
  "language_info": {
   "codemirror_mode": {
    "name": "ipython",
    "version": 3
   },
   "file_extension": ".py",
   "mimetype": "text/x-python",
   "name": "python",
   "nbconvert_exporter": "python",
   "pygments_lexer": "ipython3",
   "version": "3.6.8"
  }
 },
 "nbformat": 4,
 "nbformat_minor": 4
}
