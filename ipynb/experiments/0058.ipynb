{
 "cells": [
  {
   "cell_type": "markdown",
   "metadata": {},
   "source": [
    "# Step 1: Data and Model Preparation\n"
   ]
  },
  {
   "cell_type": "code",
   "execution_count": 1,
   "metadata": {},
   "outputs": [],
   "source": [
    "exp_name = 'exp_058'"
   ]
  },
  {
   "cell_type": "code",
   "execution_count": 2,
   "metadata": {},
   "outputs": [],
   "source": [
    "%load_ext autoreload\n",
    "%autoreload 2\n",
    "import sys\n",
    "import os\n",
    "codebase = '../../'\n",
    "sys.path.append(codebase)"
   ]
  },
  {
   "cell_type": "code",
   "execution_count": 3,
   "metadata": {},
   "outputs": [],
   "source": [
    "from src.dataflow.vg_graph_loader_3 import VGGraphLoader\n",
    "from src.dataflow.graph_batcher_2_rpn import GraphBatcher"
   ]
  },
  {
   "cell_type": "code",
   "execution_count": 4,
   "metadata": {},
   "outputs": [
    {
     "name": "stdout",
     "output_type": "stream",
     "text": [
      "\n",
      "WARNING: The TensorFlow contrib module will not be included in TensorFlow 2.0.\n",
      "For more information, please see:\n",
      "  * https://github.com/tensorflow/community/blob/master/rfcs/20180907-contrib-sunset.md\n",
      "  * https://github.com/tensorflow/addons\n",
      "If you depend on functionality not listed there, please file an issue.\n",
      "\n"
     ]
    }
   ],
   "source": [
    "from src.tensorflow.models.vsp_model_002 import Model\n",
    "from src.tensorflow.engine.trainer_3 import Trainer\n",
    "from src.tensorflow.engine.util import deploy, load_params\n",
    "from src.util.util import pickle_save, pickle_load\n",
    "from src.eval.sgg_evaluator_03 import Evaluator"
   ]
  },
  {
   "cell_type": "code",
   "execution_count": 5,
   "metadata": {},
   "outputs": [],
   "source": [
    "import tensorflow as tf\n",
    "import numpy as np\n",
    "tf.set_random_seed(1224)\n",
    "np.random.seed(1225)"
   ]
  },
  {
   "cell_type": "code",
   "execution_count": null,
   "metadata": {},
   "outputs": [],
   "source": []
  },
  {
   "cell_type": "code",
   "execution_count": 6,
   "metadata": {},
   "outputs": [],
   "source": [
    "gl = VGGraphLoader(\n",
    "    os.path.join(codebase, 'metadata', 'VG', 'prep', 'hanwang', 'sg.pkl'),\n",
    "    os.path.join(codebase, 'metadata', 'VG', 'prep', 'hanwang', 'class_embs.pkl'),\n",
    ")\n"
   ]
  },
  {
   "cell_type": "code",
   "execution_count": 7,
   "metadata": {},
   "outputs": [],
   "source": [
    "img_ids, train_idx, test_idx = pickle_load(os.path.join(codebase, 'metadata', 'VG', 'prep', 'hanwang', 'split.pkl'))\n"
   ]
  },
  {
   "cell_type": "code",
   "execution_count": 8,
   "metadata": {},
   "outputs": [],
   "source": [
    "np.random.shuffle(train_idx)\n",
    "val_idx = train_idx[:1000]\n",
    "train_idx = train_idx[1000:]"
   ]
  },
  {
   "cell_type": "code",
   "execution_count": null,
   "metadata": {},
   "outputs": [],
   "source": []
  },
  {
   "cell_type": "code",
   "execution_count": 9,
   "metadata": {},
   "outputs": [],
   "source": [
    "proposals = pickle_load(os.path.join(codebase, 'data', 'VG', 'xfeat_proposals', 'iresnet_oi_lowprop', 'coords.pkl'))"
   ]
  },
  {
   "cell_type": "code",
   "execution_count": 10,
   "metadata": {},
   "outputs": [],
   "source": [
    "batcher = GraphBatcher(\n",
    "    gl, 32, proposals,\n",
    "    os.path.join(codebase, 'data', 'VG', 'xfeat_proposals', 'iresnet_oi_lowprop', 'feats_float32_20x1536.lmdb'), \n",
    "    dim_feats=1536,\n",
    "    seed=1236, \n",
    ")\n",
    "batcher.set_subset(train_idx)\n",
    "batcher.shuffle()"
   ]
  },
  {
   "cell_type": "code",
   "execution_count": 11,
   "metadata": {},
   "outputs": [],
   "source": [
    "batcher_val = GraphBatcher(\n",
    "    gl, 32, proposals,\n",
    "    os.path.join(codebase, 'data', 'VG', 'xfeat_proposals', 'iresnet_oi_lowprop', 'feats_float32_20x1536.lmdb'), \n",
    "    dim_feats=1536,\n",
    "    seed=1237, \n",
    ")\n",
    "batcher_val.set_subset(val_idx)"
   ]
  },
  {
   "cell_type": "code",
   "execution_count": null,
   "metadata": {},
   "outputs": [],
   "source": []
  },
  {
   "cell_type": "code",
   "execution_count": 12,
   "metadata": {},
   "outputs": [],
   "source": [
    "tf.reset_default_graph()"
   ]
  },
  {
   "cell_type": "code",
   "execution_count": 12,
   "metadata": {},
   "outputs": [
    {
     "name": "stdout",
     "output_type": "stream",
     "text": [
      "WARNING:tensorflow:From ../../src/tensorflow/models/vsp_model_002.py:94: GRUCell.__init__ (from tensorflow.python.ops.rnn_cell_impl) is deprecated and will be removed in a future version.\n",
      "Instructions for updating:\n",
      "This class is equivalent as tf.keras.layers.GRUCell, and will be replaced by that in Tensorflow 2.0.\n",
      "WARNING:tensorflow:From /home/alireza/home_at_filer2/tools/anaconda3/envs/py3tf2/lib/python3.6/site-packages/tensorflow/python/framework/op_def_library.py:263: colocate_with (from tensorflow.python.framework.ops) is deprecated and will be removed in a future version.\n",
      "Instructions for updating:\n",
      "Colocations handled automatically by placer.\n",
      "WARNING:tensorflow:From ../../src/tensorflow/util/util.py:15: dense (from tensorflow.python.layers.core) is deprecated and will be removed in a future version.\n",
      "Instructions for updating:\n",
      "Use keras.layers.dense instead.\n",
      "WARNING:tensorflow:From ../../src/tensorflow/util/util.py:17: calling dropout (from tensorflow.python.ops.nn_ops) with keep_prob is deprecated and will be removed in a future version.\n",
      "Instructions for updating:\n",
      "Please use `rate` instead of `keep_prob`. Rate should be set to `rate = 1 - keep_prob`.\n",
      "WARNING:tensorflow:From ../../src/tensorflow/models/vsp_model_002.py:513: py_func (from tensorflow.python.ops.script_ops) is deprecated and will be removed in a future version.\n",
      "Instructions for updating:\n",
      "tf.py_func is deprecated in TF V2. Instead, use\n",
      "    tf.py_function, which takes a python function which manipulates tf eager\n",
      "    tensors instead of numpy arrays. It's easy to convert a tf eager tensor to\n",
      "    an ndarray (just call tensor.numpy()) but having access to eager tensors\n",
      "    means `tf.py_function`s can use accelerators such as GPUs as well as\n",
      "    being differentiable using a gradient tape.\n",
      "    \n",
      "WARNING:tensorflow:From /home/alireza/home_at_filer2/tools/anaconda3/envs/py3tf2/lib/python3.6/site-packages/tensorflow/python/ops/math_ops.py:3066: to_int32 (from tensorflow.python.ops.math_ops) is deprecated and will be removed in a future version.\n",
      "Instructions for updating:\n",
      "Use tf.cast instead.\n"
     ]
    }
   ],
   "source": [
    "model = Model(   \n",
    "    dim_att_head_role_ent=[1024, 1024], \n",
    "    dim_att_head_role_pred=[1024, 1024],\n",
    "    role_edge_mode='full_soft',\n",
    "    stop_grad_role_edge=True,\n",
    "    \n",
    "    dim_state_ent=1024,\n",
    "    dim_state_pred=1024,\n",
    "    dim_emb_head_ent=[300],\n",
    "    dim_conf_head_ent=[],\n",
    "    dim_conf_head_pred=[],\n",
    "    dim_emb_head_pred=[300],\n",
    "    dim_init_head_ent=[1024],\n",
    "\n",
    "    dim_message_send_head_pred2ent=[1024, 1024],\n",
    "    dim_message_pool_head_pred2ent=[1024, 1024],\n",
    "    dim_message_receive_head_pred2ent=[1024, 1024],    \n",
    "    dim_message_send_head_ent2pred=[1024, 1024],\n",
    "    dim_message_pool_head_ent2pred=[1024, 1024],\n",
    "    dim_message_receive_head_ent2pred=[1024, 1024],\n",
    "    \n",
    "    num_mp_iter=1,     \n",
    "    num_proposals=None,\n",
    "\n",
    "    heat_role=1.0,\n",
    "    heat_emb_mil=1.0,\n",
    "    null_att_logit=0.0,\n",
    "        \n",
    "    num_align_iter=3,\n",
    "    alignment_order='best',\n",
    "    default_act_fn_name='leaky_relu',\n",
    "    optimizer_type_generator=tf.train.AdamOptimizer,\n",
    "    \n",
    "    max_num_pred=100,\n",
    "    dim_init_head_pred=[],\n",
    "    init_state_type_pred='trainable',\n",
    "    \n",
    "    dim_proposal_feat=1536,\n",
    "    emb_dict_ent=gl.noun_emb_dict,\n",
    "    emb_dict_pred=gl.pred_emb_dict,    \n",
    "    #image_size=448,\n",
    "    #num_channels=3,\n",
    "    debugging=False\n",
    ")\n",
    "\n"
   ]
  },
  {
   "cell_type": "code",
   "execution_count": null,
   "metadata": {},
   "outputs": [],
   "source": []
  },
  {
   "cell_type": "code",
   "execution_count": 13,
   "metadata": {},
   "outputs": [],
   "source": [
    "os.environ[\"CUDA_VISIBLE_DEVICES\"]=\"0\"\n",
    "#sess = tf.Session(config=tf.ConfigProto(gpu_options=tf.GPUOptions(allow_growth=True)))\n",
    "#sess = tf.Session(config=tf.ConfigProto(gpu_options=tf.GPUOptions(per_process_gpu_memory_fraction=0.5)))\n",
    "sess = tf.Session()\n",
    "sess.run(tf.no_op())"
   ]
  },
  {
   "cell_type": "code",
   "execution_count": null,
   "metadata": {},
   "outputs": [],
   "source": []
  },
  {
   "cell_type": "markdown",
   "metadata": {},
   "source": [
    "# Step 2: Training\n"
   ]
  },
  {
   "cell_type": "code",
   "execution_count": 14,
   "metadata": {},
   "outputs": [],
   "source": [
    "train_evaluator = Evaluator({        \n",
    "    'graph_loader': gl,\n",
    "    'proposals': proposals,\n",
    "    'num_proposals': 20,\n",
    "    'filter_nonoverlap': True\n",
    "})\n",
    "val_evaluator = Evaluator({        \n",
    "    'graph_loader': gl,\n",
    "    'proposals': proposals,\n",
    "    'num_proposals': 20,\n",
    "    'filter_nonoverlap': True\n",
    "})\n"
   ]
  },
  {
   "cell_type": "code",
   "execution_count": null,
   "metadata": {},
   "outputs": [],
   "source": []
  },
  {
   "cell_type": "code",
   "execution_count": 15,
   "metadata": {},
   "outputs": [],
   "source": [
    "trainer = Trainer(\n",
    "    model, sess, batcher, batcher_val, train_evaluator, val_evaluator,\n",
    "    logdir=os.path.join(codebase, 'log', 'tfsummary', exp_name), \n",
    "    modeldir=os.path.join(codebase, 'checkpoint', exp_name),\n",
    ")"
   ]
  },
  {
   "cell_type": "code",
   "execution_count": null,
   "metadata": {},
   "outputs": [],
   "source": []
  },
  {
   "cell_type": "code",
   "execution_count": 16,
   "metadata": {
    "collapsed": true,
    "jupyter": {
     "outputs_hidden": true
    }
   },
   "outputs": [
    {
     "name": "stdout",
     "output_type": "stream",
     "text": [
      "Step 1000: loss = 5.191999912261963 (2822.872 sec)\n",
      "Training Batch Evaluation Results: {'PerImagePredMP': 0.373, 'PerImagePredMR': 0.941, 'PerImageOneHopMP_at100_iou_0.5': 0.002, 'PerImageOneHopMR_at100_iou_0.5': 0.01, 'PerImageOneHopMP_at50_iou_0.5': 0.002, 'PerImageOneHopMR_at50_iou_0.5': 0.008, 'PerImageOneHopMP_phrase_at100_iou_0.5': 0.015, 'PerImageOneHopMR_phrase_at100_iou_0.5': 0.075, 'PerImageOneHopMP_phrase_at50_iou_0.5': 0.022, 'PerImageOneHopMR_phrase_at50_iou_0.5': 0.061}\n",
      "Validation Results: {'PerImagePredMP': 0.385, 'PerImagePredMR': 0.937, 'PerImageOneHopMP_at100_iou_0.5': 0.002, 'PerImageOneHopMR_at100_iou_0.5': 0.013, 'PerImageOneHopMP_at50_iou_0.5': 0.002, 'PerImageOneHopMR_at50_iou_0.5': 0.01, 'PerImageOneHopMP_phrase_at100_iou_0.5': 0.015, 'PerImageOneHopMR_phrase_at100_iou_0.5': 0.081, 'PerImageOneHopMP_phrase_at50_iou_0.5': 0.022, 'PerImageOneHopMR_phrase_at50_iou_0.5': 0.068}\n",
      "Step 2000: loss = 5.589000225067139 (5500.059 sec)\n",
      "Training Batch Evaluation Results: {'PerImagePredMP': 0.39, 'PerImagePredMR': 0.941, 'PerImageOneHopMP_at100_iou_0.5': 0.002, 'PerImageOneHopMR_at100_iou_0.5': 0.011, 'PerImageOneHopMP_at50_iou_0.5': 0.002, 'PerImageOneHopMR_at50_iou_0.5': 0.009, 'PerImageOneHopMP_phrase_at100_iou_0.5': 0.018, 'PerImageOneHopMR_phrase_at100_iou_0.5': 0.082, 'PerImageOneHopMP_phrase_at50_iou_0.5': 0.026, 'PerImageOneHopMR_phrase_at50_iou_0.5': 0.068}\n",
      "Validation Results: {'PerImagePredMP': 0.385, 'PerImagePredMR': 0.935, 'PerImageOneHopMP_at100_iou_0.5': 0.001, 'PerImageOneHopMR_at100_iou_0.5': 0.011, 'PerImageOneHopMP_at50_iou_0.5': 0.003, 'PerImageOneHopMR_at50_iou_0.5': 0.009, 'PerImageOneHopMP_phrase_at100_iou_0.5': 0.02, 'PerImageOneHopMR_phrase_at100_iou_0.5': 0.092, 'PerImageOneHopMP_phrase_at50_iou_0.5': 0.032, 'PerImageOneHopMR_phrase_at50_iou_0.5': 0.078}\n",
      "Step 3000: loss = 5.366000175476074 (8280.401 sec)\n",
      "Training Batch Evaluation Results: {'PerImagePredMP': 0.439, 'PerImagePredMR': 0.923, 'PerImageOneHopMP_at100_iou_0.5': 0.002, 'PerImageOneHopMR_at100_iou_0.5': 0.013, 'PerImageOneHopMP_at50_iou_0.5': 0.003, 'PerImageOneHopMR_at50_iou_0.5': 0.011, 'PerImageOneHopMP_phrase_at100_iou_0.5': 0.021, 'PerImageOneHopMR_phrase_at100_iou_0.5': 0.105, 'PerImageOneHopMP_phrase_at50_iou_0.5': 0.032, 'PerImageOneHopMR_phrase_at50_iou_0.5': 0.087}\n",
      "Validation Results: {'PerImagePredMP': 0.453, 'PerImagePredMR': 0.921, 'PerImageOneHopMP_at100_iou_0.5': 0.002, 'PerImageOneHopMR_at100_iou_0.5': 0.015, 'PerImageOneHopMP_at50_iou_0.5': 0.003, 'PerImageOneHopMR_at50_iou_0.5': 0.012, 'PerImageOneHopMP_phrase_at100_iou_0.5': 0.024, 'PerImageOneHopMR_phrase_at100_iou_0.5': 0.118, 'PerImageOneHopMP_phrase_at50_iou_0.5': 0.037, 'PerImageOneHopMR_phrase_at50_iou_0.5': 0.097}\n",
      "Step 4000: loss = 4.9720001220703125 (11131.450 sec)\n",
      "Training Batch Evaluation Results: {'PerImagePredMP': 0.468, 'PerImagePredMR': 0.912, 'PerImageOneHopMP_at100_iou_0.5': 0.002, 'PerImageOneHopMR_at100_iou_0.5': 0.016, 'PerImageOneHopMP_at50_iou_0.5': 0.004, 'PerImageOneHopMR_at50_iou_0.5': 0.014, 'PerImageOneHopMP_phrase_at100_iou_0.5': 0.021, 'PerImageOneHopMR_phrase_at100_iou_0.5': 0.115, 'PerImageOneHopMP_phrase_at50_iou_0.5': 0.033, 'PerImageOneHopMR_phrase_at50_iou_0.5': 0.096}\n",
      "Validation Results: {'PerImagePredMP': 0.466, 'PerImagePredMR': 0.901, 'PerImageOneHopMP_at100_iou_0.5': 0.003, 'PerImageOneHopMR_at100_iou_0.5': 0.023, 'PerImageOneHopMP_at50_iou_0.5': 0.006, 'PerImageOneHopMR_at50_iou_0.5': 0.02, 'PerImageOneHopMP_phrase_at100_iou_0.5': 0.022, 'PerImageOneHopMR_phrase_at100_iou_0.5': 0.128, 'PerImageOneHopMP_phrase_at50_iou_0.5': 0.034, 'PerImageOneHopMR_phrase_at50_iou_0.5': 0.107}\n",
      "Step 5000: loss = 4.816999912261963 (14036.242 sec)\n",
      "Training Batch Evaluation Results: {'PerImagePredMP': 0.478, 'PerImagePredMR': 0.908, 'PerImageOneHopMP_at100_iou_0.5': 0.002, 'PerImageOneHopMR_at100_iou_0.5': 0.017, 'PerImageOneHopMP_at50_iou_0.5': 0.004, 'PerImageOneHopMR_at50_iou_0.5': 0.014, 'PerImageOneHopMP_phrase_at100_iou_0.5': 0.022, 'PerImageOneHopMR_phrase_at100_iou_0.5': 0.122, 'PerImageOneHopMP_phrase_at50_iou_0.5': 0.034, 'PerImageOneHopMR_phrase_at50_iou_0.5': 0.1}\n",
      "Validation Results: {'PerImagePredMP': 0.48, 'PerImagePredMR': 0.906, 'PerImageOneHopMP_at100_iou_0.5': 0.003, 'PerImageOneHopMR_at100_iou_0.5': 0.022, 'PerImageOneHopMP_at50_iou_0.5': 0.005, 'PerImageOneHopMR_at50_iou_0.5': 0.019, 'PerImageOneHopMP_phrase_at100_iou_0.5': 0.022, 'PerImageOneHopMR_phrase_at100_iou_0.5': 0.129, 'PerImageOneHopMP_phrase_at50_iou_0.5': 0.033, 'PerImageOneHopMR_phrase_at50_iou_0.5': 0.108}\n",
      "Step 6000: loss = 4.686999797821045 (16958.632 sec)\n",
      "Training Batch Evaluation Results: {'PerImagePredMP': 0.494, 'PerImagePredMR': 0.905, 'PerImageOneHopMP_at100_iou_0.5': 0.003, 'PerImageOneHopMR_at100_iou_0.5': 0.016, 'PerImageOneHopMP_at50_iou_0.5': 0.005, 'PerImageOneHopMR_at50_iou_0.5': 0.015, 'PerImageOneHopMP_phrase_at100_iou_0.5': 0.025, 'PerImageOneHopMR_phrase_at100_iou_0.5': 0.132, 'PerImageOneHopMP_phrase_at50_iou_0.5': 0.039, 'PerImageOneHopMR_phrase_at50_iou_0.5': 0.108}\n",
      "Validation Results: {'PerImagePredMP': 0.501, 'PerImagePredMR': 0.892, 'PerImageOneHopMP_at100_iou_0.5': 0.003, 'PerImageOneHopMR_at100_iou_0.5': 0.022, 'PerImageOneHopMP_at50_iou_0.5': 0.005, 'PerImageOneHopMR_at50_iou_0.5': 0.021, 'PerImageOneHopMP_phrase_at100_iou_0.5': 0.026, 'PerImageOneHopMR_phrase_at100_iou_0.5': 0.139, 'PerImageOneHopMP_phrase_at50_iou_0.5': 0.041, 'PerImageOneHopMR_phrase_at50_iou_0.5': 0.122}\n",
      "Step 7000: loss = 4.47599983215332 (19887.030 sec)\n",
      "Training Batch Evaluation Results: {'PerImagePredMP': 0.506, 'PerImagePredMR': 0.906, 'PerImageOneHopMP_at100_iou_0.5': 0.003, 'PerImageOneHopMR_at100_iou_0.5': 0.022, 'PerImageOneHopMP_at50_iou_0.5': 0.006, 'PerImageOneHopMR_at50_iou_0.5': 0.02, 'PerImageOneHopMP_phrase_at100_iou_0.5': 0.026, 'PerImageOneHopMR_phrase_at100_iou_0.5': 0.139, 'PerImageOneHopMP_phrase_at50_iou_0.5': 0.041, 'PerImageOneHopMR_phrase_at50_iou_0.5': 0.118}\n",
      "Validation Results: {'PerImagePredMP': 0.517, 'PerImagePredMR': 0.901, 'PerImageOneHopMP_at100_iou_0.5': 0.003, 'PerImageOneHopMR_at100_iou_0.5': 0.027, 'PerImageOneHopMP_at50_iou_0.5': 0.006, 'PerImageOneHopMR_at50_iou_0.5': 0.024, 'PerImageOneHopMP_phrase_at100_iou_0.5': 0.026, 'PerImageOneHopMR_phrase_at100_iou_0.5': 0.146, 'PerImageOneHopMP_phrase_at50_iou_0.5': 0.04, 'PerImageOneHopMR_phrase_at50_iou_0.5': 0.123}\n",
      "Step 8000: loss = 5.070000171661377 (22838.661 sec)\n",
      "Training Batch Evaluation Results: {'PerImagePredMP': 0.507, 'PerImagePredMR': 0.903, 'PerImageOneHopMP_at100_iou_0.5': 0.003, 'PerImageOneHopMR_at100_iou_0.5': 0.021, 'PerImageOneHopMP_at50_iou_0.5': 0.006, 'PerImageOneHopMR_at50_iou_0.5': 0.019, 'PerImageOneHopMP_phrase_at100_iou_0.5': 0.026, 'PerImageOneHopMR_phrase_at100_iou_0.5': 0.139, 'PerImageOneHopMP_phrase_at50_iou_0.5': 0.041, 'PerImageOneHopMR_phrase_at50_iou_0.5': 0.119}\n",
      "Validation Results: {'PerImagePredMP': 0.494, 'PerImagePredMR': 0.901, 'PerImageOneHopMP_at100_iou_0.5': 0.004, 'PerImageOneHopMR_at100_iou_0.5': 0.03, 'PerImageOneHopMP_at50_iou_0.5': 0.008, 'PerImageOneHopMR_at50_iou_0.5': 0.028, 'PerImageOneHopMP_phrase_at100_iou_0.5': 0.03, 'PerImageOneHopMR_phrase_at100_iou_0.5': 0.152, 'PerImageOneHopMP_phrase_at50_iou_0.5': 0.047, 'PerImageOneHopMR_phrase_at50_iou_0.5': 0.131}\n",
      "Step 9000: loss = 4.460999965667725 (25767.185 sec)\n",
      "Training Batch Evaluation Results: {'PerImagePredMP': 0.519, 'PerImagePredMR': 0.913, 'PerImageOneHopMP_at100_iou_0.5': 0.003, 'PerImageOneHopMR_at100_iou_0.5': 0.018, 'PerImageOneHopMP_at50_iou_0.5': 0.005, 'PerImageOneHopMR_at50_iou_0.5': 0.016, 'PerImageOneHopMP_phrase_at100_iou_0.5': 0.027, 'PerImageOneHopMR_phrase_at100_iou_0.5': 0.143, 'PerImageOneHopMP_phrase_at50_iou_0.5': 0.041, 'PerImageOneHopMR_phrase_at50_iou_0.5': 0.119}\n",
      "Validation Results: {'PerImagePredMP': 0.516, 'PerImagePredMR': 0.902, 'PerImageOneHopMP_at100_iou_0.5': 0.004, 'PerImageOneHopMR_at100_iou_0.5': 0.026, 'PerImageOneHopMP_at50_iou_0.5': 0.007, 'PerImageOneHopMR_at50_iou_0.5': 0.023, 'PerImageOneHopMP_phrase_at100_iou_0.5': 0.031, 'PerImageOneHopMR_phrase_at100_iou_0.5': 0.155, 'PerImageOneHopMP_phrase_at50_iou_0.5': 0.047, 'PerImageOneHopMR_phrase_at50_iou_0.5': 0.125}\n",
      "Step 10000: loss = 5.191999912261963 (28753.407 sec)\n",
      "Training Batch Evaluation Results: {'PerImagePredMP': 0.516, 'PerImagePredMR': 0.908, 'PerImageOneHopMP_at100_iou_0.5': 0.003, 'PerImageOneHopMR_at100_iou_0.5': 0.018, 'PerImageOneHopMP_at50_iou_0.5': 0.005, 'PerImageOneHopMR_at50_iou_0.5': 0.016, 'PerImageOneHopMP_phrase_at100_iou_0.5': 0.026, 'PerImageOneHopMR_phrase_at100_iou_0.5': 0.136, 'PerImageOneHopMP_phrase_at50_iou_0.5': 0.039, 'PerImageOneHopMR_phrase_at50_iou_0.5': 0.114}\n",
      "Validation Results: {'PerImagePredMP': 0.506, 'PerImagePredMR': 0.897, 'PerImageOneHopMP_at100_iou_0.5': 0.004, 'PerImageOneHopMR_at100_iou_0.5': 0.028, 'PerImageOneHopMP_at50_iou_0.5': 0.007, 'PerImageOneHopMR_at50_iou_0.5': 0.025, 'PerImageOneHopMP_phrase_at100_iou_0.5': 0.029, 'PerImageOneHopMR_phrase_at100_iou_0.5': 0.15, 'PerImageOneHopMP_phrase_at50_iou_0.5': 0.044, 'PerImageOneHopMR_phrase_at50_iou_0.5': 0.127}\n",
      "Step 11000: loss = 4.434999942779541 (31700.541 sec)\n",
      "Training Batch Evaluation Results: {'PerImagePredMP': 0.513, 'PerImagePredMR': 0.909, 'PerImageOneHopMP_at100_iou_0.5': 0.003, 'PerImageOneHopMR_at100_iou_0.5': 0.021, 'PerImageOneHopMP_at50_iou_0.5': 0.005, 'PerImageOneHopMR_at50_iou_0.5': 0.018, 'PerImageOneHopMP_phrase_at100_iou_0.5': 0.028, 'PerImageOneHopMR_phrase_at100_iou_0.5': 0.143, 'PerImageOneHopMP_phrase_at50_iou_0.5': 0.043, 'PerImageOneHopMR_phrase_at50_iou_0.5': 0.12}\n",
      "Validation Results: {'PerImagePredMP': 0.498, 'PerImagePredMR': 0.896, 'PerImageOneHopMP_at100_iou_0.5': 0.004, 'PerImageOneHopMR_at100_iou_0.5': 0.028, 'PerImageOneHopMP_at50_iou_0.5': 0.006, 'PerImageOneHopMR_at50_iou_0.5': 0.024, 'PerImageOneHopMP_phrase_at100_iou_0.5': 0.027, 'PerImageOneHopMR_phrase_at100_iou_0.5': 0.153, 'PerImageOneHopMP_phrase_at50_iou_0.5': 0.042, 'PerImageOneHopMR_phrase_at50_iou_0.5': 0.133}\n",
      "Step 12000: loss = 5.199999809265137 (34672.936 sec)\n",
      "Training Batch Evaluation Results: {'PerImagePredMP': 0.525, 'PerImagePredMR': 0.908, 'PerImageOneHopMP_at100_iou_0.5': 0.003, 'PerImageOneHopMR_at100_iou_0.5': 0.022, 'PerImageOneHopMP_at50_iou_0.5': 0.006, 'PerImageOneHopMR_at50_iou_0.5': 0.019, 'PerImageOneHopMP_phrase_at100_iou_0.5': 0.027, 'PerImageOneHopMR_phrase_at100_iou_0.5': 0.15, 'PerImageOneHopMP_phrase_at50_iou_0.5': 0.043, 'PerImageOneHopMR_phrase_at50_iou_0.5': 0.126}\n",
      "Validation Results: {'PerImagePredMP': 0.521, 'PerImagePredMR': 0.893, 'PerImageOneHopMP_at100_iou_0.5': 0.004, 'PerImageOneHopMR_at100_iou_0.5': 0.029, 'PerImageOneHopMP_at50_iou_0.5': 0.007, 'PerImageOneHopMR_at50_iou_0.5': 0.027, 'PerImageOneHopMP_phrase_at100_iou_0.5': 0.029, 'PerImageOneHopMR_phrase_at100_iou_0.5': 0.158, 'PerImageOneHopMP_phrase_at50_iou_0.5': 0.045, 'PerImageOneHopMR_phrase_at50_iou_0.5': 0.133}\n",
      "Step 13000: loss = 4.6529998779296875 (37639.227 sec)\n",
      "Training Batch Evaluation Results: {'PerImagePredMP': 0.515, 'PerImagePredMR': 0.9, 'PerImageOneHopMP_at100_iou_0.5': 0.004, 'PerImageOneHopMR_at100_iou_0.5': 0.022, 'PerImageOneHopMP_at50_iou_0.5': 0.006, 'PerImageOneHopMR_at50_iou_0.5': 0.02, 'PerImageOneHopMP_phrase_at100_iou_0.5': 0.026, 'PerImageOneHopMR_phrase_at100_iou_0.5': 0.146, 'PerImageOneHopMP_phrase_at50_iou_0.5': 0.042, 'PerImageOneHopMR_phrase_at50_iou_0.5': 0.125}\n",
      "Validation Results: {'PerImagePredMP': 0.538, 'PerImagePredMR': 0.896, 'PerImageOneHopMP_at100_iou_0.5': 0.005, 'PerImageOneHopMR_at100_iou_0.5': 0.03, 'PerImageOneHopMP_at50_iou_0.5': 0.007, 'PerImageOneHopMR_at50_iou_0.5': 0.025, 'PerImageOneHopMP_phrase_at100_iou_0.5': 0.027, 'PerImageOneHopMR_phrase_at100_iou_0.5': 0.153, 'PerImageOneHopMP_phrase_at50_iou_0.5': 0.042, 'PerImageOneHopMR_phrase_at50_iou_0.5': 0.131}\n",
      "Step 14000: loss = 4.459000110626221 (40615.873 sec)\n",
      "Training Batch Evaluation Results: {'PerImagePredMP': 0.517, 'PerImagePredMR': 0.901, 'PerImageOneHopMP_at100_iou_0.5': 0.003, 'PerImageOneHopMR_at100_iou_0.5': 0.02, 'PerImageOneHopMP_at50_iou_0.5': 0.006, 'PerImageOneHopMR_at50_iou_0.5': 0.017, 'PerImageOneHopMP_phrase_at100_iou_0.5': 0.028, 'PerImageOneHopMR_phrase_at100_iou_0.5': 0.152, 'PerImageOneHopMP_phrase_at50_iou_0.5': 0.044, 'PerImageOneHopMR_phrase_at50_iou_0.5': 0.129}\n",
      "Validation Results: {'PerImagePredMP': 0.53, 'PerImagePredMR': 0.893, 'PerImageOneHopMP_at100_iou_0.5': 0.005, 'PerImageOneHopMR_at100_iou_0.5': 0.027, 'PerImageOneHopMP_at50_iou_0.5': 0.007, 'PerImageOneHopMR_at50_iou_0.5': 0.023, 'PerImageOneHopMP_phrase_at100_iou_0.5': 0.032, 'PerImageOneHopMR_phrase_at100_iou_0.5': 0.147, 'PerImageOneHopMP_phrase_at50_iou_0.5': 0.048, 'PerImageOneHopMR_phrase_at50_iou_0.5': 0.123}\n",
      "Step 15000: loss = 4.866000175476074 (43573.699 sec)\n",
      "Training Batch Evaluation Results: {'PerImagePredMP': 0.522, 'PerImagePredMR': 0.902, 'PerImageOneHopMP_at100_iou_0.5': 0.004, 'PerImageOneHopMR_at100_iou_0.5': 0.022, 'PerImageOneHopMP_at50_iou_0.5': 0.006, 'PerImageOneHopMR_at50_iou_0.5': 0.02, 'PerImageOneHopMP_phrase_at100_iou_0.5': 0.026, 'PerImageOneHopMR_phrase_at100_iou_0.5': 0.14, 'PerImageOneHopMP_phrase_at50_iou_0.5': 0.042, 'PerImageOneHopMR_phrase_at50_iou_0.5': 0.119}\n",
      "Validation Results: {'PerImagePredMP': 0.5, 'PerImagePredMR': 0.907, 'PerImageOneHopMP_at100_iou_0.5': 0.004, 'PerImageOneHopMR_at100_iou_0.5': 0.027, 'PerImageOneHopMP_at50_iou_0.5': 0.008, 'PerImageOneHopMR_at50_iou_0.5': 0.025, 'PerImageOneHopMP_phrase_at100_iou_0.5': 0.028, 'PerImageOneHopMR_phrase_at100_iou_0.5': 0.155, 'PerImageOneHopMP_phrase_at50_iou_0.5': 0.042, 'PerImageOneHopMR_phrase_at50_iou_0.5': 0.133}\n",
      "Step 16000: loss = 4.919000148773193 (46528.870 sec)\n",
      "Training Batch Evaluation Results: {'PerImagePredMP': 0.528, 'PerImagePredMR': 0.9, 'PerImageOneHopMP_at100_iou_0.5': 0.005, 'PerImageOneHopMR_at100_iou_0.5': 0.024, 'PerImageOneHopMP_at50_iou_0.5': 0.008, 'PerImageOneHopMR_at50_iou_0.5': 0.021, 'PerImageOneHopMP_phrase_at100_iou_0.5': 0.029, 'PerImageOneHopMR_phrase_at100_iou_0.5': 0.146, 'PerImageOneHopMP_phrase_at50_iou_0.5': 0.045, 'PerImageOneHopMR_phrase_at50_iou_0.5': 0.124}\n",
      "Validation Results: {'PerImagePredMP': 0.514, 'PerImagePredMR': 0.895, 'PerImageOneHopMP_at100_iou_0.5': 0.005, 'PerImageOneHopMR_at100_iou_0.5': 0.029, 'PerImageOneHopMP_at50_iou_0.5': 0.008, 'PerImageOneHopMR_at50_iou_0.5': 0.025, 'PerImageOneHopMP_phrase_at100_iou_0.5': 0.031, 'PerImageOneHopMR_phrase_at100_iou_0.5': 0.164, 'PerImageOneHopMP_phrase_at50_iou_0.5': 0.049, 'PerImageOneHopMR_phrase_at50_iou_0.5': 0.14}\n",
      "Step 17000: loss = 4.790999889373779 (49498.637 sec)\n",
      "Training Batch Evaluation Results: {'PerImagePredMP': 0.518, 'PerImagePredMR': 0.907, 'PerImageOneHopMP_at100_iou_0.5': 0.003, 'PerImageOneHopMR_at100_iou_0.5': 0.021, 'PerImageOneHopMP_at50_iou_0.5': 0.006, 'PerImageOneHopMR_at50_iou_0.5': 0.019, 'PerImageOneHopMP_phrase_at100_iou_0.5': 0.028, 'PerImageOneHopMR_phrase_at100_iou_0.5': 0.152, 'PerImageOneHopMP_phrase_at50_iou_0.5': 0.044, 'PerImageOneHopMR_phrase_at50_iou_0.5': 0.127}\n",
      "Validation Results: {'PerImagePredMP': 0.537, 'PerImagePredMR': 0.884, 'PerImageOneHopMP_at100_iou_0.5': 0.004, 'PerImageOneHopMR_at100_iou_0.5': 0.028, 'PerImageOneHopMP_at50_iou_0.5': 0.007, 'PerImageOneHopMR_at50_iou_0.5': 0.025, 'PerImageOneHopMP_phrase_at100_iou_0.5': 0.029, 'PerImageOneHopMR_phrase_at100_iou_0.5': 0.158, 'PerImageOneHopMP_phrase_at50_iou_0.5': 0.044, 'PerImageOneHopMR_phrase_at50_iou_0.5': 0.134}\n",
      "Step 18000: loss = 4.13700008392334 (52443.593 sec)\n",
      "Training Batch Evaluation Results: {'PerImagePredMP': 0.523, 'PerImagePredMR': 0.906, 'PerImageOneHopMP_at100_iou_0.5': 0.003, 'PerImageOneHopMR_at100_iou_0.5': 0.022, 'PerImageOneHopMP_at50_iou_0.5': 0.006, 'PerImageOneHopMR_at50_iou_0.5': 0.02, 'PerImageOneHopMP_phrase_at100_iou_0.5': 0.028, 'PerImageOneHopMR_phrase_at100_iou_0.5': 0.153, 'PerImageOneHopMP_phrase_at50_iou_0.5': 0.044, 'PerImageOneHopMR_phrase_at50_iou_0.5': 0.129}\n",
      "Validation Results: {'PerImagePredMP': 0.546, 'PerImagePredMR': 0.881, 'PerImageOneHopMP_at100_iou_0.5': 0.004, 'PerImageOneHopMR_at100_iou_0.5': 0.029, 'PerImageOneHopMP_at50_iou_0.5': 0.007, 'PerImageOneHopMR_at50_iou_0.5': 0.027, 'PerImageOneHopMP_phrase_at100_iou_0.5': 0.031, 'PerImageOneHopMR_phrase_at100_iou_0.5': 0.16, 'PerImageOneHopMP_phrase_at50_iou_0.5': 0.048, 'PerImageOneHopMR_phrase_at50_iou_0.5': 0.135}\n",
      "Step 19000: loss = 4.64300012588501 (55418.245 sec)\n",
      "Training Batch Evaluation Results: {'PerImagePredMP': 0.522, 'PerImagePredMR': 0.904, 'PerImageOneHopMP_at100_iou_0.5': 0.004, 'PerImageOneHopMR_at100_iou_0.5': 0.024, 'PerImageOneHopMP_at50_iou_0.5': 0.008, 'PerImageOneHopMR_at50_iou_0.5': 0.022, 'PerImageOneHopMP_phrase_at100_iou_0.5': 0.03, 'PerImageOneHopMR_phrase_at100_iou_0.5': 0.158, 'PerImageOneHopMP_phrase_at50_iou_0.5': 0.048, 'PerImageOneHopMR_phrase_at50_iou_0.5': 0.135}\n",
      "Validation Results: {'PerImagePredMP': 0.518, 'PerImagePredMR': 0.899, 'PerImageOneHopMP_at100_iou_0.5': 0.005, 'PerImageOneHopMR_at100_iou_0.5': 0.032, 'PerImageOneHopMP_at50_iou_0.5': 0.008, 'PerImageOneHopMR_at50_iou_0.5': 0.028, 'PerImageOneHopMP_phrase_at100_iou_0.5': 0.033, 'PerImageOneHopMR_phrase_at100_iou_0.5': 0.162, 'PerImageOneHopMP_phrase_at50_iou_0.5': 0.051, 'PerImageOneHopMR_phrase_at50_iou_0.5': 0.139}\n",
      "Step 20000: loss = 4.834000110626221 (58353.256 sec)\n",
      "Training Batch Evaluation Results: {'PerImagePredMP': 0.52, 'PerImagePredMR': 0.906, 'PerImageOneHopMP_at100_iou_0.5': 0.004, 'PerImageOneHopMR_at100_iou_0.5': 0.021, 'PerImageOneHopMP_at50_iou_0.5': 0.006, 'PerImageOneHopMR_at50_iou_0.5': 0.019, 'PerImageOneHopMP_phrase_at100_iou_0.5': 0.027, 'PerImageOneHopMR_phrase_at100_iou_0.5': 0.149, 'PerImageOneHopMP_phrase_at50_iou_0.5': 0.042, 'PerImageOneHopMR_phrase_at50_iou_0.5': 0.124}\n",
      "Validation Results: {'PerImagePredMP': 0.521, 'PerImagePredMR': 0.904, 'PerImageOneHopMP_at100_iou_0.5': 0.004, 'PerImageOneHopMR_at100_iou_0.5': 0.027, 'PerImageOneHopMP_at50_iou_0.5': 0.007, 'PerImageOneHopMR_at50_iou_0.5': 0.025, 'PerImageOneHopMP_phrase_at100_iou_0.5': 0.03, 'PerImageOneHopMR_phrase_at100_iou_0.5': 0.161, 'PerImageOneHopMP_phrase_at50_iou_0.5': 0.048, 'PerImageOneHopMR_phrase_at50_iou_0.5': 0.141}\n",
      "Step 21000: loss = 4.336999893188477 (61330.688 sec)\n",
      "Training Batch Evaluation Results: {'PerImagePredMP': 0.514, 'PerImagePredMR': 0.911, 'PerImageOneHopMP_at100_iou_0.5': 0.004, 'PerImageOneHopMR_at100_iou_0.5': 0.022, 'PerImageOneHopMP_at50_iou_0.5': 0.006, 'PerImageOneHopMR_at50_iou_0.5': 0.02, 'PerImageOneHopMP_phrase_at100_iou_0.5': 0.028, 'PerImageOneHopMR_phrase_at100_iou_0.5': 0.149, 'PerImageOneHopMP_phrase_at50_iou_0.5': 0.045, 'PerImageOneHopMR_phrase_at50_iou_0.5': 0.128}\n",
      "Validation Results: {'PerImagePredMP': 0.521, 'PerImagePredMR': 0.894, 'PerImageOneHopMP_at100_iou_0.5': 0.005, 'PerImageOneHopMR_at100_iou_0.5': 0.028, 'PerImageOneHopMP_at50_iou_0.5': 0.008, 'PerImageOneHopMR_at50_iou_0.5': 0.026, 'PerImageOneHopMP_phrase_at100_iou_0.5': 0.032, 'PerImageOneHopMR_phrase_at100_iou_0.5': 0.162, 'PerImageOneHopMP_phrase_at50_iou_0.5': 0.049, 'PerImageOneHopMR_phrase_at50_iou_0.5': 0.138}\n",
      "Step 22000: loss = 4.210999965667725 (64279.320 sec)\n",
      "Training Batch Evaluation Results: {'PerImagePredMP': 0.52, 'PerImagePredMR': 0.906, 'PerImageOneHopMP_at100_iou_0.5': 0.004, 'PerImageOneHopMR_at100_iou_0.5': 0.026, 'PerImageOneHopMP_at50_iou_0.5': 0.007, 'PerImageOneHopMR_at50_iou_0.5': 0.023, 'PerImageOneHopMP_phrase_at100_iou_0.5': 0.029, 'PerImageOneHopMR_phrase_at100_iou_0.5': 0.159, 'PerImageOneHopMP_phrase_at50_iou_0.5': 0.046, 'PerImageOneHopMR_phrase_at50_iou_0.5': 0.134}\n",
      "Validation Results: {'PerImagePredMP': 0.537, 'PerImagePredMR': 0.891, 'PerImageOneHopMP_at100_iou_0.5': 0.004, 'PerImageOneHopMR_at100_iou_0.5': 0.026, 'PerImageOneHopMP_at50_iou_0.5': 0.007, 'PerImageOneHopMR_at50_iou_0.5': 0.023, 'PerImageOneHopMP_phrase_at100_iou_0.5': 0.032, 'PerImageOneHopMR_phrase_at100_iou_0.5': 0.158, 'PerImageOneHopMP_phrase_at50_iou_0.5': 0.05, 'PerImageOneHopMR_phrase_at50_iou_0.5': 0.135}\n",
      "Step 23000: loss = 4.673999786376953 (67257.105 sec)\n",
      "Training Batch Evaluation Results: {'PerImagePredMP': 0.518, 'PerImagePredMR': 0.907, 'PerImageOneHopMP_at100_iou_0.5': 0.004, 'PerImageOneHopMR_at100_iou_0.5': 0.027, 'PerImageOneHopMP_at50_iou_0.5': 0.007, 'PerImageOneHopMR_at50_iou_0.5': 0.023, 'PerImageOneHopMP_phrase_at100_iou_0.5': 0.03, 'PerImageOneHopMR_phrase_at100_iou_0.5': 0.165, 'PerImageOneHopMP_phrase_at50_iou_0.5': 0.048, 'PerImageOneHopMR_phrase_at50_iou_0.5': 0.141}\n",
      "Validation Results: {'PerImagePredMP': 0.508, 'PerImagePredMR': 0.9, 'PerImageOneHopMP_at100_iou_0.5': 0.004, 'PerImageOneHopMR_at100_iou_0.5': 0.03, 'PerImageOneHopMP_at50_iou_0.5': 0.008, 'PerImageOneHopMR_at50_iou_0.5': 0.027, 'PerImageOneHopMP_phrase_at100_iou_0.5': 0.031, 'PerImageOneHopMR_phrase_at100_iou_0.5': 0.164, 'PerImageOneHopMP_phrase_at50_iou_0.5': 0.049, 'PerImageOneHopMR_phrase_at50_iou_0.5': 0.139}\n",
      "Step 24000: loss = 4.3379998207092285 (70221.227 sec)\n",
      "Training Batch Evaluation Results: {'PerImagePredMP': 0.509, 'PerImagePredMR': 0.908, 'PerImageOneHopMP_at100_iou_0.5': 0.005, 'PerImageOneHopMR_at100_iou_0.5': 0.027, 'PerImageOneHopMP_at50_iou_0.5': 0.008, 'PerImageOneHopMR_at50_iou_0.5': 0.024, 'PerImageOneHopMP_phrase_at100_iou_0.5': 0.03, 'PerImageOneHopMR_phrase_at100_iou_0.5': 0.166, 'PerImageOneHopMP_phrase_at50_iou_0.5': 0.047, 'PerImageOneHopMR_phrase_at50_iou_0.5': 0.141}\n",
      "Validation Results: {'PerImagePredMP': 0.524, 'PerImagePredMR': 0.898, 'PerImageOneHopMP_at100_iou_0.5': 0.005, 'PerImageOneHopMR_at100_iou_0.5': 0.028, 'PerImageOneHopMP_at50_iou_0.5': 0.008, 'PerImageOneHopMR_at50_iou_0.5': 0.025, 'PerImageOneHopMP_phrase_at100_iou_0.5': 0.031, 'PerImageOneHopMR_phrase_at100_iou_0.5': 0.16, 'PerImageOneHopMP_phrase_at50_iou_0.5': 0.048, 'PerImageOneHopMR_phrase_at50_iou_0.5': 0.139}\n",
      "Step 25000: loss = 4.119999885559082 (73168.416 sec)\n",
      "Training Batch Evaluation Results: {'PerImagePredMP': 0.523, 'PerImagePredMR': 0.901, 'PerImageOneHopMP_at100_iou_0.5': 0.004, 'PerImageOneHopMR_at100_iou_0.5': 0.024, 'PerImageOneHopMP_at50_iou_0.5': 0.006, 'PerImageOneHopMR_at50_iou_0.5': 0.021, 'PerImageOneHopMP_phrase_at100_iou_0.5': 0.03, 'PerImageOneHopMR_phrase_at100_iou_0.5': 0.155, 'PerImageOneHopMP_phrase_at50_iou_0.5': 0.046, 'PerImageOneHopMR_phrase_at50_iou_0.5': 0.133}\n",
      "Validation Results: {'PerImagePredMP': 0.505, 'PerImagePredMR': 0.898, 'PerImageOneHopMP_at100_iou_0.5': 0.005, 'PerImageOneHopMR_at100_iou_0.5': 0.031, 'PerImageOneHopMP_at50_iou_0.5': 0.008, 'PerImageOneHopMR_at50_iou_0.5': 0.026, 'PerImageOneHopMP_phrase_at100_iou_0.5': 0.032, 'PerImageOneHopMR_phrase_at100_iou_0.5': 0.168, 'PerImageOneHopMP_phrase_at50_iou_0.5': 0.05, 'PerImageOneHopMR_phrase_at50_iou_0.5': 0.142}\n",
      "Step 26000: loss = 4.422999858856201 (76145.786 sec)\n",
      "Training Batch Evaluation Results: {'PerImagePredMP': 0.517, 'PerImagePredMR': 0.909, 'PerImageOneHopMP_at100_iou_0.5': 0.004, 'PerImageOneHopMR_at100_iou_0.5': 0.024, 'PerImageOneHopMP_at50_iou_0.5': 0.007, 'PerImageOneHopMR_at50_iou_0.5': 0.021, 'PerImageOneHopMP_phrase_at100_iou_0.5': 0.029, 'PerImageOneHopMR_phrase_at100_iou_0.5': 0.158, 'PerImageOneHopMP_phrase_at50_iou_0.5': 0.047, 'PerImageOneHopMR_phrase_at50_iou_0.5': 0.135}\n",
      "Validation Results: {'PerImagePredMP': 0.516, 'PerImagePredMR': 0.901, 'PerImageOneHopMP_at100_iou_0.5': 0.004, 'PerImageOneHopMR_at100_iou_0.5': 0.029, 'PerImageOneHopMP_at50_iou_0.5': 0.008, 'PerImageOneHopMR_at50_iou_0.5': 0.025, 'PerImageOneHopMP_phrase_at100_iou_0.5': 0.031, 'PerImageOneHopMR_phrase_at100_iou_0.5': 0.167, 'PerImageOneHopMP_phrase_at50_iou_0.5': 0.049, 'PerImageOneHopMR_phrase_at50_iou_0.5': 0.141}\n",
      "Step 27000: loss = 4.107999801635742 (79115.605 sec)\n",
      "Training Batch Evaluation Results: {'PerImagePredMP': 0.528, 'PerImagePredMR': 0.905, 'PerImageOneHopMP_at100_iou_0.5': 0.004, 'PerImageOneHopMR_at100_iou_0.5': 0.026, 'PerImageOneHopMP_at50_iou_0.5': 0.007, 'PerImageOneHopMR_at50_iou_0.5': 0.023, 'PerImageOneHopMP_phrase_at100_iou_0.5': 0.03, 'PerImageOneHopMR_phrase_at100_iou_0.5': 0.158, 'PerImageOneHopMP_phrase_at50_iou_0.5': 0.047, 'PerImageOneHopMR_phrase_at50_iou_0.5': 0.134}\n",
      "Validation Results: {'PerImagePredMP': 0.531, 'PerImagePredMR': 0.896, 'PerImageOneHopMP_at100_iou_0.5': 0.005, 'PerImageOneHopMR_at100_iou_0.5': 0.033, 'PerImageOneHopMP_at50_iou_0.5': 0.009, 'PerImageOneHopMR_at50_iou_0.5': 0.03, 'PerImageOneHopMP_phrase_at100_iou_0.5': 0.035, 'PerImageOneHopMR_phrase_at100_iou_0.5': 0.177, 'PerImageOneHopMP_phrase_at50_iou_0.5': 0.055, 'PerImageOneHopMR_phrase_at50_iou_0.5': 0.152}\n",
      "Step 28000: loss = 4.394999980926514 (82131.839 sec)\n",
      "Training Batch Evaluation Results: {'PerImagePredMP': 0.532, 'PerImagePredMR': 0.903, 'PerImageOneHopMP_at100_iou_0.5': 0.004, 'PerImageOneHopMR_at100_iou_0.5': 0.025, 'PerImageOneHopMP_at50_iou_0.5': 0.007, 'PerImageOneHopMR_at50_iou_0.5': 0.022, 'PerImageOneHopMP_phrase_at100_iou_0.5': 0.031, 'PerImageOneHopMR_phrase_at100_iou_0.5': 0.169, 'PerImageOneHopMP_phrase_at50_iou_0.5': 0.049, 'PerImageOneHopMR_phrase_at50_iou_0.5': 0.144}\n",
      "Validation Results: {'PerImagePredMP': 0.523, 'PerImagePredMR': 0.9, 'PerImageOneHopMP_at100_iou_0.5': 0.004, 'PerImageOneHopMR_at100_iou_0.5': 0.028, 'PerImageOneHopMP_at50_iou_0.5': 0.006, 'PerImageOneHopMR_at50_iou_0.5': 0.023, 'PerImageOneHopMP_phrase_at100_iou_0.5': 0.029, 'PerImageOneHopMR_phrase_at100_iou_0.5': 0.16, 'PerImageOneHopMP_phrase_at50_iou_0.5': 0.046, 'PerImageOneHopMR_phrase_at50_iou_0.5': 0.138}\n",
      "Step 29000: loss = 4.755000114440918 (85132.564 sec)\n",
      "Training Batch Evaluation Results: {'PerImagePredMP': 0.521, 'PerImagePredMR': 0.905, 'PerImageOneHopMP_at100_iou_0.5': 0.004, 'PerImageOneHopMR_at100_iou_0.5': 0.027, 'PerImageOneHopMP_at50_iou_0.5': 0.008, 'PerImageOneHopMR_at50_iou_0.5': 0.024, 'PerImageOneHopMP_phrase_at100_iou_0.5': 0.03, 'PerImageOneHopMR_phrase_at100_iou_0.5': 0.161, 'PerImageOneHopMP_phrase_at50_iou_0.5': 0.047, 'PerImageOneHopMR_phrase_at50_iou_0.5': 0.135}\n",
      "Validation Results: {'PerImagePredMP': 0.506, 'PerImagePredMR': 0.904, 'PerImageOneHopMP_at100_iou_0.5': 0.004, 'PerImageOneHopMR_at100_iou_0.5': 0.028, 'PerImageOneHopMP_at50_iou_0.5': 0.008, 'PerImageOneHopMR_at50_iou_0.5': 0.025, 'PerImageOneHopMP_phrase_at100_iou_0.5': 0.03, 'PerImageOneHopMR_phrase_at100_iou_0.5': 0.165, 'PerImageOneHopMP_phrase_at50_iou_0.5': 0.048, 'PerImageOneHopMR_phrase_at50_iou_0.5': 0.143}\n",
      "Step 30000: loss = 4.2729997634887695 (88120.456 sec)\n",
      "Training Batch Evaluation Results: {'PerImagePredMP': 0.515, 'PerImagePredMR': 0.903, 'PerImageOneHopMP_at100_iou_0.5': 0.004, 'PerImageOneHopMR_at100_iou_0.5': 0.023, 'PerImageOneHopMP_at50_iou_0.5': 0.007, 'PerImageOneHopMR_at50_iou_0.5': 0.02, 'PerImageOneHopMP_phrase_at100_iou_0.5': 0.03, 'PerImageOneHopMR_phrase_at100_iou_0.5': 0.158, 'PerImageOneHopMP_phrase_at50_iou_0.5': 0.046, 'PerImageOneHopMR_phrase_at50_iou_0.5': 0.132}\n",
      "Validation Results: {'PerImagePredMP': 0.514, 'PerImagePredMR': 0.899, 'PerImageOneHopMP_at100_iou_0.5': 0.005, 'PerImageOneHopMR_at100_iou_0.5': 0.031, 'PerImageOneHopMP_at50_iou_0.5': 0.008, 'PerImageOneHopMR_at50_iou_0.5': 0.028, 'PerImageOneHopMP_phrase_at100_iou_0.5': 0.031, 'PerImageOneHopMR_phrase_at100_iou_0.5': 0.172, 'PerImageOneHopMP_phrase_at50_iou_0.5': 0.049, 'PerImageOneHopMR_phrase_at50_iou_0.5': 0.145}\n"
     ]
    }
   ],
   "source": [
    "trainer.train (\n",
    "    max_steps=30000,\n",
    "    train_eval_rate=100, \n",
    "    validation_rate=100, \n",
    "    verbose_rate=1000, \n",
    "    summary_rate=100, \n",
    "    checkpoint_rate=10000, \n",
    "    hyperparams = {\n",
    "        'learning_rate_generator': 1e-5 * batcher.batch_size,\n",
    "\n",
    "        'loss_factor_g_mil_ent': 1.0,\n",
    "        'loss_factor_g_mil_ent_conf': 0.0,\n",
    "        'loss_factor_g_mil_pred': 1.0,\n",
    "        'loss_factor_g_mil_pred_conf': 0.0,\n",
    "        'loss_factor_g_mil_role': 10.0,\n",
    "        'loss_factor_g_mil_box': 0.0,\n",
    "        'loss_factor_g_aux_emb_ent': 0.0,\n",
    "        'loss_factor_g_aux_emb_pred': 0.0,\n",
    "\n",
    "        'confidence_weight_on_role': 0.0,\n",
    "        'grad_clipping': 5.0,\n",
    "        'mil_iou_offset': 0.01,\n",
    "        'dropout_rate_g': 0.0,\n",
    "    },\n",
    "    validation_hyperparams = {\n",
    "        'dropout_rate_g': 0.0,\n",
    "        'confidence_weight_on_role': 0.0\n",
    "    },\n",
    ")\n"
   ]
  },
  {
   "cell_type": "code",
   "execution_count": null,
   "metadata": {},
   "outputs": [
    {
     "name": "stdout",
     "output_type": "stream",
     "text": [
      "Step 31000: loss = 4.63100004196167 (2935.506 sec)\n",
      "Training Batch Evaluation Results: {'PerImagePredMP': 0.527, 'PerImagePredMR': 0.916, 'PerImageOneHopMP_at100_iou_0.5': 0.005, 'PerImageOneHopMR_at100_iou_0.5': 0.029, 'PerImageOneHopMP_at50_iou_0.5': 0.008, 'PerImageOneHopMR_at50_iou_0.5': 0.026, 'PerImageOneHopMP_phrase_at100_iou_0.5': 0.033, 'PerImageOneHopMR_phrase_at100_iou_0.5': 0.182, 'PerImageOneHopMP_phrase_at50_iou_0.5': 0.052, 'PerImageOneHopMR_phrase_at50_iou_0.5': 0.155}\n",
      "Validation Results: {'PerImagePredMP': 0.517, 'PerImagePredMR': 0.905, 'PerImageOneHopMP_at100_iou_0.5': 0.005, 'PerImageOneHopMR_at100_iou_0.5': 0.032, 'PerImageOneHopMP_at50_iou_0.5': 0.008, 'PerImageOneHopMR_at50_iou_0.5': 0.029, 'PerImageOneHopMP_phrase_at100_iou_0.5': 0.036, 'PerImageOneHopMR_phrase_at100_iou_0.5': 0.187, 'PerImageOneHopMP_phrase_at50_iou_0.5': 0.056, 'PerImageOneHopMR_phrase_at50_iou_0.5': 0.156}\n",
      "Step 32000: loss = 3.9649999141693115 (5797.875 sec)\n",
      "Training Batch Evaluation Results: {'PerImagePredMP': 0.521, 'PerImagePredMR': 0.925, 'PerImageOneHopMP_at100_iou_0.5': 0.005, 'PerImageOneHopMR_at100_iou_0.5': 0.031, 'PerImageOneHopMP_at50_iou_0.5': 0.009, 'PerImageOneHopMR_at50_iou_0.5': 0.027, 'PerImageOneHopMP_phrase_at100_iou_0.5': 0.035, 'PerImageOneHopMR_phrase_at100_iou_0.5': 0.189, 'PerImageOneHopMP_phrase_at50_iou_0.5': 0.055, 'PerImageOneHopMR_phrase_at50_iou_0.5': 0.159}\n",
      "Validation Results: {'PerImagePredMP': 0.516, 'PerImagePredMR': 0.909, 'PerImageOneHopMP_at100_iou_0.5': 0.005, 'PerImageOneHopMR_at100_iou_0.5': 0.03, 'PerImageOneHopMP_at50_iou_0.5': 0.009, 'PerImageOneHopMR_at50_iou_0.5': 0.028, 'PerImageOneHopMP_phrase_at100_iou_0.5': 0.036, 'PerImageOneHopMR_phrase_at100_iou_0.5': 0.188, 'PerImageOneHopMP_phrase_at50_iou_0.5': 0.056, 'PerImageOneHopMR_phrase_at50_iou_0.5': 0.16}\n",
      "Step 33000: loss = 3.875 (8754.697 sec)\n",
      "Training Batch Evaluation Results: {'PerImagePredMP': 0.524, 'PerImagePredMR': 0.92, 'PerImageOneHopMP_at100_iou_0.5': 0.005, 'PerImageOneHopMR_at100_iou_0.5': 0.03, 'PerImageOneHopMP_at50_iou_0.5': 0.008, 'PerImageOneHopMR_at50_iou_0.5': 0.026, 'PerImageOneHopMP_phrase_at100_iou_0.5': 0.032, 'PerImageOneHopMR_phrase_at100_iou_0.5': 0.18, 'PerImageOneHopMP_phrase_at50_iou_0.5': 0.052, 'PerImageOneHopMR_phrase_at50_iou_0.5': 0.155}\n",
      "Validation Results: {'PerImagePredMP': 0.523, 'PerImagePredMR': 0.909, 'PerImageOneHopMP_at100_iou_0.5': 0.005, 'PerImageOneHopMR_at100_iou_0.5': 0.034, 'PerImageOneHopMP_at50_iou_0.5': 0.009, 'PerImageOneHopMR_at50_iou_0.5': 0.031, 'PerImageOneHopMP_phrase_at100_iou_0.5': 0.037, 'PerImageOneHopMR_phrase_at100_iou_0.5': 0.192, 'PerImageOneHopMP_phrase_at50_iou_0.5': 0.058, 'PerImageOneHopMR_phrase_at50_iou_0.5': 0.162}\n",
      "Step 34000: loss = 3.6989998817443848 (11729.398 sec)\n",
      "Training Batch Evaluation Results: {'PerImagePredMP': 0.528, 'PerImagePredMR': 0.926, 'PerImageOneHopMP_at100_iou_0.5': 0.005, 'PerImageOneHopMR_at100_iou_0.5': 0.03, 'PerImageOneHopMP_at50_iou_0.5': 0.008, 'PerImageOneHopMR_at50_iou_0.5': 0.026, 'PerImageOneHopMP_phrase_at100_iou_0.5': 0.036, 'PerImageOneHopMR_phrase_at100_iou_0.5': 0.187, 'PerImageOneHopMP_phrase_at50_iou_0.5': 0.055, 'PerImageOneHopMR_phrase_at50_iou_0.5': 0.156}\n",
      "Validation Results: {'PerImagePredMP': 0.517, 'PerImagePredMR': 0.91, 'PerImageOneHopMP_at100_iou_0.5': 0.005, 'PerImageOneHopMR_at100_iou_0.5': 0.031, 'PerImageOneHopMP_at50_iou_0.5': 0.009, 'PerImageOneHopMR_at50_iou_0.5': 0.026, 'PerImageOneHopMP_phrase_at100_iou_0.5': 0.037, 'PerImageOneHopMR_phrase_at100_iou_0.5': 0.192, 'PerImageOneHopMP_phrase_at50_iou_0.5': 0.056, 'PerImageOneHopMR_phrase_at50_iou_0.5': 0.162}\n",
      "Step 35000: loss = 3.880000114440918 (14740.820 sec)\n",
      "Training Batch Evaluation Results: {'PerImagePredMP': 0.521, 'PerImagePredMR': 0.924, 'PerImageOneHopMP_at100_iou_0.5': 0.005, 'PerImageOneHopMR_at100_iou_0.5': 0.031, 'PerImageOneHopMP_at50_iou_0.5': 0.009, 'PerImageOneHopMR_at50_iou_0.5': 0.027, 'PerImageOneHopMP_phrase_at100_iou_0.5': 0.036, 'PerImageOneHopMR_phrase_at100_iou_0.5': 0.192, 'PerImageOneHopMP_phrase_at50_iou_0.5': 0.056, 'PerImageOneHopMR_phrase_at50_iou_0.5': 0.16}\n",
      "Validation Results: {'PerImagePredMP': 0.514, 'PerImagePredMR': 0.912, 'PerImageOneHopMP_at100_iou_0.5': 0.005, 'PerImageOneHopMR_at100_iou_0.5': 0.031, 'PerImageOneHopMP_at50_iou_0.5': 0.009, 'PerImageOneHopMR_at50_iou_0.5': 0.027, 'PerImageOneHopMP_phrase_at100_iou_0.5': 0.036, 'PerImageOneHopMR_phrase_at100_iou_0.5': 0.189, 'PerImageOneHopMP_phrase_at50_iou_0.5': 0.056, 'PerImageOneHopMR_phrase_at50_iou_0.5': 0.159}\n",
      "Step 36000: loss = 3.632999897003174 (17710.082 sec)\n",
      "Training Batch Evaluation Results: {'PerImagePredMP': 0.517, 'PerImagePredMR': 0.923, 'PerImageOneHopMP_at100_iou_0.5': 0.004, 'PerImageOneHopMR_at100_iou_0.5': 0.029, 'PerImageOneHopMP_at50_iou_0.5': 0.008, 'PerImageOneHopMR_at50_iou_0.5': 0.026, 'PerImageOneHopMP_phrase_at100_iou_0.5': 0.035, 'PerImageOneHopMR_phrase_at100_iou_0.5': 0.191, 'PerImageOneHopMP_phrase_at50_iou_0.5': 0.055, 'PerImageOneHopMR_phrase_at50_iou_0.5': 0.165}\n",
      "Validation Results: {'PerImagePredMP': 0.513, 'PerImagePredMR': 0.91, 'PerImageOneHopMP_at100_iou_0.5': 0.005, 'PerImageOneHopMR_at100_iou_0.5': 0.032, 'PerImageOneHopMP_at50_iou_0.5': 0.009, 'PerImageOneHopMR_at50_iou_0.5': 0.029, 'PerImageOneHopMP_phrase_at100_iou_0.5': 0.036, 'PerImageOneHopMR_phrase_at100_iou_0.5': 0.19, 'PerImageOneHopMP_phrase_at50_iou_0.5': 0.056, 'PerImageOneHopMR_phrase_at50_iou_0.5': 0.163}\n",
      "Step 37000: loss = 4.171000003814697 (20694.222 sec)\n",
      "Training Batch Evaluation Results: {'PerImagePredMP': 0.521, 'PerImagePredMR': 0.929, 'PerImageOneHopMP_at100_iou_0.5': 0.005, 'PerImageOneHopMR_at100_iou_0.5': 0.031, 'PerImageOneHopMP_at50_iou_0.5': 0.008, 'PerImageOneHopMR_at50_iou_0.5': 0.026, 'PerImageOneHopMP_phrase_at100_iou_0.5': 0.036, 'PerImageOneHopMR_phrase_at100_iou_0.5': 0.198, 'PerImageOneHopMP_phrase_at50_iou_0.5': 0.057, 'PerImageOneHopMR_phrase_at50_iou_0.5': 0.166}\n",
      "Validation Results: {'PerImagePredMP': 0.514, 'PerImagePredMR': 0.908, 'PerImageOneHopMP_at100_iou_0.5': 0.005, 'PerImageOneHopMR_at100_iou_0.5': 0.032, 'PerImageOneHopMP_at50_iou_0.5': 0.009, 'PerImageOneHopMR_at50_iou_0.5': 0.029, 'PerImageOneHopMP_phrase_at100_iou_0.5': 0.036, 'PerImageOneHopMR_phrase_at100_iou_0.5': 0.189, 'PerImageOneHopMP_phrase_at50_iou_0.5': 0.057, 'PerImageOneHopMR_phrase_at50_iou_0.5': 0.162}\n",
      "Step 38000: loss = 4.892000198364258 (23672.813 sec)\n",
      "Training Batch Evaluation Results: {'PerImagePredMP': 0.513, 'PerImagePredMR': 0.925, 'PerImageOneHopMP_at100_iou_0.5': 0.005, 'PerImageOneHopMR_at100_iou_0.5': 0.028, 'PerImageOneHopMP_at50_iou_0.5': 0.008, 'PerImageOneHopMR_at50_iou_0.5': 0.024, 'PerImageOneHopMP_phrase_at100_iou_0.5': 0.035, 'PerImageOneHopMR_phrase_at100_iou_0.5': 0.19, 'PerImageOneHopMP_phrase_at50_iou_0.5': 0.055, 'PerImageOneHopMR_phrase_at50_iou_0.5': 0.16}\n",
      "Validation Results: {'PerImagePredMP': 0.512, 'PerImagePredMR': 0.907, 'PerImageOneHopMP_at100_iou_0.5': 0.005, 'PerImageOneHopMR_at100_iou_0.5': 0.033, 'PerImageOneHopMP_at50_iou_0.5': 0.009, 'PerImageOneHopMR_at50_iou_0.5': 0.029, 'PerImageOneHopMP_phrase_at100_iou_0.5': 0.037, 'PerImageOneHopMR_phrase_at100_iou_0.5': 0.191, 'PerImageOneHopMP_phrase_at50_iou_0.5': 0.058, 'PerImageOneHopMR_phrase_at50_iou_0.5': 0.161}\n",
      "Step 39000: loss = 3.6059999465942383 (26667.298 sec)\n",
      "Training Batch Evaluation Results: {'PerImagePredMP': 0.513, 'PerImagePredMR': 0.924, 'PerImageOneHopMP_at100_iou_0.5': 0.004, 'PerImageOneHopMR_at100_iou_0.5': 0.029, 'PerImageOneHopMP_at50_iou_0.5': 0.008, 'PerImageOneHopMR_at50_iou_0.5': 0.026, 'PerImageOneHopMP_phrase_at100_iou_0.5': 0.037, 'PerImageOneHopMR_phrase_at100_iou_0.5': 0.207, 'PerImageOneHopMP_phrase_at50_iou_0.5': 0.057, 'PerImageOneHopMR_phrase_at50_iou_0.5': 0.173}\n",
      "Validation Results: {'PerImagePredMP': 0.505, 'PerImagePredMR': 0.91, 'PerImageOneHopMP_at100_iou_0.5': 0.005, 'PerImageOneHopMR_at100_iou_0.5': 0.031, 'PerImageOneHopMP_at50_iou_0.5': 0.009, 'PerImageOneHopMR_at50_iou_0.5': 0.028, 'PerImageOneHopMP_phrase_at100_iou_0.5': 0.036, 'PerImageOneHopMR_phrase_at100_iou_0.5': 0.19, 'PerImageOneHopMP_phrase_at50_iou_0.5': 0.057, 'PerImageOneHopMR_phrase_at50_iou_0.5': 0.161}\n",
      "Step 40000: loss = 3.871999979019165 (29637.155 sec)\n",
      "Training Batch Evaluation Results: {'PerImagePredMP': 0.519, 'PerImagePredMR': 0.926, 'PerImageOneHopMP_at100_iou_0.5': 0.005, 'PerImageOneHopMR_at100_iou_0.5': 0.031, 'PerImageOneHopMP_at50_iou_0.5': 0.008, 'PerImageOneHopMR_at50_iou_0.5': 0.029, 'PerImageOneHopMP_phrase_at100_iou_0.5': 0.033, 'PerImageOneHopMR_phrase_at100_iou_0.5': 0.192, 'PerImageOneHopMP_phrase_at50_iou_0.5': 0.052, 'PerImageOneHopMR_phrase_at50_iou_0.5': 0.161}\n",
      "Validation Results: {'PerImagePredMP': 0.517, 'PerImagePredMR': 0.909, 'PerImageOneHopMP_at100_iou_0.5': 0.005, 'PerImageOneHopMR_at100_iou_0.5': 0.032, 'PerImageOneHopMP_at50_iou_0.5': 0.009, 'PerImageOneHopMR_at50_iou_0.5': 0.028, 'PerImageOneHopMP_phrase_at100_iou_0.5': 0.036, 'PerImageOneHopMR_phrase_at100_iou_0.5': 0.188, 'PerImageOneHopMP_phrase_at50_iou_0.5': 0.056, 'PerImageOneHopMR_phrase_at50_iou_0.5': 0.16}\n"
     ]
    }
   ],
   "source": [
    "trainer.train (\n",
    "    max_steps=10000,\n",
    "    train_eval_rate=100, \n",
    "    validation_rate=100, \n",
    "    verbose_rate=1000, \n",
    "    summary_rate=100, \n",
    "    checkpoint_rate=1000, \n",
    "    hyperparams = {\n",
    "        'learning_rate_generator': 1e-6 * batcher.batch_size,\n",
    "\n",
    "        'loss_factor_g_mil_ent': 1.0,\n",
    "        'loss_factor_g_mil_ent_conf': 0.0,\n",
    "        'loss_factor_g_mil_pred': 1.0,\n",
    "        'loss_factor_g_mil_pred_conf': 0.0,\n",
    "        'loss_factor_g_mil_role': 10.0,\n",
    "        'loss_factor_g_mil_box': 0.0,\n",
    "        'loss_factor_g_aux_emb_ent': 0.0,\n",
    "        'loss_factor_g_aux_emb_pred': 0.0,\n",
    "\n",
    "        'confidence_weight_on_role': 0.0,\n",
    "        'grad_clipping': 5.0,\n",
    "        'mil_iou_offset': 0.01,\n",
    "        'dropout_rate_g': 0.0,\n",
    "    },\n",
    "    validation_hyperparams = {\n",
    "        'dropout_rate_g': 0.0,\n",
    "        'confidence_weight_on_role': 0.0\n",
    "    },\n",
    ")\n"
   ]
  },
  {
   "cell_type": "code",
   "execution_count": 21,
   "metadata": {},
   "outputs": [
    {
     "name": "stdout",
     "output_type": "stream",
     "text": [
      "Step 41000: loss = 3.8289999961853027 (3041.728 sec)\n",
      "Training Batch Evaluation Results: {'PerImagePredMP': 0.517, 'PerImagePredMR': 0.933, 'PerImageOneHopMP_at100_iou_0.5': 0.005, 'PerImageOneHopMR_at100_iou_0.5': 0.031, 'PerImageOneHopMP_at50_iou_0.5': 0.009, 'PerImageOneHopMR_at50_iou_0.5': 0.027, 'PerImageOneHopMP_phrase_at100_iou_0.5': 0.036, 'PerImageOneHopMR_phrase_at100_iou_0.5': 0.196, 'PerImageOneHopMP_phrase_at50_iou_0.5': 0.056, 'PerImageOneHopMR_phrase_at50_iou_0.5': 0.166}\n",
      "Validation Results: {'PerImagePredMP': 0.51, 'PerImagePredMR': 0.91, 'PerImageOneHopMP_at100_iou_0.5': 0.005, 'PerImageOneHopMR_at100_iou_0.5': 0.033, 'PerImageOneHopMP_at50_iou_0.5': 0.009, 'PerImageOneHopMR_at50_iou_0.5': 0.028, 'PerImageOneHopMP_phrase_at100_iou_0.5': 0.036, 'PerImageOneHopMR_phrase_at100_iou_0.5': 0.195, 'PerImageOneHopMP_phrase_at50_iou_0.5': 0.057, 'PerImageOneHopMR_phrase_at50_iou_0.5': 0.163}\n",
      "Step 42000: loss = 3.632999897003174 (6004.474 sec)\n",
      "Training Batch Evaluation Results: {'PerImagePredMP': 0.519, 'PerImagePredMR': 0.928, 'PerImageOneHopMP_at100_iou_0.5': 0.005, 'PerImageOneHopMR_at100_iou_0.5': 0.03, 'PerImageOneHopMP_at50_iou_0.5': 0.008, 'PerImageOneHopMR_at50_iou_0.5': 0.025, 'PerImageOneHopMP_phrase_at100_iou_0.5': 0.034, 'PerImageOneHopMR_phrase_at100_iou_0.5': 0.191, 'PerImageOneHopMP_phrase_at50_iou_0.5': 0.054, 'PerImageOneHopMR_phrase_at50_iou_0.5': 0.161}\n",
      "Validation Results: {'PerImagePredMP': 0.512, 'PerImagePredMR': 0.909, 'PerImageOneHopMP_at100_iou_0.5': 0.005, 'PerImageOneHopMR_at100_iou_0.5': 0.034, 'PerImageOneHopMP_at50_iou_0.5': 0.009, 'PerImageOneHopMR_at50_iou_0.5': 0.029, 'PerImageOneHopMP_phrase_at100_iou_0.5': 0.037, 'PerImageOneHopMR_phrase_at100_iou_0.5': 0.194, 'PerImageOneHopMP_phrase_at50_iou_0.5': 0.057, 'PerImageOneHopMR_phrase_at50_iou_0.5': 0.163}\n",
      "Step 43000: loss = 3.5869998931884766 (8951.595 sec)\n",
      "Training Batch Evaluation Results: {'PerImagePredMP': 0.524, 'PerImagePredMR': 0.932, 'PerImageOneHopMP_at100_iou_0.5': 0.005, 'PerImageOneHopMR_at100_iou_0.5': 0.028, 'PerImageOneHopMP_at50_iou_0.5': 0.008, 'PerImageOneHopMR_at50_iou_0.5': 0.025, 'PerImageOneHopMP_phrase_at100_iou_0.5': 0.036, 'PerImageOneHopMR_phrase_at100_iou_0.5': 0.193, 'PerImageOneHopMP_phrase_at50_iou_0.5': 0.055, 'PerImageOneHopMR_phrase_at50_iou_0.5': 0.161}\n",
      "Validation Results: {'PerImagePredMP': 0.512, 'PerImagePredMR': 0.908, 'PerImageOneHopMP_at100_iou_0.5': 0.005, 'PerImageOneHopMR_at100_iou_0.5': 0.032, 'PerImageOneHopMP_at50_iou_0.5': 0.009, 'PerImageOneHopMR_at50_iou_0.5': 0.028, 'PerImageOneHopMP_phrase_at100_iou_0.5': 0.037, 'PerImageOneHopMR_phrase_at100_iou_0.5': 0.191, 'PerImageOneHopMP_phrase_at50_iou_0.5': 0.057, 'PerImageOneHopMR_phrase_at50_iou_0.5': 0.162}\n",
      "Step 44000: loss = 3.6500000953674316 (11920.419 sec)\n",
      "Training Batch Evaluation Results: {'PerImagePredMP': 0.52, 'PerImagePredMR': 0.933, 'PerImageOneHopMP_at100_iou_0.5': 0.005, 'PerImageOneHopMR_at100_iou_0.5': 0.034, 'PerImageOneHopMP_at50_iou_0.5': 0.009, 'PerImageOneHopMR_at50_iou_0.5': 0.029, 'PerImageOneHopMP_phrase_at100_iou_0.5': 0.036, 'PerImageOneHopMR_phrase_at100_iou_0.5': 0.198, 'PerImageOneHopMP_phrase_at50_iou_0.5': 0.057, 'PerImageOneHopMR_phrase_at50_iou_0.5': 0.165}\n",
      "Validation Results: {'PerImagePredMP': 0.512, 'PerImagePredMR': 0.909, 'PerImageOneHopMP_at100_iou_0.5': 0.005, 'PerImageOneHopMR_at100_iou_0.5': 0.033, 'PerImageOneHopMP_at50_iou_0.5': 0.009, 'PerImageOneHopMR_at50_iou_0.5': 0.029, 'PerImageOneHopMP_phrase_at100_iou_0.5': 0.037, 'PerImageOneHopMR_phrase_at100_iou_0.5': 0.195, 'PerImageOneHopMP_phrase_at50_iou_0.5': 0.058, 'PerImageOneHopMR_phrase_at50_iou_0.5': 0.166}\n",
      "Step 45000: loss = 3.813999891281128 (14854.131 sec)\n",
      "Training Batch Evaluation Results: {'PerImagePredMP': 0.516, 'PerImagePredMR': 0.927, 'PerImageOneHopMP_at100_iou_0.5': 0.004, 'PerImageOneHopMR_at100_iou_0.5': 0.03, 'PerImageOneHopMP_at50_iou_0.5': 0.008, 'PerImageOneHopMR_at50_iou_0.5': 0.026, 'PerImageOneHopMP_phrase_at100_iou_0.5': 0.036, 'PerImageOneHopMR_phrase_at100_iou_0.5': 0.201, 'PerImageOneHopMP_phrase_at50_iou_0.5': 0.057, 'PerImageOneHopMR_phrase_at50_iou_0.5': 0.17}\n",
      "Validation Results: {'PerImagePredMP': 0.511, 'PerImagePredMR': 0.909, 'PerImageOneHopMP_at100_iou_0.5': 0.005, 'PerImageOneHopMR_at100_iou_0.5': 0.032, 'PerImageOneHopMP_at50_iou_0.5': 0.009, 'PerImageOneHopMR_at50_iou_0.5': 0.029, 'PerImageOneHopMP_phrase_at100_iou_0.5': 0.037, 'PerImageOneHopMR_phrase_at100_iou_0.5': 0.195, 'PerImageOneHopMP_phrase_at50_iou_0.5': 0.057, 'PerImageOneHopMR_phrase_at50_iou_0.5': 0.166}\n"
     ]
    }
   ],
   "source": [
    "trainer.train (\n",
    "    max_steps=5000,\n",
    "    train_eval_rate=100, \n",
    "    validation_rate=100, \n",
    "    verbose_rate=1000, \n",
    "    summary_rate=100, \n",
    "    checkpoint_rate=1000, \n",
    "    hyperparams = {\n",
    "        'learning_rate_generator': 1e-7 * batcher.batch_size,\n",
    "\n",
    "        'loss_factor_g_mil_ent': 1.0,\n",
    "        'loss_factor_g_mil_ent_conf': 0.0,\n",
    "        'loss_factor_g_mil_pred': 1.0,\n",
    "        'loss_factor_g_mil_pred_conf': 0.0,\n",
    "        'loss_factor_g_mil_role': 10.0,\n",
    "        'loss_factor_g_mil_box': 0.0,\n",
    "        'loss_factor_g_aux_emb_ent': 0.0,\n",
    "        'loss_factor_g_aux_emb_pred': 0.0,\n",
    "\n",
    "        'confidence_weight_on_role': 0.0,\n",
    "        'grad_clipping': 5.0,\n",
    "        'mil_iou_offset': 0.01,\n",
    "        'dropout_rate_g': 0.0,\n",
    "    },\n",
    "    validation_hyperparams = {\n",
    "        'dropout_rate_g': 0.0,\n",
    "        'confidence_weight_on_role': 0.0\n",
    "    },\n",
    ")\n"
   ]
  },
  {
   "cell_type": "code",
   "execution_count": null,
   "metadata": {},
   "outputs": [],
   "source": []
  },
  {
   "cell_type": "code",
   "execution_count": null,
   "metadata": {},
   "outputs": [],
   "source": [
    "trainer.save_model('final_1')"
   ]
  },
  {
   "cell_type": "code",
   "execution_count": null,
   "metadata": {},
   "outputs": [],
   "source": []
  },
  {
   "cell_type": "markdown",
   "metadata": {},
   "source": [
    "# Step 3: Evaluation"
   ]
  },
  {
   "cell_type": "code",
   "execution_count": 14,
   "metadata": {},
   "outputs": [
    {
     "name": "stdout",
     "output_type": "stream",
     "text": [
      "WARNING:tensorflow:From /home/alireza/home_at_filer2/tools/anaconda3/envs/py3tf2/lib/python3.6/site-packages/tensorflow/python/training/saver.py:1266: checkpoint_exists (from tensorflow.python.training.checkpoint_management) is deprecated and will be removed in a future version.\n",
      "Instructions for updating:\n",
      "Use standard file APIs to check for files with this prefix.\n",
      "INFO:tensorflow:Restoring parameters from ../../checkpoint/exp_058/ckpt-45000\n"
     ]
    }
   ],
   "source": [
    "load_params(sess, os.path.join(codebase, 'checkpoint', exp_name, 'ckpt-45000'))"
   ]
  },
  {
   "cell_type": "code",
   "execution_count": null,
   "metadata": {},
   "outputs": [],
   "source": []
  },
  {
   "cell_type": "code",
   "execution_count": 15,
   "metadata": {},
   "outputs": [],
   "source": [
    "test_evaluator = Evaluator({        \n",
    "    'graph_loader': gl,\n",
    "    'proposals': proposals,\n",
    "    'num_proposals': 20,\n",
    "    'filter_nonoverlap': True\n",
    "})\n"
   ]
  },
  {
   "cell_type": "code",
   "execution_count": null,
   "metadata": {},
   "outputs": [],
   "source": []
  },
  {
   "cell_type": "code",
   "execution_count": 16,
   "metadata": {},
   "outputs": [],
   "source": [
    "batcher_test = GraphBatcher(\n",
    "    gl, 32, proposals,\n",
    "    os.path.join(codebase, 'data', 'VG', 'xfeat_proposals', 'iresnet_oi_lowprop', 'feats_float32_20x1536.lmdb'), \n",
    "    dim_feats=1536,\n",
    "    seed=1237, \n",
    ")\n",
    "batcher_test.set_subset(test_idx)"
   ]
  },
  {
   "cell_type": "code",
   "execution_count": 17,
   "metadata": {},
   "outputs": [
    {
     "name": "stdout",
     "output_type": "stream",
     "text": [
      "Deploying\n",
      "Batch 1/808 done in 0 seconds. Spent time for read=0.01 (avg 0.01), processing=0.46 (avg 0.46), write=0.00 (avg 0.00) seconds.\n",
      "Batch 101/808 done in 3 seconds. Spent time for read=0.01 (avg 0.01), processing=0.02 (avg 0.02), write=0.00 (avg 0.00) seconds.\n",
      "Batch 201/808 done in 5 seconds. Spent time for read=0.01 (avg 0.01), processing=0.02 (avg 0.02), write=0.00 (avg 0.00) seconds.\n",
      "Batch 301/808 done in 8 seconds. Spent time for read=0.01 (avg 0.01), processing=0.02 (avg 0.02), write=0.00 (avg 0.00) seconds.\n",
      "Batch 401/808 done in 11 seconds. Spent time for read=0.01 (avg 0.01), processing=0.02 (avg 0.02), write=0.00 (avg 0.00) seconds.\n",
      "Batch 501/808 done in 14 seconds. Spent time for read=0.01 (avg 0.01), processing=0.02 (avg 0.02), write=0.00 (avg 0.00) seconds.\n",
      "Batch 601/808 done in 16 seconds. Spent time for read=0.01 (avg 0.01), processing=0.02 (avg 0.02), write=0.00 (avg 0.00) seconds.\n",
      "Batch 701/808 done in 19 seconds. Spent time for read=0.00 (avg 0.01), processing=0.02 (avg 0.02), write=0.00 (avg 0.00) seconds.\n",
      "Batch 801/808 done in 21 seconds. Spent time for read=0.01 (avg 0.01), processing=0.02 (avg 0.02), write=0.00 (avg 0.00) seconds.\n",
      "Batch 808/808 done in 22 seconds. Spent time for read=0.01 (avg 0.01), processing=0.02 (avg 0.02), write=0.00 (avg 0.00) seconds.\n",
      "Done in 22 seconds\n"
     ]
    }
   ],
   "source": [
    "#test_evaluator.reset()\n",
    "deploy(sess, model, batcher_test, test_evaluator, model.eval_ops,\n",
    "    hyperparams={\n",
    "        'dropout_rate_g': 0.0,\n",
    "        'confidence_weight_on_role': 0.0\n",
    "    },\n",
    "    ignore_errors=False,\n",
    "    debug_mode=False,\n",
    "    verbose_rate=100\n",
    ")\n"
   ]
  },
  {
   "cell_type": "code",
   "execution_count": 26,
   "metadata": {},
   "outputs": [
    {
     "data": {
      "text/plain": [
       "{'PerImagePredMP': 0.5138429704119125,\n",
       " 'PerImagePredMR': 0.9163794513859109,\n",
       " 'PerImageOneHopMP_at100_iou_0.5': 0.00441771417520789,\n",
       " 'PerImageOneHopMR_at100_iou_0.5': 0.027695302720784038,\n",
       " 'PerImageOneHopMP_at50_iou_0.5': 0.007591568362018952,\n",
       " 'PerImageOneHopMR_at50_iou_0.5': 0.02450071425051161,\n",
       " 'PerImageOneHopMP_phrase_at100_iou_0.5': 0.03403751692129182,\n",
       " 'PerImageOneHopMR_phrase_at100_iou_0.5': 0.18278795717670876,\n",
       " 'PerImageOneHopMP_phrase_at50_iou_0.5': 0.05326551924192613,\n",
       " 'PerImageOneHopMR_phrase_at50_iou_0.5': 0.15450709790253925}"
      ]
     },
     "execution_count": 26,
     "metadata": {},
     "output_type": "execute_result"
    }
   ],
   "source": [
    "test_results = test_evaluator.evaluate()\n",
    "test_results"
   ]
  },
  {
   "cell_type": "code",
   "execution_count": null,
   "metadata": {},
   "outputs": [],
   "source": []
  },
  {
   "cell_type": "code",
   "execution_count": null,
   "metadata": {},
   "outputs": [],
   "source": []
  }
 ],
 "metadata": {
  "kernelspec": {
   "display_name": "Py3 w/ Tensorflow 2",
   "language": "python",
   "name": "py3tf2"
  },
  "language_info": {
   "codemirror_mode": {
    "name": "ipython",
    "version": 3
   },
   "file_extension": ".py",
   "mimetype": "text/x-python",
   "name": "python",
   "nbconvert_exporter": "python",
   "pygments_lexer": "ipython3",
   "version": "3.6.8"
  }
 },
 "nbformat": 4,
 "nbformat_minor": 4
}
