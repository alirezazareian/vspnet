{
 "cells": [
  {
   "cell_type": "markdown",
   "metadata": {},
   "source": [
    "# Step 1: Data and Model Preparation\n"
   ]
  },
  {
   "cell_type": "code",
   "execution_count": 1,
   "metadata": {},
   "outputs": [],
   "source": [
    "exp_name = 'exp_059'"
   ]
  },
  {
   "cell_type": "code",
   "execution_count": 2,
   "metadata": {},
   "outputs": [],
   "source": [
    "%load_ext autoreload\n",
    "%autoreload 2\n",
    "import sys\n",
    "import os\n",
    "codebase = '../../'\n",
    "sys.path.append(codebase)"
   ]
  },
  {
   "cell_type": "code",
   "execution_count": 3,
   "metadata": {},
   "outputs": [],
   "source": [
    "from src.dataflow.vg_graph_loader_3 import VGGraphLoader\n",
    "from src.dataflow.graph_batcher_2_rpn import GraphBatcher"
   ]
  },
  {
   "cell_type": "code",
   "execution_count": 4,
   "metadata": {},
   "outputs": [
    {
     "name": "stdout",
     "output_type": "stream",
     "text": [
      "\n",
      "WARNING: The TensorFlow contrib module will not be included in TensorFlow 2.0.\n",
      "For more information, please see:\n",
      "  * https://github.com/tensorflow/community/blob/master/rfcs/20180907-contrib-sunset.md\n",
      "  * https://github.com/tensorflow/addons\n",
      "If you depend on functionality not listed there, please file an issue.\n",
      "\n"
     ]
    }
   ],
   "source": [
    "from src.tensorflow.models.vsp_model_002 import Model\n",
    "from src.tensorflow.engine.trainer_3 import Trainer\n",
    "from src.tensorflow.engine.util import deploy, load_params\n",
    "from src.util.util import pickle_save, pickle_load\n",
    "from src.eval.sgg_evaluator_03 import Evaluator"
   ]
  },
  {
   "cell_type": "code",
   "execution_count": 5,
   "metadata": {},
   "outputs": [],
   "source": [
    "import tensorflow as tf\n",
    "import numpy as np\n",
    "tf.set_random_seed(1224)\n",
    "np.random.seed(1225)"
   ]
  },
  {
   "cell_type": "code",
   "execution_count": null,
   "metadata": {},
   "outputs": [],
   "source": []
  },
  {
   "cell_type": "code",
   "execution_count": 6,
   "metadata": {},
   "outputs": [],
   "source": [
    "gl = VGGraphLoader(\n",
    "    os.path.join(codebase, 'metadata', 'VG', 'prep', 'hanwang', 'sg.pkl'),\n",
    "    os.path.join(codebase, 'metadata', 'VG', 'prep', 'hanwang', 'class_embs.pkl'),\n",
    ")\n"
   ]
  },
  {
   "cell_type": "code",
   "execution_count": 7,
   "metadata": {},
   "outputs": [],
   "source": [
    "img_ids, train_idx, test_idx = pickle_load(os.path.join(codebase, 'metadata', 'VG', 'prep', 'hanwang', 'split.pkl'))\n"
   ]
  },
  {
   "cell_type": "code",
   "execution_count": 8,
   "metadata": {},
   "outputs": [],
   "source": [
    "np.random.shuffle(train_idx)\n",
    "val_idx = train_idx[:1000]\n",
    "train_idx = train_idx[1000:]"
   ]
  },
  {
   "cell_type": "code",
   "execution_count": null,
   "metadata": {},
   "outputs": [],
   "source": []
  },
  {
   "cell_type": "code",
   "execution_count": 9,
   "metadata": {},
   "outputs": [],
   "source": [
    "proposals = pickle_load(os.path.join(codebase, 'data', 'VG', 'xfeat_proposals', 'iresnet_oi_lowprop', 'coords.pkl'))"
   ]
  },
  {
   "cell_type": "code",
   "execution_count": 10,
   "metadata": {},
   "outputs": [],
   "source": [
    "batcher = GraphBatcher(\n",
    "    gl, 32, proposals,\n",
    "    os.path.join(codebase, 'data', 'VG', 'xfeat_proposals', 'iresnet_oi_lowprop', 'feats_float32_20x1536.lmdb'), \n",
    "    dim_feats=1536,\n",
    "    seed=1236, \n",
    ")\n",
    "batcher.set_subset(train_idx)\n",
    "batcher.shuffle()"
   ]
  },
  {
   "cell_type": "code",
   "execution_count": 11,
   "metadata": {},
   "outputs": [],
   "source": [
    "batcher_val = GraphBatcher(\n",
    "    gl, 32, proposals,\n",
    "    os.path.join(codebase, 'data', 'VG', 'xfeat_proposals', 'iresnet_oi_lowprop', 'feats_float32_20x1536.lmdb'), \n",
    "    dim_feats=1536,\n",
    "    seed=1237, \n",
    ")\n",
    "batcher_val.set_subset(val_idx)"
   ]
  },
  {
   "cell_type": "code",
   "execution_count": null,
   "metadata": {},
   "outputs": [],
   "source": []
  },
  {
   "cell_type": "code",
   "execution_count": 12,
   "metadata": {},
   "outputs": [],
   "source": [
    "tf.reset_default_graph()"
   ]
  },
  {
   "cell_type": "code",
   "execution_count": 13,
   "metadata": {},
   "outputs": [
    {
     "name": "stdout",
     "output_type": "stream",
     "text": [
      "WARNING:tensorflow:From ../../src/tensorflow/models/vsp_model_002.py:94: GRUCell.__init__ (from tensorflow.python.ops.rnn_cell_impl) is deprecated and will be removed in a future version.\n",
      "Instructions for updating:\n",
      "This class is equivalent as tf.keras.layers.GRUCell, and will be replaced by that in Tensorflow 2.0.\n",
      "WARNING:tensorflow:From /home/alireza/home_at_filer2/tools/anaconda3/envs/py3tf2/lib/python3.6/site-packages/tensorflow/python/framework/op_def_library.py:263: colocate_with (from tensorflow.python.framework.ops) is deprecated and will be removed in a future version.\n",
      "Instructions for updating:\n",
      "Colocations handled automatically by placer.\n",
      "WARNING:tensorflow:From ../../src/tensorflow/util/util.py:15: dense (from tensorflow.python.layers.core) is deprecated and will be removed in a future version.\n",
      "Instructions for updating:\n",
      "Use keras.layers.dense instead.\n",
      "WARNING:tensorflow:From ../../src/tensorflow/util/util.py:17: calling dropout (from tensorflow.python.ops.nn_ops) with keep_prob is deprecated and will be removed in a future version.\n",
      "Instructions for updating:\n",
      "Please use `rate` instead of `keep_prob`. Rate should be set to `rate = 1 - keep_prob`.\n",
      "WARNING:tensorflow:From ../../src/tensorflow/models/vsp_model_002.py:513: py_func (from tensorflow.python.ops.script_ops) is deprecated and will be removed in a future version.\n",
      "Instructions for updating:\n",
      "tf.py_func is deprecated in TF V2. Instead, use\n",
      "    tf.py_function, which takes a python function which manipulates tf eager\n",
      "    tensors instead of numpy arrays. It's easy to convert a tf eager tensor to\n",
      "    an ndarray (just call tensor.numpy()) but having access to eager tensors\n",
      "    means `tf.py_function`s can use accelerators such as GPUs as well as\n",
      "    being differentiable using a gradient tape.\n",
      "    \n",
      "WARNING:tensorflow:From /home/alireza/home_at_filer2/tools/anaconda3/envs/py3tf2/lib/python3.6/site-packages/tensorflow/python/ops/math_ops.py:3066: to_int32 (from tensorflow.python.ops.math_ops) is deprecated and will be removed in a future version.\n",
      "Instructions for updating:\n",
      "Use tf.cast instead.\n"
     ]
    }
   ],
   "source": [
    "model = Model(   \n",
    "    dim_att_head_role_ent=[1024, 1024], \n",
    "    dim_att_head_role_pred=[1024, 1024],\n",
    "    role_edge_mode='full_soft',\n",
    "    stop_grad_role_edge=True,\n",
    "    \n",
    "    dim_state_ent=1024,\n",
    "    dim_state_pred=1024,\n",
    "    dim_emb_head_ent=[300],\n",
    "    dim_conf_head_ent=[],\n",
    "    dim_conf_head_pred=[],\n",
    "    dim_emb_head_pred=[300],\n",
    "    dim_init_head_ent=[1024],\n",
    "\n",
    "    dim_message_send_head_pred2ent=[1024, 1024],\n",
    "    dim_message_pool_head_pred2ent=[1024, 1024],\n",
    "    dim_message_receive_head_pred2ent=[1024, 1024],    \n",
    "    dim_message_send_head_ent2pred=[1024, 1024],\n",
    "    dim_message_pool_head_ent2pred=[1024, 1024],\n",
    "    dim_message_receive_head_ent2pred=[1024, 1024],\n",
    "    \n",
    "    num_mp_iter=3,     \n",
    "    num_proposals=None,\n",
    "\n",
    "    heat_role=1.0,\n",
    "    heat_emb_mil=1.0,\n",
    "    null_att_logit=0.0,\n",
    "        \n",
    "    num_align_iter=1,\n",
    "    alignment_order='best',\n",
    "    default_act_fn_name='leaky_relu',\n",
    "    optimizer_type_generator=tf.train.AdamOptimizer,\n",
    "    \n",
    "    max_num_pred=100,\n",
    "    dim_init_head_pred=[],\n",
    "    init_state_type_pred='trainable',\n",
    "    \n",
    "    dim_proposal_feat=1536,\n",
    "    emb_dict_ent=gl.noun_emb_dict,\n",
    "    emb_dict_pred=gl.pred_emb_dict,    \n",
    "    #image_size=448,\n",
    "    #num_channels=3,\n",
    "    debugging=False\n",
    ")\n",
    "\n"
   ]
  },
  {
   "cell_type": "code",
   "execution_count": null,
   "metadata": {},
   "outputs": [],
   "source": []
  },
  {
   "cell_type": "code",
   "execution_count": 14,
   "metadata": {},
   "outputs": [],
   "source": [
    "os.environ[\"CUDA_VISIBLE_DEVICES\"]=\"0\"\n",
    "#sess = tf.Session(config=tf.ConfigProto(gpu_options=tf.GPUOptions(allow_growth=True)))\n",
    "#sess = tf.Session(config=tf.ConfigProto(gpu_options=tf.GPUOptions(per_process_gpu_memory_fraction=0.5)))\n",
    "sess = tf.Session()\n",
    "sess.run(tf.no_op())"
   ]
  },
  {
   "cell_type": "code",
   "execution_count": null,
   "metadata": {},
   "outputs": [],
   "source": []
  },
  {
   "cell_type": "markdown",
   "metadata": {},
   "source": [
    "# Step 2: Training\n"
   ]
  },
  {
   "cell_type": "code",
   "execution_count": 14,
   "metadata": {},
   "outputs": [],
   "source": [
    "train_evaluator = Evaluator({        \n",
    "    'graph_loader': gl,\n",
    "    'proposals': proposals,\n",
    "    'num_proposals': 20,\n",
    "    'filter_nonoverlap': True\n",
    "})\n",
    "val_evaluator = Evaluator({        \n",
    "    'graph_loader': gl,\n",
    "    'proposals': proposals,\n",
    "    'num_proposals': 20,\n",
    "    'filter_nonoverlap': True\n",
    "})\n"
   ]
  },
  {
   "cell_type": "code",
   "execution_count": null,
   "metadata": {},
   "outputs": [],
   "source": []
  },
  {
   "cell_type": "code",
   "execution_count": 15,
   "metadata": {},
   "outputs": [],
   "source": [
    "trainer = Trainer(\n",
    "    model, sess, batcher, batcher_val, train_evaluator, val_evaluator,\n",
    "    logdir=os.path.join(codebase, 'log', 'tfsummary', exp_name), \n",
    "    modeldir=os.path.join(codebase, 'checkpoint', exp_name),\n",
    ")"
   ]
  },
  {
   "cell_type": "code",
   "execution_count": null,
   "metadata": {},
   "outputs": [],
   "source": []
  },
  {
   "cell_type": "code",
   "execution_count": 16,
   "metadata": {},
   "outputs": [
    {
     "name": "stdout",
     "output_type": "stream",
     "text": [
      "Step 1000: loss = 5.605999946594238 (1978.131 sec)\n",
      "Training Batch Evaluation Results: {'PerImagePredMP': 0.278, 'PerImagePredMR': 0.964, 'PerImageOneHopMP_at100_iou_0.5': 0.002, 'PerImageOneHopMR_at100_iou_0.5': 0.008, 'PerImageOneHopMP_at50_iou_0.5': 0.004, 'PerImageOneHopMR_at50_iou_0.5': 0.007, 'PerImageOneHopMP_phrase_at100_iou_0.5': 0.017, 'PerImageOneHopMR_phrase_at100_iou_0.5': 0.057, 'PerImageOneHopMP_phrase_at50_iou_0.5': 0.027, 'PerImageOneHopMR_phrase_at50_iou_0.5': 0.048}\n",
      "Validation Results: {'PerImagePredMP': 0.28, 'PerImagePredMR': 0.952, 'PerImageOneHopMP_at100_iou_0.5': 0.002, 'PerImageOneHopMR_at100_iou_0.5': 0.009, 'PerImageOneHopMP_at50_iou_0.5': 0.004, 'PerImageOneHopMR_at50_iou_0.5': 0.008, 'PerImageOneHopMP_phrase_at100_iou_0.5': 0.018, 'PerImageOneHopMR_phrase_at100_iou_0.5': 0.061, 'PerImageOneHopMP_phrase_at50_iou_0.5': 0.028, 'PerImageOneHopMR_phrase_at50_iou_0.5': 0.052}\n",
      "Step 2000: loss = 5.4079999923706055 (3756.094 sec)\n",
      "Training Batch Evaluation Results: {'PerImagePredMP': 0.275, 'PerImagePredMR': 0.969, 'PerImageOneHopMP_at100_iou_0.5': 0.003, 'PerImageOneHopMR_at100_iou_0.5': 0.012, 'PerImageOneHopMP_at50_iou_0.5': 0.005, 'PerImageOneHopMR_at50_iou_0.5': 0.01, 'PerImageOneHopMP_phrase_at100_iou_0.5': 0.02, 'PerImageOneHopMR_phrase_at100_iou_0.5': 0.068, 'PerImageOneHopMP_phrase_at50_iou_0.5': 0.03, 'PerImageOneHopMR_phrase_at50_iou_0.5': 0.056}\n",
      "Validation Results: {'PerImagePredMP': 0.284, 'PerImagePredMR': 0.967, 'PerImageOneHopMP_at100_iou_0.5': 0.003, 'PerImageOneHopMR_at100_iou_0.5': 0.013, 'PerImageOneHopMP_at50_iou_0.5': 0.005, 'PerImageOneHopMR_at50_iou_0.5': 0.011, 'PerImageOneHopMP_phrase_at100_iou_0.5': 0.021, 'PerImageOneHopMR_phrase_at100_iou_0.5': 0.074, 'PerImageOneHopMP_phrase_at50_iou_0.5': 0.033, 'PerImageOneHopMR_phrase_at50_iou_0.5': 0.064}\n",
      "Step 3000: loss = 5.0329999923706055 (5556.688 sec)\n",
      "Training Batch Evaluation Results: {'PerImagePredMP': 0.282, 'PerImagePredMR': 0.972, 'PerImageOneHopMP_at100_iou_0.5': 0.003, 'PerImageOneHopMR_at100_iou_0.5': 0.013, 'PerImageOneHopMP_at50_iou_0.5': 0.006, 'PerImageOneHopMR_at50_iou_0.5': 0.011, 'PerImageOneHopMP_phrase_at100_iou_0.5': 0.024, 'PerImageOneHopMR_phrase_at100_iou_0.5': 0.076, 'PerImageOneHopMP_phrase_at50_iou_0.5': 0.036, 'PerImageOneHopMR_phrase_at50_iou_0.5': 0.062}\n",
      "Validation Results: {'PerImagePredMP': 0.29, 'PerImagePredMR': 0.966, 'PerImageOneHopMP_at100_iou_0.5': 0.004, 'PerImageOneHopMR_at100_iou_0.5': 0.014, 'PerImageOneHopMP_at50_iou_0.5': 0.006, 'PerImageOneHopMR_at50_iou_0.5': 0.012, 'PerImageOneHopMP_phrase_at100_iou_0.5': 0.023, 'PerImageOneHopMR_phrase_at100_iou_0.5': 0.076, 'PerImageOneHopMP_phrase_at50_iou_0.5': 0.037, 'PerImageOneHopMR_phrase_at50_iou_0.5': 0.062}\n",
      "Step 4000: loss = 5.307000160217285 (7343.594 sec)\n",
      "Training Batch Evaluation Results: {'PerImagePredMP': 0.279, 'PerImagePredMR': 0.973, 'PerImageOneHopMP_at100_iou_0.5': 0.004, 'PerImageOneHopMR_at100_iou_0.5': 0.013, 'PerImageOneHopMP_at50_iou_0.5': 0.006, 'PerImageOneHopMR_at50_iou_0.5': 0.012, 'PerImageOneHopMP_phrase_at100_iou_0.5': 0.022, 'PerImageOneHopMR_phrase_at100_iou_0.5': 0.074, 'PerImageOneHopMP_phrase_at50_iou_0.5': 0.034, 'PerImageOneHopMR_phrase_at50_iou_0.5': 0.061}\n",
      "Validation Results: {'PerImagePredMP': 0.286, 'PerImagePredMR': 0.965, 'PerImageOneHopMP_at100_iou_0.5': 0.003, 'PerImageOneHopMR_at100_iou_0.5': 0.016, 'PerImageOneHopMP_at50_iou_0.5': 0.005, 'PerImageOneHopMR_at50_iou_0.5': 0.014, 'PerImageOneHopMP_phrase_at100_iou_0.5': 0.025, 'PerImageOneHopMR_phrase_at100_iou_0.5': 0.089, 'PerImageOneHopMP_phrase_at50_iou_0.5': 0.038, 'PerImageOneHopMR_phrase_at50_iou_0.5': 0.075}\n",
      "Step 5000: loss = 4.886000156402588 (9139.632 sec)\n",
      "Training Batch Evaluation Results: {'PerImagePredMP': 0.282, 'PerImagePredMR': 0.975, 'PerImageOneHopMP_at100_iou_0.5': 0.004, 'PerImageOneHopMR_at100_iou_0.5': 0.014, 'PerImageOneHopMP_at50_iou_0.5': 0.006, 'PerImageOneHopMR_at50_iou_0.5': 0.013, 'PerImageOneHopMP_phrase_at100_iou_0.5': 0.025, 'PerImageOneHopMR_phrase_at100_iou_0.5': 0.081, 'PerImageOneHopMP_phrase_at50_iou_0.5': 0.038, 'PerImageOneHopMR_phrase_at50_iou_0.5': 0.067}\n",
      "Validation Results: {'PerImagePredMP': 0.275, 'PerImagePredMR': 0.968, 'PerImageOneHopMP_at100_iou_0.5': 0.004, 'PerImageOneHopMR_at100_iou_0.5': 0.017, 'PerImageOneHopMP_at50_iou_0.5': 0.007, 'PerImageOneHopMR_at50_iou_0.5': 0.015, 'PerImageOneHopMP_phrase_at100_iou_0.5': 0.025, 'PerImageOneHopMR_phrase_at100_iou_0.5': 0.075, 'PerImageOneHopMP_phrase_at50_iou_0.5': 0.038, 'PerImageOneHopMR_phrase_at50_iou_0.5': 0.063}\n",
      "Step 6000: loss = 5.559999942779541 (10917.186 sec)\n",
      "Training Batch Evaluation Results: {'PerImagePredMP': 0.291, 'PerImagePredMR': 0.976, 'PerImageOneHopMP_at100_iou_0.5': 0.004, 'PerImageOneHopMR_at100_iou_0.5': 0.012, 'PerImageOneHopMP_at50_iou_0.5': 0.006, 'PerImageOneHopMR_at50_iou_0.5': 0.01, 'PerImageOneHopMP_phrase_at100_iou_0.5': 0.026, 'PerImageOneHopMR_phrase_at100_iou_0.5': 0.084, 'PerImageOneHopMP_phrase_at50_iou_0.5': 0.04, 'PerImageOneHopMR_phrase_at50_iou_0.5': 0.07}\n",
      "Validation Results: {'PerImagePredMP': 0.302, 'PerImagePredMR': 0.966, 'PerImageOneHopMP_at100_iou_0.5': 0.004, 'PerImageOneHopMR_at100_iou_0.5': 0.012, 'PerImageOneHopMP_at50_iou_0.5': 0.006, 'PerImageOneHopMR_at50_iou_0.5': 0.012, 'PerImageOneHopMP_phrase_at100_iou_0.5': 0.028, 'PerImageOneHopMR_phrase_at100_iou_0.5': 0.081, 'PerImageOneHopMP_phrase_at50_iou_0.5': 0.042, 'PerImageOneHopMR_phrase_at50_iou_0.5': 0.067}\n",
      "Step 7000: loss = 4.749000072479248 (12701.409 sec)\n",
      "Training Batch Evaluation Results: {'PerImagePredMP': 0.288, 'PerImagePredMR': 0.978, 'PerImageOneHopMP_at100_iou_0.5': 0.004, 'PerImageOneHopMR_at100_iou_0.5': 0.015, 'PerImageOneHopMP_at50_iou_0.5': 0.008, 'PerImageOneHopMR_at50_iou_0.5': 0.013, 'PerImageOneHopMP_phrase_at100_iou_0.5': 0.027, 'PerImageOneHopMR_phrase_at100_iou_0.5': 0.088, 'PerImageOneHopMP_phrase_at50_iou_0.5': 0.04, 'PerImageOneHopMR_phrase_at50_iou_0.5': 0.072}\n",
      "Validation Results: {'PerImagePredMP': 0.296, 'PerImagePredMR': 0.969, 'PerImageOneHopMP_at100_iou_0.5': 0.004, 'PerImageOneHopMR_at100_iou_0.5': 0.019, 'PerImageOneHopMP_at50_iou_0.5': 0.007, 'PerImageOneHopMR_at50_iou_0.5': 0.016, 'PerImageOneHopMP_phrase_at100_iou_0.5': 0.029, 'PerImageOneHopMR_phrase_at100_iou_0.5': 0.096, 'PerImageOneHopMP_phrase_at50_iou_0.5': 0.046, 'PerImageOneHopMR_phrase_at50_iou_0.5': 0.079}\n",
      "Step 8000: loss = 5.197000026702881 (14481.505 sec)\n",
      "Training Batch Evaluation Results: {'PerImagePredMP': 0.286, 'PerImagePredMR': 0.977, 'PerImageOneHopMP_at100_iou_0.5': 0.004, 'PerImageOneHopMR_at100_iou_0.5': 0.011, 'PerImageOneHopMP_at50_iou_0.5': 0.006, 'PerImageOneHopMR_at50_iou_0.5': 0.01, 'PerImageOneHopMP_phrase_at100_iou_0.5': 0.025, 'PerImageOneHopMR_phrase_at100_iou_0.5': 0.085, 'PerImageOneHopMP_phrase_at50_iou_0.5': 0.038, 'PerImageOneHopMR_phrase_at50_iou_0.5': 0.072}\n",
      "Validation Results: {'PerImagePredMP': 0.312, 'PerImagePredMR': 0.965, 'PerImageOneHopMP_at100_iou_0.5': 0.004, 'PerImageOneHopMR_at100_iou_0.5': 0.014, 'PerImageOneHopMP_at50_iou_0.5': 0.006, 'PerImageOneHopMR_at50_iou_0.5': 0.011, 'PerImageOneHopMP_phrase_at100_iou_0.5': 0.028, 'PerImageOneHopMR_phrase_at100_iou_0.5': 0.088, 'PerImageOneHopMP_phrase_at50_iou_0.5': 0.043, 'PerImageOneHopMR_phrase_at50_iou_0.5': 0.071}\n",
      "Step 9000: loss = 4.552000045776367 (16238.751 sec)\n",
      "Training Batch Evaluation Results: {'PerImagePredMP': 0.294, 'PerImagePredMR': 0.976, 'PerImageOneHopMP_at100_iou_0.5': 0.003, 'PerImageOneHopMR_at100_iou_0.5': 0.012, 'PerImageOneHopMP_at50_iou_0.5': 0.006, 'PerImageOneHopMR_at50_iou_0.5': 0.011, 'PerImageOneHopMP_phrase_at100_iou_0.5': 0.026, 'PerImageOneHopMR_phrase_at100_iou_0.5': 0.089, 'PerImageOneHopMP_phrase_at50_iou_0.5': 0.041, 'PerImageOneHopMR_phrase_at50_iou_0.5': 0.076}\n",
      "Validation Results: {'PerImagePredMP': 0.276, 'PerImagePredMR': 0.972, 'PerImageOneHopMP_at100_iou_0.5': 0.004, 'PerImageOneHopMR_at100_iou_0.5': 0.018, 'PerImageOneHopMP_at50_iou_0.5': 0.007, 'PerImageOneHopMR_at50_iou_0.5': 0.016, 'PerImageOneHopMP_phrase_at100_iou_0.5': 0.027, 'PerImageOneHopMR_phrase_at100_iou_0.5': 0.1, 'PerImageOneHopMP_phrase_at50_iou_0.5': 0.043, 'PerImageOneHopMR_phrase_at50_iou_0.5': 0.085}\n",
      "Step 10000: loss = 5.068999767303467 (18014.136 sec)\n",
      "Training Batch Evaluation Results: {'PerImagePredMP': 0.288, 'PerImagePredMR': 0.976, 'PerImageOneHopMP_at100_iou_0.5': 0.004, 'PerImageOneHopMR_at100_iou_0.5': 0.015, 'PerImageOneHopMP_at50_iou_0.5': 0.007, 'PerImageOneHopMR_at50_iou_0.5': 0.013, 'PerImageOneHopMP_phrase_at100_iou_0.5': 0.027, 'PerImageOneHopMR_phrase_at100_iou_0.5': 0.091, 'PerImageOneHopMP_phrase_at50_iou_0.5': 0.042, 'PerImageOneHopMR_phrase_at50_iou_0.5': 0.074}\n",
      "Validation Results: {'PerImagePredMP': 0.299, 'PerImagePredMR': 0.967, 'PerImageOneHopMP_at100_iou_0.5': 0.005, 'PerImageOneHopMR_at100_iou_0.5': 0.018, 'PerImageOneHopMP_at50_iou_0.5': 0.008, 'PerImageOneHopMR_at50_iou_0.5': 0.016, 'PerImageOneHopMP_phrase_at100_iou_0.5': 0.031, 'PerImageOneHopMR_phrase_at100_iou_0.5': 0.096, 'PerImageOneHopMP_phrase_at50_iou_0.5': 0.044, 'PerImageOneHopMR_phrase_at50_iou_0.5': 0.078}\n",
      "Step 11000: loss = 4.78000020980835 (19787.828 sec)\n",
      "Training Batch Evaluation Results: {'PerImagePredMP': 0.287, 'PerImagePredMR': 0.977, 'PerImageOneHopMP_at100_iou_0.5': 0.004, 'PerImageOneHopMR_at100_iou_0.5': 0.016, 'PerImageOneHopMP_at50_iou_0.5': 0.007, 'PerImageOneHopMR_at50_iou_0.5': 0.015, 'PerImageOneHopMP_phrase_at100_iou_0.5': 0.028, 'PerImageOneHopMR_phrase_at100_iou_0.5': 0.095, 'PerImageOneHopMP_phrase_at50_iou_0.5': 0.044, 'PerImageOneHopMR_phrase_at50_iou_0.5': 0.079}\n",
      "Validation Results: {'PerImagePredMP': 0.297, 'PerImagePredMR': 0.968, 'PerImageOneHopMP_at100_iou_0.5': 0.004, 'PerImageOneHopMR_at100_iou_0.5': 0.019, 'PerImageOneHopMP_at50_iou_0.5': 0.007, 'PerImageOneHopMR_at50_iou_0.5': 0.016, 'PerImageOneHopMP_phrase_at100_iou_0.5': 0.029, 'PerImageOneHopMR_phrase_at100_iou_0.5': 0.105, 'PerImageOneHopMP_phrase_at50_iou_0.5': 0.045, 'PerImageOneHopMR_phrase_at50_iou_0.5': 0.088}\n",
      "Step 12000: loss = 4.689000129699707 (21560.943 sec)\n",
      "Training Batch Evaluation Results: {'PerImagePredMP': 0.294, 'PerImagePredMR': 0.979, 'PerImageOneHopMP_at100_iou_0.5': 0.004, 'PerImageOneHopMR_at100_iou_0.5': 0.017, 'PerImageOneHopMP_at50_iou_0.5': 0.008, 'PerImageOneHopMR_at50_iou_0.5': 0.015, 'PerImageOneHopMP_phrase_at100_iou_0.5': 0.028, 'PerImageOneHopMR_phrase_at100_iou_0.5': 0.094, 'PerImageOneHopMP_phrase_at50_iou_0.5': 0.044, 'PerImageOneHopMR_phrase_at50_iou_0.5': 0.08}\n",
      "Validation Results: {'PerImagePredMP': 0.286, 'PerImagePredMR': 0.966, 'PerImageOneHopMP_at100_iou_0.5': 0.005, 'PerImageOneHopMR_at100_iou_0.5': 0.019, 'PerImageOneHopMP_at50_iou_0.5': 0.009, 'PerImageOneHopMR_at50_iou_0.5': 0.017, 'PerImageOneHopMP_phrase_at100_iou_0.5': 0.03, 'PerImageOneHopMR_phrase_at100_iou_0.5': 0.116, 'PerImageOneHopMP_phrase_at50_iou_0.5': 0.047, 'PerImageOneHopMR_phrase_at50_iou_0.5': 0.098}\n",
      "Step 13000: loss = 5.191999912261963 (23333.097 sec)\n",
      "Training Batch Evaluation Results: {'PerImagePredMP': 0.292, 'PerImagePredMR': 0.976, 'PerImageOneHopMP_at100_iou_0.5': 0.005, 'PerImageOneHopMR_at100_iou_0.5': 0.017, 'PerImageOneHopMP_at50_iou_0.5': 0.009, 'PerImageOneHopMR_at50_iou_0.5': 0.015, 'PerImageOneHopMP_phrase_at100_iou_0.5': 0.028, 'PerImageOneHopMR_phrase_at100_iou_0.5': 0.095, 'PerImageOneHopMP_phrase_at50_iou_0.5': 0.044, 'PerImageOneHopMR_phrase_at50_iou_0.5': 0.08}\n",
      "Validation Results: {'PerImagePredMP': 0.292, 'PerImagePredMR': 0.975, 'PerImageOneHopMP_at100_iou_0.5': 0.005, 'PerImageOneHopMR_at100_iou_0.5': 0.02, 'PerImageOneHopMP_at50_iou_0.5': 0.008, 'PerImageOneHopMR_at50_iou_0.5': 0.018, 'PerImageOneHopMP_phrase_at100_iou_0.5': 0.029, 'PerImageOneHopMR_phrase_at100_iou_0.5': 0.094, 'PerImageOneHopMP_phrase_at50_iou_0.5': 0.046, 'PerImageOneHopMR_phrase_at50_iou_0.5': 0.08}\n",
      "Step 14000: loss = 4.828999996185303 (25111.644 sec)\n",
      "Training Batch Evaluation Results: {'PerImagePredMP': 0.286, 'PerImagePredMR': 0.979, 'PerImageOneHopMP_at100_iou_0.5': 0.005, 'PerImageOneHopMR_at100_iou_0.5': 0.018, 'PerImageOneHopMP_at50_iou_0.5': 0.008, 'PerImageOneHopMR_at50_iou_0.5': 0.015, 'PerImageOneHopMP_phrase_at100_iou_0.5': 0.03, 'PerImageOneHopMR_phrase_at100_iou_0.5': 0.105, 'PerImageOneHopMP_phrase_at50_iou_0.5': 0.047, 'PerImageOneHopMR_phrase_at50_iou_0.5': 0.088}\n",
      "Validation Results: {'PerImagePredMP': 0.29, 'PerImagePredMR': 0.973, 'PerImageOneHopMP_at100_iou_0.5': 0.005, 'PerImageOneHopMR_at100_iou_0.5': 0.019, 'PerImageOneHopMP_at50_iou_0.5': 0.008, 'PerImageOneHopMR_at50_iou_0.5': 0.016, 'PerImageOneHopMP_phrase_at100_iou_0.5': 0.028, 'PerImageOneHopMR_phrase_at100_iou_0.5': 0.092, 'PerImageOneHopMP_phrase_at50_iou_0.5': 0.041, 'PerImageOneHopMR_phrase_at50_iou_0.5': 0.076}\n",
      "Step 15000: loss = 5.302999973297119 (26871.190 sec)\n",
      "Training Batch Evaluation Results: {'PerImagePredMP': 0.288, 'PerImagePredMR': 0.977, 'PerImageOneHopMP_at100_iou_0.5': 0.005, 'PerImageOneHopMR_at100_iou_0.5': 0.016, 'PerImageOneHopMP_at50_iou_0.5': 0.008, 'PerImageOneHopMR_at50_iou_0.5': 0.014, 'PerImageOneHopMP_phrase_at100_iou_0.5': 0.026, 'PerImageOneHopMR_phrase_at100_iou_0.5': 0.093, 'PerImageOneHopMP_phrase_at50_iou_0.5': 0.041, 'PerImageOneHopMR_phrase_at50_iou_0.5': 0.079}\n",
      "Validation Results: {'PerImagePredMP': 0.279, 'PerImagePredMR': 0.971, 'PerImageOneHopMP_at100_iou_0.5': 0.004, 'PerImageOneHopMR_at100_iou_0.5': 0.014, 'PerImageOneHopMP_at50_iou_0.5': 0.007, 'PerImageOneHopMR_at50_iou_0.5': 0.013, 'PerImageOneHopMP_phrase_at100_iou_0.5': 0.029, 'PerImageOneHopMR_phrase_at100_iou_0.5': 0.098, 'PerImageOneHopMP_phrase_at50_iou_0.5': 0.043, 'PerImageOneHopMR_phrase_at50_iou_0.5': 0.078}\n",
      "Step 16000: loss = 4.442999839782715 (28644.158 sec)\n",
      "Training Batch Evaluation Results: {'PerImagePredMP': 0.294, 'PerImagePredMR': 0.977, 'PerImageOneHopMP_at100_iou_0.5': 0.005, 'PerImageOneHopMR_at100_iou_0.5': 0.017, 'PerImageOneHopMP_at50_iou_0.5': 0.009, 'PerImageOneHopMR_at50_iou_0.5': 0.015, 'PerImageOneHopMP_phrase_at100_iou_0.5': 0.028, 'PerImageOneHopMR_phrase_at100_iou_0.5': 0.094, 'PerImageOneHopMP_phrase_at50_iou_0.5': 0.043, 'PerImageOneHopMR_phrase_at50_iou_0.5': 0.079}\n",
      "Validation Results: {'PerImagePredMP': 0.299, 'PerImagePredMR': 0.971, 'PerImageOneHopMP_at100_iou_0.5': 0.005, 'PerImageOneHopMR_at100_iou_0.5': 0.02, 'PerImageOneHopMP_at50_iou_0.5': 0.009, 'PerImageOneHopMR_at50_iou_0.5': 0.018, 'PerImageOneHopMP_phrase_at100_iou_0.5': 0.031, 'PerImageOneHopMR_phrase_at100_iou_0.5': 0.103, 'PerImageOneHopMP_phrase_at50_iou_0.5': 0.047, 'PerImageOneHopMR_phrase_at50_iou_0.5': 0.087}\n",
      "Step 17000: loss = 4.447000026702881 (30422.926 sec)\n",
      "Training Batch Evaluation Results: {'PerImagePredMP': 0.297, 'PerImagePredMR': 0.978, 'PerImageOneHopMP_at100_iou_0.5': 0.005, 'PerImageOneHopMR_at100_iou_0.5': 0.017, 'PerImageOneHopMP_at50_iou_0.5': 0.008, 'PerImageOneHopMR_at50_iou_0.5': 0.015, 'PerImageOneHopMP_phrase_at100_iou_0.5': 0.029, 'PerImageOneHopMR_phrase_at100_iou_0.5': 0.101, 'PerImageOneHopMP_phrase_at50_iou_0.5': 0.045, 'PerImageOneHopMR_phrase_at50_iou_0.5': 0.083}\n",
      "Validation Results: {'PerImagePredMP': 0.286, 'PerImagePredMR': 0.972, 'PerImageOneHopMP_at100_iou_0.5': 0.003, 'PerImageOneHopMR_at100_iou_0.5': 0.018, 'PerImageOneHopMP_at50_iou_0.5': 0.006, 'PerImageOneHopMR_at50_iou_0.5': 0.015, 'PerImageOneHopMP_phrase_at100_iou_0.5': 0.029, 'PerImageOneHopMR_phrase_at100_iou_0.5': 0.099, 'PerImageOneHopMP_phrase_at50_iou_0.5': 0.045, 'PerImageOneHopMR_phrase_at50_iou_0.5': 0.081}\n",
      "Step 18000: loss = 4.269999980926514 (32184.875 sec)\n",
      "Training Batch Evaluation Results: {'PerImagePredMP': 0.288, 'PerImagePredMR': 0.979, 'PerImageOneHopMP_at100_iou_0.5': 0.005, 'PerImageOneHopMR_at100_iou_0.5': 0.016, 'PerImageOneHopMP_at50_iou_0.5': 0.008, 'PerImageOneHopMR_at50_iou_0.5': 0.014, 'PerImageOneHopMP_phrase_at100_iou_0.5': 0.031, 'PerImageOneHopMR_phrase_at100_iou_0.5': 0.103, 'PerImageOneHopMP_phrase_at50_iou_0.5': 0.048, 'PerImageOneHopMR_phrase_at50_iou_0.5': 0.086}\n",
      "Validation Results: {'PerImagePredMP': 0.289, 'PerImagePredMR': 0.974, 'PerImageOneHopMP_at100_iou_0.5': 0.005, 'PerImageOneHopMR_at100_iou_0.5': 0.021, 'PerImageOneHopMP_at50_iou_0.5': 0.008, 'PerImageOneHopMR_at50_iou_0.5': 0.019, 'PerImageOneHopMP_phrase_at100_iou_0.5': 0.028, 'PerImageOneHopMR_phrase_at100_iou_0.5': 0.105, 'PerImageOneHopMP_phrase_at50_iou_0.5': 0.043, 'PerImageOneHopMR_phrase_at50_iou_0.5': 0.089}\n",
      "Step 19000: loss = 4.446000099182129 (33979.994 sec)\n",
      "Training Batch Evaluation Results: {'PerImagePredMP': 0.293, 'PerImagePredMR': 0.979, 'PerImageOneHopMP_at100_iou_0.5': 0.005, 'PerImageOneHopMR_at100_iou_0.5': 0.018, 'PerImageOneHopMP_at50_iou_0.5': 0.008, 'PerImageOneHopMR_at50_iou_0.5': 0.016, 'PerImageOneHopMP_phrase_at100_iou_0.5': 0.03, 'PerImageOneHopMR_phrase_at100_iou_0.5': 0.105, 'PerImageOneHopMP_phrase_at50_iou_0.5': 0.047, 'PerImageOneHopMR_phrase_at50_iou_0.5': 0.089}\n",
      "Validation Results: {'PerImagePredMP': 0.299, 'PerImagePredMR': 0.97, 'PerImageOneHopMP_at100_iou_0.5': 0.003, 'PerImageOneHopMR_at100_iou_0.5': 0.016, 'PerImageOneHopMP_at50_iou_0.5': 0.006, 'PerImageOneHopMR_at50_iou_0.5': 0.014, 'PerImageOneHopMP_phrase_at100_iou_0.5': 0.031, 'PerImageOneHopMR_phrase_at100_iou_0.5': 0.104, 'PerImageOneHopMP_phrase_at50_iou_0.5': 0.05, 'PerImageOneHopMR_phrase_at50_iou_0.5': 0.09}\n",
      "Step 20000: loss = 4.710999965667725 (35746.983 sec)\n",
      "Training Batch Evaluation Results: {'PerImagePredMP': 0.295, 'PerImagePredMR': 0.98, 'PerImageOneHopMP_at100_iou_0.5': 0.004, 'PerImageOneHopMR_at100_iou_0.5': 0.015, 'PerImageOneHopMP_at50_iou_0.5': 0.007, 'PerImageOneHopMR_at50_iou_0.5': 0.013, 'PerImageOneHopMP_phrase_at100_iou_0.5': 0.028, 'PerImageOneHopMR_phrase_at100_iou_0.5': 0.1, 'PerImageOneHopMP_phrase_at50_iou_0.5': 0.044, 'PerImageOneHopMR_phrase_at50_iou_0.5': 0.082}\n",
      "Validation Results: {'PerImagePredMP': 0.295, 'PerImagePredMR': 0.973, 'PerImageOneHopMP_at100_iou_0.5': 0.004, 'PerImageOneHopMR_at100_iou_0.5': 0.018, 'PerImageOneHopMP_at50_iou_0.5': 0.007, 'PerImageOneHopMR_at50_iou_0.5': 0.016, 'PerImageOneHopMP_phrase_at100_iou_0.5': 0.032, 'PerImageOneHopMR_phrase_at100_iou_0.5': 0.106, 'PerImageOneHopMP_phrase_at50_iou_0.5': 0.048, 'PerImageOneHopMR_phrase_at50_iou_0.5': 0.087}\n",
      "Step 21000: loss = 4.409999847412109 (37534.111 sec)\n",
      "Training Batch Evaluation Results: {'PerImagePredMP': 0.293, 'PerImagePredMR': 0.981, 'PerImageOneHopMP_at100_iou_0.5': 0.004, 'PerImageOneHopMR_at100_iou_0.5': 0.016, 'PerImageOneHopMP_at50_iou_0.5': 0.007, 'PerImageOneHopMR_at50_iou_0.5': 0.014, 'PerImageOneHopMP_phrase_at100_iou_0.5': 0.029, 'PerImageOneHopMR_phrase_at100_iou_0.5': 0.097, 'PerImageOneHopMP_phrase_at50_iou_0.5': 0.043, 'PerImageOneHopMR_phrase_at50_iou_0.5': 0.08}\n",
      "Validation Results: {'PerImagePredMP': 0.296, 'PerImagePredMR': 0.969, 'PerImageOneHopMP_at100_iou_0.5': 0.005, 'PerImageOneHopMR_at100_iou_0.5': 0.018, 'PerImageOneHopMP_at50_iou_0.5': 0.008, 'PerImageOneHopMR_at50_iou_0.5': 0.016, 'PerImageOneHopMP_phrase_at100_iou_0.5': 0.031, 'PerImageOneHopMR_phrase_at100_iou_0.5': 0.104, 'PerImageOneHopMP_phrase_at50_iou_0.5': 0.048, 'PerImageOneHopMR_phrase_at50_iou_0.5': 0.089}\n",
      "Step 22000: loss = 4.453999996185303 (39309.060 sec)\n",
      "Training Batch Evaluation Results: {'PerImagePredMP': 0.29, 'PerImagePredMR': 0.981, 'PerImageOneHopMP_at100_iou_0.5': 0.004, 'PerImageOneHopMR_at100_iou_0.5': 0.017, 'PerImageOneHopMP_at50_iou_0.5': 0.007, 'PerImageOneHopMR_at50_iou_0.5': 0.015, 'PerImageOneHopMP_phrase_at100_iou_0.5': 0.029, 'PerImageOneHopMR_phrase_at100_iou_0.5': 0.106, 'PerImageOneHopMP_phrase_at50_iou_0.5': 0.045, 'PerImageOneHopMR_phrase_at50_iou_0.5': 0.089}\n",
      "Validation Results: {'PerImagePredMP': 0.294, 'PerImagePredMR': 0.972, 'PerImageOneHopMP_at100_iou_0.5': 0.004, 'PerImageOneHopMR_at100_iou_0.5': 0.019, 'PerImageOneHopMP_at50_iou_0.5': 0.007, 'PerImageOneHopMR_at50_iou_0.5': 0.017, 'PerImageOneHopMP_phrase_at100_iou_0.5': 0.031, 'PerImageOneHopMR_phrase_at100_iou_0.5': 0.112, 'PerImageOneHopMP_phrase_at50_iou_0.5': 0.048, 'PerImageOneHopMR_phrase_at50_iou_0.5': 0.093}\n",
      "Step 23000: loss = 4.760000228881836 (41087.380 sec)\n",
      "Training Batch Evaluation Results: {'PerImagePredMP': 0.298, 'PerImagePredMR': 0.979, 'PerImageOneHopMP_at100_iou_0.5': 0.005, 'PerImageOneHopMR_at100_iou_0.5': 0.019, 'PerImageOneHopMP_at50_iou_0.5': 0.009, 'PerImageOneHopMR_at50_iou_0.5': 0.016, 'PerImageOneHopMP_phrase_at100_iou_0.5': 0.031, 'PerImageOneHopMR_phrase_at100_iou_0.5': 0.108, 'PerImageOneHopMP_phrase_at50_iou_0.5': 0.049, 'PerImageOneHopMR_phrase_at50_iou_0.5': 0.089}\n",
      "Validation Results: {'PerImagePredMP': 0.284, 'PerImagePredMR': 0.976, 'PerImageOneHopMP_at100_iou_0.5': 0.005, 'PerImageOneHopMR_at100_iou_0.5': 0.019, 'PerImageOneHopMP_at50_iou_0.5': 0.008, 'PerImageOneHopMR_at50_iou_0.5': 0.017, 'PerImageOneHopMP_phrase_at100_iou_0.5': 0.028, 'PerImageOneHopMR_phrase_at100_iou_0.5': 0.102, 'PerImageOneHopMP_phrase_at50_iou_0.5': 0.045, 'PerImageOneHopMR_phrase_at50_iou_0.5': 0.086}\n",
      "Step 24000: loss = 4.72599983215332 (42858.312 sec)\n",
      "Training Batch Evaluation Results: {'PerImagePredMP': 0.292, 'PerImagePredMR': 0.98, 'PerImageOneHopMP_at100_iou_0.5': 0.004, 'PerImageOneHopMR_at100_iou_0.5': 0.016, 'PerImageOneHopMP_at50_iou_0.5': 0.008, 'PerImageOneHopMR_at50_iou_0.5': 0.015, 'PerImageOneHopMP_phrase_at100_iou_0.5': 0.029, 'PerImageOneHopMR_phrase_at100_iou_0.5': 0.105, 'PerImageOneHopMP_phrase_at50_iou_0.5': 0.046, 'PerImageOneHopMR_phrase_at50_iou_0.5': 0.089}\n",
      "Validation Results: {'PerImagePredMP': 0.291, 'PerImagePredMR': 0.969, 'PerImageOneHopMP_at100_iou_0.5': 0.003, 'PerImageOneHopMR_at100_iou_0.5': 0.012, 'PerImageOneHopMP_at50_iou_0.5': 0.006, 'PerImageOneHopMR_at50_iou_0.5': 0.011, 'PerImageOneHopMP_phrase_at100_iou_0.5': 0.028, 'PerImageOneHopMR_phrase_at100_iou_0.5': 0.095, 'PerImageOneHopMP_phrase_at50_iou_0.5': 0.045, 'PerImageOneHopMR_phrase_at50_iou_0.5': 0.08}\n",
      "Step 25000: loss = 4.517000198364258 (44633.475 sec)\n",
      "Training Batch Evaluation Results: {'PerImagePredMP': 0.294, 'PerImagePredMR': 0.976, 'PerImageOneHopMP_at100_iou_0.5': 0.004, 'PerImageOneHopMR_at100_iou_0.5': 0.016, 'PerImageOneHopMP_at50_iou_0.5': 0.008, 'PerImageOneHopMR_at50_iou_0.5': 0.014, 'PerImageOneHopMP_phrase_at100_iou_0.5': 0.028, 'PerImageOneHopMR_phrase_at100_iou_0.5': 0.101, 'PerImageOneHopMP_phrase_at50_iou_0.5': 0.043, 'PerImageOneHopMR_phrase_at50_iou_0.5': 0.084}\n",
      "Validation Results: {'PerImagePredMP': 0.275, 'PerImagePredMR': 0.974, 'PerImageOneHopMP_at100_iou_0.5': 0.003, 'PerImageOneHopMR_at100_iou_0.5': 0.016, 'PerImageOneHopMP_at50_iou_0.5': 0.005, 'PerImageOneHopMR_at50_iou_0.5': 0.014, 'PerImageOneHopMP_phrase_at100_iou_0.5': 0.027, 'PerImageOneHopMR_phrase_at100_iou_0.5': 0.091, 'PerImageOneHopMP_phrase_at50_iou_0.5': 0.042, 'PerImageOneHopMR_phrase_at50_iou_0.5': 0.078}\n",
      "Step 26000: loss = 4.474999904632568 (46414.543 sec)\n",
      "Training Batch Evaluation Results: {'PerImagePredMP': 0.29, 'PerImagePredMR': 0.981, 'PerImageOneHopMP_at100_iou_0.5': 0.005, 'PerImageOneHopMR_at100_iou_0.5': 0.017, 'PerImageOneHopMP_at50_iou_0.5': 0.009, 'PerImageOneHopMR_at50_iou_0.5': 0.015, 'PerImageOneHopMP_phrase_at100_iou_0.5': 0.03, 'PerImageOneHopMR_phrase_at100_iou_0.5': 0.104, 'PerImageOneHopMP_phrase_at50_iou_0.5': 0.049, 'PerImageOneHopMR_phrase_at50_iou_0.5': 0.088}\n",
      "Validation Results: {'PerImagePredMP': 0.298, 'PerImagePredMR': 0.971, 'PerImageOneHopMP_at100_iou_0.5': 0.004, 'PerImageOneHopMR_at100_iou_0.5': 0.018, 'PerImageOneHopMP_at50_iou_0.5': 0.006, 'PerImageOneHopMR_at50_iou_0.5': 0.015, 'PerImageOneHopMP_phrase_at100_iou_0.5': 0.031, 'PerImageOneHopMR_phrase_at100_iou_0.5': 0.104, 'PerImageOneHopMP_phrase_at50_iou_0.5': 0.047, 'PerImageOneHopMR_phrase_at50_iou_0.5': 0.088}\n",
      "Step 27000: loss = 4.063000202178955 (48183.058 sec)\n",
      "Training Batch Evaluation Results: {'PerImagePredMP': 0.287, 'PerImagePredMR': 0.98, 'PerImageOneHopMP_at100_iou_0.5': 0.004, 'PerImageOneHopMR_at100_iou_0.5': 0.016, 'PerImageOneHopMP_at50_iou_0.5': 0.007, 'PerImageOneHopMR_at50_iou_0.5': 0.014, 'PerImageOneHopMP_phrase_at100_iou_0.5': 0.029, 'PerImageOneHopMR_phrase_at100_iou_0.5': 0.103, 'PerImageOneHopMP_phrase_at50_iou_0.5': 0.044, 'PerImageOneHopMR_phrase_at50_iou_0.5': 0.085}\n",
      "Validation Results: {'PerImagePredMP': 0.289, 'PerImagePredMR': 0.974, 'PerImageOneHopMP_at100_iou_0.5': 0.005, 'PerImageOneHopMR_at100_iou_0.5': 0.026, 'PerImageOneHopMP_at50_iou_0.5': 0.009, 'PerImageOneHopMR_at50_iou_0.5': 0.022, 'PerImageOneHopMP_phrase_at100_iou_0.5': 0.032, 'PerImageOneHopMR_phrase_at100_iou_0.5': 0.109, 'PerImageOneHopMP_phrase_at50_iou_0.5': 0.051, 'PerImageOneHopMR_phrase_at50_iou_0.5': 0.094}\n",
      "Step 28000: loss = 4.343999862670898 (49963.551 sec)\n",
      "Training Batch Evaluation Results: {'PerImagePredMP': 0.298, 'PerImagePredMR': 0.98, 'PerImageOneHopMP_at100_iou_0.5': 0.005, 'PerImageOneHopMR_at100_iou_0.5': 0.017, 'PerImageOneHopMP_at50_iou_0.5': 0.008, 'PerImageOneHopMR_at50_iou_0.5': 0.014, 'PerImageOneHopMP_phrase_at100_iou_0.5': 0.031, 'PerImageOneHopMR_phrase_at100_iou_0.5': 0.109, 'PerImageOneHopMP_phrase_at50_iou_0.5': 0.047, 'PerImageOneHopMR_phrase_at50_iou_0.5': 0.089}\n",
      "Validation Results: {'PerImagePredMP': 0.304, 'PerImagePredMR': 0.969, 'PerImageOneHopMP_at100_iou_0.5': 0.004, 'PerImageOneHopMR_at100_iou_0.5': 0.019, 'PerImageOneHopMP_at50_iou_0.5': 0.007, 'PerImageOneHopMR_at50_iou_0.5': 0.017, 'PerImageOneHopMP_phrase_at100_iou_0.5': 0.03, 'PerImageOneHopMR_phrase_at100_iou_0.5': 0.101, 'PerImageOneHopMP_phrase_at50_iou_0.5': 0.046, 'PerImageOneHopMR_phrase_at50_iou_0.5': 0.082}\n",
      "Step 29000: loss = 4.485000133514404 (51742.741 sec)\n",
      "Training Batch Evaluation Results: {'PerImagePredMP': 0.287, 'PerImagePredMR': 0.98, 'PerImageOneHopMP_at100_iou_0.5': 0.006, 'PerImageOneHopMR_at100_iou_0.5': 0.019, 'PerImageOneHopMP_at50_iou_0.5': 0.01, 'PerImageOneHopMR_at50_iou_0.5': 0.016, 'PerImageOneHopMP_phrase_at100_iou_0.5': 0.029, 'PerImageOneHopMR_phrase_at100_iou_0.5': 0.109, 'PerImageOneHopMP_phrase_at50_iou_0.5': 0.046, 'PerImageOneHopMR_phrase_at50_iou_0.5': 0.091}\n",
      "Validation Results: {'PerImagePredMP': 0.283, 'PerImagePredMR': 0.974, 'PerImageOneHopMP_at100_iou_0.5': 0.004, 'PerImageOneHopMR_at100_iou_0.5': 0.021, 'PerImageOneHopMP_at50_iou_0.5': 0.007, 'PerImageOneHopMR_at50_iou_0.5': 0.019, 'PerImageOneHopMP_phrase_at100_iou_0.5': 0.028, 'PerImageOneHopMR_phrase_at100_iou_0.5': 0.106, 'PerImageOneHopMP_phrase_at50_iou_0.5': 0.045, 'PerImageOneHopMR_phrase_at50_iou_0.5': 0.092}\n",
      "Step 30000: loss = 4.5289998054504395 (53538.834 sec)\n",
      "Training Batch Evaluation Results: {'PerImagePredMP': 0.291, 'PerImagePredMR': 0.983, 'PerImageOneHopMP_at100_iou_0.5': 0.005, 'PerImageOneHopMR_at100_iou_0.5': 0.018, 'PerImageOneHopMP_at50_iou_0.5': 0.009, 'PerImageOneHopMR_at50_iou_0.5': 0.016, 'PerImageOneHopMP_phrase_at100_iou_0.5': 0.031, 'PerImageOneHopMR_phrase_at100_iou_0.5': 0.108, 'PerImageOneHopMP_phrase_at50_iou_0.5': 0.046, 'PerImageOneHopMR_phrase_at50_iou_0.5': 0.09}\n",
      "Validation Results: {'PerImagePredMP': 0.301, 'PerImagePredMR': 0.971, 'PerImageOneHopMP_at100_iou_0.5': 0.004, 'PerImageOneHopMR_at100_iou_0.5': 0.019, 'PerImageOneHopMP_at50_iou_0.5': 0.007, 'PerImageOneHopMR_at50_iou_0.5': 0.017, 'PerImageOneHopMP_phrase_at100_iou_0.5': 0.03, 'PerImageOneHopMR_phrase_at100_iou_0.5': 0.103, 'PerImageOneHopMP_phrase_at50_iou_0.5': 0.046, 'PerImageOneHopMR_phrase_at50_iou_0.5': 0.09}\n"
     ]
    }
   ],
   "source": [
    "trainer.train (\n",
    "    max_steps=30000,\n",
    "    train_eval_rate=100, \n",
    "    validation_rate=100, \n",
    "    verbose_rate=1000, \n",
    "    summary_rate=100, \n",
    "    checkpoint_rate=10000, \n",
    "    hyperparams = {\n",
    "        'learning_rate_generator': 1e-5 * batcher.batch_size,\n",
    "\n",
    "        'loss_factor_g_mil_ent': 1.0,\n",
    "        'loss_factor_g_mil_ent_conf': 0.0,\n",
    "        'loss_factor_g_mil_pred': 1.0,\n",
    "        'loss_factor_g_mil_pred_conf': 0.0,\n",
    "        'loss_factor_g_mil_role': 10.0,\n",
    "        'loss_factor_g_mil_box': 0.0,\n",
    "        'loss_factor_g_aux_emb_ent': 0.0,\n",
    "        'loss_factor_g_aux_emb_pred': 0.0,\n",
    "\n",
    "        'confidence_weight_on_role': 0.0,\n",
    "        'grad_clipping': 5.0,\n",
    "        'mil_iou_offset': 0.01,\n",
    "        'dropout_rate_g': 0.0,\n",
    "    },\n",
    "    validation_hyperparams = {\n",
    "        'dropout_rate_g': 0.0,\n",
    "        'confidence_weight_on_role': 0.0\n",
    "    },\n",
    ")\n"
   ]
  },
  {
   "cell_type": "code",
   "execution_count": 17,
   "metadata": {},
   "outputs": [
    {
     "name": "stdout",
     "output_type": "stream",
     "text": [
      "Step 31000: loss = 4.310999870300293 (1786.112 sec)\n",
      "Training Batch Evaluation Results: {'PerImagePredMP': 0.299, 'PerImagePredMR': 0.983, 'PerImageOneHopMP_at100_iou_0.5': 0.005, 'PerImageOneHopMR_at100_iou_0.5': 0.018, 'PerImageOneHopMP_at50_iou_0.5': 0.008, 'PerImageOneHopMR_at50_iou_0.5': 0.015, 'PerImageOneHopMP_phrase_at100_iou_0.5': 0.032, 'PerImageOneHopMR_phrase_at100_iou_0.5': 0.117, 'PerImageOneHopMP_phrase_at50_iou_0.5': 0.051, 'PerImageOneHopMR_phrase_at50_iou_0.5': 0.099}\n",
      "Validation Results: {'PerImagePredMP': 0.301, 'PerImagePredMR': 0.975, 'PerImageOneHopMP_at100_iou_0.5': 0.005, 'PerImageOneHopMR_at100_iou_0.5': 0.019, 'PerImageOneHopMP_at50_iou_0.5': 0.009, 'PerImageOneHopMR_at50_iou_0.5': 0.018, 'PerImageOneHopMP_phrase_at100_iou_0.5': 0.035, 'PerImageOneHopMR_phrase_at100_iou_0.5': 0.122, 'PerImageOneHopMP_phrase_at50_iou_0.5': 0.055, 'PerImageOneHopMR_phrase_at50_iou_0.5': 0.104}\n",
      "Step 32000: loss = 4.494999885559082 (3571.258 sec)\n",
      "Training Batch Evaluation Results: {'PerImagePredMP': 0.304, 'PerImagePredMR': 0.984, 'PerImageOneHopMP_at100_iou_0.5': 0.007, 'PerImageOneHopMR_at100_iou_0.5': 0.023, 'PerImageOneHopMP_at50_iou_0.5': 0.012, 'PerImageOneHopMR_at50_iou_0.5': 0.019, 'PerImageOneHopMP_phrase_at100_iou_0.5': 0.037, 'PerImageOneHopMR_phrase_at100_iou_0.5': 0.129, 'PerImageOneHopMP_phrase_at50_iou_0.5': 0.057, 'PerImageOneHopMR_phrase_at50_iou_0.5': 0.106}\n",
      "Validation Results: {'PerImagePredMP': 0.306, 'PerImagePredMR': 0.975, 'PerImageOneHopMP_at100_iou_0.5': 0.005, 'PerImageOneHopMR_at100_iou_0.5': 0.021, 'PerImageOneHopMP_at50_iou_0.5': 0.008, 'PerImageOneHopMR_at50_iou_0.5': 0.019, 'PerImageOneHopMP_phrase_at100_iou_0.5': 0.037, 'PerImageOneHopMR_phrase_at100_iou_0.5': 0.123, 'PerImageOneHopMP_phrase_at50_iou_0.5': 0.057, 'PerImageOneHopMR_phrase_at50_iou_0.5': 0.106}\n",
      "Step 33000: loss = 4.131999969482422 (5377.014 sec)\n",
      "Training Batch Evaluation Results: {'PerImagePredMP': 0.301, 'PerImagePredMR': 0.985, 'PerImageOneHopMP_at100_iou_0.5': 0.006, 'PerImageOneHopMR_at100_iou_0.5': 0.018, 'PerImageOneHopMP_at50_iou_0.5': 0.01, 'PerImageOneHopMR_at50_iou_0.5': 0.016, 'PerImageOneHopMP_phrase_at100_iou_0.5': 0.034, 'PerImageOneHopMR_phrase_at100_iou_0.5': 0.118, 'PerImageOneHopMP_phrase_at50_iou_0.5': 0.052, 'PerImageOneHopMR_phrase_at50_iou_0.5': 0.101}\n",
      "Validation Results: {'PerImagePredMP': 0.301, 'PerImagePredMR': 0.975, 'PerImageOneHopMP_at100_iou_0.5': 0.005, 'PerImageOneHopMR_at100_iou_0.5': 0.02, 'PerImageOneHopMP_at50_iou_0.5': 0.008, 'PerImageOneHopMR_at50_iou_0.5': 0.018, 'PerImageOneHopMP_phrase_at100_iou_0.5': 0.036, 'PerImageOneHopMR_phrase_at100_iou_0.5': 0.118, 'PerImageOneHopMP_phrase_at50_iou_0.5': 0.058, 'PerImageOneHopMR_phrase_at50_iou_0.5': 0.103}\n",
      "Step 34000: loss = 4.072000026702881 (7150.794 sec)\n",
      "Training Batch Evaluation Results: {'PerImagePredMP': 0.302, 'PerImagePredMR': 0.985, 'PerImageOneHopMP_at100_iou_0.5': 0.006, 'PerImageOneHopMR_at100_iou_0.5': 0.022, 'PerImageOneHopMP_at50_iou_0.5': 0.01, 'PerImageOneHopMR_at50_iou_0.5': 0.019, 'PerImageOneHopMP_phrase_at100_iou_0.5': 0.035, 'PerImageOneHopMR_phrase_at100_iou_0.5': 0.124, 'PerImageOneHopMP_phrase_at50_iou_0.5': 0.055, 'PerImageOneHopMR_phrase_at50_iou_0.5': 0.105}\n",
      "Validation Results: {'PerImagePredMP': 0.301, 'PerImagePredMR': 0.975, 'PerImageOneHopMP_at100_iou_0.5': 0.005, 'PerImageOneHopMR_at100_iou_0.5': 0.022, 'PerImageOneHopMP_at50_iou_0.5': 0.009, 'PerImageOneHopMR_at50_iou_0.5': 0.019, 'PerImageOneHopMP_phrase_at100_iou_0.5': 0.038, 'PerImageOneHopMR_phrase_at100_iou_0.5': 0.127, 'PerImageOneHopMP_phrase_at50_iou_0.5': 0.058, 'PerImageOneHopMR_phrase_at50_iou_0.5': 0.104}\n",
      "Step 35000: loss = 3.9210000038146973 (8965.320 sec)\n",
      "Training Batch Evaluation Results: {'PerImagePredMP': 0.305, 'PerImagePredMR': 0.985, 'PerImageOneHopMP_at100_iou_0.5': 0.006, 'PerImageOneHopMR_at100_iou_0.5': 0.021, 'PerImageOneHopMP_at50_iou_0.5': 0.011, 'PerImageOneHopMR_at50_iou_0.5': 0.019, 'PerImageOneHopMP_phrase_at100_iou_0.5': 0.037, 'PerImageOneHopMR_phrase_at100_iou_0.5': 0.131, 'PerImageOneHopMP_phrase_at50_iou_0.5': 0.059, 'PerImageOneHopMR_phrase_at50_iou_0.5': 0.112}\n",
      "Validation Results: {'PerImagePredMP': 0.3, 'PerImagePredMR': 0.974, 'PerImageOneHopMP_at100_iou_0.5': 0.005, 'PerImageOneHopMR_at100_iou_0.5': 0.02, 'PerImageOneHopMP_at50_iou_0.5': 0.009, 'PerImageOneHopMR_at50_iou_0.5': 0.019, 'PerImageOneHopMP_phrase_at100_iou_0.5': 0.037, 'PerImageOneHopMR_phrase_at100_iou_0.5': 0.122, 'PerImageOneHopMP_phrase_at50_iou_0.5': 0.056, 'PerImageOneHopMR_phrase_at50_iou_0.5': 0.105}\n",
      "Step 36000: loss = 3.997999906539917 (10750.826 sec)\n",
      "Training Batch Evaluation Results: {'PerImagePredMP': 0.299, 'PerImagePredMR': 0.985, 'PerImageOneHopMP_at100_iou_0.5': 0.005, 'PerImageOneHopMR_at100_iou_0.5': 0.021, 'PerImageOneHopMP_at50_iou_0.5': 0.009, 'PerImageOneHopMR_at50_iou_0.5': 0.017, 'PerImageOneHopMP_phrase_at100_iou_0.5': 0.035, 'PerImageOneHopMR_phrase_at100_iou_0.5': 0.131, 'PerImageOneHopMP_phrase_at50_iou_0.5': 0.055, 'PerImageOneHopMR_phrase_at50_iou_0.5': 0.109}\n",
      "Validation Results: {'PerImagePredMP': 0.298, 'PerImagePredMR': 0.976, 'PerImageOneHopMP_at100_iou_0.5': 0.005, 'PerImageOneHopMR_at100_iou_0.5': 0.021, 'PerImageOneHopMP_at50_iou_0.5': 0.008, 'PerImageOneHopMR_at50_iou_0.5': 0.018, 'PerImageOneHopMP_phrase_at100_iou_0.5': 0.035, 'PerImageOneHopMR_phrase_at100_iou_0.5': 0.125, 'PerImageOneHopMP_phrase_at50_iou_0.5': 0.054, 'PerImageOneHopMR_phrase_at50_iou_0.5': 0.104}\n",
      "Step 37000: loss = 4.382999897003174 (12553.904 sec)\n",
      "Training Batch Evaluation Results: {'PerImagePredMP': 0.303, 'PerImagePredMR': 0.987, 'PerImageOneHopMP_at100_iou_0.5': 0.006, 'PerImageOneHopMR_at100_iou_0.5': 0.021, 'PerImageOneHopMP_at50_iou_0.5': 0.011, 'PerImageOneHopMR_at50_iou_0.5': 0.019, 'PerImageOneHopMP_phrase_at100_iou_0.5': 0.036, 'PerImageOneHopMR_phrase_at100_iou_0.5': 0.132, 'PerImageOneHopMP_phrase_at50_iou_0.5': 0.055, 'PerImageOneHopMR_phrase_at50_iou_0.5': 0.109}\n",
      "Validation Results: {'PerImagePredMP': 0.303, 'PerImagePredMR': 0.974, 'PerImageOneHopMP_at100_iou_0.5': 0.004, 'PerImageOneHopMR_at100_iou_0.5': 0.019, 'PerImageOneHopMP_at50_iou_0.5': 0.007, 'PerImageOneHopMR_at50_iou_0.5': 0.018, 'PerImageOneHopMP_phrase_at100_iou_0.5': 0.035, 'PerImageOneHopMR_phrase_at100_iou_0.5': 0.122, 'PerImageOneHopMP_phrase_at50_iou_0.5': 0.054, 'PerImageOneHopMR_phrase_at50_iou_0.5': 0.104}\n",
      "Step 38000: loss = 4.3470001220703125 (14351.682 sec)\n",
      "Training Batch Evaluation Results: {'PerImagePredMP': 0.302, 'PerImagePredMR': 0.986, 'PerImageOneHopMP_at100_iou_0.5': 0.006, 'PerImageOneHopMR_at100_iou_0.5': 0.021, 'PerImageOneHopMP_at50_iou_0.5': 0.01, 'PerImageOneHopMR_at50_iou_0.5': 0.019, 'PerImageOneHopMP_phrase_at100_iou_0.5': 0.037, 'PerImageOneHopMR_phrase_at100_iou_0.5': 0.133, 'PerImageOneHopMP_phrase_at50_iou_0.5': 0.057, 'PerImageOneHopMR_phrase_at50_iou_0.5': 0.112}\n",
      "Validation Results: {'PerImagePredMP': 0.304, 'PerImagePredMR': 0.976, 'PerImageOneHopMP_at100_iou_0.5': 0.005, 'PerImageOneHopMR_at100_iou_0.5': 0.022, 'PerImageOneHopMP_at50_iou_0.5': 0.009, 'PerImageOneHopMR_at50_iou_0.5': 0.018, 'PerImageOneHopMP_phrase_at100_iou_0.5': 0.036, 'PerImageOneHopMR_phrase_at100_iou_0.5': 0.124, 'PerImageOneHopMP_phrase_at50_iou_0.5': 0.055, 'PerImageOneHopMR_phrase_at50_iou_0.5': 0.105}\n",
      "Step 39000: loss = 4.169000148773193 (16145.474 sec)\n",
      "Training Batch Evaluation Results: {'PerImagePredMP': 0.305, 'PerImagePredMR': 0.987, 'PerImageOneHopMP_at100_iou_0.5': 0.006, 'PerImageOneHopMR_at100_iou_0.5': 0.022, 'PerImageOneHopMP_at50_iou_0.5': 0.01, 'PerImageOneHopMR_at50_iou_0.5': 0.019, 'PerImageOneHopMP_phrase_at100_iou_0.5': 0.039, 'PerImageOneHopMR_phrase_at100_iou_0.5': 0.144, 'PerImageOneHopMP_phrase_at50_iou_0.5': 0.061, 'PerImageOneHopMR_phrase_at50_iou_0.5': 0.122}\n",
      "Validation Results: {'PerImagePredMP': 0.305, 'PerImagePredMR': 0.973, 'PerImageOneHopMP_at100_iou_0.5': 0.005, 'PerImageOneHopMR_at100_iou_0.5': 0.021, 'PerImageOneHopMP_at50_iou_0.5': 0.009, 'PerImageOneHopMR_at50_iou_0.5': 0.019, 'PerImageOneHopMP_phrase_at100_iou_0.5': 0.037, 'PerImageOneHopMR_phrase_at100_iou_0.5': 0.127, 'PerImageOneHopMP_phrase_at50_iou_0.5': 0.058, 'PerImageOneHopMR_phrase_at50_iou_0.5': 0.109}\n",
      "Step 40000: loss = 4.059000015258789 (17928.999 sec)\n",
      "Training Batch Evaluation Results: {'PerImagePredMP': 0.299, 'PerImagePredMR': 0.986, 'PerImageOneHopMP_at100_iou_0.5': 0.005, 'PerImageOneHopMR_at100_iou_0.5': 0.019, 'PerImageOneHopMP_at50_iou_0.5': 0.009, 'PerImageOneHopMR_at50_iou_0.5': 0.018, 'PerImageOneHopMP_phrase_at100_iou_0.5': 0.034, 'PerImageOneHopMR_phrase_at100_iou_0.5': 0.129, 'PerImageOneHopMP_phrase_at50_iou_0.5': 0.053, 'PerImageOneHopMR_phrase_at50_iou_0.5': 0.109}\n",
      "Validation Results: {'PerImagePredMP': 0.303, 'PerImagePredMR': 0.974, 'PerImageOneHopMP_at100_iou_0.5': 0.005, 'PerImageOneHopMR_at100_iou_0.5': 0.022, 'PerImageOneHopMP_at50_iou_0.5': 0.009, 'PerImageOneHopMR_at50_iou_0.5': 0.018, 'PerImageOneHopMP_phrase_at100_iou_0.5': 0.035, 'PerImageOneHopMR_phrase_at100_iou_0.5': 0.123, 'PerImageOneHopMP_phrase_at50_iou_0.5': 0.052, 'PerImageOneHopMR_phrase_at50_iou_0.5': 0.103}\n",
      "Step 41000: loss = 3.8310000896453857 (19717.461 sec)\n",
      "Training Batch Evaluation Results: {'PerImagePredMP': 0.307, 'PerImagePredMR': 0.985, 'PerImageOneHopMP_at100_iou_0.5': 0.006, 'PerImageOneHopMR_at100_iou_0.5': 0.021, 'PerImageOneHopMP_at50_iou_0.5': 0.011, 'PerImageOneHopMR_at50_iou_0.5': 0.019, 'PerImageOneHopMP_phrase_at100_iou_0.5': 0.036, 'PerImageOneHopMR_phrase_at100_iou_0.5': 0.129, 'PerImageOneHopMP_phrase_at50_iou_0.5': 0.056, 'PerImageOneHopMR_phrase_at50_iou_0.5': 0.108}\n",
      "Validation Results: {'PerImagePredMP': 0.308, 'PerImagePredMR': 0.975, 'PerImageOneHopMP_at100_iou_0.5': 0.005, 'PerImageOneHopMR_at100_iou_0.5': 0.02, 'PerImageOneHopMP_at50_iou_0.5': 0.008, 'PerImageOneHopMR_at50_iou_0.5': 0.017, 'PerImageOneHopMP_phrase_at100_iou_0.5': 0.036, 'PerImageOneHopMR_phrase_at100_iou_0.5': 0.126, 'PerImageOneHopMP_phrase_at50_iou_0.5': 0.056, 'PerImageOneHopMR_phrase_at50_iou_0.5': 0.105}\n",
      "Step 42000: loss = 4.385000228881836 (21520.277 sec)\n",
      "Training Batch Evaluation Results: {'PerImagePredMP': 0.303, 'PerImagePredMR': 0.986, 'PerImageOneHopMP_at100_iou_0.5': 0.006, 'PerImageOneHopMR_at100_iou_0.5': 0.021, 'PerImageOneHopMP_at50_iou_0.5': 0.01, 'PerImageOneHopMR_at50_iou_0.5': 0.018, 'PerImageOneHopMP_phrase_at100_iou_0.5': 0.036, 'PerImageOneHopMR_phrase_at100_iou_0.5': 0.136, 'PerImageOneHopMP_phrase_at50_iou_0.5': 0.056, 'PerImageOneHopMR_phrase_at50_iou_0.5': 0.114}\n",
      "Validation Results: {'PerImagePredMP': 0.308, 'PerImagePredMR': 0.971, 'PerImageOneHopMP_at100_iou_0.5': 0.005, 'PerImageOneHopMR_at100_iou_0.5': 0.02, 'PerImageOneHopMP_at50_iou_0.5': 0.008, 'PerImageOneHopMR_at50_iou_0.5': 0.017, 'PerImageOneHopMP_phrase_at100_iou_0.5': 0.036, 'PerImageOneHopMR_phrase_at100_iou_0.5': 0.128, 'PerImageOneHopMP_phrase_at50_iou_0.5': 0.054, 'PerImageOneHopMR_phrase_at50_iou_0.5': 0.103}\n",
      "Step 43000: loss = 3.618000030517578 (23280.216 sec)\n",
      "Training Batch Evaluation Results: {'PerImagePredMP': 0.3, 'PerImagePredMR': 0.986, 'PerImageOneHopMP_at100_iou_0.5': 0.007, 'PerImageOneHopMR_at100_iou_0.5': 0.022, 'PerImageOneHopMP_at50_iou_0.5': 0.012, 'PerImageOneHopMR_at50_iou_0.5': 0.02, 'PerImageOneHopMP_phrase_at100_iou_0.5': 0.038, 'PerImageOneHopMR_phrase_at100_iou_0.5': 0.144, 'PerImageOneHopMP_phrase_at50_iou_0.5': 0.058, 'PerImageOneHopMR_phrase_at50_iou_0.5': 0.117}\n",
      "Validation Results: {'PerImagePredMP': 0.306, 'PerImagePredMR': 0.973, 'PerImageOneHopMP_at100_iou_0.5': 0.005, 'PerImageOneHopMR_at100_iou_0.5': 0.022, 'PerImageOneHopMP_at50_iou_0.5': 0.008, 'PerImageOneHopMR_at50_iou_0.5': 0.02, 'PerImageOneHopMP_phrase_at100_iou_0.5': 0.036, 'PerImageOneHopMR_phrase_at100_iou_0.5': 0.122, 'PerImageOneHopMP_phrase_at50_iou_0.5': 0.055, 'PerImageOneHopMR_phrase_at50_iou_0.5': 0.103}\n",
      "Step 44000: loss = 3.9179999828338623 (25108.284 sec)\n",
      "Training Batch Evaluation Results: {'PerImagePredMP': 0.302, 'PerImagePredMR': 0.987, 'PerImageOneHopMP_at100_iou_0.5': 0.006, 'PerImageOneHopMR_at100_iou_0.5': 0.022, 'PerImageOneHopMP_at50_iou_0.5': 0.01, 'PerImageOneHopMR_at50_iou_0.5': 0.018, 'PerImageOneHopMP_phrase_at100_iou_0.5': 0.037, 'PerImageOneHopMR_phrase_at100_iou_0.5': 0.141, 'PerImageOneHopMP_phrase_at50_iou_0.5': 0.058, 'PerImageOneHopMR_phrase_at50_iou_0.5': 0.118}\n",
      "Validation Results: {'PerImagePredMP': 0.306, 'PerImagePredMR': 0.974, 'PerImageOneHopMP_at100_iou_0.5': 0.005, 'PerImageOneHopMR_at100_iou_0.5': 0.021, 'PerImageOneHopMP_at50_iou_0.5': 0.009, 'PerImageOneHopMR_at50_iou_0.5': 0.02, 'PerImageOneHopMP_phrase_at100_iou_0.5': 0.036, 'PerImageOneHopMR_phrase_at100_iou_0.5': 0.123, 'PerImageOneHopMP_phrase_at50_iou_0.5': 0.057, 'PerImageOneHopMR_phrase_at50_iou_0.5': 0.108}\n",
      "Step 45000: loss = 3.8559999465942383 (26915.684 sec)\n",
      "Training Batch Evaluation Results: {'PerImagePredMP': 0.305, 'PerImagePredMR': 0.986, 'PerImageOneHopMP_at100_iou_0.5': 0.006, 'PerImageOneHopMR_at100_iou_0.5': 0.022, 'PerImageOneHopMP_at50_iou_0.5': 0.01, 'PerImageOneHopMR_at50_iou_0.5': 0.02, 'PerImageOneHopMP_phrase_at100_iou_0.5': 0.037, 'PerImageOneHopMR_phrase_at100_iou_0.5': 0.137, 'PerImageOneHopMP_phrase_at50_iou_0.5': 0.057, 'PerImageOneHopMR_phrase_at50_iou_0.5': 0.114}\n",
      "Validation Results: {'PerImagePredMP': 0.304, 'PerImagePredMR': 0.974, 'PerImageOneHopMP_at100_iou_0.5': 0.005, 'PerImageOneHopMR_at100_iou_0.5': 0.023, 'PerImageOneHopMP_at50_iou_0.5': 0.01, 'PerImageOneHopMR_at50_iou_0.5': 0.021, 'PerImageOneHopMP_phrase_at100_iou_0.5': 0.036, 'PerImageOneHopMR_phrase_at100_iou_0.5': 0.129, 'PerImageOneHopMP_phrase_at50_iou_0.5': 0.056, 'PerImageOneHopMR_phrase_at50_iou_0.5': 0.111}\n",
      "Step 46000: loss = 3.6659998893737793 (28740.593 sec)\n",
      "Training Batch Evaluation Results: {'PerImagePredMP': 0.304, 'PerImagePredMR': 0.989, 'PerImageOneHopMP_at100_iou_0.5': 0.006, 'PerImageOneHopMR_at100_iou_0.5': 0.023, 'PerImageOneHopMP_at50_iou_0.5': 0.01, 'PerImageOneHopMR_at50_iou_0.5': 0.02, 'PerImageOneHopMP_phrase_at100_iou_0.5': 0.036, 'PerImageOneHopMR_phrase_at100_iou_0.5': 0.133, 'PerImageOneHopMP_phrase_at50_iou_0.5': 0.056, 'PerImageOneHopMR_phrase_at50_iou_0.5': 0.111}\n",
      "Validation Results: {'PerImagePredMP': 0.302, 'PerImagePredMR': 0.974, 'PerImageOneHopMP_at100_iou_0.5': 0.005, 'PerImageOneHopMR_at100_iou_0.5': 0.018, 'PerImageOneHopMP_at50_iou_0.5': 0.009, 'PerImageOneHopMR_at50_iou_0.5': 0.017, 'PerImageOneHopMP_phrase_at100_iou_0.5': 0.035, 'PerImageOneHopMR_phrase_at100_iou_0.5': 0.124, 'PerImageOneHopMP_phrase_at50_iou_0.5': 0.054, 'PerImageOneHopMR_phrase_at50_iou_0.5': 0.105}\n",
      "Step 47000: loss = 4.473999977111816 (30560.461 sec)\n",
      "Training Batch Evaluation Results: {'PerImagePredMP': 0.307, 'PerImagePredMR': 0.987, 'PerImageOneHopMP_at100_iou_0.5': 0.006, 'PerImageOneHopMR_at100_iou_0.5': 0.023, 'PerImageOneHopMP_at50_iou_0.5': 0.01, 'PerImageOneHopMR_at50_iou_0.5': 0.022, 'PerImageOneHopMP_phrase_at100_iou_0.5': 0.037, 'PerImageOneHopMR_phrase_at100_iou_0.5': 0.136, 'PerImageOneHopMP_phrase_at50_iou_0.5': 0.055, 'PerImageOneHopMR_phrase_at50_iou_0.5': 0.114}\n",
      "Validation Results: {'PerImagePredMP': 0.308, 'PerImagePredMR': 0.973, 'PerImageOneHopMP_at100_iou_0.5': 0.006, 'PerImageOneHopMR_at100_iou_0.5': 0.021, 'PerImageOneHopMP_at50_iou_0.5': 0.01, 'PerImageOneHopMR_at50_iou_0.5': 0.019, 'PerImageOneHopMP_phrase_at100_iou_0.5': 0.036, 'PerImageOneHopMR_phrase_at100_iou_0.5': 0.124, 'PerImageOneHopMP_phrase_at50_iou_0.5': 0.053, 'PerImageOneHopMR_phrase_at50_iou_0.5': 0.107}\n",
      "Step 48000: loss = 3.8529999256134033 (32371.246 sec)\n",
      "Training Batch Evaluation Results: {'PerImagePredMP': 0.312, 'PerImagePredMR': 0.988, 'PerImageOneHopMP_at100_iou_0.5': 0.007, 'PerImageOneHopMR_at100_iou_0.5': 0.024, 'PerImageOneHopMP_at50_iou_0.5': 0.011, 'PerImageOneHopMR_at50_iou_0.5': 0.022, 'PerImageOneHopMP_phrase_at100_iou_0.5': 0.04, 'PerImageOneHopMR_phrase_at100_iou_0.5': 0.145, 'PerImageOneHopMP_phrase_at50_iou_0.5': 0.063, 'PerImageOneHopMR_phrase_at50_iou_0.5': 0.123}\n",
      "Validation Results: {'PerImagePredMP': 0.314, 'PerImagePredMR': 0.972, 'PerImageOneHopMP_at100_iou_0.5': 0.004, 'PerImageOneHopMR_at100_iou_0.5': 0.021, 'PerImageOneHopMP_at50_iou_0.5': 0.008, 'PerImageOneHopMR_at50_iou_0.5': 0.019, 'PerImageOneHopMP_phrase_at100_iou_0.5': 0.036, 'PerImageOneHopMR_phrase_at100_iou_0.5': 0.131, 'PerImageOneHopMP_phrase_at50_iou_0.5': 0.057, 'PerImageOneHopMR_phrase_at50_iou_0.5': 0.113}\n",
      "Step 49000: loss = 4.129000186920166 (34180.006 sec)\n",
      "Training Batch Evaluation Results: {'PerImagePredMP': 0.305, 'PerImagePredMR': 0.987, 'PerImageOneHopMP_at100_iou_0.5': 0.006, 'PerImageOneHopMR_at100_iou_0.5': 0.022, 'PerImageOneHopMP_at50_iou_0.5': 0.011, 'PerImageOneHopMR_at50_iou_0.5': 0.019, 'PerImageOneHopMP_phrase_at100_iou_0.5': 0.038, 'PerImageOneHopMR_phrase_at100_iou_0.5': 0.14, 'PerImageOneHopMP_phrase_at50_iou_0.5': 0.06, 'PerImageOneHopMR_phrase_at50_iou_0.5': 0.118}\n",
      "Validation Results: {'PerImagePredMP': 0.304, 'PerImagePredMR': 0.972, 'PerImageOneHopMP_at100_iou_0.5': 0.005, 'PerImageOneHopMR_at100_iou_0.5': 0.021, 'PerImageOneHopMP_at50_iou_0.5': 0.009, 'PerImageOneHopMR_at50_iou_0.5': 0.017, 'PerImageOneHopMP_phrase_at100_iou_0.5': 0.035, 'PerImageOneHopMR_phrase_at100_iou_0.5': 0.119, 'PerImageOneHopMP_phrase_at50_iou_0.5': 0.054, 'PerImageOneHopMR_phrase_at50_iou_0.5': 0.102}\n",
      "Step 50000: loss = 4.074999809265137 (35976.087 sec)\n",
      "Training Batch Evaluation Results: {'PerImagePredMP': 0.307, 'PerImagePredMR': 0.988, 'PerImageOneHopMP_at100_iou_0.5': 0.006, 'PerImageOneHopMR_at100_iou_0.5': 0.02, 'PerImageOneHopMP_at50_iou_0.5': 0.01, 'PerImageOneHopMR_at50_iou_0.5': 0.018, 'PerImageOneHopMP_phrase_at100_iou_0.5': 0.037, 'PerImageOneHopMR_phrase_at100_iou_0.5': 0.137, 'PerImageOneHopMP_phrase_at50_iou_0.5': 0.057, 'PerImageOneHopMR_phrase_at50_iou_0.5': 0.114}\n",
      "Validation Results: {'PerImagePredMP': 0.309, 'PerImagePredMR': 0.974, 'PerImageOneHopMP_at100_iou_0.5': 0.006, 'PerImageOneHopMR_at100_iou_0.5': 0.025, 'PerImageOneHopMP_at50_iou_0.5': 0.01, 'PerImageOneHopMR_at50_iou_0.5': 0.021, 'PerImageOneHopMP_phrase_at100_iou_0.5': 0.037, 'PerImageOneHopMR_phrase_at100_iou_0.5': 0.13, 'PerImageOneHopMP_phrase_at50_iou_0.5': 0.056, 'PerImageOneHopMR_phrase_at50_iou_0.5': 0.109}\n"
     ]
    }
   ],
   "source": [
    "trainer.train (\n",
    "    max_steps=20000,\n",
    "    train_eval_rate=100, \n",
    "    validation_rate=100, \n",
    "    verbose_rate=1000, \n",
    "    summary_rate=100, \n",
    "    checkpoint_rate=1000, \n",
    "    hyperparams = {\n",
    "        'learning_rate_generator': 1e-6 * batcher.batch_size,\n",
    "\n",
    "        'loss_factor_g_mil_ent': 1.0,\n",
    "        'loss_factor_g_mil_ent_conf': 0.0,\n",
    "        'loss_factor_g_mil_pred': 1.0,\n",
    "        'loss_factor_g_mil_pred_conf': 0.0,\n",
    "        'loss_factor_g_mil_role': 10.0,\n",
    "        'loss_factor_g_mil_box': 0.0,\n",
    "        'loss_factor_g_aux_emb_ent': 0.0,\n",
    "        'loss_factor_g_aux_emb_pred': 0.0,\n",
    "\n",
    "        'confidence_weight_on_role': 0.0,\n",
    "        'grad_clipping': 5.0,\n",
    "        'mil_iou_offset': 0.01,\n",
    "        'dropout_rate_g': 0.0,\n",
    "    },\n",
    "    validation_hyperparams = {\n",
    "        'dropout_rate_g': 0.0,\n",
    "        'confidence_weight_on_role': 0.0\n",
    "    },\n",
    ")\n"
   ]
  },
  {
   "cell_type": "code",
   "execution_count": null,
   "metadata": {},
   "outputs": [],
   "source": []
  },
  {
   "cell_type": "code",
   "execution_count": null,
   "metadata": {},
   "outputs": [],
   "source": [
    "trainer.save_model('final_1')"
   ]
  },
  {
   "cell_type": "code",
   "execution_count": null,
   "metadata": {},
   "outputs": [],
   "source": []
  },
  {
   "cell_type": "markdown",
   "metadata": {},
   "source": [
    "# Step 3: Evaluation"
   ]
  },
  {
   "cell_type": "code",
   "execution_count": 15,
   "metadata": {},
   "outputs": [
    {
     "name": "stdout",
     "output_type": "stream",
     "text": [
      "WARNING:tensorflow:From /home/alireza/home_at_filer2/tools/anaconda3/envs/py3tf2/lib/python3.6/site-packages/tensorflow/python/training/saver.py:1266: checkpoint_exists (from tensorflow.python.training.checkpoint_management) is deprecated and will be removed in a future version.\n",
      "Instructions for updating:\n",
      "Use standard file APIs to check for files with this prefix.\n",
      "INFO:tensorflow:Restoring parameters from ../../checkpoint/exp_059/ckpt-50000\n"
     ]
    }
   ],
   "source": [
    "load_params(sess, os.path.join(codebase, 'checkpoint', exp_name, 'ckpt-50000'))"
   ]
  },
  {
   "cell_type": "code",
   "execution_count": null,
   "metadata": {},
   "outputs": [],
   "source": []
  },
  {
   "cell_type": "code",
   "execution_count": 16,
   "metadata": {},
   "outputs": [],
   "source": [
    "test_evaluator = Evaluator({        \n",
    "    'graph_loader': gl,\n",
    "    'proposals': proposals,\n",
    "    'num_proposals': 20,\n",
    "    'filter_nonoverlap': True\n",
    "})\n"
   ]
  },
  {
   "cell_type": "code",
   "execution_count": null,
   "metadata": {},
   "outputs": [],
   "source": []
  },
  {
   "cell_type": "code",
   "execution_count": 17,
   "metadata": {},
   "outputs": [],
   "source": [
    "batcher_test = GraphBatcher(\n",
    "    gl, 32, proposals,\n",
    "    os.path.join(codebase, 'data', 'VG', 'xfeat_proposals', 'iresnet_oi_lowprop', 'feats_float32_20x1536.lmdb'), \n",
    "    dim_feats=1536,\n",
    "    seed=1237, \n",
    ")\n",
    "batcher_test.set_subset(test_idx)"
   ]
  },
  {
   "cell_type": "code",
   "execution_count": 18,
   "metadata": {},
   "outputs": [
    {
     "name": "stdout",
     "output_type": "stream",
     "text": [
      "Deploying\n",
      "Batch 1/808 done in 0 seconds. Spent time for read=0.01 (avg 0.01), processing=0.83 (avg 0.83), write=0.00 (avg 0.00) seconds.\n",
      "Batch 101/808 done in 7 seconds. Spent time for read=0.01 (avg 0.01), processing=0.06 (avg 0.07), write=0.00 (avg 0.00) seconds.\n",
      "Batch 201/808 done in 14 seconds. Spent time for read=0.01 (avg 0.01), processing=0.06 (avg 0.07), write=0.00 (avg 0.00) seconds.\n",
      "Batch 301/808 done in 22 seconds. Spent time for read=0.01 (avg 0.01), processing=0.06 (avg 0.07), write=0.00 (avg 0.00) seconds.\n",
      "Batch 401/808 done in 29 seconds. Spent time for read=0.01 (avg 0.01), processing=0.06 (avg 0.07), write=0.00 (avg 0.00) seconds.\n",
      "Batch 501/808 done in 36 seconds. Spent time for read=0.01 (avg 0.01), processing=0.06 (avg 0.07), write=0.00 (avg 0.00) seconds.\n",
      "Batch 601/808 done in 43 seconds. Spent time for read=0.01 (avg 0.01), processing=0.06 (avg 0.07), write=0.00 (avg 0.00) seconds.\n",
      "Batch 701/808 done in 50 seconds. Spent time for read=0.01 (avg 0.01), processing=0.06 (avg 0.07), write=0.00 (avg 0.00) seconds.\n",
      "Batch 801/808 done in 58 seconds. Spent time for read=0.01 (avg 0.01), processing=0.06 (avg 0.07), write=0.00 (avg 0.00) seconds.\n",
      "Batch 808/808 done in 58 seconds. Spent time for read=0.01 (avg 0.01), processing=0.07 (avg 0.07), write=0.00 (avg 0.00) seconds.\n",
      "Done in 58 seconds\n"
     ]
    }
   ],
   "source": [
    "#test_evaluator.reset()\n",
    "deploy(sess, model, batcher_test, test_evaluator, model.eval_ops,\n",
    "    hyperparams={\n",
    "        'dropout_rate_g': 0.0,\n",
    "        'confidence_weight_on_role': 0.0\n",
    "    },\n",
    "    ignore_errors=False,\n",
    "    debug_mode=False,\n",
    "    verbose_rate=100\n",
    ")\n"
   ]
  },
  {
   "cell_type": "code",
   "execution_count": 22,
   "metadata": {},
   "outputs": [
    {
     "data": {
      "text/plain": [
       "{'PerImagePredMP': 0.30836936762715145,\n",
       " 'PerImagePredMR': 0.9766392998184863,\n",
       " 'PerImageOneHopMP_at100_iou_0.5': 0.0057822471475536645,\n",
       " 'PerImageOneHopMR_at100_iou_0.5': 0.02034176798139817,\n",
       " 'PerImageOneHopMP_at50_iou_0.5': 0.009820150841229936,\n",
       " 'PerImageOneHopMR_at50_iou_0.5': 0.017746352507358894,\n",
       " 'PerImageOneHopMP_phrase_at100_iou_0.5': 0.033459292206536456,\n",
       " 'PerImageOneHopMR_phrase_at100_iou_0.5': 0.11926195743466432,\n",
       " 'PerImageOneHopMP_phrase_at50_iou_0.5': 0.05145465093792303,\n",
       " 'PerImageOneHopMR_phrase_at50_iou_0.5': 0.09870459048691249}"
      ]
     },
     "execution_count": 22,
     "metadata": {},
     "output_type": "execute_result"
    }
   ],
   "source": [
    "test_results = test_evaluator.evaluate()\n",
    "test_results"
   ]
  },
  {
   "cell_type": "code",
   "execution_count": null,
   "metadata": {},
   "outputs": [],
   "source": []
  },
  {
   "cell_type": "code",
   "execution_count": null,
   "metadata": {},
   "outputs": [],
   "source": []
  }
 ],
 "metadata": {
  "kernelspec": {
   "display_name": "Py3 w/ Tensorflow 2",
   "language": "python",
   "name": "py3tf2"
  },
  "language_info": {
   "codemirror_mode": {
    "name": "ipython",
    "version": 3
   },
   "file_extension": ".py",
   "mimetype": "text/x-python",
   "name": "python",
   "nbconvert_exporter": "python",
   "pygments_lexer": "ipython3",
   "version": "3.6.8"
  }
 },
 "nbformat": 4,
 "nbformat_minor": 4
}
