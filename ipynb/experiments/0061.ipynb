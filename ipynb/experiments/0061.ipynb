{
 "cells": [
  {
   "cell_type": "markdown",
   "metadata": {},
   "source": [
    "# Step 1: Data and Model Preparation\n"
   ]
  },
  {
   "cell_type": "code",
   "execution_count": 1,
   "metadata": {},
   "outputs": [],
   "source": [
    "exp_name = 'exp_061'"
   ]
  },
  {
   "cell_type": "code",
   "execution_count": 2,
   "metadata": {},
   "outputs": [],
   "source": [
    "%load_ext autoreload\n",
    "%autoreload 2\n",
    "import sys\n",
    "import os\n",
    "codebase = '../../'\n",
    "sys.path.append(codebase)"
   ]
  },
  {
   "cell_type": "code",
   "execution_count": 3,
   "metadata": {},
   "outputs": [],
   "source": [
    "from src.dataflow.vg_graph_loader_3 import VGGraphLoader\n",
    "from src.dataflow.graph_batcher_2_rpn import GraphBatcher"
   ]
  },
  {
   "cell_type": "code",
   "execution_count": 4,
   "metadata": {},
   "outputs": [
    {
     "name": "stdout",
     "output_type": "stream",
     "text": [
      "\n",
      "WARNING: The TensorFlow contrib module will not be included in TensorFlow 2.0.\n",
      "For more information, please see:\n",
      "  * https://github.com/tensorflow/community/blob/master/rfcs/20180907-contrib-sunset.md\n",
      "  * https://github.com/tensorflow/addons\n",
      "If you depend on functionality not listed there, please file an issue.\n",
      "\n"
     ]
    }
   ],
   "source": [
    "from src.tensorflow.models.vsp_model_002_abl_02 import Model\n",
    "from src.tensorflow.engine.trainer_3 import Trainer\n",
    "from src.tensorflow.engine.util import deploy, load_params\n",
    "from src.util.util import pickle_save, pickle_load\n",
    "from src.eval.sgg_evaluator_03 import Evaluator"
   ]
  },
  {
   "cell_type": "code",
   "execution_count": 5,
   "metadata": {},
   "outputs": [],
   "source": [
    "import tensorflow as tf\n",
    "import numpy as np\n",
    "tf.set_random_seed(1224)\n",
    "np.random.seed(1225)"
   ]
  },
  {
   "cell_type": "code",
   "execution_count": null,
   "metadata": {},
   "outputs": [],
   "source": []
  },
  {
   "cell_type": "code",
   "execution_count": 6,
   "metadata": {},
   "outputs": [],
   "source": [
    "gl = VGGraphLoader(\n",
    "    os.path.join(codebase, 'metadata', 'VG', 'prep', 'hanwang', 'sg.pkl'),\n",
    "    os.path.join(codebase, 'metadata', 'VG', 'prep', 'hanwang', 'class_embs.pkl'),\n",
    ")\n"
   ]
  },
  {
   "cell_type": "code",
   "execution_count": 7,
   "metadata": {},
   "outputs": [],
   "source": [
    "img_ids, train_idx, test_idx = pickle_load(os.path.join(codebase, 'metadata', 'VG', 'prep', 'hanwang', 'split.pkl'))\n"
   ]
  },
  {
   "cell_type": "code",
   "execution_count": 8,
   "metadata": {},
   "outputs": [],
   "source": [
    "np.random.shuffle(train_idx)\n",
    "val_idx = train_idx[:1000]\n",
    "train_idx = train_idx[1000:]"
   ]
  },
  {
   "cell_type": "code",
   "execution_count": null,
   "metadata": {},
   "outputs": [],
   "source": []
  },
  {
   "cell_type": "code",
   "execution_count": 9,
   "metadata": {},
   "outputs": [],
   "source": [
    "proposals = pickle_load(os.path.join(codebase, 'data', 'VG', 'xfeat_proposals', 'iresnet_oi_lowprop', 'coords.pkl'))"
   ]
  },
  {
   "cell_type": "code",
   "execution_count": 10,
   "metadata": {},
   "outputs": [],
   "source": [
    "batcher = GraphBatcher(\n",
    "    gl, 32, proposals,\n",
    "    os.path.join(codebase, 'data', 'VG', 'xfeat_proposals', 'iresnet_oi_lowprop', 'feats_float32_20x1536.lmdb'), \n",
    "    dim_feats=1536,\n",
    "    seed=1236, \n",
    ")\n",
    "batcher.set_subset(train_idx)\n",
    "batcher.shuffle()"
   ]
  },
  {
   "cell_type": "code",
   "execution_count": 11,
   "metadata": {},
   "outputs": [],
   "source": [
    "batcher_val = GraphBatcher(\n",
    "    gl, 32, proposals,\n",
    "    os.path.join(codebase, 'data', 'VG', 'xfeat_proposals', 'iresnet_oi_lowprop', 'feats_float32_20x1536.lmdb'), \n",
    "    dim_feats=1536,\n",
    "    seed=1237, \n",
    ")\n",
    "batcher_val.set_subset(val_idx)"
   ]
  },
  {
   "cell_type": "code",
   "execution_count": null,
   "metadata": {},
   "outputs": [],
   "source": []
  },
  {
   "cell_type": "code",
   "execution_count": 12,
   "metadata": {},
   "outputs": [],
   "source": [
    "tf.reset_default_graph()"
   ]
  },
  {
   "cell_type": "code",
   "execution_count": 13,
   "metadata": {},
   "outputs": [
    {
     "name": "stdout",
     "output_type": "stream",
     "text": [
      "WARNING:tensorflow:From ../../src/tensorflow/models/vsp_model_002_abl_02.py:94: GRUCell.__init__ (from tensorflow.python.ops.rnn_cell_impl) is deprecated and will be removed in a future version.\n",
      "Instructions for updating:\n",
      "This class is equivalent as tf.keras.layers.GRUCell, and will be replaced by that in Tensorflow 2.0.\n",
      "WARNING:tensorflow:From /home/alireza/home_at_filer2/tools/anaconda3/envs/py3tf2/lib/python3.6/site-packages/tensorflow/python/framework/op_def_library.py:263: colocate_with (from tensorflow.python.framework.ops) is deprecated and will be removed in a future version.\n",
      "Instructions for updating:\n",
      "Colocations handled automatically by placer.\n",
      "WARNING:tensorflow:From ../../src/tensorflow/util/util.py:15: dense (from tensorflow.python.layers.core) is deprecated and will be removed in a future version.\n",
      "Instructions for updating:\n",
      "Use keras.layers.dense instead.\n",
      "WARNING:tensorflow:From ../../src/tensorflow/util/util.py:17: calling dropout (from tensorflow.python.ops.nn_ops) with keep_prob is deprecated and will be removed in a future version.\n",
      "Instructions for updating:\n",
      "Please use `rate` instead of `keep_prob`. Rate should be set to `rate = 1 - keep_prob`.\n",
      "WARNING:tensorflow:From ../../src/tensorflow/models/vsp_model_002_abl_02.py:483: py_func (from tensorflow.python.ops.script_ops) is deprecated and will be removed in a future version.\n",
      "Instructions for updating:\n",
      "tf.py_func is deprecated in TF V2. Instead, use\n",
      "    tf.py_function, which takes a python function which manipulates tf eager\n",
      "    tensors instead of numpy arrays. It's easy to convert a tf eager tensor to\n",
      "    an ndarray (just call tensor.numpy()) but having access to eager tensors\n",
      "    means `tf.py_function`s can use accelerators such as GPUs as well as\n",
      "    being differentiable using a gradient tape.\n",
      "    \n",
      "WARNING:tensorflow:From /home/alireza/home_at_filer2/tools/anaconda3/envs/py3tf2/lib/python3.6/site-packages/tensorflow/python/ops/math_ops.py:3066: to_int32 (from tensorflow.python.ops.math_ops) is deprecated and will be removed in a future version.\n",
      "Instructions for updating:\n",
      "Use tf.cast instead.\n"
     ]
    }
   ],
   "source": [
    "model = Model(   \n",
    "    dim_att_head_role_ent=[1024, 1024], \n",
    "    dim_att_head_role_pred=[1024, 1024],\n",
    "    role_edge_mode='full_soft',\n",
    "    stop_grad_role_edge=True,\n",
    "    \n",
    "    dim_state_ent=1024,\n",
    "    dim_state_pred=1024,\n",
    "    dim_emb_head_ent=[300],\n",
    "    dim_conf_head_ent=[],\n",
    "    dim_conf_head_pred=[],\n",
    "    dim_emb_head_pred=[300],\n",
    "    dim_init_head_ent=[1024],\n",
    "\n",
    "    dim_message_send_head_pred2ent=[1024, 1024],\n",
    "    dim_message_pool_head_pred2ent=[1024, 1024],\n",
    "    dim_message_receive_head_pred2ent=[1024, 1024],    \n",
    "    dim_message_send_head_ent2pred=[1024, 1024],\n",
    "    dim_message_pool_head_ent2pred=[1024, 1024],\n",
    "    dim_message_receive_head_ent2pred=[1024, 1024],\n",
    "    \n",
    "    num_mp_iter=3,     \n",
    "    num_proposals=None,\n",
    "\n",
    "    heat_role=1.0,\n",
    "    heat_emb_mil=1.0,\n",
    "    null_att_logit=0.0,\n",
    "        \n",
    "    num_align_iter=3,\n",
    "    alignment_order='best',\n",
    "    default_act_fn_name='leaky_relu',\n",
    "    optimizer_type_generator=tf.train.AdamOptimizer,\n",
    "    \n",
    "    max_num_pred=100,\n",
    "    dim_init_head_pred=[],\n",
    "    init_state_type_pred='trainable',\n",
    "    \n",
    "    dim_proposal_feat=1536,\n",
    "    emb_dict_ent=gl.noun_emb_dict,\n",
    "    emb_dict_pred=gl.pred_emb_dict,    \n",
    "    #image_size=448,\n",
    "    #num_channels=3,\n",
    "    debugging=False\n",
    ")\n",
    "\n"
   ]
  },
  {
   "cell_type": "code",
   "execution_count": null,
   "metadata": {},
   "outputs": [],
   "source": []
  },
  {
   "cell_type": "code",
   "execution_count": 14,
   "metadata": {},
   "outputs": [],
   "source": [
    "os.environ[\"CUDA_VISIBLE_DEVICES\"]=\"0\"\n",
    "#sess = tf.Session(config=tf.ConfigProto(gpu_options=tf.GPUOptions(allow_growth=True)))\n",
    "#sess = tf.Session(config=tf.ConfigProto(gpu_options=tf.GPUOptions(per_process_gpu_memory_fraction=0.5)))\n",
    "sess = tf.Session()\n",
    "sess.run(tf.no_op())"
   ]
  },
  {
   "cell_type": "code",
   "execution_count": null,
   "metadata": {},
   "outputs": [],
   "source": []
  },
  {
   "cell_type": "markdown",
   "metadata": {},
   "source": [
    "# Step 2: Training\n"
   ]
  },
  {
   "cell_type": "code",
   "execution_count": 14,
   "metadata": {},
   "outputs": [],
   "source": [
    "train_evaluator = Evaluator({        \n",
    "    'graph_loader': gl,\n",
    "    'proposals': proposals,\n",
    "    'num_proposals': 20,\n",
    "    'filter_nonoverlap': True\n",
    "})\n",
    "val_evaluator = Evaluator({        \n",
    "    'graph_loader': gl,\n",
    "    'proposals': proposals,\n",
    "    'num_proposals': 20,\n",
    "    'filter_nonoverlap': True\n",
    "})\n"
   ]
  },
  {
   "cell_type": "code",
   "execution_count": null,
   "metadata": {},
   "outputs": [],
   "source": []
  },
  {
   "cell_type": "code",
   "execution_count": 15,
   "metadata": {},
   "outputs": [],
   "source": [
    "trainer = Trainer(\n",
    "    model, sess, batcher, batcher_val, train_evaluator, val_evaluator,\n",
    "    logdir=os.path.join(codebase, 'log', 'tfsummary', exp_name), \n",
    "    modeldir=os.path.join(codebase, 'checkpoint', exp_name),\n",
    ")"
   ]
  },
  {
   "cell_type": "code",
   "execution_count": null,
   "metadata": {},
   "outputs": [],
   "source": []
  },
  {
   "cell_type": "code",
   "execution_count": 16,
   "metadata": {},
   "outputs": [
    {
     "name": "stdout",
     "output_type": "stream",
     "text": [
      "Step 1000: loss = 7.340000152587891 (1741.462 sec)\n",
      "Training Batch Evaluation Results: {'PerImagePredMP': 0.271, 'PerImagePredMR': 0.962, 'PerImageOneHopMP_at100_iou_0.5': 0.002, 'PerImageOneHopMR_at100_iou_0.5': 0.008, 'PerImageOneHopMP_at50_iou_0.5': 0.003, 'PerImageOneHopMR_at50_iou_0.5': 0.006, 'PerImageOneHopMP_phrase_at100_iou_0.5': 0.015, 'PerImageOneHopMR_phrase_at100_iou_0.5': 0.052, 'PerImageOneHopMP_phrase_at50_iou_0.5': 0.022, 'PerImageOneHopMR_phrase_at50_iou_0.5': 0.039}\n",
      "Validation Results: {'PerImagePredMP': 0.258, 'PerImagePredMR': 0.952, 'PerImageOneHopMP_at100_iou_0.5': 0.002, 'PerImageOneHopMR_at100_iou_0.5': 0.011, 'PerImageOneHopMP_at50_iou_0.5': 0.003, 'PerImageOneHopMR_at50_iou_0.5': 0.009, 'PerImageOneHopMP_phrase_at100_iou_0.5': 0.016, 'PerImageOneHopMR_phrase_at100_iou_0.5': 0.058, 'PerImageOneHopMP_phrase_at50_iou_0.5': 0.025, 'PerImageOneHopMR_phrase_at50_iou_0.5': 0.047}\n",
      "Step 2000: loss = 6.986999988555908 (3398.571 sec)\n",
      "Training Batch Evaluation Results: {'PerImagePredMP': 0.272, 'PerImagePredMR': 0.963, 'PerImageOneHopMP_at100_iou_0.5': 0.003, 'PerImageOneHopMR_at100_iou_0.5': 0.008, 'PerImageOneHopMP_at50_iou_0.5': 0.004, 'PerImageOneHopMR_at50_iou_0.5': 0.007, 'PerImageOneHopMP_phrase_at100_iou_0.5': 0.019, 'PerImageOneHopMR_phrase_at100_iou_0.5': 0.06, 'PerImageOneHopMP_phrase_at50_iou_0.5': 0.029, 'PerImageOneHopMR_phrase_at50_iou_0.5': 0.047}\n",
      "Validation Results: {'PerImagePredMP': 0.277, 'PerImagePredMR': 0.958, 'PerImageOneHopMP_at100_iou_0.5': 0.003, 'PerImageOneHopMR_at100_iou_0.5': 0.01, 'PerImageOneHopMP_at50_iou_0.5': 0.004, 'PerImageOneHopMR_at50_iou_0.5': 0.007, 'PerImageOneHopMP_phrase_at100_iou_0.5': 0.021, 'PerImageOneHopMR_phrase_at100_iou_0.5': 0.07, 'PerImageOneHopMP_phrase_at50_iou_0.5': 0.033, 'PerImageOneHopMR_phrase_at50_iou_0.5': 0.055}\n",
      "Step 3000: loss = 6.492000102996826 (4887.911 sec)\n",
      "Training Batch Evaluation Results: {'PerImagePredMP': 0.281, 'PerImagePredMR': 0.968, 'PerImageOneHopMP_at100_iou_0.5': 0.003, 'PerImageOneHopMR_at100_iou_0.5': 0.01, 'PerImageOneHopMP_at50_iou_0.5': 0.004, 'PerImageOneHopMR_at50_iou_0.5': 0.007, 'PerImageOneHopMP_phrase_at100_iou_0.5': 0.022, 'PerImageOneHopMR_phrase_at100_iou_0.5': 0.07, 'PerImageOneHopMP_phrase_at50_iou_0.5': 0.033, 'PerImageOneHopMR_phrase_at50_iou_0.5': 0.054}\n",
      "Validation Results: {'PerImagePredMP': 0.277, 'PerImagePredMR': 0.962, 'PerImageOneHopMP_at100_iou_0.5': 0.003, 'PerImageOneHopMR_at100_iou_0.5': 0.012, 'PerImageOneHopMP_at50_iou_0.5': 0.005, 'PerImageOneHopMR_at50_iou_0.5': 0.009, 'PerImageOneHopMP_phrase_at100_iou_0.5': 0.02, 'PerImageOneHopMR_phrase_at100_iou_0.5': 0.073, 'PerImageOneHopMP_phrase_at50_iou_0.5': 0.03, 'PerImageOneHopMR_phrase_at50_iou_0.5': 0.054}\n",
      "Step 4000: loss = 6.539000034332275 (6343.146 sec)\n",
      "Training Batch Evaluation Results: {'PerImagePredMP': 0.282, 'PerImagePredMR': 0.971, 'PerImageOneHopMP_at100_iou_0.5': 0.004, 'PerImageOneHopMR_at100_iou_0.5': 0.013, 'PerImageOneHopMP_at50_iou_0.5': 0.007, 'PerImageOneHopMR_at50_iou_0.5': 0.01, 'PerImageOneHopMP_phrase_at100_iou_0.5': 0.023, 'PerImageOneHopMR_phrase_at100_iou_0.5': 0.072, 'PerImageOneHopMP_phrase_at50_iou_0.5': 0.035, 'PerImageOneHopMR_phrase_at50_iou_0.5': 0.057}\n",
      "Validation Results: {'PerImagePredMP': 0.284, 'PerImagePredMR': 0.965, 'PerImageOneHopMP_at100_iou_0.5': 0.004, 'PerImageOneHopMR_at100_iou_0.5': 0.014, 'PerImageOneHopMP_at50_iou_0.5': 0.007, 'PerImageOneHopMR_at50_iou_0.5': 0.012, 'PerImageOneHopMP_phrase_at100_iou_0.5': 0.024, 'PerImageOneHopMR_phrase_at100_iou_0.5': 0.082, 'PerImageOneHopMP_phrase_at50_iou_0.5': 0.037, 'PerImageOneHopMR_phrase_at50_iou_0.5': 0.063}\n",
      "Step 5000: loss = 6.236999988555908 (7803.886 sec)\n",
      "Training Batch Evaluation Results: {'PerImagePredMP': 0.282, 'PerImagePredMR': 0.975, 'PerImageOneHopMP_at100_iou_0.5': 0.003, 'PerImageOneHopMR_at100_iou_0.5': 0.01, 'PerImageOneHopMP_at50_iou_0.5': 0.005, 'PerImageOneHopMR_at50_iou_0.5': 0.009, 'PerImageOneHopMP_phrase_at100_iou_0.5': 0.023, 'PerImageOneHopMR_phrase_at100_iou_0.5': 0.075, 'PerImageOneHopMP_phrase_at50_iou_0.5': 0.035, 'PerImageOneHopMR_phrase_at50_iou_0.5': 0.059}\n",
      "Validation Results: {'PerImagePredMP': 0.273, 'PerImagePredMR': 0.969, 'PerImageOneHopMP_at100_iou_0.5': 0.003, 'PerImageOneHopMR_at100_iou_0.5': 0.012, 'PerImageOneHopMP_at50_iou_0.5': 0.005, 'PerImageOneHopMR_at50_iou_0.5': 0.01, 'PerImageOneHopMP_phrase_at100_iou_0.5': 0.021, 'PerImageOneHopMR_phrase_at100_iou_0.5': 0.076, 'PerImageOneHopMP_phrase_at50_iou_0.5': 0.031, 'PerImageOneHopMR_phrase_at50_iou_0.5': 0.058}\n",
      "Step 6000: loss = 7.416999816894531 (9261.550 sec)\n",
      "Training Batch Evaluation Results: {'PerImagePredMP': 0.287, 'PerImagePredMR': 0.977, 'PerImageOneHopMP_at100_iou_0.5': 0.003, 'PerImageOneHopMR_at100_iou_0.5': 0.011, 'PerImageOneHopMP_at50_iou_0.5': 0.006, 'PerImageOneHopMR_at50_iou_0.5': 0.009, 'PerImageOneHopMP_phrase_at100_iou_0.5': 0.026, 'PerImageOneHopMR_phrase_at100_iou_0.5': 0.08, 'PerImageOneHopMP_phrase_at50_iou_0.5': 0.039, 'PerImageOneHopMR_phrase_at50_iou_0.5': 0.061}\n",
      "Validation Results: {'PerImagePredMP': 0.282, 'PerImagePredMR': 0.972, 'PerImageOneHopMP_at100_iou_0.5': 0.003, 'PerImageOneHopMR_at100_iou_0.5': 0.012, 'PerImageOneHopMP_at50_iou_0.5': 0.005, 'PerImageOneHopMR_at50_iou_0.5': 0.01, 'PerImageOneHopMP_phrase_at100_iou_0.5': 0.023, 'PerImageOneHopMR_phrase_at100_iou_0.5': 0.078, 'PerImageOneHopMP_phrase_at50_iou_0.5': 0.034, 'PerImageOneHopMR_phrase_at50_iou_0.5': 0.062}\n",
      "Step 7000: loss = 5.629000186920166 (10732.994 sec)\n",
      "Training Batch Evaluation Results: {'PerImagePredMP': 0.287, 'PerImagePredMR': 0.978, 'PerImageOneHopMP_at100_iou_0.5': 0.004, 'PerImageOneHopMR_at100_iou_0.5': 0.012, 'PerImageOneHopMP_at50_iou_0.5': 0.006, 'PerImageOneHopMR_at50_iou_0.5': 0.01, 'PerImageOneHopMP_phrase_at100_iou_0.5': 0.026, 'PerImageOneHopMR_phrase_at100_iou_0.5': 0.086, 'PerImageOneHopMP_phrase_at50_iou_0.5': 0.04, 'PerImageOneHopMR_phrase_at50_iou_0.5': 0.069}\n",
      "Validation Results: {'PerImagePredMP': 0.298, 'PerImagePredMR': 0.97, 'PerImageOneHopMP_at100_iou_0.5': 0.003, 'PerImageOneHopMR_at100_iou_0.5': 0.015, 'PerImageOneHopMP_at50_iou_0.5': 0.006, 'PerImageOneHopMR_at50_iou_0.5': 0.013, 'PerImageOneHopMP_phrase_at100_iou_0.5': 0.026, 'PerImageOneHopMR_phrase_at100_iou_0.5': 0.088, 'PerImageOneHopMP_phrase_at50_iou_0.5': 0.04, 'PerImageOneHopMR_phrase_at50_iou_0.5': 0.073}\n",
      "Step 8000: loss = 6.283999919891357 (12202.137 sec)\n",
      "Training Batch Evaluation Results: {'PerImagePredMP': 0.289, 'PerImagePredMR': 0.978, 'PerImageOneHopMP_at100_iou_0.5': 0.003, 'PerImageOneHopMR_at100_iou_0.5': 0.013, 'PerImageOneHopMP_at50_iou_0.5': 0.006, 'PerImageOneHopMR_at50_iou_0.5': 0.01, 'PerImageOneHopMP_phrase_at100_iou_0.5': 0.025, 'PerImageOneHopMR_phrase_at100_iou_0.5': 0.086, 'PerImageOneHopMP_phrase_at50_iou_0.5': 0.039, 'PerImageOneHopMR_phrase_at50_iou_0.5': 0.067}\n",
      "Validation Results: {'PerImagePredMP': 0.307, 'PerImagePredMR': 0.97, 'PerImageOneHopMP_at100_iou_0.5': 0.004, 'PerImageOneHopMR_at100_iou_0.5': 0.022, 'PerImageOneHopMP_at50_iou_0.5': 0.007, 'PerImageOneHopMR_at50_iou_0.5': 0.019, 'PerImageOneHopMP_phrase_at100_iou_0.5': 0.026, 'PerImageOneHopMR_phrase_at100_iou_0.5': 0.101, 'PerImageOneHopMP_phrase_at50_iou_0.5': 0.041, 'PerImageOneHopMR_phrase_at50_iou_0.5': 0.085}\n",
      "Step 9000: loss = 6.4120001792907715 (13659.305 sec)\n",
      "Training Batch Evaluation Results: {'PerImagePredMP': 0.293, 'PerImagePredMR': 0.975, 'PerImageOneHopMP_at100_iou_0.5': 0.004, 'PerImageOneHopMR_at100_iou_0.5': 0.011, 'PerImageOneHopMP_at50_iou_0.5': 0.006, 'PerImageOneHopMR_at50_iou_0.5': 0.01, 'PerImageOneHopMP_phrase_at100_iou_0.5': 0.025, 'PerImageOneHopMR_phrase_at100_iou_0.5': 0.084, 'PerImageOneHopMP_phrase_at50_iou_0.5': 0.038, 'PerImageOneHopMR_phrase_at50_iou_0.5': 0.066}\n",
      "Validation Results: {'PerImagePredMP': 0.288, 'PerImagePredMR': 0.972, 'PerImageOneHopMP_at100_iou_0.5': 0.005, 'PerImageOneHopMR_at100_iou_0.5': 0.018, 'PerImageOneHopMP_at50_iou_0.5': 0.009, 'PerImageOneHopMR_at50_iou_0.5': 0.016, 'PerImageOneHopMP_phrase_at100_iou_0.5': 0.03, 'PerImageOneHopMR_phrase_at100_iou_0.5': 0.102, 'PerImageOneHopMP_phrase_at50_iou_0.5': 0.046, 'PerImageOneHopMR_phrase_at50_iou_0.5': 0.081}\n",
      "Step 10000: loss = 7.565999984741211 (15123.929 sec)\n",
      "Training Batch Evaluation Results: {'PerImagePredMP': 0.288, 'PerImagePredMR': 0.979, 'PerImageOneHopMP_at100_iou_0.5': 0.004, 'PerImageOneHopMR_at100_iou_0.5': 0.013, 'PerImageOneHopMP_at50_iou_0.5': 0.006, 'PerImageOneHopMR_at50_iou_0.5': 0.011, 'PerImageOneHopMP_phrase_at100_iou_0.5': 0.027, 'PerImageOneHopMR_phrase_at100_iou_0.5': 0.091, 'PerImageOneHopMP_phrase_at50_iou_0.5': 0.041, 'PerImageOneHopMR_phrase_at50_iou_0.5': 0.071}\n",
      "Validation Results: {'PerImagePredMP': 0.299, 'PerImagePredMR': 0.969, 'PerImageOneHopMP_at100_iou_0.5': 0.004, 'PerImageOneHopMR_at100_iou_0.5': 0.014, 'PerImageOneHopMP_at50_iou_0.5': 0.007, 'PerImageOneHopMR_at50_iou_0.5': 0.014, 'PerImageOneHopMP_phrase_at100_iou_0.5': 0.024, 'PerImageOneHopMR_phrase_at100_iou_0.5': 0.082, 'PerImageOneHopMP_phrase_at50_iou_0.5': 0.035, 'PerImageOneHopMR_phrase_at50_iou_0.5': 0.065}\n",
      "Step 11000: loss = 6.104000091552734 (16596.341 sec)\n",
      "Training Batch Evaluation Results: {'PerImagePredMP': 0.287, 'PerImagePredMR': 0.978, 'PerImageOneHopMP_at100_iou_0.5': 0.004, 'PerImageOneHopMR_at100_iou_0.5': 0.013, 'PerImageOneHopMP_at50_iou_0.5': 0.006, 'PerImageOneHopMR_at50_iou_0.5': 0.011, 'PerImageOneHopMP_phrase_at100_iou_0.5': 0.026, 'PerImageOneHopMR_phrase_at100_iou_0.5': 0.088, 'PerImageOneHopMP_phrase_at50_iou_0.5': 0.04, 'PerImageOneHopMR_phrase_at50_iou_0.5': 0.071}\n",
      "Validation Results: {'PerImagePredMP': 0.29, 'PerImagePredMR': 0.973, 'PerImageOneHopMP_at100_iou_0.5': 0.004, 'PerImageOneHopMR_at100_iou_0.5': 0.018, 'PerImageOneHopMP_at50_iou_0.5': 0.007, 'PerImageOneHopMR_at50_iou_0.5': 0.015, 'PerImageOneHopMP_phrase_at100_iou_0.5': 0.024, 'PerImageOneHopMR_phrase_at100_iou_0.5': 0.089, 'PerImageOneHopMP_phrase_at50_iou_0.5': 0.039, 'PerImageOneHopMR_phrase_at50_iou_0.5': 0.073}\n",
      "Step 12000: loss = 6.177000045776367 (18066.576 sec)\n",
      "Training Batch Evaluation Results: {'PerImagePredMP': 0.293, 'PerImagePredMR': 0.979, 'PerImageOneHopMP_at100_iou_0.5': 0.004, 'PerImageOneHopMR_at100_iou_0.5': 0.014, 'PerImageOneHopMP_at50_iou_0.5': 0.006, 'PerImageOneHopMR_at50_iou_0.5': 0.012, 'PerImageOneHopMP_phrase_at100_iou_0.5': 0.029, 'PerImageOneHopMR_phrase_at100_iou_0.5': 0.096, 'PerImageOneHopMP_phrase_at50_iou_0.5': 0.045, 'PerImageOneHopMR_phrase_at50_iou_0.5': 0.076}\n",
      "Validation Results: {'PerImagePredMP': 0.289, 'PerImagePredMR': 0.971, 'PerImageOneHopMP_at100_iou_0.5': 0.004, 'PerImageOneHopMR_at100_iou_0.5': 0.018, 'PerImageOneHopMP_at50_iou_0.5': 0.007, 'PerImageOneHopMR_at50_iou_0.5': 0.015, 'PerImageOneHopMP_phrase_at100_iou_0.5': 0.027, 'PerImageOneHopMR_phrase_at100_iou_0.5': 0.101, 'PerImageOneHopMP_phrase_at50_iou_0.5': 0.042, 'PerImageOneHopMR_phrase_at50_iou_0.5': 0.079}\n",
      "Step 13000: loss = 6.3979997634887695 (19534.957 sec)\n",
      "Training Batch Evaluation Results: {'PerImagePredMP': 0.289, 'PerImagePredMR': 0.978, 'PerImageOneHopMP_at100_iou_0.5': 0.004, 'PerImageOneHopMR_at100_iou_0.5': 0.016, 'PerImageOneHopMP_at50_iou_0.5': 0.007, 'PerImageOneHopMR_at50_iou_0.5': 0.013, 'PerImageOneHopMP_phrase_at100_iou_0.5': 0.026, 'PerImageOneHopMR_phrase_at100_iou_0.5': 0.095, 'PerImageOneHopMP_phrase_at50_iou_0.5': 0.041, 'PerImageOneHopMR_phrase_at50_iou_0.5': 0.074}\n",
      "Validation Results: {'PerImagePredMP': 0.289, 'PerImagePredMR': 0.974, 'PerImageOneHopMP_at100_iou_0.5': 0.004, 'PerImageOneHopMR_at100_iou_0.5': 0.017, 'PerImageOneHopMP_at50_iou_0.5': 0.006, 'PerImageOneHopMR_at50_iou_0.5': 0.014, 'PerImageOneHopMP_phrase_at100_iou_0.5': 0.026, 'PerImageOneHopMR_phrase_at100_iou_0.5': 0.091, 'PerImageOneHopMP_phrase_at50_iou_0.5': 0.041, 'PerImageOneHopMR_phrase_at50_iou_0.5': 0.073}\n",
      "Step 14000: loss = 5.833000183105469 (21007.769 sec)\n",
      "Training Batch Evaluation Results: {'PerImagePredMP': 0.288, 'PerImagePredMR': 0.982, 'PerImageOneHopMP_at100_iou_0.5': 0.004, 'PerImageOneHopMR_at100_iou_0.5': 0.014, 'PerImageOneHopMP_at50_iou_0.5': 0.007, 'PerImageOneHopMR_at50_iou_0.5': 0.012, 'PerImageOneHopMP_phrase_at100_iou_0.5': 0.029, 'PerImageOneHopMR_phrase_at100_iou_0.5': 0.103, 'PerImageOneHopMP_phrase_at50_iou_0.5': 0.044, 'PerImageOneHopMR_phrase_at50_iou_0.5': 0.078}\n",
      "Validation Results: {'PerImagePredMP': 0.299, 'PerImagePredMR': 0.973, 'PerImageOneHopMP_at100_iou_0.5': 0.004, 'PerImageOneHopMR_at100_iou_0.5': 0.017, 'PerImageOneHopMP_at50_iou_0.5': 0.007, 'PerImageOneHopMR_at50_iou_0.5': 0.016, 'PerImageOneHopMP_phrase_at100_iou_0.5': 0.029, 'PerImageOneHopMR_phrase_at100_iou_0.5': 0.105, 'PerImageOneHopMP_phrase_at50_iou_0.5': 0.045, 'PerImageOneHopMR_phrase_at50_iou_0.5': 0.085}\n",
      "Step 15000: loss = 6.685999870300293 (22471.826 sec)\n",
      "Training Batch Evaluation Results: {'PerImagePredMP': 0.291, 'PerImagePredMR': 0.98, 'PerImageOneHopMP_at100_iou_0.5': 0.004, 'PerImageOneHopMR_at100_iou_0.5': 0.015, 'PerImageOneHopMP_at50_iou_0.5': 0.007, 'PerImageOneHopMR_at50_iou_0.5': 0.013, 'PerImageOneHopMP_phrase_at100_iou_0.5': 0.026, 'PerImageOneHopMR_phrase_at100_iou_0.5': 0.094, 'PerImageOneHopMP_phrase_at50_iou_0.5': 0.04, 'PerImageOneHopMR_phrase_at50_iou_0.5': 0.074}\n",
      "Validation Results: {'PerImagePredMP': 0.287, 'PerImagePredMR': 0.974, 'PerImageOneHopMP_at100_iou_0.5': 0.004, 'PerImageOneHopMR_at100_iou_0.5': 0.015, 'PerImageOneHopMP_at50_iou_0.5': 0.007, 'PerImageOneHopMR_at50_iou_0.5': 0.013, 'PerImageOneHopMP_phrase_at100_iou_0.5': 0.029, 'PerImageOneHopMR_phrase_at100_iou_0.5': 0.098, 'PerImageOneHopMP_phrase_at50_iou_0.5': 0.045, 'PerImageOneHopMR_phrase_at50_iou_0.5': 0.079}\n",
      "Step 16000: loss = 5.881999969482422 (23947.495 sec)\n",
      "Training Batch Evaluation Results: {'PerImagePredMP': 0.298, 'PerImagePredMR': 0.977, 'PerImageOneHopMP_at100_iou_0.5': 0.005, 'PerImageOneHopMR_at100_iou_0.5': 0.016, 'PerImageOneHopMP_at50_iou_0.5': 0.009, 'PerImageOneHopMR_at50_iou_0.5': 0.014, 'PerImageOneHopMP_phrase_at100_iou_0.5': 0.029, 'PerImageOneHopMR_phrase_at100_iou_0.5': 0.095, 'PerImageOneHopMP_phrase_at50_iou_0.5': 0.045, 'PerImageOneHopMR_phrase_at50_iou_0.5': 0.077}\n",
      "Validation Results: {'PerImagePredMP': 0.301, 'PerImagePredMR': 0.975, 'PerImageOneHopMP_at100_iou_0.5': 0.004, 'PerImageOneHopMR_at100_iou_0.5': 0.016, 'PerImageOneHopMP_at50_iou_0.5': 0.008, 'PerImageOneHopMR_at50_iou_0.5': 0.014, 'PerImageOneHopMP_phrase_at100_iou_0.5': 0.03, 'PerImageOneHopMR_phrase_at100_iou_0.5': 0.099, 'PerImageOneHopMP_phrase_at50_iou_0.5': 0.047, 'PerImageOneHopMR_phrase_at50_iou_0.5': 0.079}\n",
      "Step 17000: loss = 5.7870001792907715 (25437.199 sec)\n",
      "Training Batch Evaluation Results: {'PerImagePredMP': 0.299, 'PerImagePredMR': 0.979, 'PerImageOneHopMP_at100_iou_0.5': 0.004, 'PerImageOneHopMR_at100_iou_0.5': 0.016, 'PerImageOneHopMP_at50_iou_0.5': 0.007, 'PerImageOneHopMR_at50_iou_0.5': 0.014, 'PerImageOneHopMP_phrase_at100_iou_0.5': 0.028, 'PerImageOneHopMR_phrase_at100_iou_0.5': 0.102, 'PerImageOneHopMP_phrase_at50_iou_0.5': 0.044, 'PerImageOneHopMR_phrase_at50_iou_0.5': 0.082}\n",
      "Validation Results: {'PerImagePredMP': 0.292, 'PerImagePredMR': 0.977, 'PerImageOneHopMP_at100_iou_0.5': 0.004, 'PerImageOneHopMR_at100_iou_0.5': 0.015, 'PerImageOneHopMP_at50_iou_0.5': 0.006, 'PerImageOneHopMR_at50_iou_0.5': 0.014, 'PerImageOneHopMP_phrase_at100_iou_0.5': 0.027, 'PerImageOneHopMR_phrase_at100_iou_0.5': 0.104, 'PerImageOneHopMP_phrase_at50_iou_0.5': 0.042, 'PerImageOneHopMR_phrase_at50_iou_0.5': 0.084}\n",
      "Step 18000: loss = 5.874000072479248 (26907.442 sec)\n",
      "Training Batch Evaluation Results: {'PerImagePredMP': 0.289, 'PerImagePredMR': 0.979, 'PerImageOneHopMP_at100_iou_0.5': 0.004, 'PerImageOneHopMR_at100_iou_0.5': 0.016, 'PerImageOneHopMP_at50_iou_0.5': 0.007, 'PerImageOneHopMR_at50_iou_0.5': 0.014, 'PerImageOneHopMP_phrase_at100_iou_0.5': 0.029, 'PerImageOneHopMR_phrase_at100_iou_0.5': 0.104, 'PerImageOneHopMP_phrase_at50_iou_0.5': 0.046, 'PerImageOneHopMR_phrase_at50_iou_0.5': 0.083}\n",
      "Validation Results: {'PerImagePredMP': 0.29, 'PerImagePredMR': 0.974, 'PerImageOneHopMP_at100_iou_0.5': 0.005, 'PerImageOneHopMR_at100_iou_0.5': 0.017, 'PerImageOneHopMP_at50_iou_0.5': 0.008, 'PerImageOneHopMR_at50_iou_0.5': 0.016, 'PerImageOneHopMP_phrase_at100_iou_0.5': 0.026, 'PerImageOneHopMR_phrase_at100_iou_0.5': 0.093, 'PerImageOneHopMP_phrase_at50_iou_0.5': 0.041, 'PerImageOneHopMR_phrase_at50_iou_0.5': 0.076}\n",
      "Step 19000: loss = 6.431000232696533 (28380.620 sec)\n",
      "Training Batch Evaluation Results: {'PerImagePredMP': 0.294, 'PerImagePredMR': 0.98, 'PerImageOneHopMP_at100_iou_0.5': 0.005, 'PerImageOneHopMR_at100_iou_0.5': 0.016, 'PerImageOneHopMP_at50_iou_0.5': 0.008, 'PerImageOneHopMR_at50_iou_0.5': 0.014, 'PerImageOneHopMP_phrase_at100_iou_0.5': 0.029, 'PerImageOneHopMR_phrase_at100_iou_0.5': 0.105, 'PerImageOneHopMP_phrase_at50_iou_0.5': 0.046, 'PerImageOneHopMR_phrase_at50_iou_0.5': 0.085}\n",
      "Validation Results: {'PerImagePredMP': 0.3, 'PerImagePredMR': 0.973, 'PerImageOneHopMP_at100_iou_0.5': 0.004, 'PerImageOneHopMR_at100_iou_0.5': 0.014, 'PerImageOneHopMP_at50_iou_0.5': 0.006, 'PerImageOneHopMR_at50_iou_0.5': 0.012, 'PerImageOneHopMP_phrase_at100_iou_0.5': 0.027, 'PerImageOneHopMR_phrase_at100_iou_0.5': 0.097, 'PerImageOneHopMP_phrase_at50_iou_0.5': 0.042, 'PerImageOneHopMR_phrase_at50_iou_0.5': 0.075}\n",
      "Step 20000: loss = 6.184999942779541 (29857.907 sec)\n",
      "Training Batch Evaluation Results: {'PerImagePredMP': 0.297, 'PerImagePredMR': 0.982, 'PerImageOneHopMP_at100_iou_0.5': 0.004, 'PerImageOneHopMR_at100_iou_0.5': 0.015, 'PerImageOneHopMP_at50_iou_0.5': 0.007, 'PerImageOneHopMR_at50_iou_0.5': 0.013, 'PerImageOneHopMP_phrase_at100_iou_0.5': 0.028, 'PerImageOneHopMR_phrase_at100_iou_0.5': 0.107, 'PerImageOneHopMP_phrase_at50_iou_0.5': 0.043, 'PerImageOneHopMR_phrase_at50_iou_0.5': 0.083}\n",
      "Validation Results: {'PerImagePredMP': 0.291, 'PerImagePredMR': 0.973, 'PerImageOneHopMP_at100_iou_0.5': 0.004, 'PerImageOneHopMR_at100_iou_0.5': 0.017, 'PerImageOneHopMP_at50_iou_0.5': 0.007, 'PerImageOneHopMR_at50_iou_0.5': 0.016, 'PerImageOneHopMP_phrase_at100_iou_0.5': 0.027, 'PerImageOneHopMR_phrase_at100_iou_0.5': 0.095, 'PerImageOneHopMP_phrase_at50_iou_0.5': 0.041, 'PerImageOneHopMR_phrase_at50_iou_0.5': 0.075}\n",
      "Step 21000: loss = 6.638000011444092 (31338.912 sec)\n",
      "Training Batch Evaluation Results: {'PerImagePredMP': 0.295, 'PerImagePredMR': 0.981, 'PerImageOneHopMP_at100_iou_0.5': 0.004, 'PerImageOneHopMR_at100_iou_0.5': 0.017, 'PerImageOneHopMP_at50_iou_0.5': 0.007, 'PerImageOneHopMR_at50_iou_0.5': 0.013, 'PerImageOneHopMP_phrase_at100_iou_0.5': 0.028, 'PerImageOneHopMR_phrase_at100_iou_0.5': 0.104, 'PerImageOneHopMP_phrase_at50_iou_0.5': 0.043, 'PerImageOneHopMR_phrase_at50_iou_0.5': 0.08}\n",
      "Validation Results: {'PerImagePredMP': 0.3, 'PerImagePredMR': 0.971, 'PerImageOneHopMP_at100_iou_0.5': 0.004, 'PerImageOneHopMR_at100_iou_0.5': 0.017, 'PerImageOneHopMP_at50_iou_0.5': 0.006, 'PerImageOneHopMR_at50_iou_0.5': 0.015, 'PerImageOneHopMP_phrase_at100_iou_0.5': 0.027, 'PerImageOneHopMR_phrase_at100_iou_0.5': 0.103, 'PerImageOneHopMP_phrase_at50_iou_0.5': 0.043, 'PerImageOneHopMR_phrase_at50_iou_0.5': 0.082}\n",
      "Step 22000: loss = 5.8429999351501465 (32816.027 sec)\n",
      "Training Batch Evaluation Results: {'PerImagePredMP': 0.293, 'PerImagePredMR': 0.98, 'PerImageOneHopMP_at100_iou_0.5': 0.004, 'PerImageOneHopMR_at100_iou_0.5': 0.016, 'PerImageOneHopMP_at50_iou_0.5': 0.007, 'PerImageOneHopMR_at50_iou_0.5': 0.014, 'PerImageOneHopMP_phrase_at100_iou_0.5': 0.028, 'PerImageOneHopMR_phrase_at100_iou_0.5': 0.108, 'PerImageOneHopMP_phrase_at50_iou_0.5': 0.043, 'PerImageOneHopMR_phrase_at50_iou_0.5': 0.085}\n",
      "Validation Results: {'PerImagePredMP': 0.291, 'PerImagePredMR': 0.975, 'PerImageOneHopMP_at100_iou_0.5': 0.004, 'PerImageOneHopMR_at100_iou_0.5': 0.017, 'PerImageOneHopMP_at50_iou_0.5': 0.006, 'PerImageOneHopMR_at50_iou_0.5': 0.014, 'PerImageOneHopMP_phrase_at100_iou_0.5': 0.025, 'PerImageOneHopMR_phrase_at100_iou_0.5': 0.093, 'PerImageOneHopMP_phrase_at50_iou_0.5': 0.041, 'PerImageOneHopMR_phrase_at50_iou_0.5': 0.074}\n",
      "Step 23000: loss = 5.690999984741211 (34294.497 sec)\n",
      "Training Batch Evaluation Results: {'PerImagePredMP': 0.298, 'PerImagePredMR': 0.981, 'PerImageOneHopMP_at100_iou_0.5': 0.005, 'PerImageOneHopMR_at100_iou_0.5': 0.017, 'PerImageOneHopMP_at50_iou_0.5': 0.008, 'PerImageOneHopMR_at50_iou_0.5': 0.014, 'PerImageOneHopMP_phrase_at100_iou_0.5': 0.032, 'PerImageOneHopMR_phrase_at100_iou_0.5': 0.116, 'PerImageOneHopMP_phrase_at50_iou_0.5': 0.05, 'PerImageOneHopMR_phrase_at50_iou_0.5': 0.091}\n",
      "Validation Results: {'PerImagePredMP': 0.291, 'PerImagePredMR': 0.974, 'PerImageOneHopMP_at100_iou_0.5': 0.004, 'PerImageOneHopMR_at100_iou_0.5': 0.016, 'PerImageOneHopMP_at50_iou_0.5': 0.007, 'PerImageOneHopMR_at50_iou_0.5': 0.013, 'PerImageOneHopMP_phrase_at100_iou_0.5': 0.025, 'PerImageOneHopMR_phrase_at100_iou_0.5': 0.098, 'PerImageOneHopMP_phrase_at50_iou_0.5': 0.04, 'PerImageOneHopMR_phrase_at50_iou_0.5': 0.082}\n",
      "Step 24000: loss = 6.301000118255615 (35766.545 sec)\n",
      "Training Batch Evaluation Results: {'PerImagePredMP': 0.29, 'PerImagePredMR': 0.982, 'PerImageOneHopMP_at100_iou_0.5': 0.005, 'PerImageOneHopMR_at100_iou_0.5': 0.018, 'PerImageOneHopMP_at50_iou_0.5': 0.008, 'PerImageOneHopMR_at50_iou_0.5': 0.015, 'PerImageOneHopMP_phrase_at100_iou_0.5': 0.03, 'PerImageOneHopMR_phrase_at100_iou_0.5': 0.119, 'PerImageOneHopMP_phrase_at50_iou_0.5': 0.047, 'PerImageOneHopMR_phrase_at50_iou_0.5': 0.094}\n",
      "Validation Results: {'PerImagePredMP': 0.304, 'PerImagePredMR': 0.97, 'PerImageOneHopMP_at100_iou_0.5': 0.004, 'PerImageOneHopMR_at100_iou_0.5': 0.017, 'PerImageOneHopMP_at50_iou_0.5': 0.007, 'PerImageOneHopMR_at50_iou_0.5': 0.012, 'PerImageOneHopMP_phrase_at100_iou_0.5': 0.029, 'PerImageOneHopMR_phrase_at100_iou_0.5': 0.1, 'PerImageOneHopMP_phrase_at50_iou_0.5': 0.046, 'PerImageOneHopMR_phrase_at50_iou_0.5': 0.08}\n",
      "Step 25000: loss = 5.796999931335449 (37248.055 sec)\n",
      "Training Batch Evaluation Results: {'PerImagePredMP': 0.294, 'PerImagePredMR': 0.98, 'PerImageOneHopMP_at100_iou_0.5': 0.004, 'PerImageOneHopMR_at100_iou_0.5': 0.016, 'PerImageOneHopMP_at50_iou_0.5': 0.007, 'PerImageOneHopMR_at50_iou_0.5': 0.014, 'PerImageOneHopMP_phrase_at100_iou_0.5': 0.029, 'PerImageOneHopMR_phrase_at100_iou_0.5': 0.11, 'PerImageOneHopMP_phrase_at50_iou_0.5': 0.046, 'PerImageOneHopMR_phrase_at50_iou_0.5': 0.087}\n",
      "Validation Results: {'PerImagePredMP': 0.286, 'PerImagePredMR': 0.973, 'PerImageOneHopMP_at100_iou_0.5': 0.004, 'PerImageOneHopMR_at100_iou_0.5': 0.015, 'PerImageOneHopMP_at50_iou_0.5': 0.006, 'PerImageOneHopMR_at50_iou_0.5': 0.013, 'PerImageOneHopMP_phrase_at100_iou_0.5': 0.026, 'PerImageOneHopMR_phrase_at100_iou_0.5': 0.096, 'PerImageOneHopMP_phrase_at50_iou_0.5': 0.041, 'PerImageOneHopMR_phrase_at50_iou_0.5': 0.08}\n",
      "Step 26000: loss = 5.835000038146973 (38735.155 sec)\n",
      "Training Batch Evaluation Results: {'PerImagePredMP': 0.295, 'PerImagePredMR': 0.981, 'PerImageOneHopMP_at100_iou_0.5': 0.004, 'PerImageOneHopMR_at100_iou_0.5': 0.018, 'PerImageOneHopMP_at50_iou_0.5': 0.007, 'PerImageOneHopMR_at50_iou_0.5': 0.014, 'PerImageOneHopMP_phrase_at100_iou_0.5': 0.028, 'PerImageOneHopMR_phrase_at100_iou_0.5': 0.111, 'PerImageOneHopMP_phrase_at50_iou_0.5': 0.043, 'PerImageOneHopMR_phrase_at50_iou_0.5': 0.085}\n",
      "Validation Results: {'PerImagePredMP': 0.294, 'PerImagePredMR': 0.973, 'PerImageOneHopMP_at100_iou_0.5': 0.004, 'PerImageOneHopMR_at100_iou_0.5': 0.016, 'PerImageOneHopMP_at50_iou_0.5': 0.006, 'PerImageOneHopMR_at50_iou_0.5': 0.014, 'PerImageOneHopMP_phrase_at100_iou_0.5': 0.027, 'PerImageOneHopMR_phrase_at100_iou_0.5': 0.097, 'PerImageOneHopMP_phrase_at50_iou_0.5': 0.041, 'PerImageOneHopMR_phrase_at50_iou_0.5': 0.075}\n",
      "Step 27000: loss = 4.7129998207092285 (40219.630 sec)\n",
      "Training Batch Evaluation Results: {'PerImagePredMP': 0.289, 'PerImagePredMR': 0.981, 'PerImageOneHopMP_at100_iou_0.5': 0.005, 'PerImageOneHopMR_at100_iou_0.5': 0.019, 'PerImageOneHopMP_at50_iou_0.5': 0.008, 'PerImageOneHopMR_at50_iou_0.5': 0.016, 'PerImageOneHopMP_phrase_at100_iou_0.5': 0.029, 'PerImageOneHopMR_phrase_at100_iou_0.5': 0.112, 'PerImageOneHopMP_phrase_at50_iou_0.5': 0.045, 'PerImageOneHopMR_phrase_at50_iou_0.5': 0.089}\n",
      "Validation Results: {'PerImagePredMP': 0.293, 'PerImagePredMR': 0.974, 'PerImageOneHopMP_at100_iou_0.5': 0.005, 'PerImageOneHopMR_at100_iou_0.5': 0.019, 'PerImageOneHopMP_at50_iou_0.5': 0.009, 'PerImageOneHopMR_at50_iou_0.5': 0.017, 'PerImageOneHopMP_phrase_at100_iou_0.5': 0.028, 'PerImageOneHopMR_phrase_at100_iou_0.5': 0.101, 'PerImageOneHopMP_phrase_at50_iou_0.5': 0.043, 'PerImageOneHopMR_phrase_at50_iou_0.5': 0.081}\n",
      "Step 28000: loss = 5.334000110626221 (41707.241 sec)\n",
      "Training Batch Evaluation Results: {'PerImagePredMP': 0.297, 'PerImagePredMR': 0.981, 'PerImageOneHopMP_at100_iou_0.5': 0.004, 'PerImageOneHopMR_at100_iou_0.5': 0.019, 'PerImageOneHopMP_at50_iou_0.5': 0.007, 'PerImageOneHopMR_at50_iou_0.5': 0.016, 'PerImageOneHopMP_phrase_at100_iou_0.5': 0.032, 'PerImageOneHopMR_phrase_at100_iou_0.5': 0.123, 'PerImageOneHopMP_phrase_at50_iou_0.5': 0.049, 'PerImageOneHopMR_phrase_at50_iou_0.5': 0.099}\n",
      "Validation Results: {'PerImagePredMP': 0.302, 'PerImagePredMR': 0.967, 'PerImageOneHopMP_at100_iou_0.5': 0.004, 'PerImageOneHopMR_at100_iou_0.5': 0.017, 'PerImageOneHopMP_at50_iou_0.5': 0.007, 'PerImageOneHopMR_at50_iou_0.5': 0.015, 'PerImageOneHopMP_phrase_at100_iou_0.5': 0.025, 'PerImageOneHopMR_phrase_at100_iou_0.5': 0.092, 'PerImageOneHopMP_phrase_at50_iou_0.5': 0.04, 'PerImageOneHopMR_phrase_at50_iou_0.5': 0.075}\n",
      "Step 29000: loss = 5.53000020980835 (43175.976 sec)\n",
      "Training Batch Evaluation Results: {'PerImagePredMP': 0.29, 'PerImagePredMR': 0.981, 'PerImageOneHopMP_at100_iou_0.5': 0.004, 'PerImageOneHopMR_at100_iou_0.5': 0.018, 'PerImageOneHopMP_at50_iou_0.5': 0.007, 'PerImageOneHopMR_at50_iou_0.5': 0.015, 'PerImageOneHopMP_phrase_at100_iou_0.5': 0.028, 'PerImageOneHopMR_phrase_at100_iou_0.5': 0.112, 'PerImageOneHopMP_phrase_at50_iou_0.5': 0.043, 'PerImageOneHopMR_phrase_at50_iou_0.5': 0.091}\n",
      "Validation Results: {'PerImagePredMP': 0.288, 'PerImagePredMR': 0.974, 'PerImageOneHopMP_at100_iou_0.5': 0.004, 'PerImageOneHopMR_at100_iou_0.5': 0.015, 'PerImageOneHopMP_at50_iou_0.5': 0.007, 'PerImageOneHopMR_at50_iou_0.5': 0.014, 'PerImageOneHopMP_phrase_at100_iou_0.5': 0.024, 'PerImageOneHopMR_phrase_at100_iou_0.5': 0.093, 'PerImageOneHopMP_phrase_at50_iou_0.5': 0.038, 'PerImageOneHopMR_phrase_at50_iou_0.5': 0.078}\n",
      "Step 30000: loss = 5.190000057220459 (44660.360 sec)\n",
      "Training Batch Evaluation Results: {'PerImagePredMP': 0.293, 'PerImagePredMR': 0.984, 'PerImageOneHopMP_at100_iou_0.5': 0.004, 'PerImageOneHopMR_at100_iou_0.5': 0.017, 'PerImageOneHopMP_at50_iou_0.5': 0.007, 'PerImageOneHopMR_at50_iou_0.5': 0.014, 'PerImageOneHopMP_phrase_at100_iou_0.5': 0.029, 'PerImageOneHopMR_phrase_at100_iou_0.5': 0.118, 'PerImageOneHopMP_phrase_at50_iou_0.5': 0.046, 'PerImageOneHopMR_phrase_at50_iou_0.5': 0.093}\n",
      "Validation Results: {'PerImagePredMP': 0.301, 'PerImagePredMR': 0.973, 'PerImageOneHopMP_at100_iou_0.5': 0.004, 'PerImageOneHopMR_at100_iou_0.5': 0.014, 'PerImageOneHopMP_at50_iou_0.5': 0.007, 'PerImageOneHopMR_at50_iou_0.5': 0.012, 'PerImageOneHopMP_phrase_at100_iou_0.5': 0.024, 'PerImageOneHopMR_phrase_at100_iou_0.5': 0.087, 'PerImageOneHopMP_phrase_at50_iou_0.5': 0.037, 'PerImageOneHopMR_phrase_at50_iou_0.5': 0.071}\n"
     ]
    }
   ],
   "source": [
    "trainer.train (\n",
    "    max_steps=30000,\n",
    "    train_eval_rate=100, \n",
    "    validation_rate=100, \n",
    "    verbose_rate=1000, \n",
    "    summary_rate=100, \n",
    "    checkpoint_rate=10000, \n",
    "    hyperparams = {\n",
    "        'learning_rate_generator': 1e-5 * batcher.batch_size,\n",
    "\n",
    "        'loss_factor_g_mil_ent': 1.0,\n",
    "        'loss_factor_g_mil_ent_conf': 0.0,\n",
    "        'loss_factor_g_mil_pred': 1.0,\n",
    "        'loss_factor_g_mil_pred_conf': 0.0,\n",
    "        'loss_factor_g_mil_role': 10.0,\n",
    "        'loss_factor_g_mil_box': 0.0,\n",
    "        'loss_factor_g_aux_emb_ent': 0.0,\n",
    "        'loss_factor_g_aux_emb_pred': 0.0,\n",
    "\n",
    "        'confidence_weight_on_role': 0.0,\n",
    "        'grad_clipping': 5.0,\n",
    "        'mil_iou_offset': 0.01,\n",
    "        'dropout_rate_g': 0.0,\n",
    "    },\n",
    "    validation_hyperparams = {\n",
    "        'dropout_rate_g': 0.0,\n",
    "        'confidence_weight_on_role': 0.0\n",
    "    },\n",
    ")\n"
   ]
  },
  {
   "cell_type": "code",
   "execution_count": 17,
   "metadata": {},
   "outputs": [
    {
     "name": "stdout",
     "output_type": "stream",
     "text": [
      "Step 31000: loss = 5.250999927520752 (1479.511 sec)\n",
      "Training Batch Evaluation Results: {'PerImagePredMP': 0.301, 'PerImagePredMR': 0.983, 'PerImageOneHopMP_at100_iou_0.5': 0.005, 'PerImageOneHopMR_at100_iou_0.5': 0.018, 'PerImageOneHopMP_at50_iou_0.5': 0.008, 'PerImageOneHopMR_at50_iou_0.5': 0.016, 'PerImageOneHopMP_phrase_at100_iou_0.5': 0.032, 'PerImageOneHopMR_phrase_at100_iou_0.5': 0.123, 'PerImageOneHopMP_phrase_at50_iou_0.5': 0.05, 'PerImageOneHopMR_phrase_at50_iou_0.5': 0.099}\n",
      "Validation Results: {'PerImagePredMP': 0.301, 'PerImagePredMR': 0.975, 'PerImageOneHopMP_at100_iou_0.5': 0.005, 'PerImageOneHopMR_at100_iou_0.5': 0.017, 'PerImageOneHopMP_at50_iou_0.5': 0.008, 'PerImageOneHopMR_at50_iou_0.5': 0.016, 'PerImageOneHopMP_phrase_at100_iou_0.5': 0.031, 'PerImageOneHopMR_phrase_at100_iou_0.5': 0.109, 'PerImageOneHopMP_phrase_at50_iou_0.5': 0.049, 'PerImageOneHopMR_phrase_at50_iou_0.5': 0.087}\n",
      "Step 32000: loss = 5.447999954223633 (2978.150 sec)\n",
      "Training Batch Evaluation Results: {'PerImagePredMP': 0.304, 'PerImagePredMR': 0.986, 'PerImageOneHopMP_at100_iou_0.5': 0.005, 'PerImageOneHopMR_at100_iou_0.5': 0.02, 'PerImageOneHopMP_at50_iou_0.5': 0.009, 'PerImageOneHopMR_at50_iou_0.5': 0.016, 'PerImageOneHopMP_phrase_at100_iou_0.5': 0.035, 'PerImageOneHopMR_phrase_at100_iou_0.5': 0.136, 'PerImageOneHopMP_phrase_at50_iou_0.5': 0.055, 'PerImageOneHopMR_phrase_at50_iou_0.5': 0.107}\n",
      "Validation Results: {'PerImagePredMP': 0.304, 'PerImagePredMR': 0.974, 'PerImageOneHopMP_at100_iou_0.5': 0.004, 'PerImageOneHopMR_at100_iou_0.5': 0.015, 'PerImageOneHopMP_at50_iou_0.5': 0.007, 'PerImageOneHopMR_at50_iou_0.5': 0.012, 'PerImageOneHopMP_phrase_at100_iou_0.5': 0.03, 'PerImageOneHopMR_phrase_at100_iou_0.5': 0.105, 'PerImageOneHopMP_phrase_at50_iou_0.5': 0.048, 'PerImageOneHopMR_phrase_at50_iou_0.5': 0.083}\n",
      "Step 33000: loss = 5.690000057220459 (4477.924 sec)\n",
      "Training Batch Evaluation Results: {'PerImagePredMP': 0.302, 'PerImagePredMR': 0.985, 'PerImageOneHopMP_at100_iou_0.5': 0.006, 'PerImageOneHopMR_at100_iou_0.5': 0.022, 'PerImageOneHopMP_at50_iou_0.5': 0.01, 'PerImageOneHopMR_at50_iou_0.5': 0.019, 'PerImageOneHopMP_phrase_at100_iou_0.5': 0.033, 'PerImageOneHopMR_phrase_at100_iou_0.5': 0.131, 'PerImageOneHopMP_phrase_at50_iou_0.5': 0.051, 'PerImageOneHopMR_phrase_at50_iou_0.5': 0.104}\n",
      "Validation Results: {'PerImagePredMP': 0.302, 'PerImagePredMR': 0.975, 'PerImageOneHopMP_at100_iou_0.5': 0.005, 'PerImageOneHopMR_at100_iou_0.5': 0.02, 'PerImageOneHopMP_at50_iou_0.5': 0.008, 'PerImageOneHopMR_at50_iou_0.5': 0.018, 'PerImageOneHopMP_phrase_at100_iou_0.5': 0.031, 'PerImageOneHopMR_phrase_at100_iou_0.5': 0.109, 'PerImageOneHopMP_phrase_at50_iou_0.5': 0.049, 'PerImageOneHopMR_phrase_at50_iou_0.5': 0.092}\n",
      "Step 34000: loss = 4.638999938964844 (5974.000 sec)\n",
      "Training Batch Evaluation Results: {'PerImagePredMP': 0.304, 'PerImagePredMR': 0.986, 'PerImageOneHopMP_at100_iou_0.5': 0.005, 'PerImageOneHopMR_at100_iou_0.5': 0.019, 'PerImageOneHopMP_at50_iou_0.5': 0.008, 'PerImageOneHopMR_at50_iou_0.5': 0.016, 'PerImageOneHopMP_phrase_at100_iou_0.5': 0.035, 'PerImageOneHopMR_phrase_at100_iou_0.5': 0.136, 'PerImageOneHopMP_phrase_at50_iou_0.5': 0.054, 'PerImageOneHopMR_phrase_at50_iou_0.5': 0.109}\n",
      "Validation Results: {'PerImagePredMP': 0.304, 'PerImagePredMR': 0.973, 'PerImageOneHopMP_at100_iou_0.5': 0.004, 'PerImageOneHopMR_at100_iou_0.5': 0.014, 'PerImageOneHopMP_at50_iou_0.5': 0.007, 'PerImageOneHopMR_at50_iou_0.5': 0.012, 'PerImageOneHopMP_phrase_at100_iou_0.5': 0.031, 'PerImageOneHopMR_phrase_at100_iou_0.5': 0.106, 'PerImageOneHopMP_phrase_at50_iou_0.5': 0.048, 'PerImageOneHopMR_phrase_at50_iou_0.5': 0.084}\n",
      "Step 35000: loss = 5.158999919891357 (7494.470 sec)\n",
      "Training Batch Evaluation Results: {'PerImagePredMP': 0.304, 'PerImagePredMR': 0.985, 'PerImageOneHopMP_at100_iou_0.5': 0.006, 'PerImageOneHopMR_at100_iou_0.5': 0.023, 'PerImageOneHopMP_at50_iou_0.5': 0.01, 'PerImageOneHopMR_at50_iou_0.5': 0.019, 'PerImageOneHopMP_phrase_at100_iou_0.5': 0.036, 'PerImageOneHopMR_phrase_at100_iou_0.5': 0.14, 'PerImageOneHopMP_phrase_at50_iou_0.5': 0.056, 'PerImageOneHopMR_phrase_at50_iou_0.5': 0.111}\n",
      "Validation Results: {'PerImagePredMP': 0.299, 'PerImagePredMR': 0.975, 'PerImageOneHopMP_at100_iou_0.5': 0.004, 'PerImageOneHopMR_at100_iou_0.5': 0.019, 'PerImageOneHopMP_at50_iou_0.5': 0.007, 'PerImageOneHopMR_at50_iou_0.5': 0.017, 'PerImageOneHopMP_phrase_at100_iou_0.5': 0.031, 'PerImageOneHopMR_phrase_at100_iou_0.5': 0.112, 'PerImageOneHopMP_phrase_at50_iou_0.5': 0.048, 'PerImageOneHopMR_phrase_at50_iou_0.5': 0.09}\n",
      "Step 36000: loss = 4.802000045776367 (8997.707 sec)\n",
      "Training Batch Evaluation Results: {'PerImagePredMP': 0.305, 'PerImagePredMR': 0.986, 'PerImageOneHopMP_at100_iou_0.5': 0.006, 'PerImageOneHopMR_at100_iou_0.5': 0.024, 'PerImageOneHopMP_at50_iou_0.5': 0.01, 'PerImageOneHopMR_at50_iou_0.5': 0.021, 'PerImageOneHopMP_phrase_at100_iou_0.5': 0.036, 'PerImageOneHopMR_phrase_at100_iou_0.5': 0.149, 'PerImageOneHopMP_phrase_at50_iou_0.5': 0.057, 'PerImageOneHopMR_phrase_at50_iou_0.5': 0.122}\n",
      "Validation Results: {'PerImagePredMP': 0.304, 'PerImagePredMR': 0.974, 'PerImageOneHopMP_at100_iou_0.5': 0.004, 'PerImageOneHopMR_at100_iou_0.5': 0.017, 'PerImageOneHopMP_at50_iou_0.5': 0.008, 'PerImageOneHopMR_at50_iou_0.5': 0.016, 'PerImageOneHopMP_phrase_at100_iou_0.5': 0.029, 'PerImageOneHopMR_phrase_at100_iou_0.5': 0.102, 'PerImageOneHopMP_phrase_at50_iou_0.5': 0.047, 'PerImageOneHopMR_phrase_at50_iou_0.5': 0.086}\n",
      "Step 37000: loss = 5.642000198364258 (10501.994 sec)\n",
      "Training Batch Evaluation Results: {'PerImagePredMP': 0.305, 'PerImagePredMR': 0.987, 'PerImageOneHopMP_at100_iou_0.5': 0.005, 'PerImageOneHopMR_at100_iou_0.5': 0.02, 'PerImageOneHopMP_at50_iou_0.5': 0.009, 'PerImageOneHopMR_at50_iou_0.5': 0.018, 'PerImageOneHopMP_phrase_at100_iou_0.5': 0.036, 'PerImageOneHopMR_phrase_at100_iou_0.5': 0.144, 'PerImageOneHopMP_phrase_at50_iou_0.5': 0.058, 'PerImageOneHopMR_phrase_at50_iou_0.5': 0.118}\n",
      "Validation Results: {'PerImagePredMP': 0.304, 'PerImagePredMR': 0.974, 'PerImageOneHopMP_at100_iou_0.5': 0.004, 'PerImageOneHopMR_at100_iou_0.5': 0.015, 'PerImageOneHopMP_at50_iou_0.5': 0.006, 'PerImageOneHopMR_at50_iou_0.5': 0.012, 'PerImageOneHopMP_phrase_at100_iou_0.5': 0.031, 'PerImageOneHopMR_phrase_at100_iou_0.5': 0.109, 'PerImageOneHopMP_phrase_at50_iou_0.5': 0.049, 'PerImageOneHopMR_phrase_at50_iou_0.5': 0.088}\n",
      "Step 38000: loss = 5.306000232696533 (12005.928 sec)\n",
      "Training Batch Evaluation Results: {'PerImagePredMP': 0.302, 'PerImagePredMR': 0.987, 'PerImageOneHopMP_at100_iou_0.5': 0.005, 'PerImageOneHopMR_at100_iou_0.5': 0.02, 'PerImageOneHopMP_at50_iou_0.5': 0.009, 'PerImageOneHopMR_at50_iou_0.5': 0.017, 'PerImageOneHopMP_phrase_at100_iou_0.5': 0.034, 'PerImageOneHopMR_phrase_at100_iou_0.5': 0.139, 'PerImageOneHopMP_phrase_at50_iou_0.5': 0.053, 'PerImageOneHopMR_phrase_at50_iou_0.5': 0.112}\n",
      "Validation Results: {'PerImagePredMP': 0.305, 'PerImagePredMR': 0.975, 'PerImageOneHopMP_at100_iou_0.5': 0.004, 'PerImageOneHopMR_at100_iou_0.5': 0.018, 'PerImageOneHopMP_at50_iou_0.5': 0.007, 'PerImageOneHopMR_at50_iou_0.5': 0.015, 'PerImageOneHopMP_phrase_at100_iou_0.5': 0.03, 'PerImageOneHopMR_phrase_at100_iou_0.5': 0.108, 'PerImageOneHopMP_phrase_at50_iou_0.5': 0.047, 'PerImageOneHopMR_phrase_at50_iou_0.5': 0.088}\n",
      "Step 39000: loss = 4.914999961853027 (13508.317 sec)\n",
      "Training Batch Evaluation Results: {'PerImagePredMP': 0.307, 'PerImagePredMR': 0.988, 'PerImageOneHopMP_at100_iou_0.5': 0.006, 'PerImageOneHopMR_at100_iou_0.5': 0.023, 'PerImageOneHopMP_at50_iou_0.5': 0.01, 'PerImageOneHopMR_at50_iou_0.5': 0.02, 'PerImageOneHopMP_phrase_at100_iou_0.5': 0.039, 'PerImageOneHopMR_phrase_at100_iou_0.5': 0.17, 'PerImageOneHopMP_phrase_at50_iou_0.5': 0.061, 'PerImageOneHopMR_phrase_at50_iou_0.5': 0.137}\n",
      "Validation Results: {'PerImagePredMP': 0.304, 'PerImagePredMR': 0.973, 'PerImageOneHopMP_at100_iou_0.5': 0.004, 'PerImageOneHopMR_at100_iou_0.5': 0.014, 'PerImageOneHopMP_at50_iou_0.5': 0.006, 'PerImageOneHopMR_at50_iou_0.5': 0.013, 'PerImageOneHopMP_phrase_at100_iou_0.5': 0.029, 'PerImageOneHopMR_phrase_at100_iou_0.5': 0.108, 'PerImageOneHopMP_phrase_at50_iou_0.5': 0.047, 'PerImageOneHopMR_phrase_at50_iou_0.5': 0.086}\n",
      "Step 40000: loss = 4.553999900817871 (15019.086 sec)\n",
      "Training Batch Evaluation Results: {'PerImagePredMP': 0.304, 'PerImagePredMR': 0.986, 'PerImageOneHopMP_at100_iou_0.5': 0.005, 'PerImageOneHopMR_at100_iou_0.5': 0.023, 'PerImageOneHopMP_at50_iou_0.5': 0.009, 'PerImageOneHopMR_at50_iou_0.5': 0.02, 'PerImageOneHopMP_phrase_at100_iou_0.5': 0.034, 'PerImageOneHopMR_phrase_at100_iou_0.5': 0.145, 'PerImageOneHopMP_phrase_at50_iou_0.5': 0.054, 'PerImageOneHopMR_phrase_at50_iou_0.5': 0.117}\n",
      "Validation Results: {'PerImagePredMP': 0.305, 'PerImagePredMR': 0.973, 'PerImageOneHopMP_at100_iou_0.5': 0.004, 'PerImageOneHopMR_at100_iou_0.5': 0.019, 'PerImageOneHopMP_at50_iou_0.5': 0.008, 'PerImageOneHopMR_at50_iou_0.5': 0.015, 'PerImageOneHopMP_phrase_at100_iou_0.5': 0.029, 'PerImageOneHopMR_phrase_at100_iou_0.5': 0.103, 'PerImageOneHopMP_phrase_at50_iou_0.5': 0.045, 'PerImageOneHopMR_phrase_at50_iou_0.5': 0.081}\n",
      "Step 41000: loss = 4.209000110626221 (16510.741 sec)\n",
      "Training Batch Evaluation Results: {'PerImagePredMP': 0.311, 'PerImagePredMR': 0.986, 'PerImageOneHopMP_at100_iou_0.5': 0.006, 'PerImageOneHopMR_at100_iou_0.5': 0.023, 'PerImageOneHopMP_at50_iou_0.5': 0.01, 'PerImageOneHopMR_at50_iou_0.5': 0.02, 'PerImageOneHopMP_phrase_at100_iou_0.5': 0.037, 'PerImageOneHopMR_phrase_at100_iou_0.5': 0.15, 'PerImageOneHopMP_phrase_at50_iou_0.5': 0.059, 'PerImageOneHopMR_phrase_at50_iou_0.5': 0.121}\n",
      "Validation Results: {'PerImagePredMP': 0.31, 'PerImagePredMR': 0.973, 'PerImageOneHopMP_at100_iou_0.5': 0.004, 'PerImageOneHopMR_at100_iou_0.5': 0.016, 'PerImageOneHopMP_at50_iou_0.5': 0.007, 'PerImageOneHopMR_at50_iou_0.5': 0.014, 'PerImageOneHopMP_phrase_at100_iou_0.5': 0.03, 'PerImageOneHopMR_phrase_at100_iou_0.5': 0.109, 'PerImageOneHopMP_phrase_at50_iou_0.5': 0.048, 'PerImageOneHopMR_phrase_at50_iou_0.5': 0.084}\n",
      "Step 42000: loss = 5.375999927520752 (18024.835 sec)\n",
      "Training Batch Evaluation Results: {'PerImagePredMP': 0.304, 'PerImagePredMR': 0.987, 'PerImageOneHopMP_at100_iou_0.5': 0.006, 'PerImageOneHopMR_at100_iou_0.5': 0.024, 'PerImageOneHopMP_at50_iou_0.5': 0.01, 'PerImageOneHopMR_at50_iou_0.5': 0.021, 'PerImageOneHopMP_phrase_at100_iou_0.5': 0.039, 'PerImageOneHopMR_phrase_at100_iou_0.5': 0.163, 'PerImageOneHopMP_phrase_at50_iou_0.5': 0.06, 'PerImageOneHopMR_phrase_at50_iou_0.5': 0.131}\n",
      "Validation Results: {'PerImagePredMP': 0.308, 'PerImagePredMR': 0.972, 'PerImageOneHopMP_at100_iou_0.5': 0.005, 'PerImageOneHopMR_at100_iou_0.5': 0.017, 'PerImageOneHopMP_at50_iou_0.5': 0.008, 'PerImageOneHopMR_at50_iou_0.5': 0.016, 'PerImageOneHopMP_phrase_at100_iou_0.5': 0.03, 'PerImageOneHopMR_phrase_at100_iou_0.5': 0.111, 'PerImageOneHopMP_phrase_at50_iou_0.5': 0.049, 'PerImageOneHopMR_phrase_at50_iou_0.5': 0.089}\n",
      "Step 43000: loss = 4.236999988555908 (19514.713 sec)\n",
      "Training Batch Evaluation Results: {'PerImagePredMP': 0.305, 'PerImagePredMR': 0.988, 'PerImageOneHopMP_at100_iou_0.5': 0.006, 'PerImageOneHopMR_at100_iou_0.5': 0.023, 'PerImageOneHopMP_at50_iou_0.5': 0.01, 'PerImageOneHopMR_at50_iou_0.5': 0.02, 'PerImageOneHopMP_phrase_at100_iou_0.5': 0.038, 'PerImageOneHopMR_phrase_at100_iou_0.5': 0.159, 'PerImageOneHopMP_phrase_at50_iou_0.5': 0.061, 'PerImageOneHopMR_phrase_at50_iou_0.5': 0.131}\n",
      "Validation Results: {'PerImagePredMP': 0.306, 'PerImagePredMR': 0.969, 'PerImageOneHopMP_at100_iou_0.5': 0.005, 'PerImageOneHopMR_at100_iou_0.5': 0.019, 'PerImageOneHopMP_at50_iou_0.5': 0.008, 'PerImageOneHopMR_at50_iou_0.5': 0.017, 'PerImageOneHopMP_phrase_at100_iou_0.5': 0.029, 'PerImageOneHopMR_phrase_at100_iou_0.5': 0.105, 'PerImageOneHopMP_phrase_at50_iou_0.5': 0.048, 'PerImageOneHopMR_phrase_at50_iou_0.5': 0.088}\n",
      "Step 44000: loss = 4.451000213623047 (21033.214 sec)\n",
      "Training Batch Evaluation Results: {'PerImagePredMP': 0.306, 'PerImagePredMR': 0.988, 'PerImageOneHopMP_at100_iou_0.5': 0.005, 'PerImageOneHopMR_at100_iou_0.5': 0.021, 'PerImageOneHopMP_at50_iou_0.5': 0.008, 'PerImageOneHopMR_at50_iou_0.5': 0.018, 'PerImageOneHopMP_phrase_at100_iou_0.5': 0.037, 'PerImageOneHopMR_phrase_at100_iou_0.5': 0.156, 'PerImageOneHopMP_phrase_at50_iou_0.5': 0.058, 'PerImageOneHopMR_phrase_at50_iou_0.5': 0.125}\n",
      "Validation Results: {'PerImagePredMP': 0.306, 'PerImagePredMR': 0.973, 'PerImageOneHopMP_at100_iou_0.5': 0.004, 'PerImageOneHopMR_at100_iou_0.5': 0.015, 'PerImageOneHopMP_at50_iou_0.5': 0.007, 'PerImageOneHopMR_at50_iou_0.5': 0.014, 'PerImageOneHopMP_phrase_at100_iou_0.5': 0.029, 'PerImageOneHopMR_phrase_at100_iou_0.5': 0.108, 'PerImageOneHopMP_phrase_at50_iou_0.5': 0.046, 'PerImageOneHopMR_phrase_at50_iou_0.5': 0.087}\n",
      "Step 45000: loss = 4.46999979019165 (22528.059 sec)\n",
      "Training Batch Evaluation Results: {'PerImagePredMP': 0.306, 'PerImagePredMR': 0.987, 'PerImageOneHopMP_at100_iou_0.5': 0.007, 'PerImageOneHopMR_at100_iou_0.5': 0.026, 'PerImageOneHopMP_at50_iou_0.5': 0.011, 'PerImageOneHopMR_at50_iou_0.5': 0.023, 'PerImageOneHopMP_phrase_at100_iou_0.5': 0.038, 'PerImageOneHopMR_phrase_at100_iou_0.5': 0.16, 'PerImageOneHopMP_phrase_at50_iou_0.5': 0.06, 'PerImageOneHopMR_phrase_at50_iou_0.5': 0.129}\n",
      "Validation Results: {'PerImagePredMP': 0.307, 'PerImagePredMR': 0.972, 'PerImageOneHopMP_at100_iou_0.5': 0.004, 'PerImageOneHopMR_at100_iou_0.5': 0.017, 'PerImageOneHopMP_at50_iou_0.5': 0.007, 'PerImageOneHopMR_at50_iou_0.5': 0.015, 'PerImageOneHopMP_phrase_at100_iou_0.5': 0.028, 'PerImageOneHopMR_phrase_at100_iou_0.5': 0.107, 'PerImageOneHopMP_phrase_at50_iou_0.5': 0.044, 'PerImageOneHopMR_phrase_at50_iou_0.5': 0.089}\n",
      "Step 46000: loss = 4.302999973297119 (24038.266 sec)\n",
      "Training Batch Evaluation Results: {'PerImagePredMP': 0.306, 'PerImagePredMR': 0.988, 'PerImageOneHopMP_at100_iou_0.5': 0.006, 'PerImageOneHopMR_at100_iou_0.5': 0.025, 'PerImageOneHopMP_at50_iou_0.5': 0.01, 'PerImageOneHopMR_at50_iou_0.5': 0.021, 'PerImageOneHopMP_phrase_at100_iou_0.5': 0.035, 'PerImageOneHopMR_phrase_at100_iou_0.5': 0.153, 'PerImageOneHopMP_phrase_at50_iou_0.5': 0.055, 'PerImageOneHopMR_phrase_at50_iou_0.5': 0.124}\n",
      "Validation Results: {'PerImagePredMP': 0.306, 'PerImagePredMR': 0.973, 'PerImageOneHopMP_at100_iou_0.5': 0.004, 'PerImageOneHopMR_at100_iou_0.5': 0.015, 'PerImageOneHopMP_at50_iou_0.5': 0.007, 'PerImageOneHopMR_at50_iou_0.5': 0.013, 'PerImageOneHopMP_phrase_at100_iou_0.5': 0.029, 'PerImageOneHopMR_phrase_at100_iou_0.5': 0.104, 'PerImageOneHopMP_phrase_at50_iou_0.5': 0.045, 'PerImageOneHopMR_phrase_at50_iou_0.5': 0.082}\n",
      "Step 47000: loss = 4.552000045776367 (25538.496 sec)\n",
      "Training Batch Evaluation Results: {'PerImagePredMP': 0.308, 'PerImagePredMR': 0.986, 'PerImageOneHopMP_at100_iou_0.5': 0.006, 'PerImageOneHopMR_at100_iou_0.5': 0.025, 'PerImageOneHopMP_at50_iou_0.5': 0.009, 'PerImageOneHopMR_at50_iou_0.5': 0.021, 'PerImageOneHopMP_phrase_at100_iou_0.5': 0.037, 'PerImageOneHopMR_phrase_at100_iou_0.5': 0.162, 'PerImageOneHopMP_phrase_at50_iou_0.5': 0.057, 'PerImageOneHopMR_phrase_at50_iou_0.5': 0.13}\n",
      "Validation Results: {'PerImagePredMP': 0.306, 'PerImagePredMR': 0.972, 'PerImageOneHopMP_at100_iou_0.5': 0.004, 'PerImageOneHopMR_at100_iou_0.5': 0.018, 'PerImageOneHopMP_at50_iou_0.5': 0.006, 'PerImageOneHopMR_at50_iou_0.5': 0.016, 'PerImageOneHopMP_phrase_at100_iou_0.5': 0.029, 'PerImageOneHopMR_phrase_at100_iou_0.5': 0.108, 'PerImageOneHopMP_phrase_at50_iou_0.5': 0.045, 'PerImageOneHopMR_phrase_at50_iou_0.5': 0.087}\n",
      "Step 48000: loss = 3.9600000381469727 (27056.114 sec)\n",
      "Training Batch Evaluation Results: {'PerImagePredMP': 0.309, 'PerImagePredMR': 0.99, 'PerImageOneHopMP_at100_iou_0.5': 0.006, 'PerImageOneHopMR_at100_iou_0.5': 0.025, 'PerImageOneHopMP_at50_iou_0.5': 0.01, 'PerImageOneHopMR_at50_iou_0.5': 0.02, 'PerImageOneHopMP_phrase_at100_iou_0.5': 0.04, 'PerImageOneHopMR_phrase_at100_iou_0.5': 0.169, 'PerImageOneHopMP_phrase_at50_iou_0.5': 0.062, 'PerImageOneHopMR_phrase_at50_iou_0.5': 0.137}\n",
      "Validation Results: {'PerImagePredMP': 0.311, 'PerImagePredMR': 0.97, 'PerImageOneHopMP_at100_iou_0.5': 0.004, 'PerImageOneHopMR_at100_iou_0.5': 0.014, 'PerImageOneHopMP_at50_iou_0.5': 0.006, 'PerImageOneHopMR_at50_iou_0.5': 0.012, 'PerImageOneHopMP_phrase_at100_iou_0.5': 0.028, 'PerImageOneHopMR_phrase_at100_iou_0.5': 0.109, 'PerImageOneHopMP_phrase_at50_iou_0.5': 0.044, 'PerImageOneHopMR_phrase_at50_iou_0.5': 0.086}\n",
      "Step 49000: loss = 4.795000076293945 (28558.260 sec)\n",
      "Training Batch Evaluation Results: {'PerImagePredMP': 0.306, 'PerImagePredMR': 0.988, 'PerImageOneHopMP_at100_iou_0.5': 0.007, 'PerImageOneHopMR_at100_iou_0.5': 0.026, 'PerImageOneHopMP_at50_iou_0.5': 0.011, 'PerImageOneHopMR_at50_iou_0.5': 0.022, 'PerImageOneHopMP_phrase_at100_iou_0.5': 0.038, 'PerImageOneHopMR_phrase_at100_iou_0.5': 0.159, 'PerImageOneHopMP_phrase_at50_iou_0.5': 0.06, 'PerImageOneHopMR_phrase_at50_iou_0.5': 0.13}\n",
      "Validation Results: {'PerImagePredMP': 0.302, 'PerImagePredMR': 0.973, 'PerImageOneHopMP_at100_iou_0.5': 0.004, 'PerImageOneHopMR_at100_iou_0.5': 0.019, 'PerImageOneHopMP_at50_iou_0.5': 0.007, 'PerImageOneHopMR_at50_iou_0.5': 0.018, 'PerImageOneHopMP_phrase_at100_iou_0.5': 0.029, 'PerImageOneHopMR_phrase_at100_iou_0.5': 0.108, 'PerImageOneHopMP_phrase_at50_iou_0.5': 0.046, 'PerImageOneHopMR_phrase_at50_iou_0.5': 0.09}\n",
      "Step 50000: loss = 4.304999828338623 (30048.534 sec)\n",
      "Training Batch Evaluation Results: {'PerImagePredMP': 0.31, 'PerImagePredMR': 0.99, 'PerImageOneHopMP_at100_iou_0.5': 0.006, 'PerImageOneHopMR_at100_iou_0.5': 0.026, 'PerImageOneHopMP_at50_iou_0.5': 0.01, 'PerImageOneHopMR_at50_iou_0.5': 0.023, 'PerImageOneHopMP_phrase_at100_iou_0.5': 0.039, 'PerImageOneHopMR_phrase_at100_iou_0.5': 0.169, 'PerImageOneHopMP_phrase_at50_iou_0.5': 0.06, 'PerImageOneHopMR_phrase_at50_iou_0.5': 0.14}\n",
      "Validation Results: {'PerImagePredMP': 0.311, 'PerImagePredMR': 0.97, 'PerImageOneHopMP_at100_iou_0.5': 0.004, 'PerImageOneHopMR_at100_iou_0.5': 0.016, 'PerImageOneHopMP_at50_iou_0.5': 0.007, 'PerImageOneHopMR_at50_iou_0.5': 0.014, 'PerImageOneHopMP_phrase_at100_iou_0.5': 0.028, 'PerImageOneHopMR_phrase_at100_iou_0.5': 0.103, 'PerImageOneHopMP_phrase_at50_iou_0.5': 0.044, 'PerImageOneHopMR_phrase_at50_iou_0.5': 0.082}\n"
     ]
    }
   ],
   "source": [
    "trainer.train (\n",
    "    max_steps=20000,\n",
    "    train_eval_rate=100, \n",
    "    validation_rate=100, \n",
    "    verbose_rate=1000, \n",
    "    summary_rate=100, \n",
    "    checkpoint_rate=1000, \n",
    "    hyperparams = {\n",
    "        'learning_rate_generator': 1e-6 * batcher.batch_size,\n",
    "\n",
    "        'loss_factor_g_mil_ent': 1.0,\n",
    "        'loss_factor_g_mil_ent_conf': 0.0,\n",
    "        'loss_factor_g_mil_pred': 1.0,\n",
    "        'loss_factor_g_mil_pred_conf': 0.0,\n",
    "        'loss_factor_g_mil_role': 10.0,\n",
    "        'loss_factor_g_mil_box': 0.0,\n",
    "        'loss_factor_g_aux_emb_ent': 0.0,\n",
    "        'loss_factor_g_aux_emb_pred': 0.0,\n",
    "\n",
    "        'confidence_weight_on_role': 0.0,\n",
    "        'grad_clipping': 5.0,\n",
    "        'mil_iou_offset': 0.01,\n",
    "        'dropout_rate_g': 0.0,\n",
    "    },\n",
    "    validation_hyperparams = {\n",
    "        'dropout_rate_g': 0.0,\n",
    "        'confidence_weight_on_role': 0.0\n",
    "    },\n",
    ")\n"
   ]
  },
  {
   "cell_type": "code",
   "execution_count": 18,
   "metadata": {
    "collapsed": true,
    "jupyter": {
     "outputs_hidden": true
    }
   },
   "outputs": [
    {
     "name": "stdout",
     "output_type": "stream",
     "text": [
      "Step 51000: loss = 4.27400016784668 (1593.532 sec)\n",
      "Training Batch Evaluation Results: {'PerImagePredMP': 0.311, 'PerImagePredMR': 0.988, 'PerImageOneHopMP_at100_iou_0.5': 0.007, 'PerImageOneHopMR_at100_iou_0.5': 0.025, 'PerImageOneHopMP_at50_iou_0.5': 0.011, 'PerImageOneHopMR_at50_iou_0.5': 0.021, 'PerImageOneHopMP_phrase_at100_iou_0.5': 0.039, 'PerImageOneHopMR_phrase_at100_iou_0.5': 0.158, 'PerImageOneHopMP_phrase_at50_iou_0.5': 0.061, 'PerImageOneHopMR_phrase_at50_iou_0.5': 0.125}\n",
      "Validation Results: {'PerImagePredMP': 0.307, 'PerImagePredMR': 0.971, 'PerImageOneHopMP_at100_iou_0.5': 0.004, 'PerImageOneHopMR_at100_iou_0.5': 0.015, 'PerImageOneHopMP_at50_iou_0.5': 0.007, 'PerImageOneHopMR_at50_iou_0.5': 0.014, 'PerImageOneHopMP_phrase_at100_iou_0.5': 0.029, 'PerImageOneHopMR_phrase_at100_iou_0.5': 0.112, 'PerImageOneHopMP_phrase_at50_iou_0.5': 0.047, 'PerImageOneHopMR_phrase_at50_iou_0.5': 0.091}\n",
      "Step 52000: loss = 4.011000156402588 (3169.127 sec)\n",
      "Training Batch Evaluation Results: {'PerImagePredMP': 0.305, 'PerImagePredMR': 0.988, 'PerImageOneHopMP_at100_iou_0.5': 0.006, 'PerImageOneHopMR_at100_iou_0.5': 0.024, 'PerImageOneHopMP_at50_iou_0.5': 0.009, 'PerImageOneHopMR_at50_iou_0.5': 0.021, 'PerImageOneHopMP_phrase_at100_iou_0.5': 0.038, 'PerImageOneHopMR_phrase_at100_iou_0.5': 0.168, 'PerImageOneHopMP_phrase_at50_iou_0.5': 0.059, 'PerImageOneHopMR_phrase_at50_iou_0.5': 0.136}\n",
      "Validation Results: {'PerImagePredMP': 0.305, 'PerImagePredMR': 0.973, 'PerImageOneHopMP_at100_iou_0.5': 0.004, 'PerImageOneHopMR_at100_iou_0.5': 0.015, 'PerImageOneHopMP_at50_iou_0.5': 0.007, 'PerImageOneHopMR_at50_iou_0.5': 0.014, 'PerImageOneHopMP_phrase_at100_iou_0.5': 0.029, 'PerImageOneHopMR_phrase_at100_iou_0.5': 0.109, 'PerImageOneHopMP_phrase_at50_iou_0.5': 0.046, 'PerImageOneHopMR_phrase_at50_iou_0.5': 0.09}\n",
      "Step 53000: loss = 4.073999881744385 (4735.286 sec)\n",
      "Training Batch Evaluation Results: {'PerImagePredMP': 0.308, 'PerImagePredMR': 0.989, 'PerImageOneHopMP_at100_iou_0.5': 0.005, 'PerImageOneHopMR_at100_iou_0.5': 0.026, 'PerImageOneHopMP_at50_iou_0.5': 0.009, 'PerImageOneHopMR_at50_iou_0.5': 0.022, 'PerImageOneHopMP_phrase_at100_iou_0.5': 0.037, 'PerImageOneHopMR_phrase_at100_iou_0.5': 0.16, 'PerImageOneHopMP_phrase_at50_iou_0.5': 0.059, 'PerImageOneHopMR_phrase_at50_iou_0.5': 0.13}\n",
      "Validation Results: {'PerImagePredMP': 0.307, 'PerImagePredMR': 0.973, 'PerImageOneHopMP_at100_iou_0.5': 0.004, 'PerImageOneHopMR_at100_iou_0.5': 0.014, 'PerImageOneHopMP_at50_iou_0.5': 0.006, 'PerImageOneHopMR_at50_iou_0.5': 0.013, 'PerImageOneHopMP_phrase_at100_iou_0.5': 0.029, 'PerImageOneHopMR_phrase_at100_iou_0.5': 0.114, 'PerImageOneHopMP_phrase_at50_iou_0.5': 0.047, 'PerImageOneHopMR_phrase_at50_iou_0.5': 0.092}\n",
      "Step 54000: loss = 4.27400016784668 (6302.139 sec)\n",
      "Training Batch Evaluation Results: {'PerImagePredMP': 0.307, 'PerImagePredMR': 0.988, 'PerImageOneHopMP_at100_iou_0.5': 0.006, 'PerImageOneHopMR_at100_iou_0.5': 0.024, 'PerImageOneHopMP_at50_iou_0.5': 0.01, 'PerImageOneHopMR_at50_iou_0.5': 0.021, 'PerImageOneHopMP_phrase_at100_iou_0.5': 0.04, 'PerImageOneHopMR_phrase_at100_iou_0.5': 0.169, 'PerImageOneHopMP_phrase_at50_iou_0.5': 0.063, 'PerImageOneHopMR_phrase_at50_iou_0.5': 0.137}\n",
      "Validation Results: {'PerImagePredMP': 0.307, 'PerImagePredMR': 0.975, 'PerImageOneHopMP_at100_iou_0.5': 0.004, 'PerImageOneHopMR_at100_iou_0.5': 0.016, 'PerImageOneHopMP_at50_iou_0.5': 0.007, 'PerImageOneHopMR_at50_iou_0.5': 0.015, 'PerImageOneHopMP_phrase_at100_iou_0.5': 0.029, 'PerImageOneHopMR_phrase_at100_iou_0.5': 0.109, 'PerImageOneHopMP_phrase_at50_iou_0.5': 0.047, 'PerImageOneHopMR_phrase_at50_iou_0.5': 0.089}\n",
      "Traceback (most recent call last):\n",
      "  File \"../../src/tensorflow/engine/trainer_3.py\", line 117, in train\n",
      "    train_eval_results = self.train_evaluator.evaluate()\n",
      "  File \"../../src/eval/sgg_evaluator_03.py\", line 78, in evaluate\n",
      "    'topk': 100,\n",
      "  File \"../../src/eval/graph_eval_3.py\", line 197, in eval_triple_prec_rec_simple\n",
      "    if iou(gt_phr_box, det_phr_box) < iou_thresh:\n",
      "  File \"../../src/eval/eval_utils.py\", line 44, in iou\n",
      "    intsec = max(0, min(box1[2], box2[2]) - max(box1[0], box2[0])) * max(0, min(box1[3], box2[3]) - max(box1[1], box2[1]))\n",
      "KeyboardInterrupt\n",
      "\n",
      "Batch 400/2275\n"
     ]
    },
    {
     "ename": "KeyboardInterrupt",
     "evalue": "",
     "output_type": "error",
     "traceback": [
      "\u001b[0;31m---------------------------------------------------------------------------\u001b[0m",
      "\u001b[0;31mKeyboardInterrupt\u001b[0m                         Traceback (most recent call last)",
      "\u001b[0;32m<ipython-input-18-14081f5251b6>\u001b[0m in \u001b[0;36m<module>\u001b[0;34m\u001b[0m\n\u001b[1;32m     25\u001b[0m     validation_hyperparams = {\n\u001b[1;32m     26\u001b[0m         \u001b[0;34m'dropout_rate_g'\u001b[0m\u001b[0;34m:\u001b[0m \u001b[0;36m0.0\u001b[0m\u001b[0;34m,\u001b[0m\u001b[0;34m\u001b[0m\u001b[0;34m\u001b[0m\u001b[0m\n\u001b[0;32m---> 27\u001b[0;31m         \u001b[0;34m'confidence_weight_on_role'\u001b[0m\u001b[0;34m:\u001b[0m \u001b[0;36m0.0\u001b[0m\u001b[0;34m\u001b[0m\u001b[0;34m\u001b[0m\u001b[0m\n\u001b[0m\u001b[1;32m     28\u001b[0m     },\n\u001b[1;32m     29\u001b[0m )\n",
      "\u001b[0;32m/kiwi-data/users/alireza/vsp-net/src/tensorflow/engine/trainer_3.py\u001b[0m in \u001b[0;36mtrain\u001b[0;34m(self, max_steps, train_eval_rate, validation_rate, verbose_rate, summary_rate, checkpoint_rate, hyperparams, validation_hyperparams, debug_mode, ignore_errors, save_last_checkpoint, stop_loss_ratio)\u001b[0m\n\u001b[1;32m    115\u001b[0m                 \u001b[0;32mif\u001b[0m \u001b[0mtrain_eval_rate\u001b[0m \u001b[0;32mis\u001b[0m \u001b[0;32mnot\u001b[0m \u001b[0;32mNone\u001b[0m \u001b[0;32mand\u001b[0m \u001b[0mself\u001b[0m\u001b[0;34m.\u001b[0m\u001b[0mtraining_step\u001b[0m \u001b[0;34m%\u001b[0m \u001b[0mtrain_eval_rate\u001b[0m \u001b[0;34m==\u001b[0m \u001b[0;36m0\u001b[0m\u001b[0;34m:\u001b[0m\u001b[0;34m\u001b[0m\u001b[0;34m\u001b[0m\u001b[0m\n\u001b[1;32m    116\u001b[0m                     \u001b[0;31m# Run evaluation on accumulated results of last training batches.\u001b[0m\u001b[0;34m\u001b[0m\u001b[0;34m\u001b[0m\u001b[0;34m\u001b[0m\u001b[0m\n\u001b[0;32m--> 117\u001b[0;31m                     \u001b[0mtrain_eval_results\u001b[0m \u001b[0;34m=\u001b[0m \u001b[0mself\u001b[0m\u001b[0;34m.\u001b[0m\u001b[0mtrain_evaluator\u001b[0m\u001b[0;34m.\u001b[0m\u001b[0mevaluate\u001b[0m\u001b[0;34m(\u001b[0m\u001b[0;34m)\u001b[0m\u001b[0;34m\u001b[0m\u001b[0;34m\u001b[0m\u001b[0m\n\u001b[0m\u001b[1;32m    118\u001b[0m \u001b[0;34m\u001b[0m\u001b[0m\n\u001b[1;32m    119\u001b[0m                     \u001b[0;31m# manually adding training score to tensorboard summary file\u001b[0m\u001b[0;34m\u001b[0m\u001b[0;34m\u001b[0m\u001b[0;34m\u001b[0m\u001b[0m\n",
      "\u001b[0;32m/kiwi-data/users/alireza/vsp-net/src/eval/sgg_evaluator_03.py\u001b[0m in \u001b[0;36mevaluate\u001b[0;34m(self)\u001b[0m\n\u001b[1;32m     76\u001b[0m                 \u001b[0;34m'localization_method'\u001b[0m\u001b[0;34m:\u001b[0m \u001b[0;34m'phrase_iou'\u001b[0m\u001b[0;34m,\u001b[0m\u001b[0;34m\u001b[0m\u001b[0;34m\u001b[0m\u001b[0m\n\u001b[1;32m     77\u001b[0m                 \u001b[0;34m'iou_thresh'\u001b[0m\u001b[0;34m:\u001b[0m \u001b[0;36m0.5\u001b[0m\u001b[0;34m,\u001b[0m\u001b[0;34m\u001b[0m\u001b[0;34m\u001b[0m\u001b[0m\n\u001b[0;32m---> 78\u001b[0;31m                 \u001b[0;34m'topk'\u001b[0m\u001b[0;34m:\u001b[0m \u001b[0;36m100\u001b[0m\u001b[0;34m,\u001b[0m\u001b[0;34m\u001b[0m\u001b[0;34m\u001b[0m\u001b[0m\n\u001b[0m\u001b[1;32m     79\u001b[0m             })\n\u001b[1;32m     80\u001b[0m         \u001b[0;32mfor\u001b[0m \u001b[0mkey\u001b[0m\u001b[0;34m,\u001b[0m \u001b[0mval\u001b[0m \u001b[0;32min\u001b[0m \u001b[0mres\u001b[0m\u001b[0;34m.\u001b[0m\u001b[0mitems\u001b[0m\u001b[0;34m(\u001b[0m\u001b[0;34m)\u001b[0m\u001b[0;34m:\u001b[0m\u001b[0;34m\u001b[0m\u001b[0;34m\u001b[0m\u001b[0m\n",
      "\u001b[0;32m/kiwi-data/users/alireza/vsp-net/src/eval/graph_eval_3.py\u001b[0m in \u001b[0;36meval_triple_prec_rec_simple\u001b[0;34m(det_graph, gt_graph, args)\u001b[0m\n\u001b[1;32m    195\u001b[0m                         \u001b[0mmax\u001b[0m\u001b[0;34m(\u001b[0m\u001b[0;34m[\u001b[0m\u001b[0mb\u001b[0m\u001b[0;34m[\u001b[0m\u001b[0;36m3\u001b[0m\u001b[0;34m]\u001b[0m \u001b[0;32mfor\u001b[0m \u001b[0mb\u001b[0m \u001b[0;32min\u001b[0m \u001b[0mgt_arg_boxes\u001b[0m\u001b[0;34m]\u001b[0m\u001b[0;34m)\u001b[0m\u001b[0;34m,\u001b[0m\u001b[0;34m\u001b[0m\u001b[0;34m\u001b[0m\u001b[0m\n\u001b[1;32m    196\u001b[0m                     ]\n\u001b[0;32m--> 197\u001b[0;31m                     \u001b[0;32mif\u001b[0m \u001b[0miou\u001b[0m\u001b[0;34m(\u001b[0m\u001b[0mgt_phr_box\u001b[0m\u001b[0;34m,\u001b[0m \u001b[0mdet_phr_box\u001b[0m\u001b[0;34m)\u001b[0m \u001b[0;34m<\u001b[0m \u001b[0miou_thresh\u001b[0m\u001b[0;34m:\u001b[0m\u001b[0;34m\u001b[0m\u001b[0;34m\u001b[0m\u001b[0m\n\u001b[0m\u001b[1;32m    198\u001b[0m                         \u001b[0mflag\u001b[0m \u001b[0;34m=\u001b[0m \u001b[0;32mTrue\u001b[0m\u001b[0;34m\u001b[0m\u001b[0;34m\u001b[0m\u001b[0m\n\u001b[1;32m    199\u001b[0m                 \u001b[0;32mif\u001b[0m \u001b[0mflag\u001b[0m\u001b[0;34m:\u001b[0m\u001b[0;34m\u001b[0m\u001b[0;34m\u001b[0m\u001b[0m\n",
      "\u001b[0;32m/kiwi-data/users/alireza/vsp-net/src/eval/eval_utils.py\u001b[0m in \u001b[0;36miou\u001b[0;34m(box1, box2)\u001b[0m\n\u001b[1;32m     42\u001b[0m     \u001b[0marea1\u001b[0m \u001b[0;34m=\u001b[0m \u001b[0;34m(\u001b[0m\u001b[0mbox1\u001b[0m\u001b[0;34m[\u001b[0m\u001b[0;36m2\u001b[0m\u001b[0;34m]\u001b[0m \u001b[0;34m-\u001b[0m \u001b[0mbox1\u001b[0m\u001b[0;34m[\u001b[0m\u001b[0;36m0\u001b[0m\u001b[0;34m]\u001b[0m\u001b[0;34m)\u001b[0m \u001b[0;34m*\u001b[0m \u001b[0;34m(\u001b[0m\u001b[0mbox1\u001b[0m\u001b[0;34m[\u001b[0m\u001b[0;36m3\u001b[0m\u001b[0;34m]\u001b[0m \u001b[0;34m-\u001b[0m \u001b[0mbox1\u001b[0m\u001b[0;34m[\u001b[0m\u001b[0;36m1\u001b[0m\u001b[0;34m]\u001b[0m\u001b[0;34m)\u001b[0m\u001b[0;34m\u001b[0m\u001b[0;34m\u001b[0m\u001b[0m\n\u001b[1;32m     43\u001b[0m     \u001b[0marea2\u001b[0m \u001b[0;34m=\u001b[0m \u001b[0;34m(\u001b[0m\u001b[0mbox2\u001b[0m\u001b[0;34m[\u001b[0m\u001b[0;36m2\u001b[0m\u001b[0;34m]\u001b[0m \u001b[0;34m-\u001b[0m \u001b[0mbox2\u001b[0m\u001b[0;34m[\u001b[0m\u001b[0;36m0\u001b[0m\u001b[0;34m]\u001b[0m\u001b[0;34m)\u001b[0m \u001b[0;34m*\u001b[0m \u001b[0;34m(\u001b[0m\u001b[0mbox2\u001b[0m\u001b[0;34m[\u001b[0m\u001b[0;36m3\u001b[0m\u001b[0;34m]\u001b[0m \u001b[0;34m-\u001b[0m \u001b[0mbox2\u001b[0m\u001b[0;34m[\u001b[0m\u001b[0;36m1\u001b[0m\u001b[0;34m]\u001b[0m\u001b[0;34m)\u001b[0m\u001b[0;34m\u001b[0m\u001b[0;34m\u001b[0m\u001b[0m\n\u001b[0;32m---> 44\u001b[0;31m     \u001b[0mintsec\u001b[0m \u001b[0;34m=\u001b[0m \u001b[0mmax\u001b[0m\u001b[0;34m(\u001b[0m\u001b[0;36m0\u001b[0m\u001b[0;34m,\u001b[0m \u001b[0mmin\u001b[0m\u001b[0;34m(\u001b[0m\u001b[0mbox1\u001b[0m\u001b[0;34m[\u001b[0m\u001b[0;36m2\u001b[0m\u001b[0;34m]\u001b[0m\u001b[0;34m,\u001b[0m \u001b[0mbox2\u001b[0m\u001b[0;34m[\u001b[0m\u001b[0;36m2\u001b[0m\u001b[0;34m]\u001b[0m\u001b[0;34m)\u001b[0m \u001b[0;34m-\u001b[0m \u001b[0mmax\u001b[0m\u001b[0;34m(\u001b[0m\u001b[0mbox1\u001b[0m\u001b[0;34m[\u001b[0m\u001b[0;36m0\u001b[0m\u001b[0;34m]\u001b[0m\u001b[0;34m,\u001b[0m \u001b[0mbox2\u001b[0m\u001b[0;34m[\u001b[0m\u001b[0;36m0\u001b[0m\u001b[0;34m]\u001b[0m\u001b[0;34m)\u001b[0m\u001b[0;34m)\u001b[0m \u001b[0;34m*\u001b[0m \u001b[0mmax\u001b[0m\u001b[0;34m(\u001b[0m\u001b[0;36m0\u001b[0m\u001b[0;34m,\u001b[0m \u001b[0mmin\u001b[0m\u001b[0;34m(\u001b[0m\u001b[0mbox1\u001b[0m\u001b[0;34m[\u001b[0m\u001b[0;36m3\u001b[0m\u001b[0;34m]\u001b[0m\u001b[0;34m,\u001b[0m \u001b[0mbox2\u001b[0m\u001b[0;34m[\u001b[0m\u001b[0;36m3\u001b[0m\u001b[0;34m]\u001b[0m\u001b[0;34m)\u001b[0m \u001b[0;34m-\u001b[0m \u001b[0mmax\u001b[0m\u001b[0;34m(\u001b[0m\u001b[0mbox1\u001b[0m\u001b[0;34m[\u001b[0m\u001b[0;36m1\u001b[0m\u001b[0;34m]\u001b[0m\u001b[0;34m,\u001b[0m \u001b[0mbox2\u001b[0m\u001b[0;34m[\u001b[0m\u001b[0;36m1\u001b[0m\u001b[0;34m]\u001b[0m\u001b[0;34m)\u001b[0m\u001b[0;34m)\u001b[0m\u001b[0;34m\u001b[0m\u001b[0;34m\u001b[0m\u001b[0m\n\u001b[0m\u001b[1;32m     45\u001b[0m     \u001b[0miou\u001b[0m \u001b[0;34m=\u001b[0m \u001b[0mintsec\u001b[0m \u001b[0;34m/\u001b[0m \u001b[0;34m(\u001b[0m\u001b[0marea1\u001b[0m \u001b[0;34m+\u001b[0m \u001b[0marea2\u001b[0m \u001b[0;34m-\u001b[0m \u001b[0mintsec\u001b[0m\u001b[0;34m)\u001b[0m\u001b[0;34m\u001b[0m\u001b[0;34m\u001b[0m\u001b[0m\n\u001b[1;32m     46\u001b[0m     \u001b[0;32mreturn\u001b[0m \u001b[0miou\u001b[0m\u001b[0;34m\u001b[0m\u001b[0;34m\u001b[0m\u001b[0m\n",
      "\u001b[0;31mKeyboardInterrupt\u001b[0m: "
     ]
    }
   ],
   "source": [
    "trainer.train (\n",
    "    max_steps=10000,\n",
    "    train_eval_rate=100, \n",
    "    validation_rate=100, \n",
    "    verbose_rate=1000, \n",
    "    summary_rate=100, \n",
    "    checkpoint_rate=1000, \n",
    "    hyperparams = {\n",
    "        'learning_rate_generator': 1e-7 * batcher.batch_size,\n",
    "\n",
    "        'loss_factor_g_mil_ent': 1.0,\n",
    "        'loss_factor_g_mil_ent_conf': 0.0,\n",
    "        'loss_factor_g_mil_pred': 1.0,\n",
    "        'loss_factor_g_mil_pred_conf': 0.0,\n",
    "        'loss_factor_g_mil_role': 10.0,\n",
    "        'loss_factor_g_mil_box': 0.0,\n",
    "        'loss_factor_g_aux_emb_ent': 0.0,\n",
    "        'loss_factor_g_aux_emb_pred': 0.0,\n",
    "\n",
    "        'confidence_weight_on_role': 0.0,\n",
    "        'grad_clipping': 5.0,\n",
    "        'mil_iou_offset': 0.01,\n",
    "        'dropout_rate_g': 0.0,\n",
    "    },\n",
    "    validation_hyperparams = {\n",
    "        'dropout_rate_g': 0.0,\n",
    "        'confidence_weight_on_role': 0.0\n",
    "    },\n",
    ")\n"
   ]
  },
  {
   "cell_type": "code",
   "execution_count": null,
   "metadata": {},
   "outputs": [],
   "source": []
  },
  {
   "cell_type": "code",
   "execution_count": null,
   "metadata": {},
   "outputs": [],
   "source": [
    "trainer.save_model('final_1')"
   ]
  },
  {
   "cell_type": "code",
   "execution_count": null,
   "metadata": {},
   "outputs": [],
   "source": []
  },
  {
   "cell_type": "markdown",
   "metadata": {},
   "source": [
    "# Step 3: Evaluation"
   ]
  },
  {
   "cell_type": "code",
   "execution_count": 15,
   "metadata": {},
   "outputs": [
    {
     "name": "stdout",
     "output_type": "stream",
     "text": [
      "WARNING:tensorflow:From /home/alireza/home_at_filer2/tools/anaconda3/envs/py3tf2/lib/python3.6/site-packages/tensorflow/python/training/saver.py:1266: checkpoint_exists (from tensorflow.python.training.checkpoint_management) is deprecated and will be removed in a future version.\n",
      "Instructions for updating:\n",
      "Use standard file APIs to check for files with this prefix.\n",
      "INFO:tensorflow:Restoring parameters from ../../checkpoint/exp_061/ckpt-50000\n"
     ]
    }
   ],
   "source": [
    "load_params(sess, os.path.join(codebase, 'checkpoint', exp_name, 'ckpt-50000'))"
   ]
  },
  {
   "cell_type": "code",
   "execution_count": null,
   "metadata": {},
   "outputs": [],
   "source": []
  },
  {
   "cell_type": "code",
   "execution_count": 16,
   "metadata": {},
   "outputs": [],
   "source": [
    "test_evaluator = Evaluator({        \n",
    "    'graph_loader': gl,\n",
    "    'proposals': proposals,\n",
    "    'num_proposals': 20,\n",
    "    'filter_nonoverlap': True\n",
    "})\n"
   ]
  },
  {
   "cell_type": "code",
   "execution_count": null,
   "metadata": {},
   "outputs": [],
   "source": []
  },
  {
   "cell_type": "code",
   "execution_count": 17,
   "metadata": {},
   "outputs": [],
   "source": [
    "batcher_test = GraphBatcher(\n",
    "    gl, 32, proposals,\n",
    "    os.path.join(codebase, 'data', 'VG', 'xfeat_proposals', 'iresnet_oi_lowprop', 'feats_float32_20x1536.lmdb'), \n",
    "    dim_feats=1536,\n",
    "    seed=1237, \n",
    ")\n",
    "batcher_test.set_subset(test_idx)"
   ]
  },
  {
   "cell_type": "code",
   "execution_count": 18,
   "metadata": {},
   "outputs": [
    {
     "name": "stdout",
     "output_type": "stream",
     "text": [
      "Deploying\n",
      "Batch 1/808 done in 0 seconds. Spent time for read=0.01 (avg 0.01), processing=0.88 (avg 0.88), write=0.00 (avg 0.00) seconds.\n",
      "Batch 101/808 done in 7 seconds. Spent time for read=0.01 (avg 0.01), processing=0.06 (avg 0.07), write=0.00 (avg 0.00) seconds.\n",
      "Batch 201/808 done in 14 seconds. Spent time for read=0.01 (avg 0.01), processing=0.06 (avg 0.07), write=0.00 (avg 0.00) seconds.\n",
      "Batch 301/808 done in 21 seconds. Spent time for read=0.01 (avg 0.01), processing=0.06 (avg 0.07), write=0.00 (avg 0.00) seconds.\n",
      "Batch 401/808 done in 28 seconds. Spent time for read=0.01 (avg 0.01), processing=0.06 (avg 0.07), write=0.00 (avg 0.00) seconds.\n",
      "Batch 501/808 done in 36 seconds. Spent time for read=0.01 (avg 0.01), processing=0.06 (avg 0.07), write=0.00 (avg 0.00) seconds.\n",
      "Batch 601/808 done in 43 seconds. Spent time for read=0.01 (avg 0.01), processing=0.06 (avg 0.07), write=0.00 (avg 0.00) seconds.\n",
      "Batch 701/808 done in 50 seconds. Spent time for read=0.01 (avg 0.01), processing=0.06 (avg 0.07), write=0.00 (avg 0.00) seconds.\n",
      "Batch 801/808 done in 57 seconds. Spent time for read=0.01 (avg 0.01), processing=0.06 (avg 0.06), write=0.00 (avg 0.00) seconds.\n",
      "Batch 808/808 done in 57 seconds. Spent time for read=0.01 (avg 0.01), processing=0.06 (avg 0.06), write=0.00 (avg 0.00) seconds.\n",
      "Done in 57 seconds\n"
     ]
    }
   ],
   "source": [
    "#test_evaluator.reset()\n",
    "deploy(sess, model, batcher_test, test_evaluator, model.eval_ops,\n",
    "    hyperparams={\n",
    "        'dropout_rate_g': 0.0,\n",
    "        'confidence_weight_on_role': 0.0\n",
    "    },\n",
    "    ignore_errors=False,\n",
    "    debug_mode=False,\n",
    "    verbose_rate=100\n",
    ")\n"
   ]
  },
  {
   "cell_type": "code",
   "execution_count": 23,
   "metadata": {},
   "outputs": [
    {
     "data": {
      "text/plain": [
       "{'PerImagePredMP': 0.31017907561400115,\n",
       " 'PerImagePredMR': 0.9740348171420637,\n",
       " 'PerImageOneHopMP_at100_iou_0.5': 0.004211951266679559,\n",
       " 'PerImageOneHopMR_at100_iou_0.5': 0.015923065535286662,\n",
       " 'PerImageOneHopMP_at50_iou_0.5': 0.0070740669116225105,\n",
       " 'PerImageOneHopMR_at50_iou_0.5': 0.013176043446094392,\n",
       " 'PerImageOneHopMP_phrase_at100_iou_0.5': 0.028095919551344033,\n",
       " 'PerImageOneHopMR_phrase_at100_iou_0.5': 0.10168543692124193,\n",
       " 'PerImageOneHopMP_phrase_at50_iou_0.5': 0.043371881647650365,\n",
       " 'PerImageOneHopMR_phrase_at50_iou_0.5': 0.07963090844474155}"
      ]
     },
     "execution_count": 23,
     "metadata": {},
     "output_type": "execute_result"
    }
   ],
   "source": [
    "test_results = test_evaluator.evaluate()\n",
    "test_results"
   ]
  },
  {
   "cell_type": "code",
   "execution_count": null,
   "metadata": {},
   "outputs": [],
   "source": []
  }
 ],
 "metadata": {
  "kernelspec": {
   "display_name": "Py3 w/ Tensorflow 2",
   "language": "python",
   "name": "py3tf2"
  },
  "language_info": {
   "codemirror_mode": {
    "name": "ipython",
    "version": 3
   },
   "file_extension": ".py",
   "mimetype": "text/x-python",
   "name": "python",
   "nbconvert_exporter": "python",
   "pygments_lexer": "ipython3",
   "version": "3.6.8"
  }
 },
 "nbformat": 4,
 "nbformat_minor": 4
}
